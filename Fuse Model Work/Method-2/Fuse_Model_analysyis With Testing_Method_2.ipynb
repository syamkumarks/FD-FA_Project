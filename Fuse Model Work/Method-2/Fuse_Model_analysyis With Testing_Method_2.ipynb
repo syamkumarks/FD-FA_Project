{
 "cells": [
  {
   "cell_type": "markdown",
   "id": "d3f72aad",
   "metadata": {},
   "source": [
    "### libray inclusion"
   ]
  },
  {
   "cell_type": "code",
   "execution_count": 1,
   "id": "15d19374",
   "metadata": {},
   "outputs": [],
   "source": [
    "import pandas as pd\n",
    "import numpy as np\n",
    "import matplotlib.pyplot as plt\n",
    "import seaborn as sns\n",
    "from sklearn.model_selection import cross_val_score\n",
    "from sklearn.ensemble import RandomForestClassifier\n",
    "from sklearn.decomposition import PCA\n",
    "from sklearn.preprocessing import StandardScaler\n",
    "from sklearn.model_selection import train_test_split\n",
    "from sklearn.linear_model import LogisticRegression\n",
    "from sklearn.tree import DecisionTreeClassifier\n",
    "from sklearn.ensemble import RandomForestClassifier, GradientBoostingClassifier\n",
    "from sklearn.svm import SVC\n",
    "from sklearn.neighbors import KNeighborsClassifier\n",
    "from sklearn.naive_bayes import GaussianNB\n",
    "from sklearn.discriminant_analysis import LinearDiscriminantAnalysis\n",
    "from sklearn.neural_network import MLPClassifier\n",
    "from sklearn.metrics import accuracy_score\n",
    "from sklearn.metrics import classification_report, confusion_matrix\n",
    "from sklearn.metrics import accuracy_score,roc_curve,recall_score,roc_auc_score,auc,confusion_matrix,cohen_kappa_score, f1_score, precision_score,matthews_corrcoef \n",
    "from tqdm import tqdm\n",
    "from sklearn.svm import SVC,LinearSVC\n",
    "from sklearn.model_selection import StratifiedKFold\n",
    "from sklearn.feature_selection import SelectPercentile, f_classif, chi2, SelectFromModel, SelectKBest\n",
    "from sklearn.feature_selection import RFE\n",
    "from sklearn.preprocessing import MinMaxScaler\n",
    "import scipy.stats as stats\n",
    "from sklearn.svm import SVC\n",
    "from sklearn.model_selection import GridSearchCV, train_test_split\n",
    "from sklearn.metrics import accuracy_score\n",
    "\n",
    "# Optional imports for preprocessing and visualization\n",
    "from sklearn.preprocessing import StandardScaler\n",
    "import matplotlib.pyplot as plt"
   ]
  },
  {
   "cell_type": "code",
   "execution_count": 2,
   "id": "fc0a7de0",
   "metadata": {},
   "outputs": [],
   "source": [
    "# Set the display options to show all columns\n",
    "pd.set_option('display.max_columns', None)"
   ]
  },
  {
   "cell_type": "markdown",
   "id": "7a651f9d",
   "metadata": {},
   "source": [
    "Radiomics Feature Analysis"
   ]
  },
  {
   "cell_type": "code",
   "execution_count": 3,
   "id": "68168df0",
   "metadata": {},
   "outputs": [],
   "source": [
    "Final_accuracy={}"
   ]
  },
  {
   "cell_type": "code",
   "execution_count": 4,
   "id": "6bc1b7cb",
   "metadata": {},
   "outputs": [],
   "source": [
    "\n",
    "import pandas as pd\n",
    "\n",
    "# Load the main dataset\n",
    "main_df = pd.read_csv(\"./Radiomics_Feature.csv\")\n",
    "\n",
    "# Load the test dataset\n",
    "test_df = pd.read_csv(\"./RM_features_Test.csv\")\n",
    "\n",
    "# Identify rows in the main dataset that are also present in the test dataset\n",
    "test_indices = main_df.merge(test_df, on=['Patient_id'], how='inner').index\n",
    "\n",
    "# Remove the test data details from the main dataset\n",
    "cleaned_main_df = main_df.drop(test_indices)\n",
    "\n",
    "# Save the cleaned main dataset to a new CSV file\n",
    "cleaned_main_df.to_csv(\"Radiomics_Feature_Train.csv\", index=False)\n"
   ]
  },
  {
   "cell_type": "code",
   "execution_count": 5,
   "id": "81f5d668",
   "metadata": {},
   "outputs": [],
   "source": [
    "df_rm=pd.read_csv(\"Radiomics_Feature_Train.csv\")"
   ]
  },
  {
   "cell_type": "code",
   "execution_count": 6,
   "id": "5d0eec96",
   "metadata": {},
   "outputs": [
    {
     "name": "stdout",
     "output_type": "stream",
     "text": [
      "(1378, 1221)\n"
     ]
    }
   ],
   "source": [
    "print(df_rm.shape)\n"
   ]
  },
  {
   "cell_type": "code",
   "execution_count": 7,
   "id": "b77c5836",
   "metadata": {},
   "outputs": [
    {
     "data": {
      "text/plain": [
       "0    1037\n",
       "1     341\n",
       "Name: Malignancy, dtype: int64"
      ]
     },
     "execution_count": 7,
     "metadata": {},
     "output_type": "execute_result"
    }
   ],
   "source": [
    "df_rm['Malignancy'].value_counts()"
   ]
  },
  {
   "cell_type": "code",
   "execution_count": 8,
   "id": "6e1d7581",
   "metadata": {},
   "outputs": [
    {
     "data": {
      "image/png": "[encoded data removed]",
      "text/plain": [
       "<Figure size 432x288 with 1 Axes>"
      ]
     },
     "metadata": {
      "needs_background": "light"
     },
     "output_type": "display_data"
    }
   ],
   "source": [
    "# If you want to order the bars by count, you can use the order parameter\n",
    "order = df_rm['Malignancy'].value_counts().index\n",
    "ax = sns.countplot(x='Malignancy', data=df_rm, order=order)\n",
    "\n",
    "plt.title('Distribution of Malignancy')\n",
    "\n",
    "# Annotate each bar with its count value\n",
    "for p in ax.patches:\n",
    "    ax.annotate(f'{p.get_height()}', (p.get_x() + p.get_width() / 2., p.get_height()),\n",
    "                ha='center', va='center', xytext=(0, 5), textcoords='offset points')\n",
    "\n",
    "plt.show()"
   ]
  },
  {
   "cell_type": "code",
   "execution_count": 9,
   "id": "c1cd8feb",
   "metadata": {},
   "outputs": [
    {
     "name": "stdout",
     "output_type": "stream",
     "text": [
      "WARNING:tensorflow:No training configuration found in the save file, so the model was *not* compiled. Compile it manually.\n",
      "['LIDC-IDRI-0001_1_roi.npy', 'LIDC-IDRI-0002_1_roi.npy', 'LIDC-IDRI-0003_1_roi.npy', 'LIDC-IDRI-0003_2_roi.npy', 'LIDC-IDRI-0003_3_roi.npy', 'LIDC-IDRI-0004_1_roi.npy', 'LIDC-IDRI-0005_1_roi.npy', 'LIDC-IDRI-0005_2_roi.npy', 'LIDC-IDRI-0006_1_roi.npy', 'LIDC-IDRI-0006_2_roi.npy', 'LIDC-IDRI-0007_1_roi.npy', 'LIDC-IDRI-0008_1_roi.npy', 'LIDC-IDRI-0008_2_roi.npy', 'LIDC-IDRI-0010_1_roi.npy', 'LIDC-IDRI-0010_2_roi.npy', 'LIDC-IDRI-0011_1_roi.npy', 'LIDC-IDRI-0011_2_roi.npy', 'LIDC-IDRI-0011_3_roi.npy', 'LIDC-IDRI-0011_4_roi.npy', 'LIDC-IDRI-0011_5_roi.npy', 'LIDC-IDRI-0011_6_roi.npy', 'LIDC-IDRI-0011_7_roi.npy', 'LIDC-IDRI-0012_10_roi.npy', 'LIDC-IDRI-0012_1_roi.npy', 'LIDC-IDRI-0012_2_roi.npy', 'LIDC-IDRI-0012_3_roi.npy', 'LIDC-IDRI-0012_4_roi.npy', 'LIDC-IDRI-0012_5_roi.npy', 'LIDC-IDRI-0012_6_roi.npy', 'LIDC-IDRI-0012_7_roi.npy', 'LIDC-IDRI-0012_8_roi.npy', 'LIDC-IDRI-0012_9_roi.npy', 'LIDC-IDRI-0013_1_roi.npy', 'LIDC-IDRI-0013_2_roi.npy', 'LIDC-IDRI-0013_3_roi.npy', 'LIDC-IDRI-0014_1_roi.npy', 'LIDC-IDRI-0016_1_roi.npy', 'LIDC-IDRI-0016_2_roi.npy', 'LIDC-IDRI-0016_3_roi.npy', 'LIDC-IDRI-0016_4_roi.npy', 'LIDC-IDRI-0016_5_roi.npy', 'LIDC-IDRI-0018_1_roi.npy', 'LIDC-IDRI-0018_2_roi.npy', 'LIDC-IDRI-0018_3_roi.npy', 'LIDC-IDRI-0018_4_roi.npy', 'LIDC-IDRI-0020_1_roi.npy', 'LIDC-IDRI-0021_1_roi.npy', 'LIDC-IDRI-0023_1_roi.npy', 'LIDC-IDRI-0024_1_roi.npy', 'LIDC-IDRI-0024_2_roi.npy', 'LIDC-IDRI-0024_3_roi.npy', 'LIDC-IDRI-0024_4_roi.npy', 'LIDC-IDRI-0026_1_roi.npy', 'LIDC-IDRI-0027_1_roi.npy', 'LIDC-IDRI-0027_2_roi.npy', 'LIDC-IDRI-0027_3_roi.npy', 'LIDC-IDRI-0027_4_roi.npy', 'LIDC-IDRI-0027_5_roi.npy', 'LIDC-IDRI-0027_6_roi.npy', 'LIDC-IDRI-0030_1_roi.npy', 'LIDC-IDRI-0030_2_roi.npy', 'LIDC-IDRI-0034_1_roi.npy', 'LIDC-IDRI-0035_1_roi.npy', 'LIDC-IDRI-0036_1_roi.npy', 'LIDC-IDRI-0037_1_roi.npy', 'LIDC-IDRI-0037_2_roi.npy', 'LIDC-IDRI-0039_1_roi.npy', 'LIDC-IDRI-0039_2_roi.npy', 'LIDC-IDRI-0039_3_roi.npy', 'LIDC-IDRI-0039_4_roi.npy', 'LIDC-IDRI-0039_5_roi.npy', 'LIDC-IDRI-0040_1_roi.npy', 'LIDC-IDRI-0041_1_roi.npy', 'LIDC-IDRI-0041_2_roi.npy', 'LIDC-IDRI-0042_1_roi.npy', 'LIDC-IDRI-0042_2_roi.npy', 'LIDC-IDRI-0042_3_roi.npy', 'LIDC-IDRI-0042_4_roi.npy', 'LIDC-IDRI-0042_5_roi.npy', 'LIDC-IDRI-0042_6_roi.npy', 'LIDC-IDRI-0042_7_roi.npy', 'LIDC-IDRI-0043_1_roi.npy', 'LIDC-IDRI-0043_2_roi.npy', 'LIDC-IDRI-0043_3_roi.npy', 'LIDC-IDRI-0044_1_roi.npy', 'LIDC-IDRI-0044_2_roi.npy', 'LIDC-IDRI-0044_3_roi.npy', 'LIDC-IDRI-0046_1_roi.npy', 'LIDC-IDRI-0046_2_roi.npy', 'LIDC-IDRI-0046_3_roi.npy', 'LIDC-IDRI-0046_4_roi.npy', 'LIDC-IDRI-0046_5_roi.npy', 'LIDC-IDRI-0046_6_roi.npy', 'LIDC-IDRI-0047_1_roi.npy', 'LIDC-IDRI-0048_1_roi.npy', 'LIDC-IDRI-0048_2_roi.npy', 'LIDC-IDRI-0048_3_roi.npy', 'LIDC-IDRI-0049_10_roi.npy', 'LIDC-IDRI-0049_11_roi.npy', 'LIDC-IDRI-0049_12_roi.npy', 'LIDC-IDRI-0049_1_roi.npy', 'LIDC-IDRI-0049_2_roi.npy', 'LIDC-IDRI-0049_3_roi.npy', 'LIDC-IDRI-0049_4_roi.npy', 'LIDC-IDRI-0049_5_roi.npy', 'LIDC-IDRI-0049_6_roi.npy', 'LIDC-IDRI-0049_7_roi.npy', 'LIDC-IDRI-0049_8_roi.npy', 'LIDC-IDRI-0049_9_roi.npy', 'LIDC-IDRI-0050_1_roi.npy', 'LIDC-IDRI-0051_1_roi.npy', 'LIDC-IDRI-0051_2_roi.npy', 'LIDC-IDRI-0052_1_roi.npy', 'LIDC-IDRI-0052_2_roi.npy', 'LIDC-IDRI-0054_1_roi.npy', 'LIDC-IDRI-0055_1_roi.npy', 'LIDC-IDRI-0055_2_roi.npy', 'LIDC-IDRI-0055_3_roi.npy', 'LIDC-IDRI-0055_4_roi.npy', 'LIDC-IDRI-0055_5_roi.npy', 'LIDC-IDRI-0055_6_roi.npy', 'LIDC-IDRI-0057_1_roi.npy', 'LIDC-IDRI-0058_1_roi.npy', 'LIDC-IDRI-0058_2_roi.npy', 'LIDC-IDRI-0058_3_roi.npy', 'LIDC-IDRI-0059_1_roi.npy', 'LIDC-IDRI-0060_1_roi.npy', 'LIDC-IDRI-0060_2_roi.npy', 'LIDC-IDRI-0060_3_roi.npy', 'LIDC-IDRI-0060_4_roi.npy', 'LIDC-IDRI-0060_5_roi.npy', 'LIDC-IDRI-0061_1_roi.npy', 'LIDC-IDRI-0061_2_roi.npy', 'LIDC-IDRI-0061_3_roi.npy', 'LIDC-IDRI-0061_4_roi.npy', 'LIDC-IDRI-0061_5_roi.npy', 'LIDC-IDRI-0063_1_roi.npy', 'LIDC-IDRI-0063_2_roi.npy', 'LIDC-IDRI-0063_3_roi.npy', 'LIDC-IDRI-0065_1_roi.npy', 'LIDC-IDRI-0066_1_roi.npy', 'LIDC-IDRI-0066_2_roi.npy', 'LIDC-IDRI-0066_3_roi.npy', 'LIDC-IDRI-0067_1_roi.npy', 'LIDC-IDRI-0067_2_roi.npy', 'LIDC-IDRI-0067_3_roi.npy', 'LIDC-IDRI-0067_4_roi.npy', 'LIDC-IDRI-0068_1_roi.npy', 'LIDC-IDRI-0068_2_roi.npy', 'LIDC-IDRI-0068_3_roi.npy', 'LIDC-IDRI-0068_4_roi.npy', 'LIDC-IDRI-0068_5_roi.npy', 'LIDC-IDRI-0068_6_roi.npy', 'LIDC-IDRI-0070_1_roi.npy', 'LIDC-IDRI-0070_2_roi.npy', 'LIDC-IDRI-0070_3_roi.npy', 'LIDC-IDRI-0073_1_roi.npy', 'LIDC-IDRI-0073_2_roi.npy', 'LIDC-IDRI-0074_1_roi.npy', 'LIDC-IDRI-0075_1_roi.npy', 'LIDC-IDRI-0075_2_roi.npy', 'LIDC-IDRI-0076_1_roi.npy', 'LIDC-IDRI-0076_2_roi.npy', 'LIDC-IDRI-0077_1_roi.npy', 'LIDC-IDRI-0080_1_roi.npy', 'LIDC-IDRI-0080_2_roi.npy', 'LIDC-IDRI-0081_1_roi.npy', 'LIDC-IDRI-0081_2_roi.npy', 'LIDC-IDRI-0082_1_roi.npy', 'LIDC-IDRI-0085_1_roi.npy', 'LIDC-IDRI-0086_1_roi.npy', 'LIDC-IDRI-0087_1_roi.npy', 'LIDC-IDRI-0088_1_roi.npy', 'LIDC-IDRI-0088_2_roi.npy', 'LIDC-IDRI-0088_3_roi.npy', 'LIDC-IDRI-0089_1_roi.npy', 'LIDC-IDRI-0090_1_roi.npy', 'LIDC-IDRI-0091_1_roi.npy', 'LIDC-IDRI-0091_2_roi.npy', 'LIDC-IDRI-0091_3_roi.npy', 'LIDC-IDRI-0091_4_roi.npy', 'LIDC-IDRI-0091_5_roi.npy', 'LIDC-IDRI-0092_1_roi.npy', 'LIDC-IDRI-0092_2_roi.npy', 'LIDC-IDRI-0092_3_roi.npy', 'LIDC-IDRI-0092_4_roi.npy', 'LIDC-IDRI-0093_1_roi.npy', 'LIDC-IDRI-0094_1_roi.npy', 'LIDC-IDRI-0095_1_roi.npy', 'LIDC-IDRI-0095_2_roi.npy', 'LIDC-IDRI-0096_1_roi.npy', 'LIDC-IDRI-0097_1_roi.npy', 'LIDC-IDRI-0099_1_roi.npy', 'LIDC-IDRI-0099_2_roi.npy', 'LIDC-IDRI-0102_1_roi.npy', 'LIDC-IDRI-0104_1_roi.npy', 'LIDC-IDRI-0105_1_roi.npy', 'LIDC-IDRI-0107_1_roi.npy', 'LIDC-IDRI-0109_1_roi.npy', 'LIDC-IDRI-0110_1_roi.npy', 'LIDC-IDRI-0110_2_roi.npy', 'LIDC-IDRI-0112_1_roi.npy', 'LIDC-IDRI-0113_1_roi.npy', 'LIDC-IDRI-0114_1_roi.npy', 'LIDC-IDRI-0116_1_roi.npy', 'LIDC-IDRI-0118_1_roi.npy', 'LIDC-IDRI-0118_2_roi.npy', 'LIDC-IDRI-0118_3_roi.npy', 'LIDC-IDRI-0118_4_roi.npy', 'LIDC-IDRI-0118_5_roi.npy', 'LIDC-IDRI-0121_1_roi.npy', 'LIDC-IDRI-0121_2_roi.npy', 'LIDC-IDRI-0123_1_roi.npy', 'LIDC-IDRI-0124_1_roi.npy', 'LIDC-IDRI-0124_2_roi.npy', 'LIDC-IDRI-0124_3_roi.npy', 'LIDC-IDRI-0124_4_roi.npy', 'LIDC-IDRI-0124_5_roi.npy', 'LIDC-IDRI-0124_6_roi.npy', 'LIDC-IDRI-0124_7_roi.npy', 'LIDC-IDRI-0124_8_roi.npy', 'LIDC-IDRI-0124_9_roi.npy', 'LIDC-IDRI-0125_1_roi.npy', 'LIDC-IDRI-0125_2_roi.npy', 'LIDC-IDRI-0128_1_roi.npy', 'LIDC-IDRI-0128_2_roi.npy', 'LIDC-IDRI-0131_1_roi.npy', 'LIDC-IDRI-0132_1_roi.npy', 'LIDC-IDRI-0132_2_roi.npy', 'LIDC-IDRI-0132_3_roi.npy', 'LIDC-IDRI-0132_4_roi.npy', 'LIDC-IDRI-0132_5_roi.npy', 'LIDC-IDRI-0133_1_roi.npy', 'LIDC-IDRI-0133_2_roi.npy', 'LIDC-IDRI-0135_1_roi.npy', 'LIDC-IDRI-0135_2_roi.npy', 'LIDC-IDRI-0135_3_roi.npy', 'LIDC-IDRI-0135_4_roi.npy', 'LIDC-IDRI-0135_5_roi.npy', 'LIDC-IDRI-0135_6_roi.npy', 'LIDC-IDRI-0137_1_roi.npy', 'LIDC-IDRI-0137_2_roi.npy', 'LIDC-IDRI-0137_3_roi.npy', 'LIDC-IDRI-0139_1_roi.npy', 'LIDC-IDRI-0139_2_roi.npy', 'LIDC-IDRI-0139_3_roi.npy', 'LIDC-IDRI-0142_1_roi.npy', 'LIDC-IDRI-0142_2_roi.npy', 'LIDC-IDRI-0142_3_roi.npy', 'LIDC-IDRI-0142_4_roi.npy', 'LIDC-IDRI-0144_1_roi.npy', 'LIDC-IDRI-0144_2_roi.npy', 'LIDC-IDRI-0144_3_roi.npy', 'LIDC-IDRI-0144_4_roi.npy', 'LIDC-IDRI-0145_1_roi.npy', 'LIDC-IDRI-0146_1_roi.npy', 'LIDC-IDRI-0148_1_roi.npy', 'LIDC-IDRI-0148_2_roi.npy', 'LIDC-IDRI-0151_1_roi.npy', 'LIDC-IDRI-0155_1_roi.npy', 'LIDC-IDRI-0156_1_roi.npy', 'LIDC-IDRI-0157_1_roi.npy', 'LIDC-IDRI-0159_1_roi.npy', 'LIDC-IDRI-0159_2_roi.npy', 'LIDC-IDRI-0160_1_roi.npy', 'LIDC-IDRI-0160_2_roi.npy', 'LIDC-IDRI-0160_3_roi.npy', 'LIDC-IDRI-0160_4_roi.npy', 'LIDC-IDRI-0161_1_roi.npy', 'LIDC-IDRI-0161_2_roi.npy', 'LIDC-IDRI-0161_3_roi.npy', 'LIDC-IDRI-0162_1_roi.npy', 'LIDC-IDRI-0163_1_roi.npy', 'LIDC-IDRI-0166_1_roi.npy', 'LIDC-IDRI-0167_1_roi.npy', 'LIDC-IDRI-0167_2_roi.npy', 'LIDC-IDRI-0167_3_roi.npy', 'LIDC-IDRI-0168_1_roi.npy', 'LIDC-IDRI-0168_2_roi.npy', 'LIDC-IDRI-0169_1_roi.npy', 'LIDC-IDRI-0169_2_roi.npy', 'LIDC-IDRI-0169_3_roi.npy', 'LIDC-IDRI-0170_1_roi.npy', 'LIDC-IDRI-0170_2_roi.npy', 'LIDC-IDRI-0172_1_roi.npy', 'LIDC-IDRI-0175_1_roi.npy', 'LIDC-IDRI-0176_1_roi.npy', 'LIDC-IDRI-0176_2_roi.npy', 'LIDC-IDRI-0178_1_roi.npy', 'LIDC-IDRI-0179_1_roi.npy', 'LIDC-IDRI-0179_2_roi.npy', 'LIDC-IDRI-0179_3_roi.npy', 'LIDC-IDRI-0179_4_roi.npy', 'LIDC-IDRI-0179_5_roi.npy', 'LIDC-IDRI-0179_6_roi.npy', 'LIDC-IDRI-0181_1_roi.npy', 'LIDC-IDRI-0181_2_roi.npy', 'LIDC-IDRI-0181_3_roi.npy', 'LIDC-IDRI-0181_4_roi.npy', 'LIDC-IDRI-0181_5_roi.npy', 'LIDC-IDRI-0181_6_roi.npy', 'LIDC-IDRI-0182_1_roi.npy', 'LIDC-IDRI-0182_2_roi.npy', 'LIDC-IDRI-0183_1_roi.npy', 'LIDC-IDRI-0183_2_roi.npy', 'LIDC-IDRI-0184_1_roi.npy', 'LIDC-IDRI-0185_1_roi.npy', 'LIDC-IDRI-0185_2_roi.npy', 'LIDC-IDRI-0185_3_roi.npy', 'LIDC-IDRI-0185_4_roi.npy', 'LIDC-IDRI-0185_5_roi.npy', 'LIDC-IDRI-0185_6_roi.npy', 'LIDC-IDRI-0186_1_roi.npy', 'LIDC-IDRI-0186_2_roi.npy', 'LIDC-IDRI-0186_3_roi.npy', 'LIDC-IDRI-0186_4_roi.npy', 'LIDC-IDRI-0187_1_roi.npy', 'LIDC-IDRI-0187_2_roi.npy', 'LIDC-IDRI-0188_1_roi.npy', 'LIDC-IDRI-0188_2_roi.npy', 'LIDC-IDRI-0188_3_roi.npy', 'LIDC-IDRI-0188_4_roi.npy', 'LIDC-IDRI-0188_5_roi.npy', 'LIDC-IDRI-0188_6_roi.npy', 'LIDC-IDRI-0190_1_roi.npy', 'LIDC-IDRI-0190_2_roi.npy', 'LIDC-IDRI-0191_1_roi.npy', 'LIDC-IDRI-0192_1_roi.npy', 'LIDC-IDRI-0192_2_roi.npy', 'LIDC-IDRI-0192_3_roi.npy', 'LIDC-IDRI-0193_1_roi.npy', 'LIDC-IDRI-0194_1_roi.npy', 'LIDC-IDRI-0194_2_roi.npy', 'LIDC-IDRI-0194_3_roi.npy', 'LIDC-IDRI-0196_1_roi.npy', 'LIDC-IDRI-0198_1_roi.npy', 'LIDC-IDRI-0199_1_roi.npy', 'LIDC-IDRI-0199_2_roi.npy', 'LIDC-IDRI-0200_1_roi.npy', 'LIDC-IDRI-0201_1_roi.npy', 'LIDC-IDRI-0201_2_roi.npy', 'LIDC-IDRI-0201_3_roi.npy', 'LIDC-IDRI-0202_1_roi.npy', 'LIDC-IDRI-0203_1_roi.npy', 'LIDC-IDRI-0203_2_roi.npy', 'LIDC-IDRI-0204_1_roi.npy', 'LIDC-IDRI-0206_1_roi.npy', 'LIDC-IDRI-0206_2_roi.npy', 'LIDC-IDRI-0206_3_roi.npy', 'LIDC-IDRI-0208_1_roi.npy', 'LIDC-IDRI-0208_2_roi.npy', 'LIDC-IDRI-0208_3_roi.npy', 'LIDC-IDRI-0210_1_roi.npy', 'LIDC-IDRI-0213_1_roi.npy', 'LIDC-IDRI-0215_1_roi.npy', 'LIDC-IDRI-0215_2_roi.npy', 'LIDC-IDRI-0215_3_roi.npy', 'LIDC-IDRI-0215_4_roi.npy', 'LIDC-IDRI-0216_1_roi.npy', 'LIDC-IDRI-0216_2_roi.npy', 'LIDC-IDRI-0217_1_roi.npy', 'LIDC-IDRI-0217_2_roi.npy', 'LIDC-IDRI-0217_3_roi.npy', 'LIDC-IDRI-0219_1_roi.npy', 'LIDC-IDRI-0221_1_roi.npy', 'LIDC-IDRI-0222_1_roi.npy', 'LIDC-IDRI-0223_1_roi.npy', 'LIDC-IDRI-0223_2_roi.npy', 'LIDC-IDRI-0227_1_roi.npy', 'LIDC-IDRI-0228_1_roi.npy', 'LIDC-IDRI-0229_1_roi.npy', 'LIDC-IDRI-0229_2_roi.npy', 'LIDC-IDRI-0229_3_roi.npy', 'LIDC-IDRI-0229_4_roi.npy', 'LIDC-IDRI-0229_5_roi.npy', 'LIDC-IDRI-0229_6_roi.npy', 'LIDC-IDRI-0230_1_roi.npy', 'LIDC-IDRI-0230_2_roi.npy', 'LIDC-IDRI-0232_1_roi.npy', 'LIDC-IDRI-0233_1_roi.npy', 'LIDC-IDRI-0233_2_roi.npy', 'LIDC-IDRI-0237_1_roi.npy', 'LIDC-IDRI-0237_2_roi.npy', 'LIDC-IDRI-0237_3_roi.npy', 'LIDC-IDRI-0240_1_roi.npy', 'LIDC-IDRI-0240_2_roi.npy', 'LIDC-IDRI-0241_1_roi.npy', 'LIDC-IDRI-0241_2_roi.npy', 'LIDC-IDRI-0241_3_roi.npy', 'LIDC-IDRI-0242_1_roi.npy', 'LIDC-IDRI-0244_1_roi.npy', 'LIDC-IDRI-0244_2_roi.npy', 'LIDC-IDRI-0244_3_roi.npy', 'LIDC-IDRI-0245_1_roi.npy', 'LIDC-IDRI-0246_1_roi.npy', 'LIDC-IDRI-0248_1_roi.npy', 'LIDC-IDRI-0249_1_roi.npy', 'LIDC-IDRI-0249_2_roi.npy', 'LIDC-IDRI-0251_1_roi.npy', 'LIDC-IDRI-0252_1_roi.npy', 'LIDC-IDRI-0254_1_roi.npy', 'LIDC-IDRI-0254_2_roi.npy', 'LIDC-IDRI-0254_3_roi.npy', 'LIDC-IDRI-0255_1_roi.npy', 'LIDC-IDRI-0255_2_roi.npy', 'LIDC-IDRI-0256_1_roi.npy', 'LIDC-IDRI-0257_1_roi.npy', 'LIDC-IDRI-0258_1_roi.npy', 'LIDC-IDRI-0258_2_roi.npy', 'LIDC-IDRI-0259_1_roi.npy', 'LIDC-IDRI-0260_1_roi.npy', 'LIDC-IDRI-0260_2_roi.npy', 'LIDC-IDRI-0260_3_roi.npy', 'LIDC-IDRI-0260_4_roi.npy', 'LIDC-IDRI-0263_1_roi.npy', 'LIDC-IDRI-0264_1_roi.npy', 'LIDC-IDRI-0264_2_roi.npy', 'LIDC-IDRI-0265_1_roi.npy', 'LIDC-IDRI-0267_1_roi.npy', 'LIDC-IDRI-0267_2_roi.npy', 'LIDC-IDRI-0269_1_roi.npy', 'LIDC-IDRI-0271_1_roi.npy', 'LIDC-IDRI-0272_1_roi.npy', 'LIDC-IDRI-0274_1_roi.npy', 'LIDC-IDRI-0276_1_roi.npy', 'LIDC-IDRI-0277_1_roi.npy', 'LIDC-IDRI-0281_1_roi.npy', 'LIDC-IDRI-0283_1_roi.npy', 'LIDC-IDRI-0284_1_roi.npy', 'LIDC-IDRI-0284_2_roi.npy', 'LIDC-IDRI-0285_1_roi.npy', 'LIDC-IDRI-0285_2_roi.npy', 'LIDC-IDRI-0288_1_roi.npy', 'LIDC-IDRI-0288_2_roi.npy', 'LIDC-IDRI-0289_1_roi.npy', 'LIDC-IDRI-0289_2_roi.npy', 'LIDC-IDRI-0291_1_roi.npy', 'LIDC-IDRI-0292_1_roi.npy', 'LIDC-IDRI-0294_1_roi.npy', 'LIDC-IDRI-0297_1_roi.npy', 'LIDC-IDRI-0298_1_roi.npy', 'LIDC-IDRI-0298_2_roi.npy', 'LIDC-IDRI-0298_3_roi.npy', 'LIDC-IDRI-0298_4_roi.npy', 'LIDC-IDRI-0298_5_roi.npy', 'LIDC-IDRI-0298_6_roi.npy', 'LIDC-IDRI-0298_7_roi.npy', 'LIDC-IDRI-0299_1_roi.npy', 'LIDC-IDRI-0299_2_roi.npy', 'LIDC-IDRI-0299_3_roi.npy', 'LIDC-IDRI-0300_1_roi.npy', 'LIDC-IDRI-0300_2_roi.npy', 'LIDC-IDRI-0300_3_roi.npy', 'LIDC-IDRI-0300_4_roi.npy', 'LIDC-IDRI-0301_1_roi.npy', 'LIDC-IDRI-0301_2_roi.npy', 'LIDC-IDRI-0304_1_roi.npy', 'LIDC-IDRI-0308_1_roi.npy', 'LIDC-IDRI-0309_1_roi.npy', 'LIDC-IDRI-0310_1_roi.npy', 'LIDC-IDRI-0311_1_roi.npy', 'LIDC-IDRI-0311_2_roi.npy', 'LIDC-IDRI-0314_1_roi.npy', 'LIDC-IDRI-0315_1_roi.npy', 'LIDC-IDRI-0315_2_roi.npy', 'LIDC-IDRI-0315_3_roi.npy', 'LIDC-IDRI-0315_4_roi.npy', 'LIDC-IDRI-0315_5_roi.npy', 'LIDC-IDRI-0317_1_roi.npy', 'LIDC-IDRI-0318_1_roi.npy', 'LIDC-IDRI-0319_1_roi.npy', 'LIDC-IDRI-0324_1_roi.npy', 'LIDC-IDRI-0325_1_roi.npy', 'LIDC-IDRI-0329_1_roi.npy', 'LIDC-IDRI-0332_1_roi.npy', 'LIDC-IDRI-0332_2_roi.npy', 'LIDC-IDRI-0332_3_roi.npy', 'LIDC-IDRI-0334_1_roi.npy', 'LIDC-IDRI-0334_2_roi.npy', 'LIDC-IDRI-0334_3_roi.npy', 'LIDC-IDRI-0334_4_roi.npy', 'LIDC-IDRI-0334_5_roi.npy', 'LIDC-IDRI-0334_6_roi.npy', 'LIDC-IDRI-0334_7_roi.npy', 'LIDC-IDRI-0335_1_roi.npy', 'LIDC-IDRI-0335_2_roi.npy', 'LIDC-IDRI-0335_3_roi.npy', 'LIDC-IDRI-0335_4_roi.npy', 'LIDC-IDRI-0337_1_roi.npy', 'LIDC-IDRI-0337_2_roi.npy', 'LIDC-IDRI-0338_1_roi.npy', 'LIDC-IDRI-0339_1_roi.npy', 'LIDC-IDRI-0343_1_roi.npy', 'LIDC-IDRI-0344_1_roi.npy', 'LIDC-IDRI-0344_2_roi.npy', 'LIDC-IDRI-0345_1_roi.npy', 'LIDC-IDRI-0345_2_roi.npy', 'LIDC-IDRI-0346_1_roi.npy', 'LIDC-IDRI-0346_2_roi.npy', 'LIDC-IDRI-0346_3_roi.npy', 'LIDC-IDRI-0346_4_roi.npy', 'LIDC-IDRI-0346_5_roi.npy', 'LIDC-IDRI-0347_1_roi.npy', 'LIDC-IDRI-0347_2_roi.npy', 'LIDC-IDRI-0347_3_roi.npy', 'LIDC-IDRI-0348_1_roi.npy', 'LIDC-IDRI-0351_1_roi.npy', 'LIDC-IDRI-0352_1_roi.npy', 'LIDC-IDRI-0353_1_roi.npy', 'LIDC-IDRI-0353_2_roi.npy', 'LIDC-IDRI-0353_3_roi.npy', 'LIDC-IDRI-0354_1_roi.npy', 'LIDC-IDRI-0354_2_roi.npy', 'LIDC-IDRI-0355_1_roi.npy', 'LIDC-IDRI-0356_1_roi.npy', 'LIDC-IDRI-0356_2_roi.npy', 'LIDC-IDRI-0356_3_roi.npy', 'LIDC-IDRI-0356_4_roi.npy', 'LIDC-IDRI-0356_5_roi.npy', 'LIDC-IDRI-0356_6_roi.npy', 'LIDC-IDRI-0356_7_roi.npy', 'LIDC-IDRI-0358_1_roi.npy', 'LIDC-IDRI-0358_2_roi.npy', 'LIDC-IDRI-0358_3_roi.npy', 'LIDC-IDRI-0358_4_roi.npy', 'LIDC-IDRI-0358_5_roi.npy', 'LIDC-IDRI-0360_1_roi.npy', 'LIDC-IDRI-0360_2_roi.npy', 'LIDC-IDRI-0360_3_roi.npy', 'LIDC-IDRI-0360_4_roi.npy', 'LIDC-IDRI-0362_1_roi.npy', 'LIDC-IDRI-0365_1_roi.npy', 'LIDC-IDRI-0366_1_roi.npy', 'LIDC-IDRI-0369_1_roi.npy', 'LIDC-IDRI-0371_1_roi.npy', 'LIDC-IDRI-0375_1_roi.npy', 'LIDC-IDRI-0375_2_roi.npy', 'LIDC-IDRI-0376_1_roi.npy', 'LIDC-IDRI-0376_2_roi.npy', 'LIDC-IDRI-0377_1_roi.npy', 'LIDC-IDRI-0377_2_roi.npy', 'LIDC-IDRI-0378_1_roi.npy', 'LIDC-IDRI-0379_1_roi.npy', 'LIDC-IDRI-0379_2_roi.npy', 'LIDC-IDRI-0379_3_roi.npy', 'LIDC-IDRI-0379_4_roi.npy', 'LIDC-IDRI-0380_1_roi.npy', 'LIDC-IDRI-0380_2_roi.npy', 'LIDC-IDRI-0380_3_roi.npy', 'LIDC-IDRI-0381_1_roi.npy', 'LIDC-IDRI-0384_1_roi.npy', 'LIDC-IDRI-0385_1_roi.npy', 'LIDC-IDRI-0386_1_roi.npy', 'LIDC-IDRI-0386_2_roi.npy', 'LIDC-IDRI-0386_3_roi.npy', 'LIDC-IDRI-0386_4_roi.npy', 'LIDC-IDRI-0387_1_roi.npy', 'LIDC-IDRI-0387_2_roi.npy', 'LIDC-IDRI-0388_1_roi.npy', 'LIDC-IDRI-0388_2_roi.npy', 'LIDC-IDRI-0388_3_roi.npy', 'LIDC-IDRI-0390_1_roi.npy', 'LIDC-IDRI-0390_2_roi.npy', 'LIDC-IDRI-0390_3_roi.npy', 'LIDC-IDRI-0390_4_roi.npy', 'LIDC-IDRI-0390_5_roi.npy', 'LIDC-IDRI-0390_6_roi.npy', 'LIDC-IDRI-0390_7_roi.npy', 'LIDC-IDRI-0392_1_roi.npy', 'LIDC-IDRI-0392_2_roi.npy', 'LIDC-IDRI-0394_1_roi.npy', 'LIDC-IDRI-0394_2_roi.npy', 'LIDC-IDRI-0394_3_roi.npy', 'LIDC-IDRI-0394_4_roi.npy', 'LIDC-IDRI-0394_5_roi.npy', 'LIDC-IDRI-0394_6_roi.npy', 'LIDC-IDRI-0395_1_roi.npy', 'LIDC-IDRI-0395_2_roi.npy', 'LIDC-IDRI-0395_3_roi.npy', 'LIDC-IDRI-0397_1_roi.npy', 'LIDC-IDRI-0398_1_roi.npy', 'LIDC-IDRI-0398_2_roi.npy', 'LIDC-IDRI-0398_3_roi.npy', 'LIDC-IDRI-0398_4_roi.npy', 'LIDC-IDRI-0398_5_roi.npy', 'LIDC-IDRI-0399_1_roi.npy', 'LIDC-IDRI-0405_1_roi.npy', 'LIDC-IDRI-0405_2_roi.npy', 'LIDC-IDRI-0405_3_roi.npy', 'LIDC-IDRI-0406_1_roi.npy', 'LIDC-IDRI-0406_2_roi.npy', 'LIDC-IDRI-0409_1_roi.npy', 'LIDC-IDRI-0409_2_roi.npy', 'LIDC-IDRI-0409_3_roi.npy', 'LIDC-IDRI-0411_1_roi.npy', 'LIDC-IDRI-0411_2_roi.npy', 'LIDC-IDRI-0412_1_roi.npy', 'LIDC-IDRI-0412_2_roi.npy', 'LIDC-IDRI-0412_3_roi.npy', 'LIDC-IDRI-0413_1_roi.npy', 'LIDC-IDRI-0413_2_roi.npy', 'LIDC-IDRI-0414_1_roi.npy', 'LIDC-IDRI-0416_1_roi.npy', 'LIDC-IDRI-0416_2_roi.npy', 'LIDC-IDRI-0420_1_roi.npy', 'LIDC-IDRI-0420_2_roi.npy', 'LIDC-IDRI-0421_1_roi.npy', 'LIDC-IDRI-0421_2_roi.npy', 'LIDC-IDRI-0423_1_roi.npy', 'LIDC-IDRI-0424_1_roi.npy', 'LIDC-IDRI-0424_2_roi.npy', 'LIDC-IDRI-0427_1_roi.npy', 'LIDC-IDRI-0427_2_roi.npy', 'LIDC-IDRI-0427_3_roi.npy', 'LIDC-IDRI-0427_4_roi.npy', 'LIDC-IDRI-0429_1_roi.npy', 'LIDC-IDRI-0429_2_roi.npy', 'LIDC-IDRI-0430_1_roi.npy', 'LIDC-IDRI-0430_2_roi.npy', 'LIDC-IDRI-0433_1_roi.npy', 'LIDC-IDRI-0433_2_roi.npy', 'LIDC-IDRI-0433_3_roi.npy', 'LIDC-IDRI-0433_4_roi.npy', 'LIDC-IDRI-0434_1_roi.npy', 'LIDC-IDRI-0434_2_roi.npy', 'LIDC-IDRI-0434_3_roi.npy', 'LIDC-IDRI-0437_1_roi.npy', 'LIDC-IDRI-0437_2_roi.npy', 'LIDC-IDRI-0437_3_roi.npy', 'LIDC-IDRI-0437_4_roi.npy', 'LIDC-IDRI-0438_1_roi.npy', 'LIDC-IDRI-0439_1_roi.npy', 'LIDC-IDRI-0439_2_roi.npy', 'LIDC-IDRI-0440_1_roi.npy', 'LIDC-IDRI-0440_2_roi.npy', 'LIDC-IDRI-0442_1_roi.npy', 'LIDC-IDRI-0442_2_roi.npy', 'LIDC-IDRI-0442_3_roi.npy', 'LIDC-IDRI-0443_1_roi.npy', 'LIDC-IDRI-0443_2_roi.npy', 'LIDC-IDRI-0444_1_roi.npy', 'LIDC-IDRI-0445_1_roi.npy', 'LIDC-IDRI-0448_1_roi.npy', 'LIDC-IDRI-0448_2_roi.npy', 'LIDC-IDRI-0448_3_roi.npy', 'LIDC-IDRI-0449_1_roi.npy', 'LIDC-IDRI-0449_2_roi.npy', 'LIDC-IDRI-0451_1_roi.npy', 'LIDC-IDRI-0452_1_roi.npy', 'LIDC-IDRI-0452_2_roi.npy', 'LIDC-IDRI-0453_1_roi.npy', 'LIDC-IDRI-0456_1_roi.npy', 'LIDC-IDRI-0456_2_roi.npy', 'LIDC-IDRI-0456_3_roi.npy', 'LIDC-IDRI-0458_1_roi.npy', 'LIDC-IDRI-0458_2_roi.npy', 'LIDC-IDRI-0460_1_roi.npy', 'LIDC-IDRI-0460_2_roi.npy', 'LIDC-IDRI-0462_1_roi.npy', 'LIDC-IDRI-0462_2_roi.npy', 'LIDC-IDRI-0462_3_roi.npy', 'LIDC-IDRI-0463_1_roi.npy', 'LIDC-IDRI-0463_2_roi.npy', 'LIDC-IDRI-0466_1_roi.npy', 'LIDC-IDRI-0466_2_roi.npy', 'LIDC-IDRI-0466_3_roi.npy', 'LIDC-IDRI-0467_1_roi.npy', 'LIDC-IDRI-0468_1_roi.npy', 'LIDC-IDRI-0469_1_roi.npy', 'LIDC-IDRI-0469_2_roi.npy', 'LIDC-IDRI-0469_3_roi.npy', 'LIDC-IDRI-0469_4_roi.npy', 'LIDC-IDRI-0474_1_roi.npy', 'LIDC-IDRI-0474_2_roi.npy', 'LIDC-IDRI-0474_3_roi.npy', 'LIDC-IDRI-0474_4_roi.npy', 'LIDC-IDRI-0474_5_roi.npy', 'LIDC-IDRI-0475_1_roi.npy', 'LIDC-IDRI-0478_1_roi.npy', 'LIDC-IDRI-0479_1_roi.npy', 'LIDC-IDRI-0479_2_roi.npy', 'LIDC-IDRI-0480_1_roi.npy', 'LIDC-IDRI-0481_1_roi.npy', 'LIDC-IDRI-0481_2_roi.npy', 'LIDC-IDRI-0481_3_roi.npy', 'LIDC-IDRI-0481_4_roi.npy', 'LIDC-IDRI-0481_5_roi.npy', 'LIDC-IDRI-0481_6_roi.npy', 'LIDC-IDRI-0481_7_roi.npy', 'LIDC-IDRI-0484_1_roi.npy', 'LIDC-IDRI-0486_1_roi.npy', 'LIDC-IDRI-0486_2_roi.npy', 'LIDC-IDRI-0487_1_roi.npy', 'LIDC-IDRI-0487_2_roi.npy', 'LIDC-IDRI-0489_1_roi.npy', 'LIDC-IDRI-0489_2_roi.npy', 'LIDC-IDRI-0489_3_roi.npy', 'LIDC-IDRI-0489_4_roi.npy', 'LIDC-IDRI-0489_5_roi.npy', 'LIDC-IDRI-0489_6_roi.npy', 'LIDC-IDRI-0490_1_roi.npy', 'LIDC-IDRI-0490_2_roi.npy', 'LIDC-IDRI-0492_1_roi.npy', 'LIDC-IDRI-0492_2_roi.npy', 'LIDC-IDRI-0492_3_roi.npy', 'LIDC-IDRI-0492_4_roi.npy', 'LIDC-IDRI-0493_1_roi.npy', 'LIDC-IDRI-0493_2_roi.npy', 'LIDC-IDRI-0498_1_roi.npy', 'LIDC-IDRI-0499_1_roi.npy', 'LIDC-IDRI-0499_2_roi.npy', 'LIDC-IDRI-0499_3_roi.npy', 'LIDC-IDRI-0499_4_roi.npy', 'LIDC-IDRI-0499_5_roi.npy', 'LIDC-IDRI-0499_6_roi.npy', 'LIDC-IDRI-0500_1_roi.npy', 'LIDC-IDRI-0503_1_roi.npy', 'LIDC-IDRI-0504_1_roi.npy', 'LIDC-IDRI-0507_1_roi.npy', 'LIDC-IDRI-0507_2_roi.npy', 'LIDC-IDRI-0507_3_roi.npy', 'LIDC-IDRI-0509_1_roi.npy', 'LIDC-IDRI-0509_2_roi.npy', 'LIDC-IDRI-0509_3_roi.npy', 'LIDC-IDRI-0509_4_roi.npy', 'LIDC-IDRI-0510_1_roi.npy', 'LIDC-IDRI-0510_2_roi.npy', 'LIDC-IDRI-0510_3_roi.npy', 'LIDC-IDRI-0510_4_roi.npy', 'LIDC-IDRI-0510_5_roi.npy', 'LIDC-IDRI-0510_6_roi.npy', 'LIDC-IDRI-0510_7_roi.npy', 'LIDC-IDRI-0515_1_roi.npy', 'LIDC-IDRI-0518_1_roi.npy', 'LIDC-IDRI-0518_2_roi.npy', 'LIDC-IDRI-0518_3_roi.npy', 'LIDC-IDRI-0521_1_roi.npy', 'LIDC-IDRI-0522_1_roi.npy', 'LIDC-IDRI-0525_1_roi.npy', 'LIDC-IDRI-0525_2_roi.npy', 'LIDC-IDRI-0526_1_roi.npy', 'LIDC-IDRI-0526_2_roi.npy', 'LIDC-IDRI-0526_3_roi.npy', 'LIDC-IDRI-0526_4_roi.npy', 'LIDC-IDRI-0526_5_roi.npy', 'LIDC-IDRI-0527_1_roi.npy', 'LIDC-IDRI-0529_1_roi.npy', 'LIDC-IDRI-0529_2_roi.npy', 'LIDC-IDRI-0530_1_roi.npy', 'LIDC-IDRI-0530_2_roi.npy', 'LIDC-IDRI-0532_1_roi.npy', 'LIDC-IDRI-0533_1_roi.npy', 'LIDC-IDRI-0534_1_roi.npy', 'LIDC-IDRI-0534_2_roi.npy', 'LIDC-IDRI-0535_1_roi.npy', 'LIDC-IDRI-0535_2_roi.npy', 'LIDC-IDRI-0535_3_roi.npy', 'LIDC-IDRI-0537_1_roi.npy', 'LIDC-IDRI-0538_1_roi.npy', 'LIDC-IDRI-0541_1_roi.npy', 'LIDC-IDRI-0541_2_roi.npy', 'LIDC-IDRI-0542_1_roi.npy', 'LIDC-IDRI-0542_2_roi.npy', 'LIDC-IDRI-0543_1_roi.npy', 'LIDC-IDRI-0543_2_roi.npy', 'LIDC-IDRI-0546_1_roi.npy', 'LIDC-IDRI-0547_1_roi.npy', 'LIDC-IDRI-0547_2_roi.npy', 'LIDC-IDRI-0552_1_roi.npy', 'LIDC-IDRI-0553_1_roi.npy', 'LIDC-IDRI-0553_2_roi.npy', 'LIDC-IDRI-0555_1_roi.npy', 'LIDC-IDRI-0557_1_roi.npy', 'LIDC-IDRI-0558_1_roi.npy', 'LIDC-IDRI-0559_1_roi.npy', 'LIDC-IDRI-0559_2_roi.npy', 'LIDC-IDRI-0562_1_roi.npy', 'LIDC-IDRI-0562_2_roi.npy', 'LIDC-IDRI-0565_1_roi.npy', 'LIDC-IDRI-0565_2_roi.npy', 'LIDC-IDRI-0565_3_roi.npy', 'LIDC-IDRI-0565_4_roi.npy', 'LIDC-IDRI-0565_5_roi.npy', 'LIDC-IDRI-0567_1_roi.npy', 'LIDC-IDRI-0567_2_roi.npy', 'LIDC-IDRI-0568_1_roi.npy', 'LIDC-IDRI-0568_2_roi.npy', 'LIDC-IDRI-0568_3_roi.npy', 'LIDC-IDRI-0571_1_roi.npy', 'LIDC-IDRI-0572_1_roi.npy', 'LIDC-IDRI-0574_1_roi.npy', 'LIDC-IDRI-0576_1_roi.npy', 'LIDC-IDRI-0576_2_roi.npy', 'LIDC-IDRI-0576_3_roi.npy', 'LIDC-IDRI-0576_4_roi.npy', 'LIDC-IDRI-0577_1_roi.npy', 'LIDC-IDRI-0577_2_roi.npy', 'LIDC-IDRI-0577_3_roi.npy', 'LIDC-IDRI-0578_1_roi.npy', 'LIDC-IDRI-0579_1_roi.npy', 'LIDC-IDRI-0580_1_roi.npy', 'LIDC-IDRI-0582_1_roi.npy', 'LIDC-IDRI-0582_2_roi.npy', 'LIDC-IDRI-0582_3_roi.npy', 'LIDC-IDRI-0582_4_roi.npy', 'LIDC-IDRI-0582_5_roi.npy', 'LIDC-IDRI-0582_6_roi.npy', 'LIDC-IDRI-0582_7_roi.npy', 'LIDC-IDRI-0583_10_roi.npy', 'LIDC-IDRI-0583_1_roi.npy', 'LIDC-IDRI-0583_2_roi.npy', 'LIDC-IDRI-0583_3_roi.npy', 'LIDC-IDRI-0583_4_roi.npy', 'LIDC-IDRI-0583_5_roi.npy', 'LIDC-IDRI-0583_6_roi.npy', 'LIDC-IDRI-0583_7_roi.npy', 'LIDC-IDRI-0583_8_roi.npy', 'LIDC-IDRI-0583_9_roi.npy', 'LIDC-IDRI-0586_1_roi.npy', 'LIDC-IDRI-0586_2_roi.npy', 'LIDC-IDRI-0587_1_roi.npy', 'LIDC-IDRI-0587_2_roi.npy', 'LIDC-IDRI-0587_3_roi.npy', 'LIDC-IDRI-0587_4_roi.npy', 'LIDC-IDRI-0587_5_roi.npy', 'LIDC-IDRI-0587_6_roi.npy', 'LIDC-IDRI-0587_7_roi.npy', 'LIDC-IDRI-0590_1_roi.npy', 'LIDC-IDRI-0591_1_roi.npy', 'LIDC-IDRI-0592_1_roi.npy', 'LIDC-IDRI-0594_1_roi.npy', 'LIDC-IDRI-0594_2_roi.npy', 'LIDC-IDRI-0595_1_roi.npy', 'LIDC-IDRI-0596_1_roi.npy', 'LIDC-IDRI-0596_2_roi.npy', 'LIDC-IDRI-0601_1_roi.npy', 'LIDC-IDRI-0601_2_roi.npy', 'LIDC-IDRI-0601_3_roi.npy', 'LIDC-IDRI-0601_4_roi.npy', 'LIDC-IDRI-0601_5_roi.npy', 'LIDC-IDRI-0602_1_roi.npy', 'LIDC-IDRI-0602_2_roi.npy', 'LIDC-IDRI-0604_1_roi.npy', 'LIDC-IDRI-0604_2_roi.npy', 'LIDC-IDRI-0604_3_roi.npy', 'LIDC-IDRI-0604_4_roi.npy', 'LIDC-IDRI-0605_1_roi.npy', 'LIDC-IDRI-0605_2_roi.npy', 'LIDC-IDRI-0605_3_roi.npy', 'LIDC-IDRI-0605_4_roi.npy', 'LIDC-IDRI-0605_5_roi.npy', 'LIDC-IDRI-0605_6_roi.npy', 'LIDC-IDRI-0606_1_roi.npy', 'LIDC-IDRI-0607_1_roi.npy', 'LIDC-IDRI-0608_1_roi.npy', 'LIDC-IDRI-0608_2_roi.npy', 'LIDC-IDRI-0608_3_roi.npy', 'LIDC-IDRI-0608_4_roi.npy', 'LIDC-IDRI-0609_1_roi.npy', 'LIDC-IDRI-0613_1_roi.npy', 'LIDC-IDRI-0614_1_roi.npy', 'LIDC-IDRI-0614_2_roi.npy', 'LIDC-IDRI-0614_3_roi.npy', 'LIDC-IDRI-0615_1_roi.npy', 'LIDC-IDRI-0615_2_roi.npy', 'LIDC-IDRI-0615_3_roi.npy', 'LIDC-IDRI-0617_1_roi.npy', 'LIDC-IDRI-0617_2_roi.npy', 'LIDC-IDRI-0618_1_roi.npy', 'LIDC-IDRI-0619_1_roi.npy', 'LIDC-IDRI-0619_2_roi.npy', 'LIDC-IDRI-0620_1_roi.npy', 'LIDC-IDRI-0620_2_roi.npy', 'LIDC-IDRI-0620_3_roi.npy', 'LIDC-IDRI-0620_4_roi.npy', 'LIDC-IDRI-0624_1_roi.npy', 'LIDC-IDRI-0624_2_roi.npy', 'LIDC-IDRI-0624_3_roi.npy', 'LIDC-IDRI-0625_1_roi.npy', 'LIDC-IDRI-0626_1_roi.npy', 'LIDC-IDRI-0628_1_roi.npy', 'LIDC-IDRI-0628_2_roi.npy', 'LIDC-IDRI-0628_3_roi.npy', 'LIDC-IDRI-0631_1_roi.npy', 'LIDC-IDRI-0634_1_roi.npy', 'LIDC-IDRI-0635_1_roi.npy', 'LIDC-IDRI-0636_1_roi.npy', 'LIDC-IDRI-0636_2_roi.npy', 'LIDC-IDRI-0636_3_roi.npy', 'LIDC-IDRI-0636_4_roi.npy', 'LIDC-IDRI-0636_5_roi.npy', 'LIDC-IDRI-0638_1_roi.npy', 'LIDC-IDRI-0639_1_roi.npy', 'LIDC-IDRI-0639_2_roi.npy', 'LIDC-IDRI-0640_1_roi.npy', 'LIDC-IDRI-0640_2_roi.npy', 'LIDC-IDRI-0641_1_roi.npy', 'LIDC-IDRI-0641_2_roi.npy', 'LIDC-IDRI-0641_3_roi.npy', 'LIDC-IDRI-0641_4_roi.npy', 'LIDC-IDRI-0641_5_roi.npy', 'LIDC-IDRI-0641_6_roi.npy', 'LIDC-IDRI-0642_1_roi.npy', 'LIDC-IDRI-0642_2_roi.npy', 'LIDC-IDRI-0642_3_roi.npy', 'LIDC-IDRI-0642_4_roi.npy', 'LIDC-IDRI-0643_1_roi.npy', 'LIDC-IDRI-0644_1_roi.npy', 'LIDC-IDRI-0645_1_roi.npy', 'LIDC-IDRI-0647_1_roi.npy', 'LIDC-IDRI-0648_1_roi.npy', 'LIDC-IDRI-0648_2_roi.npy', 'LIDC-IDRI-0652_1_roi.npy', 'LIDC-IDRI-0654_1_roi.npy', 'LIDC-IDRI-0657_1_roi.npy', 'LIDC-IDRI-0658_1_roi.npy', 'LIDC-IDRI-0659_1_roi.npy', 'LIDC-IDRI-0661_1_roi.npy', 'LIDC-IDRI-0661_2_roi.npy', 'LIDC-IDRI-0661_3_roi.npy', 'LIDC-IDRI-0663_1_roi.npy', 'LIDC-IDRI-0663_2_roi.npy', 'LIDC-IDRI-0663_3_roi.npy', 'LIDC-IDRI-0666_1_roi.npy', 'LIDC-IDRI-0669_1_roi.npy', 'LIDC-IDRI-0672_1_roi.npy', 'LIDC-IDRI-0673_1_roi.npy', 'LIDC-IDRI-0673_2_roi.npy', 'LIDC-IDRI-0673_3_roi.npy', 'LIDC-IDRI-0674_1_roi.npy', 'LIDC-IDRI-0674_2_roi.npy', 'LIDC-IDRI-0676_1_roi.npy', 'LIDC-IDRI-0678_1_roi.npy', 'LIDC-IDRI-0681_1_roi.npy', 'LIDC-IDRI-0682_1_roi.npy', 'LIDC-IDRI-0682_2_roi.npy', 'LIDC-IDRI-0682_3_roi.npy', 'LIDC-IDRI-0687_1_roi.npy', 'LIDC-IDRI-0694_1_roi.npy', 'LIDC-IDRI-0695_1_roi.npy', 'LIDC-IDRI-0695_2_roi.npy', 'LIDC-IDRI-0696_1_roi.npy', 'LIDC-IDRI-0698_1_roi.npy', 'LIDC-IDRI-0698_2_roi.npy', 'LIDC-IDRI-0700_1_roi.npy', 'LIDC-IDRI-0701_1_roi.npy', 'LIDC-IDRI-0701_2_roi.npy', 'LIDC-IDRI-0701_3_roi.npy', 'LIDC-IDRI-0701_4_roi.npy', 'LIDC-IDRI-0702_1_roi.npy', 'LIDC-IDRI-0702_2_roi.npy', 'LIDC-IDRI-0702_3_roi.npy', 'LIDC-IDRI-0702_4_roi.npy', 'LIDC-IDRI-0703_1_roi.npy', 'LIDC-IDRI-0703_2_roi.npy', 'LIDC-IDRI-0704_1_roi.npy', 'LIDC-IDRI-0704_2_roi.npy', 'LIDC-IDRI-0705_1_roi.npy', 'LIDC-IDRI-0705_2_roi.npy', 'LIDC-IDRI-0705_3_roi.npy', 'LIDC-IDRI-0706_1_roi.npy', 'LIDC-IDRI-0707_1_roi.npy', 'LIDC-IDRI-0707_2_roi.npy', 'LIDC-IDRI-0707_3_roi.npy', 'LIDC-IDRI-0708_1_roi.npy', 'LIDC-IDRI-0708_2_roi.npy', 'LIDC-IDRI-0709_1_roi.npy', 'LIDC-IDRI-0709_2_roi.npy', 'LIDC-IDRI-0709_3_roi.npy', 'LIDC-IDRI-0709_4_roi.npy', 'LIDC-IDRI-0712_1_roi.npy', 'LIDC-IDRI-0712_2_roi.npy', 'LIDC-IDRI-0715_1_roi.npy', 'LIDC-IDRI-0717_1_roi.npy', 'LIDC-IDRI-0721_1_roi.npy', 'LIDC-IDRI-0722_1_roi.npy', 'LIDC-IDRI-0722_2_roi.npy', 'LIDC-IDRI-0722_3_roi.npy', 'LIDC-IDRI-0724_1_roi.npy', 'LIDC-IDRI-0726_1_roi.npy', 'LIDC-IDRI-0727_1_roi.npy', 'LIDC-IDRI-0728_1_roi.npy', 'LIDC-IDRI-0729_1_roi.npy', 'LIDC-IDRI-0732_1_roi.npy', 'LIDC-IDRI-0733_1_roi.npy', 'LIDC-IDRI-0733_2_roi.npy', 'LIDC-IDRI-0733_3_roi.npy', 'LIDC-IDRI-0733_4_roi.npy', 'LIDC-IDRI-0734_1_roi.npy', 'LIDC-IDRI-0735_1_roi.npy', 'LIDC-IDRI-0735_2_roi.npy', 'LIDC-IDRI-0736_1_roi.npy', 'LIDC-IDRI-0739_1_roi.npy', 'LIDC-IDRI-0741_1_roi.npy', 'LIDC-IDRI-0741_2_roi.npy', 'LIDC-IDRI-0741_3_roi.npy', 'LIDC-IDRI-0743_1_roi.npy', 'LIDC-IDRI-0743_2_roi.npy', 'LIDC-IDRI-0743_3_roi.npy', 'LIDC-IDRI-0744_1_roi.npy', 'LIDC-IDRI-0748_1_roi.npy', 'LIDC-IDRI-0748_2_roi.npy', 'LIDC-IDRI-0748_3_roi.npy', 'LIDC-IDRI-0748_4_roi.npy', 'LIDC-IDRI-0748_5_roi.npy', 'LIDC-IDRI-0749_1_roi.npy', 'LIDC-IDRI-0749_2_roi.npy', 'LIDC-IDRI-0749_3_roi.npy', 'LIDC-IDRI-0749_4_roi.npy', 'LIDC-IDRI-0749_5_roi.npy', 'LIDC-IDRI-0751_1_roi.npy', 'LIDC-IDRI-0751_2_roi.npy', 'LIDC-IDRI-0751_3_roi.npy', 'LIDC-IDRI-0751_4_roi.npy', 'LIDC-IDRI-0751_5_roi.npy', 'LIDC-IDRI-0751_6_roi.npy', 'LIDC-IDRI-0751_7_roi.npy', 'LIDC-IDRI-0753_1_roi.npy', 'LIDC-IDRI-0756_1_roi.npy', 'LIDC-IDRI-0757_1_roi.npy', 'LIDC-IDRI-0759_1_roi.npy', 'LIDC-IDRI-0759_2_roi.npy', 'LIDC-IDRI-0759_3_roi.npy', 'LIDC-IDRI-0761_1_roi.npy', 'LIDC-IDRI-0761_2_roi.npy', 'LIDC-IDRI-0761_3_roi.npy', 'LIDC-IDRI-0763_1_roi.npy', 'LIDC-IDRI-0763_2_roi.npy', 'LIDC-IDRI-0765_1_roi.npy', 'LIDC-IDRI-0766_1_roi.npy', 'LIDC-IDRI-0768_1_roi.npy', 'LIDC-IDRI-0770_1_roi.npy', 'LIDC-IDRI-0770_2_roi.npy', 'LIDC-IDRI-0770_3_roi.npy', 'LIDC-IDRI-0770_4_roi.npy', 'LIDC-IDRI-0770_5_roi.npy', 'LIDC-IDRI-0770_6_roi.npy', 'LIDC-IDRI-0770_7_roi.npy', 'LIDC-IDRI-0770_8_roi.npy', 'LIDC-IDRI-0770_9_roi.npy', 'LIDC-IDRI-0771_1_roi.npy', 'LIDC-IDRI-0772_1_roi.npy', 'LIDC-IDRI-0772_2_roi.npy', 'LIDC-IDRI-0775_10_roi.npy', 'LIDC-IDRI-0775_1_roi.npy', 'LIDC-IDRI-0775_2_roi.npy', 'LIDC-IDRI-0775_3_roi.npy', 'LIDC-IDRI-0775_4_roi.npy', 'LIDC-IDRI-0775_5_roi.npy', 'LIDC-IDRI-0775_6_roi.npy', 'LIDC-IDRI-0775_7_roi.npy', 'LIDC-IDRI-0775_8_roi.npy', 'LIDC-IDRI-0775_9_roi.npy', 'LIDC-IDRI-0776_1_roi.npy', 'LIDC-IDRI-0776_2_roi.npy', 'LIDC-IDRI-0776_3_roi.npy', 'LIDC-IDRI-0777_1_roi.npy', 'LIDC-IDRI-0777_2_roi.npy', 'LIDC-IDRI-0777_3_roi.npy', 'LIDC-IDRI-0777_4_roi.npy', 'LIDC-IDRI-0777_5_roi.npy', 'LIDC-IDRI-0777_6_roi.npy', 'LIDC-IDRI-0779_1_roi.npy', 'LIDC-IDRI-0783_1_roi.npy', 'LIDC-IDRI-0787_1_roi.npy', 'LIDC-IDRI-0787_2_roi.npy', 'LIDC-IDRI-0788_1_roi.npy', 'LIDC-IDRI-0788_2_roi.npy', 'LIDC-IDRI-0788_3_roi.npy', 'LIDC-IDRI-0789_1_roi.npy', 'LIDC-IDRI-0790_1_roi.npy', 'LIDC-IDRI-0790_2_roi.npy', 'LIDC-IDRI-0791_1_roi.npy', 'LIDC-IDRI-0792_1_roi.npy', 'LIDC-IDRI-0792_2_roi.npy', 'LIDC-IDRI-0792_3_roi.npy', 'LIDC-IDRI-0794_1_roi.npy', 'LIDC-IDRI-0794_2_roi.npy', 'LIDC-IDRI-0795_1_roi.npy', 'LIDC-IDRI-0795_2_roi.npy', 'LIDC-IDRI-0796_1_roi.npy', 'LIDC-IDRI-0797_1_roi.npy', 'LIDC-IDRI-0798_1_roi.npy', 'LIDC-IDRI-0798_2_roi.npy', 'LIDC-IDRI-0800_1_roi.npy', 'LIDC-IDRI-0800_2_roi.npy', 'LIDC-IDRI-0800_3_roi.npy', 'LIDC-IDRI-0801_1_roi.npy', 'LIDC-IDRI-0801_2_roi.npy', 'LIDC-IDRI-0803_1_roi.npy', 'LIDC-IDRI-0806_1_roi.npy', 'LIDC-IDRI-0806_2_roi.npy', 'LIDC-IDRI-0806_3_roi.npy', 'LIDC-IDRI-0806_4_roi.npy', 'LIDC-IDRI-0807_1_roi.npy', 'LIDC-IDRI-0807_2_roi.npy', 'LIDC-IDRI-0809_1_roi.npy', 'LIDC-IDRI-0810_1_roi.npy', 'LIDC-IDRI-0810_2_roi.npy', 'LIDC-IDRI-0811_1_roi.npy', 'LIDC-IDRI-0812_1_roi.npy', 'LIDC-IDRI-0813_1_roi.npy', 'LIDC-IDRI-0813_2_roi.npy', 'LIDC-IDRI-0814_1_roi.npy', 'LIDC-IDRI-0814_2_roi.npy', 'LIDC-IDRI-0815_1_roi.npy', 'LIDC-IDRI-0816_1_roi.npy', 'LIDC-IDRI-0816_2_roi.npy', 'LIDC-IDRI-0818_1_roi.npy', 'LIDC-IDRI-0819_1_roi.npy', 'LIDC-IDRI-0819_2_roi.npy', 'LIDC-IDRI-0819_3_roi.npy', 'LIDC-IDRI-0820_1_roi.npy', 'LIDC-IDRI-0820_2_roi.npy', 'LIDC-IDRI-0821_1_roi.npy', 'LIDC-IDRI-0822_1_roi.npy', 'LIDC-IDRI-0822_2_roi.npy', 'LIDC-IDRI-0822_3_roi.npy', 'LIDC-IDRI-0822_4_roi.npy', 'LIDC-IDRI-0825_1_roi.npy', 'LIDC-IDRI-0826_1_roi.npy', 'LIDC-IDRI-0826_2_roi.npy', 'LIDC-IDRI-0827_1_roi.npy', 'LIDC-IDRI-0827_2_roi.npy', 'LIDC-IDRI-0827_3_roi.npy', 'LIDC-IDRI-0832_1_roi.npy', 'LIDC-IDRI-0834_1_roi.npy', 'LIDC-IDRI-0835_1_roi.npy', 'LIDC-IDRI-0835_2_roi.npy', 'LIDC-IDRI-0836_1_roi.npy', 'LIDC-IDRI-0836_2_roi.npy', 'LIDC-IDRI-0838_1_roi.npy', 'LIDC-IDRI-0838_2_roi.npy', 'LIDC-IDRI-0838_3_roi.npy', 'LIDC-IDRI-0838_4_roi.npy', 'LIDC-IDRI-0841_1_roi.npy', 'LIDC-IDRI-0842_1_roi.npy', 'LIDC-IDRI-0842_2_roi.npy', 'LIDC-IDRI-0843_1_roi.npy', 'LIDC-IDRI-0843_2_roi.npy', 'LIDC-IDRI-0843_3_roi.npy', 'LIDC-IDRI-0843_4_roi.npy', 'LIDC-IDRI-0843_5_roi.npy', 'LIDC-IDRI-0843_6_roi.npy', 'LIDC-IDRI-0844_1_roi.npy', 'LIDC-IDRI-0844_2_roi.npy', 'LIDC-IDRI-0844_3_roi.npy', 'LIDC-IDRI-0846_1_roi.npy', 'LIDC-IDRI-0846_2_roi.npy', 'LIDC-IDRI-0848_1_roi.npy', 'LIDC-IDRI-0849_1_roi.npy', 'LIDC-IDRI-0849_2_roi.npy', 'LIDC-IDRI-0849_3_roi.npy', 'LIDC-IDRI-0849_4_roi.npy', 'LIDC-IDRI-0850_1_roi.npy', 'LIDC-IDRI-0850_2_roi.npy', 'LIDC-IDRI-0851_1_roi.npy', 'LIDC-IDRI-0851_2_roi.npy', 'LIDC-IDRI-0851_3_roi.npy', 'LIDC-IDRI-0851_4_roi.npy', 'LIDC-IDRI-0852_1_roi.npy', 'LIDC-IDRI-0852_2_roi.npy', 'LIDC-IDRI-0854_1_roi.npy', 'LIDC-IDRI-0854_2_roi.npy', 'LIDC-IDRI-0854_3_roi.npy', 'LIDC-IDRI-0855_10_roi.npy', 'LIDC-IDRI-0855_11_roi.npy', 'LIDC-IDRI-0855_12_roi.npy', 'LIDC-IDRI-0855_13_roi.npy', 'LIDC-IDRI-0855_1_roi.npy', 'LIDC-IDRI-0855_2_roi.npy', 'LIDC-IDRI-0855_3_roi.npy', 'LIDC-IDRI-0855_4_roi.npy', 'LIDC-IDRI-0855_5_roi.npy', 'LIDC-IDRI-0855_6_roi.npy', 'LIDC-IDRI-0855_7_roi.npy', 'LIDC-IDRI-0855_8_roi.npy', 'LIDC-IDRI-0855_9_roi.npy', 'LIDC-IDRI-0857_1_roi.npy', 'LIDC-IDRI-0859_1_roi.npy', 'LIDC-IDRI-0860_1_roi.npy', 'LIDC-IDRI-0860_2_roi.npy', 'LIDC-IDRI-0861_1_roi.npy', 'LIDC-IDRI-0861_2_roi.npy', 'LIDC-IDRI-0863_1_roi.npy', 'LIDC-IDRI-0863_2_roi.npy', 'LIDC-IDRI-0865_1_roi.npy', 'LIDC-IDRI-0866_1_roi.npy', 'LIDC-IDRI-0866_2_roi.npy', 'LIDC-IDRI-0866_3_roi.npy', 'LIDC-IDRI-0866_4_roi.npy', 'LIDC-IDRI-0867_1_roi.npy', 'LIDC-IDRI-0867_2_roi.npy', 'LIDC-IDRI-0869_1_roi.npy', 'LIDC-IDRI-0869_2_roi.npy', 'LIDC-IDRI-0869_3_roi.npy', 'LIDC-IDRI-0869_4_roi.npy', 'LIDC-IDRI-0870_10_roi.npy', 'LIDC-IDRI-0870_11_roi.npy', 'LIDC-IDRI-0870_1_roi.npy', 'LIDC-IDRI-0870_2_roi.npy', 'LIDC-IDRI-0870_3_roi.npy', 'LIDC-IDRI-0870_4_roi.npy', 'LIDC-IDRI-0870_5_roi.npy', 'LIDC-IDRI-0870_6_roi.npy', 'LIDC-IDRI-0870_7_roi.npy', 'LIDC-IDRI-0870_8_roi.npy', 'LIDC-IDRI-0870_9_roi.npy', 'LIDC-IDRI-0871_1_roi.npy', 'LIDC-IDRI-0871_2_roi.npy', 'LIDC-IDRI-0871_3_roi.npy', 'LIDC-IDRI-0871_4_roi.npy', 'LIDC-IDRI-0871_5_roi.npy', 'LIDC-IDRI-0871_6_roi.npy', 'LIDC-IDRI-0871_7_roi.npy', 'LIDC-IDRI-0872_1_roi.npy', 'LIDC-IDRI-0872_2_roi.npy', 'LIDC-IDRI-0874_1_roi.npy', 'LIDC-IDRI-0874_2_roi.npy', 'LIDC-IDRI-0874_3_roi.npy', 'LIDC-IDRI-0875_1_roi.npy', 'LIDC-IDRI-0880_1_roi.npy', 'LIDC-IDRI-0884_1_roi.npy', 'LIDC-IDRI-0886_1_roi.npy', 'LIDC-IDRI-0886_2_roi.npy', 'LIDC-IDRI-0886_3_roi.npy', 'LIDC-IDRI-0888_1_roi.npy', 'LIDC-IDRI-0890_1_roi.npy', 'LIDC-IDRI-0890_2_roi.npy', 'LIDC-IDRI-0892_1_roi.npy', 'LIDC-IDRI-0892_2_roi.npy', 'LIDC-IDRI-0892_3_roi.npy', 'LIDC-IDRI-0892_4_roi.npy', 'LIDC-IDRI-0893_1_roi.npy', 'LIDC-IDRI-0893_2_roi.npy', 'LIDC-IDRI-0893_3_roi.npy', 'LIDC-IDRI-0894_1_roi.npy', 'LIDC-IDRI-0894_2_roi.npy', 'LIDC-IDRI-0894_3_roi.npy', 'LIDC-IDRI-0894_4_roi.npy', 'LIDC-IDRI-0895_1_roi.npy', 'LIDC-IDRI-0896_1_roi.npy', 'LIDC-IDRI-0896_2_roi.npy', 'LIDC-IDRI-0898_1_roi.npy', 'LIDC-IDRI-0898_2_roi.npy', 'LIDC-IDRI-0899_1_roi.npy', 'LIDC-IDRI-0904_1_roi.npy', 'LIDC-IDRI-0904_2_roi.npy', 'LIDC-IDRI-0904_3_roi.npy', 'LIDC-IDRI-0905_1_roi.npy', 'LIDC-IDRI-0906_1_roi.npy', 'LIDC-IDRI-0906_2_roi.npy', 'LIDC-IDRI-0907_1_roi.npy', 'LIDC-IDRI-0907_2_roi.npy', 'LIDC-IDRI-0908_1_roi.npy', 'LIDC-IDRI-0910_1_roi.npy', 'LIDC-IDRI-0910_2_roi.npy', 'LIDC-IDRI-0911_1_roi.npy', 'LIDC-IDRI-0912_1_roi.npy', 'LIDC-IDRI-0912_2_roi.npy', 'LIDC-IDRI-0912_3_roi.npy', 'LIDC-IDRI-0912_4_roi.npy', 'LIDC-IDRI-0912_5_roi.npy', 'LIDC-IDRI-0913_1_roi.npy', 'LIDC-IDRI-0913_2_roi.npy', 'LIDC-IDRI-0915_1_roi.npy', 'LIDC-IDRI-0916_1_roi.npy', 'LIDC-IDRI-0916_2_roi.npy', 'LIDC-IDRI-0916_3_roi.npy', 'LIDC-IDRI-0916_4_roi.npy', 'LIDC-IDRI-0916_5_roi.npy', 'LIDC-IDRI-0916_6_roi.npy', 'LIDC-IDRI-0916_7_roi.npy', 'LIDC-IDRI-0917_1_roi.npy', 'LIDC-IDRI-0917_2_roi.npy', 'LIDC-IDRI-0920_1_roi.npy', 'LIDC-IDRI-0921_1_roi.npy', 'LIDC-IDRI-0921_2_roi.npy', 'LIDC-IDRI-0921_3_roi.npy', 'LIDC-IDRI-0921_4_roi.npy', 'LIDC-IDRI-0922_1_roi.npy', 'LIDC-IDRI-0923_1_roi.npy', 'LIDC-IDRI-0924_1_roi.npy', 'LIDC-IDRI-0925_1_roi.npy', 'LIDC-IDRI-0928_1_roi.npy', 'LIDC-IDRI-0928_2_roi.npy', 'LIDC-IDRI-0932_1_roi.npy', 'LIDC-IDRI-0933_1_roi.npy', 'LIDC-IDRI-0933_2_roi.npy', 'LIDC-IDRI-0933_3_roi.npy', 'LIDC-IDRI-0933_4_roi.npy', 'LIDC-IDRI-0935_1_roi.npy', 'LIDC-IDRI-0935_2_roi.npy', 'LIDC-IDRI-0938_1_roi.npy', 'LIDC-IDRI-0939_1_roi.npy', 'LIDC-IDRI-0940_1_roi.npy', 'LIDC-IDRI-0941_1_roi.npy', 'LIDC-IDRI-0942_1_roi.npy', 'LIDC-IDRI-0942_2_roi.npy', 'LIDC-IDRI-0942_3_roi.npy', 'LIDC-IDRI-0944_1_roi.npy', 'LIDC-IDRI-0944_2_roi.npy', 'LIDC-IDRI-0946_1_roi.npy', 'LIDC-IDRI-0947_1_roi.npy', 'LIDC-IDRI-0947_2_roi.npy', 'LIDC-IDRI-0951_1_roi.npy', 'LIDC-IDRI-0951_2_roi.npy', 'LIDC-IDRI-0953_1_roi.npy', 'LIDC-IDRI-0955_1_roi.npy', 'LIDC-IDRI-0957_1_roi.npy', 'LIDC-IDRI-0957_2_roi.npy', 'LIDC-IDRI-0961_1_roi.npy', 'LIDC-IDRI-0961_2_roi.npy', 'LIDC-IDRI-0961_3_roi.npy', 'LIDC-IDRI-0961_4_roi.npy', 'LIDC-IDRI-0961_5_roi.npy', 'LIDC-IDRI-0961_6_roi.npy', 'LIDC-IDRI-0963_1_roi.npy', 'LIDC-IDRI-0966_1_roi.npy', 'LIDC-IDRI-0966_2_roi.npy', 'LIDC-IDRI-0966_3_roi.npy', 'LIDC-IDRI-0968_1_roi.npy', 'LIDC-IDRI-0969_1_roi.npy', 'LIDC-IDRI-0969_2_roi.npy', 'LIDC-IDRI-0969_3_roi.npy', 'LIDC-IDRI-0972_1_roi.npy', 'LIDC-IDRI-0974_1_roi.npy', 'LIDC-IDRI-0974_2_roi.npy', 'LIDC-IDRI-0976_1_roi.npy', 'LIDC-IDRI-0978_1_roi.npy', 'LIDC-IDRI-0978_2_roi.npy', 'LIDC-IDRI-0980_1_roi.npy', 'LIDC-IDRI-0980_2_roi.npy', 'LIDC-IDRI-0981_1_roi.npy', 'LIDC-IDRI-0982_1_roi.npy', 'LIDC-IDRI-0982_2_roi.npy', 'LIDC-IDRI-0983_1_roi.npy', 'LIDC-IDRI-0984_1_roi.npy', 'LIDC-IDRI-0985_1_roi.npy', 'LIDC-IDRI-0986_1_roi.npy', 'LIDC-IDRI-0986_2_roi.npy', 'LIDC-IDRI-0987_1_roi.npy', 'LIDC-IDRI-0987_2_roi.npy', 'LIDC-IDRI-0987_3_roi.npy', 'LIDC-IDRI-0990_1_roi.npy', 'LIDC-IDRI-0991_1_roi.npy', 'LIDC-IDRI-0994_1_roi.npy', 'LIDC-IDRI-0994_2_roi.npy', 'LIDC-IDRI-0994_3_roi.npy', 'LIDC-IDRI-0994_4_roi.npy', 'LIDC-IDRI-0997_1_roi.npy', 'LIDC-IDRI-0997_2_roi.npy', 'LIDC-IDRI-0997_3_roi.npy', 'LIDC-IDRI-0997_4_roi.npy', 'LIDC-IDRI-0998_1_roi.npy', 'LIDC-IDRI-0998_2_roi.npy', 'LIDC-IDRI-0998_3_roi.npy', 'LIDC-IDRI-0998_4_roi.npy', 'LIDC-IDRI-0998_5_roi.npy', 'LIDC-IDRI-0998_6_roi.npy', 'LIDC-IDRI-0998_7_roi.npy', 'LIDC-IDRI-0999_1_roi.npy', 'LIDC-IDRI-0999_2_roi.npy', 'LIDC-IDRI-0999_3_roi.npy', 'LIDC-IDRI-1000_1_roi.npy', 'LIDC-IDRI-1000_2_roi.npy', 'LIDC-IDRI-1000_3_roi.npy', 'LIDC-IDRI-1001_1_roi.npy', 'LIDC-IDRI-1001_2_roi.npy', 'LIDC-IDRI-1002_1_roi.npy', 'LIDC-IDRI-1002_2_roi.npy', 'LIDC-IDRI-1002_3_roi.npy', 'LIDC-IDRI-1002_4_roi.npy', 'LIDC-IDRI-1003_1_roi.npy', 'LIDC-IDRI-1003_2_roi.npy', 'LIDC-IDRI-1003_3_roi.npy', 'LIDC-IDRI-1003_4_roi.npy', 'LIDC-IDRI-1003_5_roi.npy', 'LIDC-IDRI-1003_6_roi.npy', 'LIDC-IDRI-1004_1_roi.npy', 'LIDC-IDRI-1004_2_roi.npy', 'LIDC-IDRI-1004_3_roi.npy', 'LIDC-IDRI-1005_1_roi.npy', 'LIDC-IDRI-1005_2_roi.npy', 'LIDC-IDRI-1005_3_roi.npy', 'LIDC-IDRI-1006_1_roi.npy', 'LIDC-IDRI-1007_1_roi.npy', 'LIDC-IDRI-1007_2_roi.npy', 'LIDC-IDRI-1010_1_roi.npy', 'LIDC-IDRI-1011_1_roi.npy', 'LIDC-IDRI-1011_2_roi.npy', 'LIDC-IDRI-1011_3_roi.npy', 'LIDC-IDRI-1012_1_roi.npy']\n"
     ]
    }
   ],
   "source": [
    "import tensorflow as tf\n",
    "import os\n",
    "from tensorflow.keras.models import load_model\n",
    "import numpy as np\n",
    "from sklearn.metrics import accuracy_score, f1_score, confusion_matrix\n",
    "\n",
    "# Load the model\n",
    "model = load_model('feature_extractor_model_27-05-2024_128.h5')\n",
    "\n",
    "# Load or prepare your test data (replace this with your actual test data)\n",
    "# X_test = ... \n",
    "# y_test = ...\n",
    "train_data_path = r'../../DataSet Files/ROI_ny_files'\n",
    "train_patients = [name for name in os.listdir(train_data_path) if os.path.isfile(os.path.join(train_data_path, name))]\n",
    "file_list = sorted(train_patients)\n",
    "print(file_list)\n",
    "\n",
    "# For a classification model, you might need to convert predictions to class labels\n",
    "\n"
   ]
  },
  {
   "cell_type": "code",
   "execution_count": 10,
   "id": "ec37571e",
   "metadata": {},
   "outputs": [
    {
     "name": "stdout",
     "output_type": "stream",
     "text": [
      "1393\n",
      "15\n"
     ]
    }
   ],
   "source": [
    "print(len(file_list))\n",
    "ls=[]\n",
    "ls=set(file_list)-set(df_rm['Patient_id'])\n",
    "print(len(set(file_list)-set(df_rm['Patient_id'])))"
   ]
  },
  {
   "cell_type": "code",
   "execution_count": 11,
   "id": "35a0c780",
   "metadata": {},
   "outputs": [
    {
     "data": {
      "text/plain": [
       "['LIDC-IDRI-0011_1_roi.npy',\n",
       " 'LIDC-IDRI-0011_2_roi.npy',\n",
       " 'LIDC-IDRI-0011_3_roi.npy',\n",
       " 'LIDC-IDRI-0011_4_roi.npy',\n",
       " 'LIDC-IDRI-0011_5_roi.npy',\n",
       " 'LIDC-IDRI-0011_6_roi.npy',\n",
       " 'LIDC-IDRI-0011_7_roi.npy',\n",
       " 'LIDC-IDRI-0012_10_roi.npy',\n",
       " 'LIDC-IDRI-0012_1_roi.npy',\n",
       " 'LIDC-IDRI-0012_2_roi.npy',\n",
       " 'LIDC-IDRI-0012_3_roi.npy',\n",
       " 'LIDC-IDRI-0012_4_roi.npy',\n",
       " 'LIDC-IDRI-0012_5_roi.npy',\n",
       " 'LIDC-IDRI-0012_6_roi.npy',\n",
       " 'LIDC-IDRI-0012_7_roi.npy',\n",
       " 'LIDC-IDRI-0012_8_roi.npy',\n",
       " 'LIDC-IDRI-0012_9_roi.npy',\n",
       " 'LIDC-IDRI-0013_1_roi.npy',\n",
       " 'LIDC-IDRI-0013_2_roi.npy',\n",
       " 'LIDC-IDRI-0013_3_roi.npy',\n",
       " 'LIDC-IDRI-0014_1_roi.npy',\n",
       " 'LIDC-IDRI-0016_1_roi.npy',\n",
       " 'LIDC-IDRI-0016_2_roi.npy',\n",
       " 'LIDC-IDRI-0016_3_roi.npy',\n",
       " 'LIDC-IDRI-0016_4_roi.npy',\n",
       " 'LIDC-IDRI-0016_5_roi.npy',\n",
       " 'LIDC-IDRI-0018_1_roi.npy',\n",
       " 'LIDC-IDRI-0018_2_roi.npy',\n",
       " 'LIDC-IDRI-0018_3_roi.npy',\n",
       " 'LIDC-IDRI-0018_4_roi.npy',\n",
       " 'LIDC-IDRI-0020_1_roi.npy',\n",
       " 'LIDC-IDRI-0021_1_roi.npy',\n",
       " 'LIDC-IDRI-0023_1_roi.npy',\n",
       " 'LIDC-IDRI-0024_1_roi.npy',\n",
       " 'LIDC-IDRI-0024_2_roi.npy',\n",
       " 'LIDC-IDRI-0024_3_roi.npy',\n",
       " 'LIDC-IDRI-0024_4_roi.npy',\n",
       " 'LIDC-IDRI-0026_1_roi.npy',\n",
       " 'LIDC-IDRI-0027_1_roi.npy',\n",
       " 'LIDC-IDRI-0027_2_roi.npy',\n",
       " 'LIDC-IDRI-0027_3_roi.npy',\n",
       " 'LIDC-IDRI-0027_4_roi.npy',\n",
       " 'LIDC-IDRI-0027_5_roi.npy',\n",
       " 'LIDC-IDRI-0027_6_roi.npy',\n",
       " 'LIDC-IDRI-0030_1_roi.npy',\n",
       " 'LIDC-IDRI-0030_2_roi.npy',\n",
       " 'LIDC-IDRI-0034_1_roi.npy',\n",
       " 'LIDC-IDRI-0035_1_roi.npy',\n",
       " 'LIDC-IDRI-0036_1_roi.npy',\n",
       " 'LIDC-IDRI-0037_1_roi.npy',\n",
       " 'LIDC-IDRI-0037_2_roi.npy',\n",
       " 'LIDC-IDRI-0039_1_roi.npy',\n",
       " 'LIDC-IDRI-0039_2_roi.npy',\n",
       " 'LIDC-IDRI-0039_3_roi.npy',\n",
       " 'LIDC-IDRI-0039_4_roi.npy',\n",
       " 'LIDC-IDRI-0039_5_roi.npy',\n",
       " 'LIDC-IDRI-0040_1_roi.npy',\n",
       " 'LIDC-IDRI-0041_1_roi.npy',\n",
       " 'LIDC-IDRI-0041_2_roi.npy',\n",
       " 'LIDC-IDRI-0042_1_roi.npy',\n",
       " 'LIDC-IDRI-0042_2_roi.npy',\n",
       " 'LIDC-IDRI-0042_3_roi.npy',\n",
       " 'LIDC-IDRI-0042_4_roi.npy',\n",
       " 'LIDC-IDRI-0042_5_roi.npy',\n",
       " 'LIDC-IDRI-0042_6_roi.npy',\n",
       " 'LIDC-IDRI-0042_7_roi.npy',\n",
       " 'LIDC-IDRI-0043_1_roi.npy',\n",
       " 'LIDC-IDRI-0043_2_roi.npy',\n",
       " 'LIDC-IDRI-0043_3_roi.npy',\n",
       " 'LIDC-IDRI-0044_1_roi.npy',\n",
       " 'LIDC-IDRI-0044_2_roi.npy',\n",
       " 'LIDC-IDRI-0044_3_roi.npy',\n",
       " 'LIDC-IDRI-0046_1_roi.npy',\n",
       " 'LIDC-IDRI-0046_2_roi.npy',\n",
       " 'LIDC-IDRI-0046_3_roi.npy',\n",
       " 'LIDC-IDRI-0046_4_roi.npy',\n",
       " 'LIDC-IDRI-0046_5_roi.npy',\n",
       " 'LIDC-IDRI-0046_6_roi.npy',\n",
       " 'LIDC-IDRI-0047_1_roi.npy',\n",
       " 'LIDC-IDRI-0048_1_roi.npy',\n",
       " 'LIDC-IDRI-0048_2_roi.npy',\n",
       " 'LIDC-IDRI-0048_3_roi.npy',\n",
       " 'LIDC-IDRI-0049_10_roi.npy',\n",
       " 'LIDC-IDRI-0049_11_roi.npy',\n",
       " 'LIDC-IDRI-0049_12_roi.npy',\n",
       " 'LIDC-IDRI-0049_1_roi.npy',\n",
       " 'LIDC-IDRI-0049_2_roi.npy',\n",
       " 'LIDC-IDRI-0049_3_roi.npy',\n",
       " 'LIDC-IDRI-0049_4_roi.npy',\n",
       " 'LIDC-IDRI-0049_5_roi.npy',\n",
       " 'LIDC-IDRI-0049_6_roi.npy',\n",
       " 'LIDC-IDRI-0049_7_roi.npy',\n",
       " 'LIDC-IDRI-0049_8_roi.npy',\n",
       " 'LIDC-IDRI-0049_9_roi.npy',\n",
       " 'LIDC-IDRI-0050_1_roi.npy',\n",
       " 'LIDC-IDRI-0051_1_roi.npy',\n",
       " 'LIDC-IDRI-0051_2_roi.npy',\n",
       " 'LIDC-IDRI-0052_1_roi.npy',\n",
       " 'LIDC-IDRI-0052_2_roi.npy',\n",
       " 'LIDC-IDRI-0054_1_roi.npy',\n",
       " 'LIDC-IDRI-0055_1_roi.npy',\n",
       " 'LIDC-IDRI-0055_2_roi.npy',\n",
       " 'LIDC-IDRI-0055_3_roi.npy',\n",
       " 'LIDC-IDRI-0055_4_roi.npy',\n",
       " 'LIDC-IDRI-0055_5_roi.npy',\n",
       " 'LIDC-IDRI-0055_6_roi.npy',\n",
       " 'LIDC-IDRI-0057_1_roi.npy',\n",
       " 'LIDC-IDRI-0058_1_roi.npy',\n",
       " 'LIDC-IDRI-0058_2_roi.npy',\n",
       " 'LIDC-IDRI-0058_3_roi.npy',\n",
       " 'LIDC-IDRI-0059_1_roi.npy',\n",
       " 'LIDC-IDRI-0060_1_roi.npy',\n",
       " 'LIDC-IDRI-0060_2_roi.npy',\n",
       " 'LIDC-IDRI-0060_3_roi.npy',\n",
       " 'LIDC-IDRI-0060_4_roi.npy',\n",
       " 'LIDC-IDRI-0060_5_roi.npy',\n",
       " 'LIDC-IDRI-0061_1_roi.npy',\n",
       " 'LIDC-IDRI-0061_2_roi.npy',\n",
       " 'LIDC-IDRI-0061_3_roi.npy',\n",
       " 'LIDC-IDRI-0061_4_roi.npy',\n",
       " 'LIDC-IDRI-0061_5_roi.npy',\n",
       " 'LIDC-IDRI-0063_1_roi.npy',\n",
       " 'LIDC-IDRI-0063_2_roi.npy',\n",
       " 'LIDC-IDRI-0063_3_roi.npy',\n",
       " 'LIDC-IDRI-0065_1_roi.npy',\n",
       " 'LIDC-IDRI-0066_1_roi.npy',\n",
       " 'LIDC-IDRI-0066_2_roi.npy',\n",
       " 'LIDC-IDRI-0066_3_roi.npy',\n",
       " 'LIDC-IDRI-0067_1_roi.npy',\n",
       " 'LIDC-IDRI-0067_2_roi.npy',\n",
       " 'LIDC-IDRI-0067_3_roi.npy',\n",
       " 'LIDC-IDRI-0067_4_roi.npy',\n",
       " 'LIDC-IDRI-0068_1_roi.npy',\n",
       " 'LIDC-IDRI-0068_2_roi.npy',\n",
       " 'LIDC-IDRI-0068_3_roi.npy',\n",
       " 'LIDC-IDRI-0068_4_roi.npy',\n",
       " 'LIDC-IDRI-0068_5_roi.npy',\n",
       " 'LIDC-IDRI-0068_6_roi.npy',\n",
       " 'LIDC-IDRI-0070_1_roi.npy',\n",
       " 'LIDC-IDRI-0070_2_roi.npy',\n",
       " 'LIDC-IDRI-0070_3_roi.npy',\n",
       " 'LIDC-IDRI-0073_1_roi.npy',\n",
       " 'LIDC-IDRI-0073_2_roi.npy',\n",
       " 'LIDC-IDRI-0074_1_roi.npy',\n",
       " 'LIDC-IDRI-0075_1_roi.npy',\n",
       " 'LIDC-IDRI-0075_2_roi.npy',\n",
       " 'LIDC-IDRI-0076_1_roi.npy',\n",
       " 'LIDC-IDRI-0076_2_roi.npy',\n",
       " 'LIDC-IDRI-0077_1_roi.npy',\n",
       " 'LIDC-IDRI-0080_1_roi.npy',\n",
       " 'LIDC-IDRI-0080_2_roi.npy',\n",
       " 'LIDC-IDRI-0081_1_roi.npy',\n",
       " 'LIDC-IDRI-0081_2_roi.npy',\n",
       " 'LIDC-IDRI-0082_1_roi.npy',\n",
       " 'LIDC-IDRI-0085_1_roi.npy',\n",
       " 'LIDC-IDRI-0086_1_roi.npy',\n",
       " 'LIDC-IDRI-0087_1_roi.npy',\n",
       " 'LIDC-IDRI-0088_1_roi.npy',\n",
       " 'LIDC-IDRI-0088_2_roi.npy',\n",
       " 'LIDC-IDRI-0088_3_roi.npy',\n",
       " 'LIDC-IDRI-0089_1_roi.npy',\n",
       " 'LIDC-IDRI-0090_1_roi.npy',\n",
       " 'LIDC-IDRI-0091_1_roi.npy',\n",
       " 'LIDC-IDRI-0091_2_roi.npy',\n",
       " 'LIDC-IDRI-0091_3_roi.npy',\n",
       " 'LIDC-IDRI-0091_4_roi.npy',\n",
       " 'LIDC-IDRI-0091_5_roi.npy',\n",
       " 'LIDC-IDRI-0092_1_roi.npy',\n",
       " 'LIDC-IDRI-0092_2_roi.npy',\n",
       " 'LIDC-IDRI-0092_3_roi.npy',\n",
       " 'LIDC-IDRI-0092_4_roi.npy',\n",
       " 'LIDC-IDRI-0093_1_roi.npy',\n",
       " 'LIDC-IDRI-0094_1_roi.npy',\n",
       " 'LIDC-IDRI-0095_1_roi.npy',\n",
       " 'LIDC-IDRI-0095_2_roi.npy',\n",
       " 'LIDC-IDRI-0096_1_roi.npy',\n",
       " 'LIDC-IDRI-0097_1_roi.npy',\n",
       " 'LIDC-IDRI-0099_1_roi.npy',\n",
       " 'LIDC-IDRI-0099_2_roi.npy',\n",
       " 'LIDC-IDRI-0102_1_roi.npy',\n",
       " 'LIDC-IDRI-0104_1_roi.npy',\n",
       " 'LIDC-IDRI-0105_1_roi.npy',\n",
       " 'LIDC-IDRI-0107_1_roi.npy',\n",
       " 'LIDC-IDRI-0109_1_roi.npy',\n",
       " 'LIDC-IDRI-0110_1_roi.npy',\n",
       " 'LIDC-IDRI-0110_2_roi.npy',\n",
       " 'LIDC-IDRI-0112_1_roi.npy',\n",
       " 'LIDC-IDRI-0113_1_roi.npy',\n",
       " 'LIDC-IDRI-0114_1_roi.npy',\n",
       " 'LIDC-IDRI-0116_1_roi.npy',\n",
       " 'LIDC-IDRI-0118_1_roi.npy',\n",
       " 'LIDC-IDRI-0118_2_roi.npy',\n",
       " 'LIDC-IDRI-0118_3_roi.npy',\n",
       " 'LIDC-IDRI-0118_4_roi.npy',\n",
       " 'LIDC-IDRI-0118_5_roi.npy',\n",
       " 'LIDC-IDRI-0121_1_roi.npy',\n",
       " 'LIDC-IDRI-0121_2_roi.npy',\n",
       " 'LIDC-IDRI-0123_1_roi.npy',\n",
       " 'LIDC-IDRI-0124_1_roi.npy',\n",
       " 'LIDC-IDRI-0124_2_roi.npy',\n",
       " 'LIDC-IDRI-0124_3_roi.npy',\n",
       " 'LIDC-IDRI-0124_4_roi.npy',\n",
       " 'LIDC-IDRI-0124_5_roi.npy',\n",
       " 'LIDC-IDRI-0124_6_roi.npy',\n",
       " 'LIDC-IDRI-0124_7_roi.npy',\n",
       " 'LIDC-IDRI-0124_8_roi.npy',\n",
       " 'LIDC-IDRI-0124_9_roi.npy',\n",
       " 'LIDC-IDRI-0125_1_roi.npy',\n",
       " 'LIDC-IDRI-0125_2_roi.npy',\n",
       " 'LIDC-IDRI-0128_1_roi.npy',\n",
       " 'LIDC-IDRI-0128_2_roi.npy',\n",
       " 'LIDC-IDRI-0131_1_roi.npy',\n",
       " 'LIDC-IDRI-0132_1_roi.npy',\n",
       " 'LIDC-IDRI-0132_2_roi.npy',\n",
       " 'LIDC-IDRI-0132_3_roi.npy',\n",
       " 'LIDC-IDRI-0132_4_roi.npy',\n",
       " 'LIDC-IDRI-0132_5_roi.npy',\n",
       " 'LIDC-IDRI-0133_1_roi.npy',\n",
       " 'LIDC-IDRI-0133_2_roi.npy',\n",
       " 'LIDC-IDRI-0135_1_roi.npy',\n",
       " 'LIDC-IDRI-0135_2_roi.npy',\n",
       " 'LIDC-IDRI-0135_3_roi.npy',\n",
       " 'LIDC-IDRI-0135_4_roi.npy',\n",
       " 'LIDC-IDRI-0135_5_roi.npy',\n",
       " 'LIDC-IDRI-0135_6_roi.npy',\n",
       " 'LIDC-IDRI-0137_1_roi.npy',\n",
       " 'LIDC-IDRI-0137_2_roi.npy',\n",
       " 'LIDC-IDRI-0137_3_roi.npy',\n",
       " 'LIDC-IDRI-0139_1_roi.npy',\n",
       " 'LIDC-IDRI-0139_2_roi.npy',\n",
       " 'LIDC-IDRI-0139_3_roi.npy',\n",
       " 'LIDC-IDRI-0142_1_roi.npy',\n",
       " 'LIDC-IDRI-0142_2_roi.npy',\n",
       " 'LIDC-IDRI-0142_3_roi.npy',\n",
       " 'LIDC-IDRI-0142_4_roi.npy',\n",
       " 'LIDC-IDRI-0144_1_roi.npy',\n",
       " 'LIDC-IDRI-0144_2_roi.npy',\n",
       " 'LIDC-IDRI-0144_3_roi.npy',\n",
       " 'LIDC-IDRI-0144_4_roi.npy',\n",
       " 'LIDC-IDRI-0145_1_roi.npy',\n",
       " 'LIDC-IDRI-0146_1_roi.npy',\n",
       " 'LIDC-IDRI-0148_1_roi.npy',\n",
       " 'LIDC-IDRI-0148_2_roi.npy',\n",
       " 'LIDC-IDRI-0151_1_roi.npy',\n",
       " 'LIDC-IDRI-0155_1_roi.npy',\n",
       " 'LIDC-IDRI-0156_1_roi.npy',\n",
       " 'LIDC-IDRI-0157_1_roi.npy',\n",
       " 'LIDC-IDRI-0159_1_roi.npy',\n",
       " 'LIDC-IDRI-0159_2_roi.npy',\n",
       " 'LIDC-IDRI-0160_1_roi.npy',\n",
       " 'LIDC-IDRI-0160_2_roi.npy',\n",
       " 'LIDC-IDRI-0160_3_roi.npy',\n",
       " 'LIDC-IDRI-0160_4_roi.npy',\n",
       " 'LIDC-IDRI-0161_1_roi.npy',\n",
       " 'LIDC-IDRI-0161_2_roi.npy',\n",
       " 'LIDC-IDRI-0161_3_roi.npy',\n",
       " 'LIDC-IDRI-0162_1_roi.npy',\n",
       " 'LIDC-IDRI-0163_1_roi.npy',\n",
       " 'LIDC-IDRI-0166_1_roi.npy',\n",
       " 'LIDC-IDRI-0167_1_roi.npy',\n",
       " 'LIDC-IDRI-0167_2_roi.npy',\n",
       " 'LIDC-IDRI-0167_3_roi.npy',\n",
       " 'LIDC-IDRI-0168_1_roi.npy',\n",
       " 'LIDC-IDRI-0168_2_roi.npy',\n",
       " 'LIDC-IDRI-0169_1_roi.npy',\n",
       " 'LIDC-IDRI-0169_2_roi.npy',\n",
       " 'LIDC-IDRI-0169_3_roi.npy',\n",
       " 'LIDC-IDRI-0170_1_roi.npy',\n",
       " 'LIDC-IDRI-0170_2_roi.npy',\n",
       " 'LIDC-IDRI-0172_1_roi.npy',\n",
       " 'LIDC-IDRI-0175_1_roi.npy',\n",
       " 'LIDC-IDRI-0176_1_roi.npy',\n",
       " 'LIDC-IDRI-0176_2_roi.npy',\n",
       " 'LIDC-IDRI-0178_1_roi.npy',\n",
       " 'LIDC-IDRI-0179_1_roi.npy',\n",
       " 'LIDC-IDRI-0179_2_roi.npy',\n",
       " 'LIDC-IDRI-0179_3_roi.npy',\n",
       " 'LIDC-IDRI-0179_4_roi.npy',\n",
       " 'LIDC-IDRI-0179_5_roi.npy',\n",
       " 'LIDC-IDRI-0179_6_roi.npy',\n",
       " 'LIDC-IDRI-0181_1_roi.npy',\n",
       " 'LIDC-IDRI-0181_2_roi.npy',\n",
       " 'LIDC-IDRI-0181_3_roi.npy',\n",
       " 'LIDC-IDRI-0181_4_roi.npy',\n",
       " 'LIDC-IDRI-0181_5_roi.npy',\n",
       " 'LIDC-IDRI-0181_6_roi.npy',\n",
       " 'LIDC-IDRI-0182_1_roi.npy',\n",
       " 'LIDC-IDRI-0182_2_roi.npy',\n",
       " 'LIDC-IDRI-0183_1_roi.npy',\n",
       " 'LIDC-IDRI-0183_2_roi.npy',\n",
       " 'LIDC-IDRI-0184_1_roi.npy',\n",
       " 'LIDC-IDRI-0185_1_roi.npy',\n",
       " 'LIDC-IDRI-0185_2_roi.npy',\n",
       " 'LIDC-IDRI-0185_3_roi.npy',\n",
       " 'LIDC-IDRI-0185_4_roi.npy',\n",
       " 'LIDC-IDRI-0185_5_roi.npy',\n",
       " 'LIDC-IDRI-0185_6_roi.npy',\n",
       " 'LIDC-IDRI-0186_1_roi.npy',\n",
       " 'LIDC-IDRI-0186_2_roi.npy',\n",
       " 'LIDC-IDRI-0186_3_roi.npy',\n",
       " 'LIDC-IDRI-0186_4_roi.npy',\n",
       " 'LIDC-IDRI-0187_1_roi.npy',\n",
       " 'LIDC-IDRI-0187_2_roi.npy',\n",
       " 'LIDC-IDRI-0188_1_roi.npy',\n",
       " 'LIDC-IDRI-0188_2_roi.npy',\n",
       " 'LIDC-IDRI-0188_3_roi.npy',\n",
       " 'LIDC-IDRI-0188_4_roi.npy',\n",
       " 'LIDC-IDRI-0188_5_roi.npy',\n",
       " 'LIDC-IDRI-0188_6_roi.npy',\n",
       " 'LIDC-IDRI-0190_1_roi.npy',\n",
       " 'LIDC-IDRI-0190_2_roi.npy',\n",
       " 'LIDC-IDRI-0191_1_roi.npy',\n",
       " 'LIDC-IDRI-0192_1_roi.npy',\n",
       " 'LIDC-IDRI-0192_2_roi.npy',\n",
       " 'LIDC-IDRI-0192_3_roi.npy',\n",
       " 'LIDC-IDRI-0193_1_roi.npy',\n",
       " 'LIDC-IDRI-0194_1_roi.npy',\n",
       " 'LIDC-IDRI-0194_2_roi.npy',\n",
       " 'LIDC-IDRI-0194_3_roi.npy',\n",
       " 'LIDC-IDRI-0196_1_roi.npy',\n",
       " 'LIDC-IDRI-0198_1_roi.npy',\n",
       " 'LIDC-IDRI-0199_1_roi.npy',\n",
       " 'LIDC-IDRI-0199_2_roi.npy',\n",
       " 'LIDC-IDRI-0200_1_roi.npy',\n",
       " 'LIDC-IDRI-0201_1_roi.npy',\n",
       " 'LIDC-IDRI-0201_2_roi.npy',\n",
       " 'LIDC-IDRI-0201_3_roi.npy',\n",
       " 'LIDC-IDRI-0202_1_roi.npy',\n",
       " 'LIDC-IDRI-0203_1_roi.npy',\n",
       " 'LIDC-IDRI-0203_2_roi.npy',\n",
       " 'LIDC-IDRI-0204_1_roi.npy',\n",
       " 'LIDC-IDRI-0206_1_roi.npy',\n",
       " 'LIDC-IDRI-0206_2_roi.npy',\n",
       " 'LIDC-IDRI-0206_3_roi.npy',\n",
       " 'LIDC-IDRI-0208_1_roi.npy',\n",
       " 'LIDC-IDRI-0208_2_roi.npy',\n",
       " 'LIDC-IDRI-0208_3_roi.npy',\n",
       " 'LIDC-IDRI-0210_1_roi.npy',\n",
       " 'LIDC-IDRI-0213_1_roi.npy',\n",
       " 'LIDC-IDRI-0215_1_roi.npy',\n",
       " 'LIDC-IDRI-0215_2_roi.npy',\n",
       " 'LIDC-IDRI-0215_3_roi.npy',\n",
       " 'LIDC-IDRI-0215_4_roi.npy',\n",
       " 'LIDC-IDRI-0216_1_roi.npy',\n",
       " 'LIDC-IDRI-0216_2_roi.npy',\n",
       " 'LIDC-IDRI-0217_1_roi.npy',\n",
       " 'LIDC-IDRI-0217_2_roi.npy',\n",
       " 'LIDC-IDRI-0217_3_roi.npy',\n",
       " 'LIDC-IDRI-0219_1_roi.npy',\n",
       " 'LIDC-IDRI-0221_1_roi.npy',\n",
       " 'LIDC-IDRI-0222_1_roi.npy',\n",
       " 'LIDC-IDRI-0223_1_roi.npy',\n",
       " 'LIDC-IDRI-0223_2_roi.npy',\n",
       " 'LIDC-IDRI-0227_1_roi.npy',\n",
       " 'LIDC-IDRI-0228_1_roi.npy',\n",
       " 'LIDC-IDRI-0229_1_roi.npy',\n",
       " 'LIDC-IDRI-0229_2_roi.npy',\n",
       " 'LIDC-IDRI-0229_3_roi.npy',\n",
       " 'LIDC-IDRI-0229_4_roi.npy',\n",
       " 'LIDC-IDRI-0229_5_roi.npy',\n",
       " 'LIDC-IDRI-0229_6_roi.npy',\n",
       " 'LIDC-IDRI-0230_1_roi.npy',\n",
       " 'LIDC-IDRI-0230_2_roi.npy',\n",
       " 'LIDC-IDRI-0232_1_roi.npy',\n",
       " 'LIDC-IDRI-0233_1_roi.npy',\n",
       " 'LIDC-IDRI-0233_2_roi.npy',\n",
       " 'LIDC-IDRI-0237_1_roi.npy',\n",
       " 'LIDC-IDRI-0237_2_roi.npy',\n",
       " 'LIDC-IDRI-0237_3_roi.npy',\n",
       " 'LIDC-IDRI-0240_1_roi.npy',\n",
       " 'LIDC-IDRI-0240_2_roi.npy',\n",
       " 'LIDC-IDRI-0241_1_roi.npy',\n",
       " 'LIDC-IDRI-0241_2_roi.npy',\n",
       " 'LIDC-IDRI-0241_3_roi.npy',\n",
       " 'LIDC-IDRI-0242_1_roi.npy',\n",
       " 'LIDC-IDRI-0244_1_roi.npy',\n",
       " 'LIDC-IDRI-0244_2_roi.npy',\n",
       " 'LIDC-IDRI-0244_3_roi.npy',\n",
       " 'LIDC-IDRI-0245_1_roi.npy',\n",
       " 'LIDC-IDRI-0246_1_roi.npy',\n",
       " 'LIDC-IDRI-0248_1_roi.npy',\n",
       " 'LIDC-IDRI-0249_1_roi.npy',\n",
       " 'LIDC-IDRI-0249_2_roi.npy',\n",
       " 'LIDC-IDRI-0251_1_roi.npy',\n",
       " 'LIDC-IDRI-0252_1_roi.npy',\n",
       " 'LIDC-IDRI-0254_1_roi.npy',\n",
       " 'LIDC-IDRI-0254_2_roi.npy',\n",
       " 'LIDC-IDRI-0254_3_roi.npy',\n",
       " 'LIDC-IDRI-0255_1_roi.npy',\n",
       " 'LIDC-IDRI-0255_2_roi.npy',\n",
       " 'LIDC-IDRI-0256_1_roi.npy',\n",
       " 'LIDC-IDRI-0257_1_roi.npy',\n",
       " 'LIDC-IDRI-0258_1_roi.npy',\n",
       " 'LIDC-IDRI-0258_2_roi.npy',\n",
       " 'LIDC-IDRI-0259_1_roi.npy',\n",
       " 'LIDC-IDRI-0260_1_roi.npy',\n",
       " 'LIDC-IDRI-0260_2_roi.npy',\n",
       " 'LIDC-IDRI-0260_3_roi.npy',\n",
       " 'LIDC-IDRI-0260_4_roi.npy',\n",
       " 'LIDC-IDRI-0263_1_roi.npy',\n",
       " 'LIDC-IDRI-0264_1_roi.npy',\n",
       " 'LIDC-IDRI-0264_2_roi.npy',\n",
       " 'LIDC-IDRI-0265_1_roi.npy',\n",
       " 'LIDC-IDRI-0267_1_roi.npy',\n",
       " 'LIDC-IDRI-0267_2_roi.npy',\n",
       " 'LIDC-IDRI-0269_1_roi.npy',\n",
       " 'LIDC-IDRI-0271_1_roi.npy',\n",
       " 'LIDC-IDRI-0272_1_roi.npy',\n",
       " 'LIDC-IDRI-0274_1_roi.npy',\n",
       " 'LIDC-IDRI-0276_1_roi.npy',\n",
       " 'LIDC-IDRI-0277_1_roi.npy',\n",
       " 'LIDC-IDRI-0281_1_roi.npy',\n",
       " 'LIDC-IDRI-0283_1_roi.npy',\n",
       " 'LIDC-IDRI-0284_1_roi.npy',\n",
       " 'LIDC-IDRI-0284_2_roi.npy',\n",
       " 'LIDC-IDRI-0285_1_roi.npy',\n",
       " 'LIDC-IDRI-0285_2_roi.npy',\n",
       " 'LIDC-IDRI-0288_1_roi.npy',\n",
       " 'LIDC-IDRI-0288_2_roi.npy',\n",
       " 'LIDC-IDRI-0289_1_roi.npy',\n",
       " 'LIDC-IDRI-0289_2_roi.npy',\n",
       " 'LIDC-IDRI-0291_1_roi.npy',\n",
       " 'LIDC-IDRI-0292_1_roi.npy',\n",
       " 'LIDC-IDRI-0294_1_roi.npy',\n",
       " 'LIDC-IDRI-0297_1_roi.npy',\n",
       " 'LIDC-IDRI-0298_1_roi.npy',\n",
       " 'LIDC-IDRI-0298_2_roi.npy',\n",
       " 'LIDC-IDRI-0298_3_roi.npy',\n",
       " 'LIDC-IDRI-0298_4_roi.npy',\n",
       " 'LIDC-IDRI-0298_5_roi.npy',\n",
       " 'LIDC-IDRI-0298_6_roi.npy',\n",
       " 'LIDC-IDRI-0298_7_roi.npy',\n",
       " 'LIDC-IDRI-0299_1_roi.npy',\n",
       " 'LIDC-IDRI-0299_2_roi.npy',\n",
       " 'LIDC-IDRI-0299_3_roi.npy',\n",
       " 'LIDC-IDRI-0300_1_roi.npy',\n",
       " 'LIDC-IDRI-0300_2_roi.npy',\n",
       " 'LIDC-IDRI-0300_3_roi.npy',\n",
       " 'LIDC-IDRI-0300_4_roi.npy',\n",
       " 'LIDC-IDRI-0301_1_roi.npy',\n",
       " 'LIDC-IDRI-0301_2_roi.npy',\n",
       " 'LIDC-IDRI-0304_1_roi.npy',\n",
       " 'LIDC-IDRI-0308_1_roi.npy',\n",
       " 'LIDC-IDRI-0309_1_roi.npy',\n",
       " 'LIDC-IDRI-0310_1_roi.npy',\n",
       " 'LIDC-IDRI-0311_1_roi.npy',\n",
       " 'LIDC-IDRI-0311_2_roi.npy',\n",
       " 'LIDC-IDRI-0314_1_roi.npy',\n",
       " 'LIDC-IDRI-0315_1_roi.npy',\n",
       " 'LIDC-IDRI-0315_2_roi.npy',\n",
       " 'LIDC-IDRI-0315_3_roi.npy',\n",
       " 'LIDC-IDRI-0315_4_roi.npy',\n",
       " 'LIDC-IDRI-0315_5_roi.npy',\n",
       " 'LIDC-IDRI-0317_1_roi.npy',\n",
       " 'LIDC-IDRI-0318_1_roi.npy',\n",
       " 'LIDC-IDRI-0319_1_roi.npy',\n",
       " 'LIDC-IDRI-0324_1_roi.npy',\n",
       " 'LIDC-IDRI-0325_1_roi.npy',\n",
       " 'LIDC-IDRI-0329_1_roi.npy',\n",
       " 'LIDC-IDRI-0332_1_roi.npy',\n",
       " 'LIDC-IDRI-0332_2_roi.npy',\n",
       " 'LIDC-IDRI-0332_3_roi.npy',\n",
       " 'LIDC-IDRI-0334_1_roi.npy',\n",
       " 'LIDC-IDRI-0334_2_roi.npy',\n",
       " 'LIDC-IDRI-0334_3_roi.npy',\n",
       " 'LIDC-IDRI-0334_4_roi.npy',\n",
       " 'LIDC-IDRI-0334_5_roi.npy',\n",
       " 'LIDC-IDRI-0334_6_roi.npy',\n",
       " 'LIDC-IDRI-0334_7_roi.npy',\n",
       " 'LIDC-IDRI-0335_1_roi.npy',\n",
       " 'LIDC-IDRI-0335_2_roi.npy',\n",
       " 'LIDC-IDRI-0335_3_roi.npy',\n",
       " 'LIDC-IDRI-0335_4_roi.npy',\n",
       " 'LIDC-IDRI-0337_1_roi.npy',\n",
       " 'LIDC-IDRI-0337_2_roi.npy',\n",
       " 'LIDC-IDRI-0338_1_roi.npy',\n",
       " 'LIDC-IDRI-0339_1_roi.npy',\n",
       " 'LIDC-IDRI-0343_1_roi.npy',\n",
       " 'LIDC-IDRI-0344_1_roi.npy',\n",
       " 'LIDC-IDRI-0344_2_roi.npy',\n",
       " 'LIDC-IDRI-0345_1_roi.npy',\n",
       " 'LIDC-IDRI-0345_2_roi.npy',\n",
       " 'LIDC-IDRI-0346_1_roi.npy',\n",
       " 'LIDC-IDRI-0346_2_roi.npy',\n",
       " 'LIDC-IDRI-0346_3_roi.npy',\n",
       " 'LIDC-IDRI-0346_4_roi.npy',\n",
       " 'LIDC-IDRI-0346_5_roi.npy',\n",
       " 'LIDC-IDRI-0347_1_roi.npy',\n",
       " 'LIDC-IDRI-0347_2_roi.npy',\n",
       " 'LIDC-IDRI-0347_3_roi.npy',\n",
       " 'LIDC-IDRI-0348_1_roi.npy',\n",
       " 'LIDC-IDRI-0351_1_roi.npy',\n",
       " 'LIDC-IDRI-0352_1_roi.npy',\n",
       " 'LIDC-IDRI-0353_1_roi.npy',\n",
       " 'LIDC-IDRI-0353_2_roi.npy',\n",
       " 'LIDC-IDRI-0353_3_roi.npy',\n",
       " 'LIDC-IDRI-0354_1_roi.npy',\n",
       " 'LIDC-IDRI-0354_2_roi.npy',\n",
       " 'LIDC-IDRI-0355_1_roi.npy',\n",
       " 'LIDC-IDRI-0356_1_roi.npy',\n",
       " 'LIDC-IDRI-0356_2_roi.npy',\n",
       " 'LIDC-IDRI-0356_3_roi.npy',\n",
       " 'LIDC-IDRI-0356_4_roi.npy',\n",
       " 'LIDC-IDRI-0356_5_roi.npy',\n",
       " 'LIDC-IDRI-0356_6_roi.npy',\n",
       " 'LIDC-IDRI-0356_7_roi.npy',\n",
       " 'LIDC-IDRI-0358_1_roi.npy',\n",
       " 'LIDC-IDRI-0358_2_roi.npy',\n",
       " 'LIDC-IDRI-0358_3_roi.npy',\n",
       " 'LIDC-IDRI-0358_4_roi.npy',\n",
       " 'LIDC-IDRI-0358_5_roi.npy',\n",
       " 'LIDC-IDRI-0360_1_roi.npy',\n",
       " 'LIDC-IDRI-0360_2_roi.npy',\n",
       " 'LIDC-IDRI-0360_3_roi.npy',\n",
       " 'LIDC-IDRI-0360_4_roi.npy',\n",
       " 'LIDC-IDRI-0362_1_roi.npy',\n",
       " 'LIDC-IDRI-0365_1_roi.npy',\n",
       " 'LIDC-IDRI-0366_1_roi.npy',\n",
       " 'LIDC-IDRI-0369_1_roi.npy',\n",
       " 'LIDC-IDRI-0371_1_roi.npy',\n",
       " 'LIDC-IDRI-0375_1_roi.npy',\n",
       " 'LIDC-IDRI-0375_2_roi.npy',\n",
       " 'LIDC-IDRI-0376_1_roi.npy',\n",
       " 'LIDC-IDRI-0376_2_roi.npy',\n",
       " 'LIDC-IDRI-0377_1_roi.npy',\n",
       " 'LIDC-IDRI-0377_2_roi.npy',\n",
       " 'LIDC-IDRI-0378_1_roi.npy',\n",
       " 'LIDC-IDRI-0379_1_roi.npy',\n",
       " 'LIDC-IDRI-0379_2_roi.npy',\n",
       " 'LIDC-IDRI-0379_3_roi.npy',\n",
       " 'LIDC-IDRI-0379_4_roi.npy',\n",
       " 'LIDC-IDRI-0380_1_roi.npy',\n",
       " 'LIDC-IDRI-0380_2_roi.npy',\n",
       " 'LIDC-IDRI-0380_3_roi.npy',\n",
       " 'LIDC-IDRI-0381_1_roi.npy',\n",
       " 'LIDC-IDRI-0384_1_roi.npy',\n",
       " 'LIDC-IDRI-0385_1_roi.npy',\n",
       " 'LIDC-IDRI-0386_1_roi.npy',\n",
       " 'LIDC-IDRI-0386_2_roi.npy',\n",
       " 'LIDC-IDRI-0386_3_roi.npy',\n",
       " 'LIDC-IDRI-0386_4_roi.npy',\n",
       " 'LIDC-IDRI-0387_1_roi.npy',\n",
       " 'LIDC-IDRI-0387_2_roi.npy',\n",
       " 'LIDC-IDRI-0388_1_roi.npy',\n",
       " 'LIDC-IDRI-0388_2_roi.npy',\n",
       " 'LIDC-IDRI-0388_3_roi.npy',\n",
       " 'LIDC-IDRI-0390_1_roi.npy',\n",
       " 'LIDC-IDRI-0390_2_roi.npy',\n",
       " 'LIDC-IDRI-0390_3_roi.npy',\n",
       " 'LIDC-IDRI-0390_4_roi.npy',\n",
       " 'LIDC-IDRI-0390_5_roi.npy',\n",
       " 'LIDC-IDRI-0390_6_roi.npy',\n",
       " 'LIDC-IDRI-0390_7_roi.npy',\n",
       " 'LIDC-IDRI-0392_1_roi.npy',\n",
       " 'LIDC-IDRI-0392_2_roi.npy',\n",
       " 'LIDC-IDRI-0394_1_roi.npy',\n",
       " 'LIDC-IDRI-0394_2_roi.npy',\n",
       " 'LIDC-IDRI-0394_3_roi.npy',\n",
       " 'LIDC-IDRI-0394_4_roi.npy',\n",
       " 'LIDC-IDRI-0394_5_roi.npy',\n",
       " 'LIDC-IDRI-0394_6_roi.npy',\n",
       " 'LIDC-IDRI-0395_1_roi.npy',\n",
       " 'LIDC-IDRI-0395_2_roi.npy',\n",
       " 'LIDC-IDRI-0395_3_roi.npy',\n",
       " 'LIDC-IDRI-0397_1_roi.npy',\n",
       " 'LIDC-IDRI-0398_1_roi.npy',\n",
       " 'LIDC-IDRI-0398_2_roi.npy',\n",
       " 'LIDC-IDRI-0398_3_roi.npy',\n",
       " 'LIDC-IDRI-0398_4_roi.npy',\n",
       " 'LIDC-IDRI-0398_5_roi.npy',\n",
       " 'LIDC-IDRI-0399_1_roi.npy',\n",
       " 'LIDC-IDRI-0405_1_roi.npy',\n",
       " 'LIDC-IDRI-0405_2_roi.npy',\n",
       " 'LIDC-IDRI-0405_3_roi.npy',\n",
       " 'LIDC-IDRI-0406_1_roi.npy',\n",
       " 'LIDC-IDRI-0406_2_roi.npy',\n",
       " 'LIDC-IDRI-0409_1_roi.npy',\n",
       " 'LIDC-IDRI-0409_2_roi.npy',\n",
       " 'LIDC-IDRI-0409_3_roi.npy',\n",
       " 'LIDC-IDRI-0411_1_roi.npy',\n",
       " 'LIDC-IDRI-0411_2_roi.npy',\n",
       " 'LIDC-IDRI-0412_1_roi.npy',\n",
       " 'LIDC-IDRI-0412_2_roi.npy',\n",
       " 'LIDC-IDRI-0412_3_roi.npy',\n",
       " 'LIDC-IDRI-0413_1_roi.npy',\n",
       " 'LIDC-IDRI-0413_2_roi.npy',\n",
       " 'LIDC-IDRI-0414_1_roi.npy',\n",
       " 'LIDC-IDRI-0416_1_roi.npy',\n",
       " 'LIDC-IDRI-0416_2_roi.npy',\n",
       " 'LIDC-IDRI-0420_1_roi.npy',\n",
       " 'LIDC-IDRI-0420_2_roi.npy',\n",
       " 'LIDC-IDRI-0421_1_roi.npy',\n",
       " 'LIDC-IDRI-0421_2_roi.npy',\n",
       " 'LIDC-IDRI-0423_1_roi.npy',\n",
       " 'LIDC-IDRI-0424_1_roi.npy',\n",
       " 'LIDC-IDRI-0424_2_roi.npy',\n",
       " 'LIDC-IDRI-0427_1_roi.npy',\n",
       " 'LIDC-IDRI-0427_2_roi.npy',\n",
       " 'LIDC-IDRI-0427_3_roi.npy',\n",
       " 'LIDC-IDRI-0427_4_roi.npy',\n",
       " 'LIDC-IDRI-0429_1_roi.npy',\n",
       " 'LIDC-IDRI-0429_2_roi.npy',\n",
       " 'LIDC-IDRI-0430_1_roi.npy',\n",
       " 'LIDC-IDRI-0430_2_roi.npy',\n",
       " 'LIDC-IDRI-0433_1_roi.npy',\n",
       " 'LIDC-IDRI-0433_2_roi.npy',\n",
       " 'LIDC-IDRI-0433_3_roi.npy',\n",
       " 'LIDC-IDRI-0433_4_roi.npy',\n",
       " 'LIDC-IDRI-0434_1_roi.npy',\n",
       " 'LIDC-IDRI-0434_2_roi.npy',\n",
       " 'LIDC-IDRI-0434_3_roi.npy',\n",
       " 'LIDC-IDRI-0437_1_roi.npy',\n",
       " 'LIDC-IDRI-0437_2_roi.npy',\n",
       " 'LIDC-IDRI-0437_3_roi.npy',\n",
       " 'LIDC-IDRI-0437_4_roi.npy',\n",
       " 'LIDC-IDRI-0438_1_roi.npy',\n",
       " 'LIDC-IDRI-0439_1_roi.npy',\n",
       " 'LIDC-IDRI-0439_2_roi.npy',\n",
       " 'LIDC-IDRI-0440_1_roi.npy',\n",
       " 'LIDC-IDRI-0440_2_roi.npy',\n",
       " 'LIDC-IDRI-0442_1_roi.npy',\n",
       " 'LIDC-IDRI-0442_2_roi.npy',\n",
       " 'LIDC-IDRI-0442_3_roi.npy',\n",
       " 'LIDC-IDRI-0443_1_roi.npy',\n",
       " 'LIDC-IDRI-0443_2_roi.npy',\n",
       " 'LIDC-IDRI-0444_1_roi.npy',\n",
       " 'LIDC-IDRI-0445_1_roi.npy',\n",
       " 'LIDC-IDRI-0448_1_roi.npy',\n",
       " 'LIDC-IDRI-0448_2_roi.npy',\n",
       " 'LIDC-IDRI-0448_3_roi.npy',\n",
       " 'LIDC-IDRI-0449_1_roi.npy',\n",
       " 'LIDC-IDRI-0449_2_roi.npy',\n",
       " 'LIDC-IDRI-0451_1_roi.npy',\n",
       " 'LIDC-IDRI-0452_1_roi.npy',\n",
       " 'LIDC-IDRI-0452_2_roi.npy',\n",
       " 'LIDC-IDRI-0453_1_roi.npy',\n",
       " 'LIDC-IDRI-0456_1_roi.npy',\n",
       " 'LIDC-IDRI-0456_2_roi.npy',\n",
       " 'LIDC-IDRI-0456_3_roi.npy',\n",
       " 'LIDC-IDRI-0458_1_roi.npy',\n",
       " 'LIDC-IDRI-0458_2_roi.npy',\n",
       " 'LIDC-IDRI-0460_1_roi.npy',\n",
       " 'LIDC-IDRI-0460_2_roi.npy',\n",
       " 'LIDC-IDRI-0462_1_roi.npy',\n",
       " 'LIDC-IDRI-0462_2_roi.npy',\n",
       " 'LIDC-IDRI-0462_3_roi.npy',\n",
       " 'LIDC-IDRI-0463_1_roi.npy',\n",
       " 'LIDC-IDRI-0463_2_roi.npy',\n",
       " 'LIDC-IDRI-0466_1_roi.npy',\n",
       " 'LIDC-IDRI-0466_2_roi.npy',\n",
       " 'LIDC-IDRI-0466_3_roi.npy',\n",
       " 'LIDC-IDRI-0467_1_roi.npy',\n",
       " 'LIDC-IDRI-0468_1_roi.npy',\n",
       " 'LIDC-IDRI-0469_1_roi.npy',\n",
       " 'LIDC-IDRI-0469_2_roi.npy',\n",
       " 'LIDC-IDRI-0469_3_roi.npy',\n",
       " 'LIDC-IDRI-0469_4_roi.npy',\n",
       " 'LIDC-IDRI-0474_1_roi.npy',\n",
       " 'LIDC-IDRI-0474_2_roi.npy',\n",
       " 'LIDC-IDRI-0474_3_roi.npy',\n",
       " 'LIDC-IDRI-0474_4_roi.npy',\n",
       " 'LIDC-IDRI-0474_5_roi.npy',\n",
       " 'LIDC-IDRI-0475_1_roi.npy',\n",
       " 'LIDC-IDRI-0478_1_roi.npy',\n",
       " 'LIDC-IDRI-0479_1_roi.npy',\n",
       " 'LIDC-IDRI-0479_2_roi.npy',\n",
       " 'LIDC-IDRI-0480_1_roi.npy',\n",
       " 'LIDC-IDRI-0481_1_roi.npy',\n",
       " 'LIDC-IDRI-0481_2_roi.npy',\n",
       " 'LIDC-IDRI-0481_3_roi.npy',\n",
       " 'LIDC-IDRI-0481_4_roi.npy',\n",
       " 'LIDC-IDRI-0481_5_roi.npy',\n",
       " 'LIDC-IDRI-0481_6_roi.npy',\n",
       " 'LIDC-IDRI-0481_7_roi.npy',\n",
       " 'LIDC-IDRI-0484_1_roi.npy',\n",
       " 'LIDC-IDRI-0486_1_roi.npy',\n",
       " 'LIDC-IDRI-0486_2_roi.npy',\n",
       " 'LIDC-IDRI-0487_1_roi.npy',\n",
       " 'LIDC-IDRI-0487_2_roi.npy',\n",
       " 'LIDC-IDRI-0489_1_roi.npy',\n",
       " 'LIDC-IDRI-0489_2_roi.npy',\n",
       " 'LIDC-IDRI-0489_3_roi.npy',\n",
       " 'LIDC-IDRI-0489_4_roi.npy',\n",
       " 'LIDC-IDRI-0489_5_roi.npy',\n",
       " 'LIDC-IDRI-0489_6_roi.npy',\n",
       " 'LIDC-IDRI-0490_1_roi.npy',\n",
       " 'LIDC-IDRI-0490_2_roi.npy',\n",
       " 'LIDC-IDRI-0492_1_roi.npy',\n",
       " 'LIDC-IDRI-0492_2_roi.npy',\n",
       " 'LIDC-IDRI-0492_3_roi.npy',\n",
       " 'LIDC-IDRI-0492_4_roi.npy',\n",
       " 'LIDC-IDRI-0493_1_roi.npy',\n",
       " 'LIDC-IDRI-0493_2_roi.npy',\n",
       " 'LIDC-IDRI-0498_1_roi.npy',\n",
       " 'LIDC-IDRI-0499_1_roi.npy',\n",
       " 'LIDC-IDRI-0499_2_roi.npy',\n",
       " 'LIDC-IDRI-0499_3_roi.npy',\n",
       " 'LIDC-IDRI-0499_4_roi.npy',\n",
       " 'LIDC-IDRI-0499_5_roi.npy',\n",
       " 'LIDC-IDRI-0499_6_roi.npy',\n",
       " 'LIDC-IDRI-0500_1_roi.npy',\n",
       " 'LIDC-IDRI-0503_1_roi.npy',\n",
       " 'LIDC-IDRI-0504_1_roi.npy',\n",
       " 'LIDC-IDRI-0507_1_roi.npy',\n",
       " 'LIDC-IDRI-0507_2_roi.npy',\n",
       " 'LIDC-IDRI-0507_3_roi.npy',\n",
       " 'LIDC-IDRI-0509_1_roi.npy',\n",
       " 'LIDC-IDRI-0509_2_roi.npy',\n",
       " 'LIDC-IDRI-0509_3_roi.npy',\n",
       " 'LIDC-IDRI-0509_4_roi.npy',\n",
       " 'LIDC-IDRI-0510_1_roi.npy',\n",
       " 'LIDC-IDRI-0510_2_roi.npy',\n",
       " 'LIDC-IDRI-0510_3_roi.npy',\n",
       " 'LIDC-IDRI-0510_4_roi.npy',\n",
       " 'LIDC-IDRI-0510_5_roi.npy',\n",
       " 'LIDC-IDRI-0510_6_roi.npy',\n",
       " 'LIDC-IDRI-0510_7_roi.npy',\n",
       " 'LIDC-IDRI-0515_1_roi.npy',\n",
       " 'LIDC-IDRI-0518_1_roi.npy',\n",
       " 'LIDC-IDRI-0518_2_roi.npy',\n",
       " 'LIDC-IDRI-0518_3_roi.npy',\n",
       " 'LIDC-IDRI-0521_1_roi.npy',\n",
       " 'LIDC-IDRI-0522_1_roi.npy',\n",
       " 'LIDC-IDRI-0525_1_roi.npy',\n",
       " 'LIDC-IDRI-0525_2_roi.npy',\n",
       " 'LIDC-IDRI-0526_1_roi.npy',\n",
       " 'LIDC-IDRI-0526_2_roi.npy',\n",
       " 'LIDC-IDRI-0526_3_roi.npy',\n",
       " 'LIDC-IDRI-0526_4_roi.npy',\n",
       " 'LIDC-IDRI-0526_5_roi.npy',\n",
       " 'LIDC-IDRI-0527_1_roi.npy',\n",
       " 'LIDC-IDRI-0529_1_roi.npy',\n",
       " 'LIDC-IDRI-0529_2_roi.npy',\n",
       " 'LIDC-IDRI-0530_1_roi.npy',\n",
       " 'LIDC-IDRI-0530_2_roi.npy',\n",
       " 'LIDC-IDRI-0532_1_roi.npy',\n",
       " 'LIDC-IDRI-0533_1_roi.npy',\n",
       " 'LIDC-IDRI-0534_1_roi.npy',\n",
       " 'LIDC-IDRI-0534_2_roi.npy',\n",
       " 'LIDC-IDRI-0535_1_roi.npy',\n",
       " 'LIDC-IDRI-0535_2_roi.npy',\n",
       " 'LIDC-IDRI-0535_3_roi.npy',\n",
       " 'LIDC-IDRI-0537_1_roi.npy',\n",
       " 'LIDC-IDRI-0538_1_roi.npy',\n",
       " 'LIDC-IDRI-0541_1_roi.npy',\n",
       " 'LIDC-IDRI-0541_2_roi.npy',\n",
       " 'LIDC-IDRI-0542_1_roi.npy',\n",
       " 'LIDC-IDRI-0542_2_roi.npy',\n",
       " 'LIDC-IDRI-0543_1_roi.npy',\n",
       " 'LIDC-IDRI-0543_2_roi.npy',\n",
       " 'LIDC-IDRI-0546_1_roi.npy',\n",
       " 'LIDC-IDRI-0547_1_roi.npy',\n",
       " 'LIDC-IDRI-0547_2_roi.npy',\n",
       " 'LIDC-IDRI-0552_1_roi.npy',\n",
       " 'LIDC-IDRI-0553_1_roi.npy',\n",
       " 'LIDC-IDRI-0553_2_roi.npy',\n",
       " 'LIDC-IDRI-0555_1_roi.npy',\n",
       " 'LIDC-IDRI-0557_1_roi.npy',\n",
       " 'LIDC-IDRI-0558_1_roi.npy',\n",
       " 'LIDC-IDRI-0559_1_roi.npy',\n",
       " 'LIDC-IDRI-0559_2_roi.npy',\n",
       " 'LIDC-IDRI-0562_1_roi.npy',\n",
       " 'LIDC-IDRI-0562_2_roi.npy',\n",
       " 'LIDC-IDRI-0565_1_roi.npy',\n",
       " 'LIDC-IDRI-0565_2_roi.npy',\n",
       " 'LIDC-IDRI-0565_3_roi.npy',\n",
       " 'LIDC-IDRI-0565_4_roi.npy',\n",
       " 'LIDC-IDRI-0565_5_roi.npy',\n",
       " 'LIDC-IDRI-0567_1_roi.npy',\n",
       " 'LIDC-IDRI-0567_2_roi.npy',\n",
       " 'LIDC-IDRI-0568_1_roi.npy',\n",
       " 'LIDC-IDRI-0568_2_roi.npy',\n",
       " 'LIDC-IDRI-0568_3_roi.npy',\n",
       " 'LIDC-IDRI-0571_1_roi.npy',\n",
       " 'LIDC-IDRI-0572_1_roi.npy',\n",
       " 'LIDC-IDRI-0574_1_roi.npy',\n",
       " 'LIDC-IDRI-0576_1_roi.npy',\n",
       " 'LIDC-IDRI-0576_2_roi.npy',\n",
       " 'LIDC-IDRI-0576_3_roi.npy',\n",
       " 'LIDC-IDRI-0576_4_roi.npy',\n",
       " 'LIDC-IDRI-0577_1_roi.npy',\n",
       " 'LIDC-IDRI-0577_2_roi.npy',\n",
       " 'LIDC-IDRI-0577_3_roi.npy',\n",
       " 'LIDC-IDRI-0578_1_roi.npy',\n",
       " 'LIDC-IDRI-0579_1_roi.npy',\n",
       " 'LIDC-IDRI-0580_1_roi.npy',\n",
       " 'LIDC-IDRI-0582_1_roi.npy',\n",
       " 'LIDC-IDRI-0582_2_roi.npy',\n",
       " 'LIDC-IDRI-0582_3_roi.npy',\n",
       " 'LIDC-IDRI-0582_4_roi.npy',\n",
       " 'LIDC-IDRI-0582_5_roi.npy',\n",
       " 'LIDC-IDRI-0582_6_roi.npy',\n",
       " 'LIDC-IDRI-0582_7_roi.npy',\n",
       " 'LIDC-IDRI-0583_10_roi.npy',\n",
       " 'LIDC-IDRI-0583_1_roi.npy',\n",
       " 'LIDC-IDRI-0583_2_roi.npy',\n",
       " 'LIDC-IDRI-0583_3_roi.npy',\n",
       " 'LIDC-IDRI-0583_4_roi.npy',\n",
       " 'LIDC-IDRI-0583_5_roi.npy',\n",
       " 'LIDC-IDRI-0583_6_roi.npy',\n",
       " 'LIDC-IDRI-0583_7_roi.npy',\n",
       " 'LIDC-IDRI-0583_8_roi.npy',\n",
       " 'LIDC-IDRI-0583_9_roi.npy',\n",
       " 'LIDC-IDRI-0586_1_roi.npy',\n",
       " 'LIDC-IDRI-0586_2_roi.npy',\n",
       " 'LIDC-IDRI-0587_1_roi.npy',\n",
       " 'LIDC-IDRI-0587_2_roi.npy',\n",
       " 'LIDC-IDRI-0587_3_roi.npy',\n",
       " 'LIDC-IDRI-0587_4_roi.npy',\n",
       " 'LIDC-IDRI-0587_5_roi.npy',\n",
       " 'LIDC-IDRI-0587_6_roi.npy',\n",
       " 'LIDC-IDRI-0587_7_roi.npy',\n",
       " 'LIDC-IDRI-0590_1_roi.npy',\n",
       " 'LIDC-IDRI-0591_1_roi.npy',\n",
       " 'LIDC-IDRI-0592_1_roi.npy',\n",
       " 'LIDC-IDRI-0594_1_roi.npy',\n",
       " 'LIDC-IDRI-0594_2_roi.npy',\n",
       " 'LIDC-IDRI-0595_1_roi.npy',\n",
       " 'LIDC-IDRI-0596_1_roi.npy',\n",
       " 'LIDC-IDRI-0596_2_roi.npy',\n",
       " 'LIDC-IDRI-0601_1_roi.npy',\n",
       " 'LIDC-IDRI-0601_2_roi.npy',\n",
       " 'LIDC-IDRI-0601_3_roi.npy',\n",
       " 'LIDC-IDRI-0601_4_roi.npy',\n",
       " 'LIDC-IDRI-0601_5_roi.npy',\n",
       " 'LIDC-IDRI-0602_1_roi.npy',\n",
       " 'LIDC-IDRI-0602_2_roi.npy',\n",
       " 'LIDC-IDRI-0604_1_roi.npy',\n",
       " 'LIDC-IDRI-0604_2_roi.npy',\n",
       " 'LIDC-IDRI-0604_3_roi.npy',\n",
       " 'LIDC-IDRI-0604_4_roi.npy',\n",
       " 'LIDC-IDRI-0605_1_roi.npy',\n",
       " 'LIDC-IDRI-0605_2_roi.npy',\n",
       " 'LIDC-IDRI-0605_3_roi.npy',\n",
       " 'LIDC-IDRI-0605_4_roi.npy',\n",
       " 'LIDC-IDRI-0605_5_roi.npy',\n",
       " 'LIDC-IDRI-0605_6_roi.npy',\n",
       " 'LIDC-IDRI-0606_1_roi.npy',\n",
       " 'LIDC-IDRI-0607_1_roi.npy',\n",
       " 'LIDC-IDRI-0608_1_roi.npy',\n",
       " 'LIDC-IDRI-0608_2_roi.npy',\n",
       " 'LIDC-IDRI-0608_3_roi.npy',\n",
       " 'LIDC-IDRI-0608_4_roi.npy',\n",
       " 'LIDC-IDRI-0609_1_roi.npy',\n",
       " 'LIDC-IDRI-0613_1_roi.npy',\n",
       " 'LIDC-IDRI-0614_1_roi.npy',\n",
       " 'LIDC-IDRI-0614_2_roi.npy',\n",
       " 'LIDC-IDRI-0614_3_roi.npy',\n",
       " 'LIDC-IDRI-0615_1_roi.npy',\n",
       " 'LIDC-IDRI-0615_2_roi.npy',\n",
       " 'LIDC-IDRI-0615_3_roi.npy',\n",
       " 'LIDC-IDRI-0617_1_roi.npy',\n",
       " 'LIDC-IDRI-0617_2_roi.npy',\n",
       " 'LIDC-IDRI-0618_1_roi.npy',\n",
       " 'LIDC-IDRI-0619_1_roi.npy',\n",
       " 'LIDC-IDRI-0619_2_roi.npy',\n",
       " 'LIDC-IDRI-0620_1_roi.npy',\n",
       " 'LIDC-IDRI-0620_2_roi.npy',\n",
       " 'LIDC-IDRI-0620_3_roi.npy',\n",
       " 'LIDC-IDRI-0620_4_roi.npy',\n",
       " 'LIDC-IDRI-0624_1_roi.npy',\n",
       " 'LIDC-IDRI-0624_2_roi.npy',\n",
       " 'LIDC-IDRI-0624_3_roi.npy',\n",
       " 'LIDC-IDRI-0625_1_roi.npy',\n",
       " 'LIDC-IDRI-0626_1_roi.npy',\n",
       " 'LIDC-IDRI-0628_1_roi.npy',\n",
       " 'LIDC-IDRI-0628_2_roi.npy',\n",
       " 'LIDC-IDRI-0628_3_roi.npy',\n",
       " 'LIDC-IDRI-0631_1_roi.npy',\n",
       " 'LIDC-IDRI-0634_1_roi.npy',\n",
       " 'LIDC-IDRI-0635_1_roi.npy',\n",
       " 'LIDC-IDRI-0636_1_roi.npy',\n",
       " 'LIDC-IDRI-0636_2_roi.npy',\n",
       " 'LIDC-IDRI-0636_3_roi.npy',\n",
       " 'LIDC-IDRI-0636_4_roi.npy',\n",
       " 'LIDC-IDRI-0636_5_roi.npy',\n",
       " 'LIDC-IDRI-0638_1_roi.npy',\n",
       " 'LIDC-IDRI-0639_1_roi.npy',\n",
       " 'LIDC-IDRI-0639_2_roi.npy',\n",
       " 'LIDC-IDRI-0640_1_roi.npy',\n",
       " 'LIDC-IDRI-0640_2_roi.npy',\n",
       " 'LIDC-IDRI-0641_1_roi.npy',\n",
       " 'LIDC-IDRI-0641_2_roi.npy',\n",
       " 'LIDC-IDRI-0641_3_roi.npy',\n",
       " 'LIDC-IDRI-0641_4_roi.npy',\n",
       " 'LIDC-IDRI-0641_5_roi.npy',\n",
       " 'LIDC-IDRI-0641_6_roi.npy',\n",
       " 'LIDC-IDRI-0642_1_roi.npy',\n",
       " 'LIDC-IDRI-0642_2_roi.npy',\n",
       " 'LIDC-IDRI-0642_3_roi.npy',\n",
       " 'LIDC-IDRI-0642_4_roi.npy',\n",
       " 'LIDC-IDRI-0643_1_roi.npy',\n",
       " 'LIDC-IDRI-0644_1_roi.npy',\n",
       " 'LIDC-IDRI-0645_1_roi.npy',\n",
       " 'LIDC-IDRI-0647_1_roi.npy',\n",
       " 'LIDC-IDRI-0648_1_roi.npy',\n",
       " 'LIDC-IDRI-0648_2_roi.npy',\n",
       " 'LIDC-IDRI-0652_1_roi.npy',\n",
       " 'LIDC-IDRI-0654_1_roi.npy',\n",
       " 'LIDC-IDRI-0657_1_roi.npy',\n",
       " 'LIDC-IDRI-0658_1_roi.npy',\n",
       " 'LIDC-IDRI-0659_1_roi.npy',\n",
       " 'LIDC-IDRI-0661_1_roi.npy',\n",
       " 'LIDC-IDRI-0661_2_roi.npy',\n",
       " 'LIDC-IDRI-0661_3_roi.npy',\n",
       " 'LIDC-IDRI-0663_1_roi.npy',\n",
       " 'LIDC-IDRI-0663_2_roi.npy',\n",
       " 'LIDC-IDRI-0663_3_roi.npy',\n",
       " 'LIDC-IDRI-0666_1_roi.npy',\n",
       " 'LIDC-IDRI-0669_1_roi.npy',\n",
       " 'LIDC-IDRI-0672_1_roi.npy',\n",
       " 'LIDC-IDRI-0673_1_roi.npy',\n",
       " 'LIDC-IDRI-0673_2_roi.npy',\n",
       " 'LIDC-IDRI-0673_3_roi.npy',\n",
       " 'LIDC-IDRI-0674_1_roi.npy',\n",
       " 'LIDC-IDRI-0674_2_roi.npy',\n",
       " 'LIDC-IDRI-0676_1_roi.npy',\n",
       " 'LIDC-IDRI-0678_1_roi.npy',\n",
       " 'LIDC-IDRI-0681_1_roi.npy',\n",
       " 'LIDC-IDRI-0682_1_roi.npy',\n",
       " 'LIDC-IDRI-0682_2_roi.npy',\n",
       " 'LIDC-IDRI-0682_3_roi.npy',\n",
       " 'LIDC-IDRI-0687_1_roi.npy',\n",
       " 'LIDC-IDRI-0694_1_roi.npy',\n",
       " 'LIDC-IDRI-0695_1_roi.npy',\n",
       " 'LIDC-IDRI-0695_2_roi.npy',\n",
       " 'LIDC-IDRI-0696_1_roi.npy',\n",
       " 'LIDC-IDRI-0698_1_roi.npy',\n",
       " 'LIDC-IDRI-0698_2_roi.npy',\n",
       " 'LIDC-IDRI-0700_1_roi.npy',\n",
       " 'LIDC-IDRI-0701_1_roi.npy',\n",
       " 'LIDC-IDRI-0701_2_roi.npy',\n",
       " 'LIDC-IDRI-0701_3_roi.npy',\n",
       " 'LIDC-IDRI-0701_4_roi.npy',\n",
       " 'LIDC-IDRI-0702_1_roi.npy',\n",
       " 'LIDC-IDRI-0702_2_roi.npy',\n",
       " 'LIDC-IDRI-0702_3_roi.npy',\n",
       " 'LIDC-IDRI-0702_4_roi.npy',\n",
       " 'LIDC-IDRI-0703_1_roi.npy',\n",
       " 'LIDC-IDRI-0703_2_roi.npy',\n",
       " 'LIDC-IDRI-0704_1_roi.npy',\n",
       " 'LIDC-IDRI-0704_2_roi.npy',\n",
       " 'LIDC-IDRI-0705_1_roi.npy',\n",
       " 'LIDC-IDRI-0705_2_roi.npy',\n",
       " 'LIDC-IDRI-0705_3_roi.npy',\n",
       " 'LIDC-IDRI-0706_1_roi.npy',\n",
       " 'LIDC-IDRI-0707_1_roi.npy',\n",
       " 'LIDC-IDRI-0707_2_roi.npy',\n",
       " 'LIDC-IDRI-0707_3_roi.npy',\n",
       " 'LIDC-IDRI-0708_1_roi.npy',\n",
       " 'LIDC-IDRI-0708_2_roi.npy',\n",
       " 'LIDC-IDRI-0709_1_roi.npy',\n",
       " 'LIDC-IDRI-0709_2_roi.npy',\n",
       " 'LIDC-IDRI-0709_3_roi.npy',\n",
       " 'LIDC-IDRI-0709_4_roi.npy',\n",
       " 'LIDC-IDRI-0712_1_roi.npy',\n",
       " 'LIDC-IDRI-0712_2_roi.npy',\n",
       " 'LIDC-IDRI-0715_1_roi.npy',\n",
       " 'LIDC-IDRI-0717_1_roi.npy',\n",
       " 'LIDC-IDRI-0721_1_roi.npy',\n",
       " 'LIDC-IDRI-0722_1_roi.npy',\n",
       " 'LIDC-IDRI-0722_2_roi.npy',\n",
       " 'LIDC-IDRI-0722_3_roi.npy',\n",
       " 'LIDC-IDRI-0724_1_roi.npy',\n",
       " 'LIDC-IDRI-0726_1_roi.npy',\n",
       " 'LIDC-IDRI-0727_1_roi.npy',\n",
       " 'LIDC-IDRI-0728_1_roi.npy',\n",
       " 'LIDC-IDRI-0729_1_roi.npy',\n",
       " 'LIDC-IDRI-0732_1_roi.npy',\n",
       " 'LIDC-IDRI-0733_1_roi.npy',\n",
       " 'LIDC-IDRI-0733_2_roi.npy',\n",
       " 'LIDC-IDRI-0733_3_roi.npy',\n",
       " 'LIDC-IDRI-0733_4_roi.npy',\n",
       " 'LIDC-IDRI-0734_1_roi.npy',\n",
       " 'LIDC-IDRI-0735_1_roi.npy',\n",
       " 'LIDC-IDRI-0735_2_roi.npy',\n",
       " 'LIDC-IDRI-0736_1_roi.npy',\n",
       " 'LIDC-IDRI-0739_1_roi.npy',\n",
       " 'LIDC-IDRI-0741_1_roi.npy',\n",
       " 'LIDC-IDRI-0741_2_roi.npy',\n",
       " 'LIDC-IDRI-0741_3_roi.npy',\n",
       " 'LIDC-IDRI-0743_1_roi.npy',\n",
       " 'LIDC-IDRI-0743_2_roi.npy',\n",
       " 'LIDC-IDRI-0743_3_roi.npy',\n",
       " 'LIDC-IDRI-0744_1_roi.npy',\n",
       " 'LIDC-IDRI-0748_1_roi.npy',\n",
       " 'LIDC-IDRI-0748_2_roi.npy',\n",
       " 'LIDC-IDRI-0748_3_roi.npy',\n",
       " 'LIDC-IDRI-0748_4_roi.npy',\n",
       " 'LIDC-IDRI-0748_5_roi.npy',\n",
       " 'LIDC-IDRI-0749_1_roi.npy',\n",
       " 'LIDC-IDRI-0749_2_roi.npy',\n",
       " 'LIDC-IDRI-0749_3_roi.npy',\n",
       " 'LIDC-IDRI-0749_4_roi.npy',\n",
       " 'LIDC-IDRI-0749_5_roi.npy',\n",
       " 'LIDC-IDRI-0751_1_roi.npy',\n",
       " 'LIDC-IDRI-0751_2_roi.npy',\n",
       " 'LIDC-IDRI-0751_3_roi.npy',\n",
       " 'LIDC-IDRI-0751_4_roi.npy',\n",
       " 'LIDC-IDRI-0751_5_roi.npy',\n",
       " ...]"
      ]
     },
     "execution_count": 11,
     "metadata": {},
     "output_type": "execute_result"
    }
   ],
   "source": [
    "filtered_list = [item for item in file_list if item not in ls]\n",
    "filtered_list"
   ]
  },
  {
   "cell_type": "code",
   "execution_count": 12,
   "id": "e66bd25a",
   "metadata": {},
   "outputs": [
    {
     "name": "stdout",
     "output_type": "stream",
     "text": [
      "44/44 [==============================] - 245s 5s/step\n"
     ]
    }
   ],
   "source": [
    "data = [np.expand_dims(np.load(f'{train_data_path}/{file}'), axis=-1) for file in filtered_list]\n",
    "X_train = np.array(data)\n",
    "# Ensure X_test is a NumPy array\n",
    "# X_test = np.array(X_test)\n",
    "\n",
    "# Make predictions\n",
    "predictions = model.predict(X_train)\n",
    "\n",
    "predictions_df = pd.DataFrame(predictions)\n",
    "predictions_df['Patient_id']=df_rm['Patient_id']\n",
    "# Save to CSV\n",
    "predictions_df.to_csv('Deep_Learning_Features.csv', index=False)"
   ]
  },
  {
   "cell_type": "markdown",
   "id": "a902b1b3",
   "metadata": {},
   "source": [
    "Fuse Model Analysis with 1218 Features and 128 Features"
   ]
  },
  {
   "cell_type": "code",
   "execution_count": 13,
   "id": "c8ddaf34",
   "metadata": {},
   "outputs": [
    {
     "name": "stdout",
     "output_type": "stream",
     "text": [
      "(1378, 1349) (1378, 1221) (1378, 129)\n",
      "Fold 1:\n",
      "------------------------------\n",
      "Accuracy: 0.9494\n",
      "Classification Report:\n",
      "               precision    recall  f1-score   support\n",
      "\n",
      "           0       0.98      0.92      0.95       212\n",
      "           1       0.92      0.99      0.95       203\n",
      "\n",
      "    accuracy                           0.95       415\n",
      "   macro avg       0.95      0.95      0.95       415\n",
      "weighted avg       0.95      0.95      0.95       415\n",
      "\n",
      "Confusion Matrix:\n",
      " [[194  18]\n",
      " [  3 200]]\n",
      "Fold 2:\n",
      "------------------------------\n",
      "Accuracy: 0.9711\n",
      "Classification Report:\n",
      "               precision    recall  f1-score   support\n",
      "\n",
      "           0       0.97      0.97      0.97       191\n",
      "           1       0.97      0.97      0.97       224\n",
      "\n",
      "    accuracy                           0.97       415\n",
      "   macro avg       0.97      0.97      0.97       415\n",
      "weighted avg       0.97      0.97      0.97       415\n",
      "\n",
      "Confusion Matrix:\n",
      " [[185   6]\n",
      " [  6 218]]\n",
      "Fold 3:\n",
      "------------------------------\n",
      "Accuracy: 0.9494\n",
      "Classification Report:\n",
      "               precision    recall  f1-score   support\n",
      "\n",
      "           0       0.98      0.93      0.95       222\n",
      "           1       0.92      0.97      0.95       193\n",
      "\n",
      "    accuracy                           0.95       415\n",
      "   macro avg       0.95      0.95      0.95       415\n",
      "weighted avg       0.95      0.95      0.95       415\n",
      "\n",
      "Confusion Matrix:\n",
      " [[206  16]\n",
      " [  5 188]]\n",
      "Fold 4:\n",
      "------------------------------\n",
      "Accuracy: 0.9108\n",
      "Classification Report:\n",
      "               precision    recall  f1-score   support\n",
      "\n",
      "           0       0.96      0.87      0.91       228\n",
      "           1       0.86      0.96      0.91       187\n",
      "\n",
      "    accuracy                           0.91       415\n",
      "   macro avg       0.91      0.92      0.91       415\n",
      "weighted avg       0.92      0.91      0.91       415\n",
      "\n",
      "Confusion Matrix:\n",
      " [[199  29]\n",
      " [  8 179]]\n",
      "Fold 5:\n",
      "------------------------------\n",
      "Accuracy: 0.9662\n",
      "Classification Report:\n",
      "               precision    recall  f1-score   support\n",
      "\n",
      "           0       0.99      0.93      0.96       184\n",
      "           1       0.95      1.00      0.97       230\n",
      "\n",
      "    accuracy                           0.97       414\n",
      "   macro avg       0.97      0.96      0.97       414\n",
      "weighted avg       0.97      0.97      0.97       414\n",
      "\n",
      "Confusion Matrix:\n",
      " [[171  13]\n",
      " [  1 229]]\n",
      "Average Accuracy: 0.9494\n"
     ]
    },
    {
     "name": "stderr",
     "output_type": "stream",
     "text": [
      "c:\\Users\\VIRUS\\AppData\\Local\\Programs\\Python\\Python310\\lib\\site-packages\\sklearn\\base.py:493: UserWarning: X does not have valid feature names, but RandomForestClassifier was fitted with feature names\n",
      "  warnings.warn(\n"
     ]
    }
   ],
   "source": [
    "from sklearn.model_selection import KFold\n",
    "from sklearn.metrics import accuracy_score, classification_report, confusion_matrix\n",
    "from sklearn.ensemble import RandomForestClassifier\n",
    "from sklearn.preprocessing import StandardScaler\n",
    "from imblearn.over_sampling import RandomOverSampler\n",
    "import pandas as pd\n",
    "import joblib\n",
    "\n",
    "# Load your dataset\n",
    "df_rm = pd.read_csv(\"./Radiomics_Feature_Train.csv\")\n",
    "df_dl=pd.read_csv(\"./Deep_Learning_Features.csv\")\n",
    "merged_data = pd.merge(df_rm, df_dl, on='Patient_id', how='inner')\n",
    "\n",
    "print(merged_data.shape,df_rm.shape,df_dl.shape)\n",
    "merged_data.head()\n",
    "# Define features and target\n",
    "X = merged_data.drop(columns=['Patient_id', 'nodule no','Malignancy'])\n",
    "y = merged_data['Malignancy']\n",
    "\n",
    "# Use RandomOverSampler to oversample the minority class\n",
    "oversampler = RandomOverSampler(random_state=42)\n",
    "X_resampled, y_resampled = oversampler.fit_resample(X, y)\n",
    "\n",
    "# Standardize the data\n",
    "scaler = StandardScaler()\n",
    "X_resampled = scaler.fit_transform(X_resampled)\n",
    "\n",
    "# Convert the resampled features and target back to DataFrame for ease of handling\n",
    "X_resampled_df = pd.DataFrame(X_resampled, columns=X.columns)\n",
    "y_resampled_df = pd.Series(y_resampled, name='Malignancy')\n",
    "\n",
    "# Combine the resampled features and target back into a DataFrame\n",
    "df_resampled = pd.concat([X_resampled_df, y_resampled_df], axis=1)\n",
    "\n",
    "# Prepare data for cross-validation\n",
    "X = df_resampled.drop(columns='Malignancy')\n",
    "y = df_resampled['Malignancy']\n",
    "\n",
    "# Define the number of folds (K)\n",
    "num_folds = 5\n",
    "kf = KFold(n_splits=num_folds, shuffle=True, random_state=42)\n",
    "accuracy_scores = []\n",
    "best_accuracy = 0\n",
    "best_model = None\n",
    "\n",
    "# Specify hyperparameters\n",
    "rf_hyperparameters = {\n",
    "    'max_depth': None,\n",
    "    'max_features': 'sqrt',\n",
    "    'min_samples_leaf': 1,\n",
    "    'min_samples_split': 2,\n",
    "    'n_estimators': 200\n",
    "}\n",
    "\n",
    "# Split the dataset into K folds\n",
    "for fold, (train_indices, test_indices) in enumerate(kf.split(X)):\n",
    "    print(f\"Fold {fold + 1}:\")\n",
    "\n",
    "    # Split the data into training and test sets for this fold\n",
    "    X_train, X_test = X.iloc[train_indices], X.iloc[test_indices]\n",
    "    y_train, y_test = y.iloc[train_indices], y.iloc[test_indices]\n",
    "\n",
    "    # Train the model\n",
    "    model = RandomForestClassifier(random_state=42, **rf_hyperparameters)\n",
    "    model.fit(X_train, y_train)\n",
    "\n",
    "    # Make predictions on the test set\n",
    "    y_pred = model.predict(X_test)\n",
    "\n",
    "    #y_test = np.array(y_test).reshape(-1)\n",
    "    #y_pred = np.array(y_pred).reshape(-1)\n",
    "    #print(y_pred.shape,y_pred)\n",
    "    # Ensure y_test and y_pred are 1-dimensional\n",
    "    #y_test = y_test.ravel()\n",
    "   # y_pred = y_pred.ravel()\n",
    "    \n",
    "    #print(y_test.shape,y_test)\n",
    "    #y_test = y_test.values[:, -1]\n",
    "    #y_pred = y_pred[:, -1]\n",
    "    # Evaluate the model\n",
    "    accuracy = accuracy_score(y_test, y_pred)\n",
    "    accuracy_scores.append(accuracy)\n",
    "\n",
    "    # Check if current model is the best model\n",
    "    if accuracy > best_accuracy:\n",
    "        best_accuracy = accuracy\n",
    "        best_model = model\n",
    "\n",
    "    print(\"-\" * 30)\n",
    "    print(f\"Accuracy: {accuracy:.4f}\")\n",
    "    print(\"Classification Report:\\n\", classification_report(y_test, y_pred))\n",
    "    print(\"Confusion Matrix:\\n\", confusion_matrix(y_test, y_pred))\n",
    "\n",
    "# Save the best model\n",
    "joblib.dump(best_model, 'best_random_forest_model_1218_128_features.pkl')\n",
    "\n",
    "# Standardize the full dataset for making final predictions\n",
    "X_standardized = scaler.transform(X)\n",
    "y_pred_best = best_model.predict(X_standardized)\n",
    "\n",
    "# Save predictions to a CSV file\n",
    "df_predictions = pd.DataFrame({'True Label': y, 'Predicted Label': y_pred_best})\n",
    "df_predictions.to_csv('predictions_1218.csv', index=False)\n",
    "Final_accuracy['RM 1218 DL 128 Features']=best_accuracy\n",
    "# Calculate and print the average accuracy\n",
    "avg_accuracy = sum(accuracy_scores) / len(accuracy_scores)\n",
    "print(f\"Average Accuracy: {avg_accuracy:.4f}\")\n"
   ]
  },
  {
   "cell_type": "markdown",
   "id": "1fc94b33",
   "metadata": {},
   "source": [
    "Feature Selection 200+128"
   ]
  },
  {
   "cell_type": "code",
   "execution_count": 14,
   "id": "2688a6af",
   "metadata": {},
   "outputs": [
    {
     "name": "stdout",
     "output_type": "stream",
     "text": [
      "[0.00090449 0.00099517 0.00110468 ... 0.00061361 0.00046923 0.000861  ]\n"
     ]
    },
    {
     "data": {
      "image/png": "[encoded data removed]",
      "text/plain": [
       "<Figure size 432x288 with 1 Axes>"
      ]
     },
     "metadata": {
      "needs_background": "light"
     },
     "output_type": "display_data"
    }
   ],
   "source": [
    "from sklearn.ensemble import ExtraTreesClassifier\n",
    "Rm_df = pd.read_csv('./Radiomics_Feature.csv')\n",
    "Rm_df.fillna(0, inplace=True)\n",
    "# Separate features (X) and target variable (y)\n",
    "df=Rm_df.drop(columns=['Patient_id','nodule no'])\n",
    "X = df.drop('Malignancy', axis=1)\n",
    "y = df['Malignancy']\n",
    "\n",
    "# Split the dataset into training and testing sets\n",
    "\n",
    "\n",
    "# Standardize the data (important for PCA)\n",
    "from sklearn.preprocessing import StandardScaler\n",
    "X_standardized = StandardScaler().fit_transform(X)\n",
    "\n",
    "model = ExtraTreesClassifier()\n",
    "model.fit(X_standardized,y)\n",
    "print(model.feature_importances_)\n",
    "feat_importances = pd.Series(model.feature_importances_, index=X.columns)\n",
    "\n",
    "feat_importances.nlargest(200).plot(kind='barh')\n",
    "plt.show()"
   ]
  },
  {
   "cell_type": "code",
   "execution_count": 15,
   "id": "c2205173",
   "metadata": {},
   "outputs": [
    {
     "name": "stdout",
     "output_type": "stream",
     "text": [
      "['wavelet-LLH_glcm_DifferenceEntropy', 'wavelet-LHL_glcm_InverseVariance', 'log-sigma-3-0-mm-3D_glrlm_RunVariance', 'log-sigma-5-0-mm-3D_firstorder_Range', 'wavelet-LHL_glcm_Idmn', 'wavelet-LHL_glcm_Idn', 'wavelet-LHL_glcm_DifferenceEntropy', 'log-sigma-4-0-mm-3D_firstorder_Skewness', 'wavelet-HLH_glrlm_LongRunLowGrayLevelEmphasis', 'wavelet-LHL_glcm_Imc1', 'wavelet-HLH_glrlm_RunVariance', 'wavelet-LLH_glcm_Idmn', 'wavelet-LHL_glcm_Contrast', 'wavelet-HHL_firstorder_Kurtosis', 'log-sigma-5-0-mm-3D_firstorder_Skewness', 'log-sigma-3-0-mm-3D_glrlm_RunEntropy', 'wavelet-LHL_gldm_GrayLevelNonUniformity', 'log-sigma-5-0-mm-3D_glszm_GrayLevelNonUniformity', 'wavelet-LLH_glcm_DifferenceAverage', 'log-sigma-5-0-mm-3D_firstorder_10Percentile', 'log-sigma-5-0-mm-3D_firstorder_Variance', 'wavelet-LLH_glcm_Imc2', 'wavelet-LLH_glcm_Imc1', 'wavelet-HLH_glszm_LowGrayLevelZoneEmphasis', 'log-sigma-4-0-mm-3D_firstorder_Kurtosis', 'wavelet-LLH_glcm_DifferenceVariance', 'wavelet-LHL_glcm_Imc2', 'wavelet-HLL_glszm_SmallAreaLowGrayLevelEmphasis', 'wavelet-LHL_glcm_DifferenceAverage', 'wavelet-HHL_glcm_Imc2', 'wavelet-LHH_glrlm_RunVariance', 'log-sigma-2-0-mm-3D_glszm_SmallAreaHighGrayLevelEmphasis', 'wavelet-HHH_glrlm_ShortRunHighGrayLevelEmphasis', 'wavelet-LHL_glcm_JointEnergy', 'log-sigma-5-0-mm-3D_firstorder_Kurtosis', 'wavelet-HHL_glszm_LargeAreaHighGrayLevelEmphasis', 'log-sigma-5-0-mm-3D_glrlm_RunEntropy', 'log-sigma-2-0-mm-3D_glrlm_RunEntropy', 'wavelet-LHH_glrlm_ShortRunLowGrayLevelEmphasis', 'log-sigma-5-0-mm-3D_firstorder_MeanAbsoluteDeviation', 'wavelet-HHH_glcm_Imc1', 'log-sigma-3-0-mm-3D_firstorder_Energy', 'log-sigma-2-0-mm-3D_firstorder_Skewness', 'log-sigma-4-0-mm-3D_glrlm_GrayLevelNonUniformity', 'log-sigma-3-0-mm-3D_firstorder_MeanAbsoluteDeviation', 'wavelet-HLL_firstorder_Kurtosis', 'log-sigma-2-0-mm-3D_glrlm_LongRunLowGrayLevelEmphasis', 'log-sigma-5-0-mm-3D_glszm_HighGrayLevelZoneEmphasis', 'wavelet-LHL_glszm_GrayLevelVariance', 'wavelet-HLH_gldm_DependenceNonUniformity', 'wavelet-HHL_glszm_SmallAreaHighGrayLevelEmphasis', 'wavelet-LLH_glszm_SizeZoneNonUniformity', 'wavelet-HLH_glcm_Idm', 'wavelet-HHL_glcm_MaximumProbability', 'wavelet-LHL_glrlm_RunLengthNonUniformity', 'wavelet-HHL_firstorder_Variance', 'log-sigma-4-0-mm-3D_glszm_SmallAreaEmphasis', 'wavelet-HHL_firstorder_Maximum', 'wavelet-HHL_glrlm_GrayLevelNonUniformity', 'wavelet-HLH_firstorder_TotalEnergy', 'log-sigma-2-0-mm-3D_firstorder_MeanAbsoluteDeviation', 'wavelet-HHL_glszm_SmallAreaEmphasis', 'wavelet-LHL_glszm_SizeZoneNonUniformity', 'wavelet-HHH_glrlm_LowGrayLevelRunEmphasis', 'wavelet-LLH_glszm_GrayLevelVariance', 'log-sigma-5-0-mm-3D_firstorder_Mean', 'wavelet-HLL_gldm_SmallDependenceHighGrayLevelEmphasis', 'wavelet-HHL_gldm_SmallDependenceHighGrayLevelEmphasis', 'wavelet-LHL_glszm_LowGrayLevelZoneEmphasis', 'wavelet-LHH_firstorder_Energy', 'wavelet-LHL_glcm_Idm', 'wavelet-LLH_glcm_ClusterProminence', 'wavelet-HLL_glcm_Contrast', 'log-sigma-4-0-mm-3D_firstorder_RobustMeanAbsoluteDeviation', 'wavelet-HLH_firstorder_Skewness', 'original_gldm_GrayLevelNonUniformity', 'wavelet-HHH_firstorder_Maximum', 'wavelet-HHH_glcm_DifferenceAverage', 'wavelet-HHL_firstorder_Mean', 'wavelet-HHL_glcm_ClusterShade', 'wavelet-HLH_glszm_HighGrayLevelZoneEmphasis', 'wavelet-HHL_glrlm_RunPercentage', 'log-sigma-2-0-mm-3D_glrlm_RunLengthNonUniformity', 'wavelet-LLH_firstorder_Mean', 'wavelet-HHL_glrlm_LongRunLowGrayLevelEmphasis', 'wavelet-LHL_glszm_ZonePercentage', 'wavelet-HLL_glcm_DifferenceEntropy', 'log-sigma-4-0-mm-3D_glszm_LowGrayLevelZoneEmphasis', 'wavelet-LHL_glcm_Id', 'wavelet-LHL_glszm_LargeAreaHighGrayLevelEmphasis', 'wavelet-LLH_glrlm_ShortRunLowGrayLevelEmphasis', 'wavelet-LLH_glcm_Contrast', 'wavelet-HLL_glszm_SmallAreaHighGrayLevelEmphasis', 'log-sigma-4-0-mm-3D_firstorder_10Percentile', 'wavelet-LLH_firstorder_TotalEnergy', 'wavelet-LHH_firstorder_Mean', 'log-sigma-3-0-mm-3D_glrlm_RunPercentage', 'wavelet-LLH_glrlm_GrayLevelNonUniformity', 'wavelet-HHL_gldm_LowGrayLevelEmphasis', 'wavelet-LLL_glszm_LargeAreaHighGrayLevelEmphasis', 'wavelet-HLH_gldm_LargeDependenceHighGrayLevelEmphasis', 'wavelet-LLL_glrlm_RunVariance', 'log-sigma-5-0-mm-3D_glszm_GrayLevelNonUniformityNormalized', 'wavelet-HLH_firstorder_Energy', 'wavelet-LHH_glrlm_GrayLevelVariance', 'wavelet-HHH_glcm_DifferenceVariance', 'log-sigma-5-0-mm-3D_glszm_SmallAreaHighGrayLevelEmphasis', 'log-sigma-4-0-mm-3D_firstorder_RootMeanSquared', 'log-sigma-3-0-mm-3D_firstorder_InterquartileRange', 'wavelet-LHL_firstorder_Skewness', 'wavelet-HHH_firstorder_Skewness', 'wavelet-HLH_glcm_Contrast', 'log-sigma-3-0-mm-3D_glszm_HighGrayLevelZoneEmphasis', 'wavelet-HLH_glcm_Correlation', 'wavelet-LLH_firstorder_Maximum', 'wavelet-HHH_glcm_SumEntropy', 'original_glcm_Imc2', 'log-sigma-2-0-mm-3D_firstorder_InterquartileRange', 'wavelet-HLL_firstorder_Skewness', 'log-sigma-5-0-mm-3D_glszm_SmallAreaLowGrayLevelEmphasis', 'wavelet-LLH_glszm_SmallAreaLowGrayLevelEmphasis', 'wavelet-LHH_firstorder_Skewness', 'log-sigma-2-0-mm-3D_firstorder_Maximum', 'log-sigma-4-0-mm-3D_gldm_DependenceNonUniformityNormalized', 'wavelet-HHH_firstorder_TotalEnergy', 'log-sigma-3-0-mm-3D_firstorder_Kurtosis', 'log-sigma-3-0-mm-3D_glrlm_ShortRunLowGrayLevelEmphasis', 'wavelet-HLH_glszm_ZoneEntropy', 'wavelet-LHH_glrlm_LowGrayLevelRunEmphasis', 'wavelet-HLL_firstorder_Maximum', 'log-sigma-5-0-mm-3D_gldm_SmallDependenceEmphasis', 'wavelet-LHL_glszm_GrayLevelNonUniformityNormalized', 'wavelet-HLH_glrlm_RunEntropy', 'wavelet-LHL_glszm_SizeZoneNonUniformityNormalized', 'wavelet-LHL_firstorder_Range', 'wavelet-LHH_glszm_SmallAreaHighGrayLevelEmphasis', 'wavelet-LHL_glrlm_GrayLevelVariance', 'wavelet-HLH_glcm_JointAverage', 'wavelet-HHL_firstorder_Entropy', 'original_shape_LeastAxisLength', 'log-sigma-2-0-mm-3D_firstorder_Range', 'wavelet-LLH_glrlm_GrayLevelNonUniformityNormalized', 'log-sigma-3-0-mm-3D_firstorder_RootMeanSquared', 'wavelet-LHL_firstorder_TotalEnergy', 'log-sigma-1-0-mm-3D_firstorder_10Percentile', 'wavelet-HLH_glcm_ClusterProminence', 'wavelet-LLH_glszm_SizeZoneNonUniformityNormalized', 'wavelet-HHH_glrlm_RunVariance', 'log-sigma-5-0-mm-3D_firstorder_90Percentile', 'original_shape_Maximum2DDiameterSlice', 'log-sigma-4-0-mm-3D_firstorder_InterquartileRange', 'log-sigma-5-0-mm-3D_gldm_DependenceNonUniformityNormalized', 'wavelet-LLH_glszm_HighGrayLevelZoneEmphasis', 'wavelet-HHL_firstorder_RootMeanSquared', 'log-sigma-4-0-mm-3D_gldm_LargeDependenceHighGrayLevelEmphasis', 'wavelet-LLH_glcm_SumSquares', 'log-sigma-4-0-mm-3D_firstorder_TotalEnergy', 'wavelet-HHL_glcm_DifferenceVariance', 'wavelet-HLL_firstorder_Minimum', 'log-sigma-5-0-mm-3D_glcm_JointEnergy', 'wavelet-HLH_gldm_LargeDependenceLowGrayLevelEmphasis', 'log-sigma-2-0-mm-3D_firstorder_Kurtosis', 'log-sigma-3-0-mm-3D_glcm_Idmn', 'log-sigma-2-0-mm-3D_glszm_SmallAreaEmphasis', 'wavelet-LHL_gldm_GrayLevelVariance', 'wavelet-HHL_glszm_ZonePercentage', 'wavelet-LHL_firstorder_Maximum', 'wavelet-LHL_firstorder_RootMeanSquared', 'wavelet-HHH_glrlm_LongRunLowGrayLevelEmphasis', 'wavelet-LLH_glcm_Autocorrelation', 'log-sigma-5-0-mm-3D_firstorder_InterquartileRange', 'wavelet-LHL_glszm_SmallAreaEmphasis', 'wavelet-LHH_firstorder_MeanAbsoluteDeviation', 'log-sigma-5-0-mm-3D_firstorder_Maximum', 'original_shape_Maximum2DDiameterColumn', 'log-sigma-2-0-mm-3D_firstorder_RootMeanSquared', 'wavelet-HLH_glcm_Idn', 'log-sigma-3-0-mm-3D_gldm_DependenceNonUniformityNormalized', 'wavelet-HHH_firstorder_90Percentile', 'wavelet-HHL_glcm_DifferenceEntropy', 'log-sigma-3-0-mm-3D_glszm_SmallAreaHighGrayLevelEmphasis', 'log-sigma-4-0-mm-3D_glrlm_RunPercentage', 'wavelet-LLH_glszm_SmallAreaHighGrayLevelEmphasis', 'wavelet-LHL_glcm_DifferenceVariance', 'log-sigma-1-0-mm-3D_firstorder_Minimum', 'wavelet-HHH_glcm_MaximumProbability', 'wavelet-HLL_glszm_HighGrayLevelZoneEmphasis', 'wavelet-HLL_glcm_ClusterProminence', 'log-sigma-3-0-mm-3D_glszm_LowGrayLevelZoneEmphasis', 'wavelet-LHH_firstorder_Entropy', 'log-sigma-3-0-mm-3D_firstorder_90Percentile', 'wavelet-LLH_firstorder_Uniformity', 'wavelet-LHL_firstorder_Kurtosis', 'wavelet-HHH_gldm_DependenceVariance', 'wavelet-LHL_gldm_LargeDependenceHighGrayLevelEmphasis', 'original_glszm_SmallAreaEmphasis', 'wavelet-HLL_glrlm_RunLengthNonUniformityNormalized', 'wavelet-LHH_glcm_Correlation', 'original_shape_Sphericity', 'wavelet-HLH_gldm_LargeDependenceEmphasis']\n"
     ]
    }
   ],
   "source": [
    "top_features_200 = feat_importances.nlargest(200)  # Get the top 200 features\n",
    "RM_200_top_feature_names = top_features_200.index.tolist()  # Get the names of the top features as a list\n",
    "print(RM_200_top_feature_names)\n",
    "X_200=df[RM_200_top_feature_names]\n",
    "\n"
   ]
  },
  {
   "cell_type": "code",
   "execution_count": 16,
   "id": "1b24fc0c",
   "metadata": {},
   "outputs": [
    {
     "name": "stdout",
     "output_type": "stream",
     "text": [
      "Fold 1:\n",
      "------------------------------\n",
      "Accuracy: 0.9542\n",
      "Classification Report:\n",
      "               precision    recall  f1-score   support\n",
      "\n",
      "           0       0.98      0.92      0.95       212\n",
      "           1       0.93      0.99      0.95       203\n",
      "\n",
      "    accuracy                           0.95       415\n",
      "   macro avg       0.96      0.95      0.95       415\n",
      "weighted avg       0.96      0.95      0.95       415\n",
      "\n",
      "Confusion Matrix:\n",
      " [[196  16]\n",
      " [  3 200]]\n",
      "Fold 2:\n",
      "------------------------------\n",
      "Accuracy: 0.9639\n",
      "Classification Report:\n",
      "               precision    recall  f1-score   support\n",
      "\n",
      "           0       0.97      0.95      0.96       191\n",
      "           1       0.96      0.97      0.97       224\n",
      "\n",
      "    accuracy                           0.96       415\n",
      "   macro avg       0.96      0.96      0.96       415\n",
      "weighted avg       0.96      0.96      0.96       415\n",
      "\n",
      "Confusion Matrix:\n",
      " [[182   9]\n",
      " [  6 218]]\n",
      "Fold 3:\n",
      "------------------------------\n",
      "Accuracy: 0.9518\n",
      "Classification Report:\n",
      "               precision    recall  f1-score   support\n",
      "\n",
      "           0       0.99      0.92      0.95       222\n",
      "           1       0.92      0.98      0.95       193\n",
      "\n",
      "    accuracy                           0.95       415\n",
      "   macro avg       0.95      0.95      0.95       415\n",
      "weighted avg       0.95      0.95      0.95       415\n",
      "\n",
      "Confusion Matrix:\n",
      " [[205  17]\n",
      " [  3 190]]\n",
      "Fold 4:\n",
      "------------------------------\n",
      "Accuracy: 0.9181\n",
      "Classification Report:\n",
      "               precision    recall  f1-score   support\n",
      "\n",
      "           0       0.96      0.89      0.92       228\n",
      "           1       0.87      0.96      0.91       187\n",
      "\n",
      "    accuracy                           0.92       415\n",
      "   macro avg       0.92      0.92      0.92       415\n",
      "weighted avg       0.92      0.92      0.92       415\n",
      "\n",
      "Confusion Matrix:\n",
      " [[202  26]\n",
      " [  8 179]]\n",
      "Fold 5:\n",
      "------------------------------\n",
      "Accuracy: 0.9662\n",
      "Classification Report:\n",
      "               precision    recall  f1-score   support\n",
      "\n",
      "           0       0.99      0.93      0.96       184\n",
      "           1       0.95      1.00      0.97       230\n",
      "\n",
      "    accuracy                           0.97       414\n",
      "   macro avg       0.97      0.96      0.97       414\n",
      "weighted avg       0.97      0.97      0.97       414\n",
      "\n",
      "Confusion Matrix:\n",
      " [[171  13]\n",
      " [  1 229]]\n",
      "Average Accuracy: 0.9508\n"
     ]
    }
   ],
   "source": [
    "from sklearn.model_selection import KFold\n",
    "from sklearn.metrics import accuracy_score, classification_report, confusion_matrix\n",
    "from sklearn.ensemble import RandomForestClassifier\n",
    "from sklearn.preprocessing import StandardScaler\n",
    "from imblearn.over_sampling import RandomOverSampler\n",
    "import pandas as pd\n",
    "import joblib\n",
    "\n",
    "# Load your dataset\n",
    "df = pd.read_csv(\"./Radiomics_Feature_Train.csv\")\n",
    "df_dl=pd.read_csv(\"./Deep_Learning_Features.csv\")\n",
    "# Define features and target\n",
    "# Specify the feature names\n",
    "X_200 = df[RM_200_top_feature_names]\n",
    "X_200_DL_featues= pd.concat([X_200, df_dl], axis=1)\n",
    "X_200_DL_featues=X_200_DL_featues.drop('Patient_id', axis=1)\n",
    "y = df['Malignancy']\n",
    "\n",
    "# Use RandomOverSampler to oversample the minority class\n",
    "oversampler = RandomOverSampler(random_state=42)\n",
    "X_resampled, y_resampled = oversampler.fit_resample(X_200_DL_featues, y)\n",
    "\n",
    "# Standardize the data\n",
    "\n",
    "\n",
    "# Convert the resampled features and target back to DataFrame for ease of handling\n",
    "X_resampled_df = pd.DataFrame(X_resampled, columns=X_200_DL_featues.columns)\n",
    "y_resampled_df = pd.Series(y_resampled, name='Malignancy')\n",
    "\n",
    "# Combine the resampled features and target back into a DataFrame\n",
    "df_resampled = pd.concat([X_resampled_df, y_resampled_df], axis=1)\n",
    "\n",
    "# Prepare data for cross-validation\n",
    "X = df_resampled.drop(columns='Malignancy')\n",
    "y = df_resampled['Malignancy']\n",
    "\n",
    "# Define the number of folds (K)\n",
    "num_folds = 5\n",
    "kf = KFold(n_splits=num_folds, shuffle=True, random_state=42)\n",
    "accuracy_scores = []\n",
    "best_accuracy = 0\n",
    "best_model = None\n",
    "\n",
    "# Specify hyperparameters\n",
    "rf_hyperparameters = {\n",
    "    'max_depth': None,\n",
    "    'max_features': 'sqrt',\n",
    "    'min_samples_leaf': 1,\n",
    "    'min_samples_split': 2,\n",
    "    'n_estimators': 200\n",
    "}\n",
    "\n",
    "# Split the dataset into K folds\n",
    "for fold, (train_indices, test_indices) in enumerate(kf.split(X)):\n",
    "    print(f\"Fold {fold + 1}:\")\n",
    "    \n",
    "    # Split the data into training and test sets for this fold\n",
    "    X_train, X_test = X.iloc[train_indices], X.iloc[test_indices]\n",
    "    y_train, y_test = y.iloc[train_indices], y.iloc[test_indices]\n",
    "    \n",
    "    # Train the model\n",
    "    model = RandomForestClassifier(random_state=42, **rf_hyperparameters)\n",
    "    model.fit(X_train, y_train)\n",
    "    \n",
    "    # Make predictions on the test set\n",
    "    y_pred = model.predict(X_test)\n",
    "    \n",
    "    # Evaluate the model\n",
    "    accuracy = accuracy_score(y_test, y_pred)\n",
    "    accuracy_scores.append(accuracy)\n",
    "\n",
    "    # Check if current model is the best model\n",
    "    if accuracy > best_accuracy:\n",
    "        best_accuracy = accuracy\n",
    "        best_model = model\n",
    "\n",
    "    print(\"-\" * 30)\n",
    "    print(f\"Accuracy: {accuracy:.4f}\")\n",
    "    print(\"Classification Report:\\n\", classification_report(y_test, y_pred))\n",
    "    print(\"Confusion Matrix:\\n\", confusion_matrix(y_test, y_pred))\n",
    "\n",
    "# Save the best model\n",
    "\n",
    "joblib.dump(best_model, 'best_random_forest_model_200_128_features.pkl')\n",
    "# Standardize the full dataset for making final predictions\n",
    "#X_standardized = scaler.transform(X_200)\n",
    "y_pred_best = best_model.predict(X_200_DL_featues)\n",
    "\n",
    "# Save predictions to a CSV file\n",
    "Final_accuracy['RM 200 and 128 DL Features']=best_accuracy\n",
    "\n",
    "# Calculate and print the average accuracy\n",
    "avg_accuracy = sum(accuracy_scores) / len(accuracy_scores)\n",
    "print(f\"Average Accuracy: {avg_accuracy:.4f}\")\n"
   ]
  },
  {
   "cell_type": "markdown",
   "id": "81ef35f0",
   "metadata": {},
   "source": [
    "Radiomics Model with 100 "
   ]
  },
  {
   "cell_type": "code",
   "execution_count": 17,
   "id": "fd44e41e",
   "metadata": {},
   "outputs": [
    {
     "name": "stdout",
     "output_type": "stream",
     "text": [
      "['wavelet-LLH_glcm_DifferenceEntropy', 'wavelet-LHL_glcm_InverseVariance', 'log-sigma-3-0-mm-3D_glrlm_RunVariance', 'log-sigma-5-0-mm-3D_firstorder_Range', 'wavelet-LHL_glcm_Idmn', 'wavelet-LHL_glcm_Idn', 'wavelet-LHL_glcm_DifferenceEntropy', 'log-sigma-4-0-mm-3D_firstorder_Skewness', 'wavelet-HLH_glrlm_LongRunLowGrayLevelEmphasis', 'wavelet-LHL_glcm_Imc1', 'wavelet-HLH_glrlm_RunVariance', 'wavelet-LLH_glcm_Idmn', 'wavelet-LHL_glcm_Contrast', 'wavelet-HHL_firstorder_Kurtosis', 'log-sigma-5-0-mm-3D_firstorder_Skewness', 'log-sigma-3-0-mm-3D_glrlm_RunEntropy', 'wavelet-LHL_gldm_GrayLevelNonUniformity', 'log-sigma-5-0-mm-3D_glszm_GrayLevelNonUniformity', 'wavelet-LLH_glcm_DifferenceAverage', 'log-sigma-5-0-mm-3D_firstorder_10Percentile', 'log-sigma-5-0-mm-3D_firstorder_Variance', 'wavelet-LLH_glcm_Imc2', 'wavelet-LLH_glcm_Imc1', 'wavelet-HLH_glszm_LowGrayLevelZoneEmphasis', 'log-sigma-4-0-mm-3D_firstorder_Kurtosis', 'wavelet-LLH_glcm_DifferenceVariance', 'wavelet-LHL_glcm_Imc2', 'wavelet-HLL_glszm_SmallAreaLowGrayLevelEmphasis', 'wavelet-LHL_glcm_DifferenceAverage', 'wavelet-HHL_glcm_Imc2', 'wavelet-LHH_glrlm_RunVariance', 'log-sigma-2-0-mm-3D_glszm_SmallAreaHighGrayLevelEmphasis', 'wavelet-HHH_glrlm_ShortRunHighGrayLevelEmphasis', 'wavelet-LHL_glcm_JointEnergy', 'log-sigma-5-0-mm-3D_firstorder_Kurtosis', 'wavelet-HHL_glszm_LargeAreaHighGrayLevelEmphasis', 'log-sigma-5-0-mm-3D_glrlm_RunEntropy', 'log-sigma-2-0-mm-3D_glrlm_RunEntropy', 'wavelet-LHH_glrlm_ShortRunLowGrayLevelEmphasis', 'log-sigma-5-0-mm-3D_firstorder_MeanAbsoluteDeviation', 'wavelet-HHH_glcm_Imc1', 'log-sigma-3-0-mm-3D_firstorder_Energy', 'log-sigma-2-0-mm-3D_firstorder_Skewness', 'log-sigma-4-0-mm-3D_glrlm_GrayLevelNonUniformity', 'log-sigma-3-0-mm-3D_firstorder_MeanAbsoluteDeviation', 'wavelet-HLL_firstorder_Kurtosis', 'log-sigma-2-0-mm-3D_glrlm_LongRunLowGrayLevelEmphasis', 'log-sigma-5-0-mm-3D_glszm_HighGrayLevelZoneEmphasis', 'wavelet-LHL_glszm_GrayLevelVariance', 'wavelet-HLH_gldm_DependenceNonUniformity', 'wavelet-HHL_glszm_SmallAreaHighGrayLevelEmphasis', 'wavelet-LLH_glszm_SizeZoneNonUniformity', 'wavelet-HLH_glcm_Idm', 'wavelet-HHL_glcm_MaximumProbability', 'wavelet-LHL_glrlm_RunLengthNonUniformity', 'wavelet-HHL_firstorder_Variance', 'log-sigma-4-0-mm-3D_glszm_SmallAreaEmphasis', 'wavelet-HHL_firstorder_Maximum', 'wavelet-HHL_glrlm_GrayLevelNonUniformity', 'wavelet-HLH_firstorder_TotalEnergy', 'log-sigma-2-0-mm-3D_firstorder_MeanAbsoluteDeviation', 'wavelet-HHL_glszm_SmallAreaEmphasis', 'wavelet-LHL_glszm_SizeZoneNonUniformity', 'wavelet-HHH_glrlm_LowGrayLevelRunEmphasis', 'wavelet-LLH_glszm_GrayLevelVariance', 'log-sigma-5-0-mm-3D_firstorder_Mean', 'wavelet-HLL_gldm_SmallDependenceHighGrayLevelEmphasis', 'wavelet-HHL_gldm_SmallDependenceHighGrayLevelEmphasis', 'wavelet-LHL_glszm_LowGrayLevelZoneEmphasis', 'wavelet-LHH_firstorder_Energy', 'wavelet-LHL_glcm_Idm', 'wavelet-LLH_glcm_ClusterProminence', 'wavelet-HLL_glcm_Contrast', 'log-sigma-4-0-mm-3D_firstorder_RobustMeanAbsoluteDeviation', 'wavelet-HLH_firstorder_Skewness', 'original_gldm_GrayLevelNonUniformity', 'wavelet-HHH_firstorder_Maximum', 'wavelet-HHH_glcm_DifferenceAverage', 'wavelet-HHL_firstorder_Mean', 'wavelet-HHL_glcm_ClusterShade', 'wavelet-HLH_glszm_HighGrayLevelZoneEmphasis', 'wavelet-HHL_glrlm_RunPercentage', 'log-sigma-2-0-mm-3D_glrlm_RunLengthNonUniformity', 'wavelet-LLH_firstorder_Mean', 'wavelet-HHL_glrlm_LongRunLowGrayLevelEmphasis', 'wavelet-LHL_glszm_ZonePercentage', 'wavelet-HLL_glcm_DifferenceEntropy', 'log-sigma-4-0-mm-3D_glszm_LowGrayLevelZoneEmphasis', 'wavelet-LHL_glcm_Id', 'wavelet-LHL_glszm_LargeAreaHighGrayLevelEmphasis', 'wavelet-LLH_glrlm_ShortRunLowGrayLevelEmphasis', 'wavelet-LLH_glcm_Contrast', 'wavelet-HLL_glszm_SmallAreaHighGrayLevelEmphasis', 'log-sigma-4-0-mm-3D_firstorder_10Percentile', 'wavelet-LLH_firstorder_TotalEnergy', 'wavelet-LHH_firstorder_Mean', 'log-sigma-3-0-mm-3D_glrlm_RunPercentage', 'wavelet-LLH_glrlm_GrayLevelNonUniformity', 'wavelet-HHL_gldm_LowGrayLevelEmphasis', 'wavelet-LLL_glszm_LargeAreaHighGrayLevelEmphasis']\n"
     ]
    }
   ],
   "source": [
    "top_features_100 = feat_importances.nlargest(100)  # Get the top 100 features\n",
    "RM_100_top_feature_names = top_features_100.index.tolist()  # Get the names of the top features as a list\n",
    "print(RM_100_top_feature_names)\n",
    "X_100=df[RM_100_top_feature_names]"
   ]
  },
  {
   "cell_type": "code",
   "execution_count": 18,
   "id": "07725767",
   "metadata": {},
   "outputs": [
    {
     "name": "stdout",
     "output_type": "stream",
     "text": [
      "Fold 1:\n",
      "------------------------------\n",
      "Accuracy: 0.9590\n",
      "Classification Report:\n",
      "               precision    recall  f1-score   support\n",
      "\n",
      "           0       0.99      0.93      0.96       212\n",
      "           1       0.93      0.99      0.96       203\n",
      "\n",
      "    accuracy                           0.96       415\n",
      "   macro avg       0.96      0.96      0.96       415\n",
      "weighted avg       0.96      0.96      0.96       415\n",
      "\n",
      "Confusion Matrix:\n",
      " [[198  14]\n",
      " [  3 200]]\n",
      "Fold 2:\n",
      "------------------------------\n",
      "Accuracy: 0.9590\n",
      "Classification Report:\n",
      "               precision    recall  f1-score   support\n",
      "\n",
      "           0       0.97      0.94      0.95       191\n",
      "           1       0.95      0.97      0.96       224\n",
      "\n",
      "    accuracy                           0.96       415\n",
      "   macro avg       0.96      0.96      0.96       415\n",
      "weighted avg       0.96      0.96      0.96       415\n",
      "\n",
      "Confusion Matrix:\n",
      " [[180  11]\n",
      " [  6 218]]\n",
      "Fold 3:\n",
      "------------------------------\n",
      "Accuracy: 0.9542\n",
      "Classification Report:\n",
      "               precision    recall  f1-score   support\n",
      "\n",
      "           0       0.98      0.93      0.96       222\n",
      "           1       0.93      0.98      0.95       193\n",
      "\n",
      "    accuracy                           0.95       415\n",
      "   macro avg       0.95      0.96      0.95       415\n",
      "weighted avg       0.96      0.95      0.95       415\n",
      "\n",
      "Confusion Matrix:\n",
      " [[207  15]\n",
      " [  4 189]]\n",
      "Fold 4:\n",
      "------------------------------\n",
      "Accuracy: 0.9205\n",
      "Classification Report:\n",
      "               precision    recall  f1-score   support\n",
      "\n",
      "           0       0.96      0.89      0.92       228\n",
      "           1       0.88      0.96      0.92       187\n",
      "\n",
      "    accuracy                           0.92       415\n",
      "   macro avg       0.92      0.92      0.92       415\n",
      "weighted avg       0.92      0.92      0.92       415\n",
      "\n",
      "Confusion Matrix:\n",
      " [[203  25]\n",
      " [  8 179]]\n",
      "Fold 5:\n",
      "------------------------------\n",
      "Accuracy: 0.9686\n",
      "Classification Report:\n",
      "               precision    recall  f1-score   support\n",
      "\n",
      "           0       0.99      0.93      0.96       184\n",
      "           1       0.95      1.00      0.97       230\n",
      "\n",
      "    accuracy                           0.97       414\n",
      "   macro avg       0.97      0.97      0.97       414\n",
      "weighted avg       0.97      0.97      0.97       414\n",
      "\n",
      "Confusion Matrix:\n",
      " [[172  12]\n",
      " [  1 229]]\n",
      "Average Accuracy: 0.9523\n"
     ]
    }
   ],
   "source": [
    "from sklearn.model_selection import KFold\n",
    "from sklearn.metrics import accuracy_score, classification_report, confusion_matrix\n",
    "from sklearn.ensemble import RandomForestClassifier\n",
    "from sklearn.preprocessing import StandardScaler\n",
    "from imblearn.over_sampling import RandomOverSampler\n",
    "import pandas as pd\n",
    "import joblib\n",
    "\n",
    "# Load your dataset\n",
    "df = pd.read_csv(\"./Radiomics_Feature_Train.csv\")\n",
    "df_dl=pd.read_csv(\"./Deep_Learning_Features.csv\")\n",
    "# Define features and target\n",
    "# Specify the feature names\n",
    "X_100 = df[RM_100_top_feature_names]\n",
    "X_100_DL_featues= pd.concat([X_100, df_dl], axis=1)\n",
    "X_100_DL_featues=X_100_DL_featues.drop('Patient_id', axis=1)\n",
    "y = df['Malignancy']\n",
    "\n",
    "# Use RandomOverSampler to oversample the minority class\n",
    "oversampler = RandomOverSampler(random_state=42)\n",
    "X_resampled, y_resampled = oversampler.fit_resample(X_100_DL_featues, y)\n",
    "\n",
    "# Standardize the data\n",
    "\n",
    "\n",
    "# Convert the resampled features and target back to DataFrame for ease of handling\n",
    "X_resampled_df = pd.DataFrame(X_resampled, columns=X_100_DL_featues.columns)\n",
    "y_resampled_df = pd.Series(y_resampled, name='Malignancy')\n",
    "\n",
    "# Combine the resampled features and target back into a DataFrame\n",
    "df_resampled = pd.concat([X_resampled_df, y_resampled_df], axis=1)\n",
    "\n",
    "# Prepare data for cross-validation\n",
    "X = df_resampled.drop(columns='Malignancy')\n",
    "y = df_resampled['Malignancy']\n",
    "\n",
    "# Define the number of folds (K)\n",
    "num_folds = 5\n",
    "kf = KFold(n_splits=num_folds, shuffle=True, random_state=42)\n",
    "accuracy_scores = []\n",
    "best_accuracy = 0\n",
    "best_model = None\n",
    "\n",
    "# Specify hyperparameters\n",
    "rf_hyperparameters = {\n",
    "    'max_depth': None,\n",
    "    'max_features': 'sqrt',\n",
    "    'min_samples_leaf': 1,\n",
    "    'min_samples_split': 2,\n",
    "    'n_estimators': 200\n",
    "}\n",
    "\n",
    "# Split the dataset into K folds\n",
    "for fold, (train_indices, test_indices) in enumerate(kf.split(X)):\n",
    "    print(f\"Fold {fold + 1}:\")\n",
    "    \n",
    "    # Split the data into training and test sets for this fold\n",
    "    X_train, X_test = X.iloc[train_indices], X.iloc[test_indices]\n",
    "    y_train, y_test = y.iloc[train_indices], y.iloc[test_indices]\n",
    "    \n",
    "    # Train the model\n",
    "    model = RandomForestClassifier(random_state=42, **rf_hyperparameters)\n",
    "    model.fit(X_train, y_train)\n",
    "    \n",
    "    # Make predictions on the test set\n",
    "    y_pred = model.predict(X_test)\n",
    "    \n",
    "    # Evaluate the model\n",
    "    accuracy = accuracy_score(y_test, y_pred)\n",
    "    accuracy_scores.append(accuracy)\n",
    "\n",
    "    # Check if current model is the best model\n",
    "    if accuracy > best_accuracy:\n",
    "        best_accuracy = accuracy\n",
    "        best_model = model\n",
    "\n",
    "    print(\"-\" * 30)\n",
    "    print(f\"Accuracy: {accuracy:.4f}\")\n",
    "    print(\"Classification Report:\\n\", classification_report(y_test, y_pred))\n",
    "    print(\"Confusion Matrix:\\n\", confusion_matrix(y_test, y_pred))\n",
    "\n",
    "# Save the best model\n",
    "\n",
    "joblib.dump(best_model, 'best_random_forest_model_100_128_features.pkl')\n",
    "# Standardize the full dataset for making final predictions\n",
    "#X_standardized = scaler.transform(X_200)\n",
    "y_pred_best = best_model.predict(X_100_DL_featues)\n",
    "\n",
    "# Save predictions to a CSV file\n",
    "Final_accuracy['RM 100 and 128 DL Features']=best_accuracy\n",
    "\n",
    "# Calculate and print the average accuracy\n",
    "avg_accuracy = sum(accuracy_scores) / len(accuracy_scores)\n",
    "print(f\"Average Accuracy: {avg_accuracy:.4f}\")"
   ]
  },
  {
   "cell_type": "markdown",
   "id": "8849f549",
   "metadata": {},
   "source": [
    "1218 RM and 20 Deep Learning"
   ]
  },
  {
   "cell_type": "code",
   "execution_count": 19,
   "id": "ce2e2b0c",
   "metadata": {},
   "outputs": [
    {
     "name": "stdout",
     "output_type": "stream",
     "text": [
      "[1.96418784e-02 0.00000000e+00 0.00000000e+00 1.80040896e-02\n",
      " 0.00000000e+00 4.14057200e-02 0.00000000e+00 0.00000000e+00\n",
      " 0.00000000e+00 1.38774794e-02 0.00000000e+00 0.00000000e+00\n",
      " 0.00000000e+00 0.00000000e+00 0.00000000e+00 0.00000000e+00\n",
      " 0.00000000e+00 0.00000000e+00 0.00000000e+00 0.00000000e+00\n",
      " 2.27826998e-02 0.00000000e+00 0.00000000e+00 0.00000000e+00\n",
      " 0.00000000e+00 0.00000000e+00 0.00000000e+00 0.00000000e+00\n",
      " 0.00000000e+00 0.00000000e+00 4.11298448e-02 0.00000000e+00\n",
      " 1.44066122e-02 1.53575525e-02 0.00000000e+00 3.59868623e-02\n",
      " 1.31772241e-02 0.00000000e+00 0.00000000e+00 0.00000000e+00\n",
      " 0.00000000e+00 0.00000000e+00 1.19192313e-02 0.00000000e+00\n",
      " 0.00000000e+00 4.36527296e-02 0.00000000e+00 1.19916599e-02\n",
      " 0.00000000e+00 0.00000000e+00 1.52145809e-02 0.00000000e+00\n",
      " 0.00000000e+00 0.00000000e+00 0.00000000e+00 1.68737248e-02\n",
      " 0.00000000e+00 4.88676008e-02 3.64589228e-03 0.00000000e+00\n",
      " 0.00000000e+00 1.92502694e-02 0.00000000e+00 1.72611089e-02\n",
      " 0.00000000e+00 0.00000000e+00 0.00000000e+00 0.00000000e+00\n",
      " 1.24599687e-02 0.00000000e+00 0.00000000e+00 3.23099602e-02\n",
      " 0.00000000e+00 1.14705016e-02 2.42614051e-02 0.00000000e+00\n",
      " 0.00000000e+00 0.00000000e+00 1.97975605e-02 0.00000000e+00\n",
      " 0.00000000e+00 4.63491309e-02 0.00000000e+00 4.86128074e-02\n",
      " 3.32601542e-02 2.95098285e-02 0.00000000e+00 0.00000000e+00\n",
      " 0.00000000e+00 2.95461893e-05 1.31979650e-02 0.00000000e+00\n",
      " 0.00000000e+00 1.14172289e-02 1.33977128e-02 0.00000000e+00\n",
      " 0.00000000e+00 0.00000000e+00 0.00000000e+00 0.00000000e+00\n",
      " 0.00000000e+00 1.73715338e-02 1.00813784e-02 4.28258346e-02\n",
      " 0.00000000e+00 4.76591883e-02 3.97002066e-02 1.47623980e-02\n",
      " 0.00000000e+00 0.00000000e+00 0.00000000e+00 0.00000000e+00\n",
      " 1.75121339e-02 0.00000000e+00 0.00000000e+00 0.00000000e+00\n",
      " 0.00000000e+00 0.00000000e+00 1.64719989e-02 0.00000000e+00\n",
      " 0.00000000e+00 0.00000000e+00 2.52379407e-02 0.00000000e+00\n",
      " 0.00000000e+00 0.00000000e+00 3.48309045e-02 1.30259512e-02]\n"
     ]
    },
    {
     "data": {
      "image/png": "[encoded data removed]",
      "text/plain": [
       "<Figure size 432x288 with 1 Axes>"
      ]
     },
     "metadata": {
      "needs_background": "light"
     },
     "output_type": "display_data"
    }
   ],
   "source": [
    "from sklearn.ensemble import ExtraTreesClassifier\n",
    "df_dl=pd.read_csv('./Deep_Learning_Features_Full.csv')\n",
    "df = pd.read_csv(\"./Radiomics_Feature.csv\")\n",
    "df_dl.fillna(0, inplace=True)\n",
    "# Separate features (X) and target variable (y)\n",
    "\n",
    "\n",
    "X=df_dl.drop(columns=['Patient_id'])\n",
    "\n",
    "y = df['Malignancy']\n",
    "\n",
    "# Split the dataset into training and testing sets\n",
    "\n",
    "\n",
    "# Standardize the data (important for PCA)\n",
    "from sklearn.preprocessing import StandardScaler\n",
    "X_standardized = StandardScaler().fit_transform(X)\n",
    "\n",
    "model = ExtraTreesClassifier()\n",
    "model.fit(X_standardized,y)\n",
    "print(model.feature_importances_)\n",
    "feat_importances = pd.Series(model.feature_importances_, index=X.columns)\n",
    "\n",
    "feat_importances.nlargest(20).plot(kind='barh')\n",
    "plt.show()"
   ]
  },
  {
   "cell_type": "code",
   "execution_count": 20,
   "id": "108b1a7c",
   "metadata": {},
   "outputs": [
    {
     "name": "stdout",
     "output_type": "stream",
     "text": [
      "['57', '83', '105', '81', '45', '103', '5', '30', '106', '35', '126', '84', '71', '85', '122', '74', '20', '78', '0', '61']\n",
      "['57', '83', '105', '81', '45', '103', '5', '30', '106', '35']\n"
     ]
    }
   ],
   "source": [
    "top_20_features = feat_importances.nlargest(20)  # Get the top 200 features\n",
    "DL_20_top_feature_names = top_20_features.index.tolist()  # Get the names of the top features as a list\n",
    "print(DL_20_top_feature_names)\n",
    "X_20=df_dl[DL_20_top_feature_names]\n",
    "\n",
    "top_10_features = feat_importances.nlargest(10)  # Get the top 200 features\n",
    "DL_10_top_feature_names = top_10_features.index.tolist()  # Get the names of the top features as a list\n",
    "print(DL_10_top_feature_names)\n",
    "X_10=df_dl[DL_10_top_feature_names]\n"
   ]
  },
  {
   "cell_type": "code",
   "execution_count": 21,
   "id": "ca80c880",
   "metadata": {},
   "outputs": [
    {
     "ename": "ValueError",
     "evalue": "Length mismatch: Expected axis has 2074 elements, new values have 2089 elements",
     "output_type": "error",
     "traceback": [
      "\u001b[1;31m---------------------------------------------------------------------------\u001b[0m",
      "\u001b[1;31mValueError\u001b[0m                                Traceback (most recent call last)",
      "Input \u001b[1;32mIn [21]\u001b[0m, in \u001b[0;36m<cell line: 22>\u001b[1;34m()\u001b[0m\n\u001b[0;32m     20\u001b[0m \u001b[38;5;66;03m# Use RandomOverSampler to oversample the minority class\u001b[39;00m\n\u001b[0;32m     21\u001b[0m oversampler \u001b[38;5;241m=\u001b[39m RandomOverSampler(random_state\u001b[38;5;241m=\u001b[39m\u001b[38;5;241m42\u001b[39m)\n\u001b[1;32m---> 22\u001b[0m X_resampled, y_resampled \u001b[38;5;241m=\u001b[39m \u001b[43moversampler\u001b[49m\u001b[38;5;241;43m.\u001b[39;49m\u001b[43mfit_resample\u001b[49m\u001b[43m(\u001b[49m\u001b[43mX_20_DL_featues\u001b[49m\u001b[43m,\u001b[49m\u001b[43m \u001b[49m\u001b[43my\u001b[49m\u001b[43m)\u001b[49m\n\u001b[0;32m     24\u001b[0m \u001b[38;5;66;03m# Standardize the data\u001b[39;00m\n\u001b[0;32m     25\u001b[0m \n\u001b[0;32m     26\u001b[0m \n\u001b[0;32m     27\u001b[0m \u001b[38;5;66;03m# Convert the resampled features and target back to DataFrame for ease of handling\u001b[39;00m\n\u001b[0;32m     28\u001b[0m X_resampled_df \u001b[38;5;241m=\u001b[39m pd\u001b[38;5;241m.\u001b[39mDataFrame(X_resampled, columns\u001b[38;5;241m=\u001b[39mX_20_DL_featues\u001b[38;5;241m.\u001b[39mcolumns)\n",
      "File \u001b[1;32mc:\\Users\\VIRUS\\AppData\\Local\\Programs\\Python\\Python310\\lib\\site-packages\\imblearn\\base.py:208\u001b[0m, in \u001b[0;36mBaseSampler.fit_resample\u001b[1;34m(self, X, y)\u001b[0m\n\u001b[0;32m    187\u001b[0m \u001b[38;5;250m\u001b[39m\u001b[38;5;124;03m\"\"\"Resample the dataset.\u001b[39;00m\n\u001b[0;32m    188\u001b[0m \n\u001b[0;32m    189\u001b[0m \u001b[38;5;124;03mParameters\u001b[39;00m\n\u001b[1;32m   (...)\u001b[0m\n\u001b[0;32m    205\u001b[0m \u001b[38;5;124;03m    The corresponding label of `X_resampled`.\u001b[39;00m\n\u001b[0;32m    206\u001b[0m \u001b[38;5;124;03m\"\"\"\u001b[39;00m\n\u001b[0;32m    207\u001b[0m \u001b[38;5;28mself\u001b[39m\u001b[38;5;241m.\u001b[39m_validate_params()\n\u001b[1;32m--> 208\u001b[0m \u001b[38;5;28;01mreturn\u001b[39;00m \u001b[38;5;28;43msuper\u001b[39;49m\u001b[43m(\u001b[49m\u001b[43m)\u001b[49m\u001b[38;5;241;43m.\u001b[39;49m\u001b[43mfit_resample\u001b[49m\u001b[43m(\u001b[49m\u001b[43mX\u001b[49m\u001b[43m,\u001b[49m\u001b[43m \u001b[49m\u001b[43my\u001b[49m\u001b[43m)\u001b[49m\n",
      "File \u001b[1;32mc:\\Users\\VIRUS\\AppData\\Local\\Programs\\Python\\Python310\\lib\\site-packages\\imblearn\\base.py:118\u001b[0m, in \u001b[0;36mSamplerMixin.fit_resample\u001b[1;34m(self, X, y)\u001b[0m\n\u001b[0;32m    112\u001b[0m output \u001b[38;5;241m=\u001b[39m \u001b[38;5;28mself\u001b[39m\u001b[38;5;241m.\u001b[39m_fit_resample(X, y)\n\u001b[0;32m    114\u001b[0m y_ \u001b[38;5;241m=\u001b[39m (\n\u001b[0;32m    115\u001b[0m     label_binarize(output[\u001b[38;5;241m1\u001b[39m], classes\u001b[38;5;241m=\u001b[39mnp\u001b[38;5;241m.\u001b[39munique(y)) \u001b[38;5;28;01mif\u001b[39;00m binarize_y \u001b[38;5;28;01melse\u001b[39;00m output[\u001b[38;5;241m1\u001b[39m]\n\u001b[0;32m    116\u001b[0m )\n\u001b[1;32m--> 118\u001b[0m X_, y_ \u001b[38;5;241m=\u001b[39m \u001b[43marrays_transformer\u001b[49m\u001b[38;5;241;43m.\u001b[39;49m\u001b[43mtransform\u001b[49m\u001b[43m(\u001b[49m\u001b[43moutput\u001b[49m\u001b[43m[\u001b[49m\u001b[38;5;241;43m0\u001b[39;49m\u001b[43m]\u001b[49m\u001b[43m,\u001b[49m\u001b[43m \u001b[49m\u001b[43my_\u001b[49m\u001b[43m)\u001b[49m\n\u001b[0;32m    119\u001b[0m \u001b[38;5;28;01mreturn\u001b[39;00m (X_, y_) \u001b[38;5;28;01mif\u001b[39;00m \u001b[38;5;28mlen\u001b[39m(output) \u001b[38;5;241m==\u001b[39m \u001b[38;5;241m2\u001b[39m \u001b[38;5;28;01melse\u001b[39;00m (X_, y_, output[\u001b[38;5;241m2\u001b[39m])\n",
      "File \u001b[1;32mc:\\Users\\VIRUS\\AppData\\Local\\Programs\\Python\\Python310\\lib\\site-packages\\imblearn\\utils\\_validation.py:46\u001b[0m, in \u001b[0;36mArraysTransformer.transform\u001b[1;34m(self, X, y)\u001b[0m\n\u001b[0;32m     40\u001b[0m y \u001b[38;5;241m=\u001b[39m \u001b[38;5;28mself\u001b[39m\u001b[38;5;241m.\u001b[39m_transfrom_one(y, \u001b[38;5;28mself\u001b[39m\u001b[38;5;241m.\u001b[39my_props)\n\u001b[0;32m     41\u001b[0m \u001b[38;5;28;01mif\u001b[39;00m \u001b[38;5;28mself\u001b[39m\u001b[38;5;241m.\u001b[39mx_props[\u001b[38;5;124m\"\u001b[39m\u001b[38;5;124mtype\u001b[39m\u001b[38;5;124m\"\u001b[39m]\u001b[38;5;241m.\u001b[39mlower() \u001b[38;5;241m==\u001b[39m \u001b[38;5;124m\"\u001b[39m\u001b[38;5;124mdataframe\u001b[39m\u001b[38;5;124m\"\u001b[39m \u001b[38;5;129;01mand\u001b[39;00m \u001b[38;5;28mself\u001b[39m\u001b[38;5;241m.\u001b[39my_props[\n\u001b[0;32m     42\u001b[0m     \u001b[38;5;124m\"\u001b[39m\u001b[38;5;124mtype\u001b[39m\u001b[38;5;124m\"\u001b[39m\n\u001b[0;32m     43\u001b[0m ]\u001b[38;5;241m.\u001b[39mlower() \u001b[38;5;129;01min\u001b[39;00m {\u001b[38;5;124m\"\u001b[39m\u001b[38;5;124mseries\u001b[39m\u001b[38;5;124m\"\u001b[39m, \u001b[38;5;124m\"\u001b[39m\u001b[38;5;124mdataframe\u001b[39m\u001b[38;5;124m\"\u001b[39m}:\n\u001b[0;32m     44\u001b[0m     \u001b[38;5;66;03m# We lost the y.index during resampling. We can safely use X.index to align\u001b[39;00m\n\u001b[0;32m     45\u001b[0m     \u001b[38;5;66;03m# them.\u001b[39;00m\n\u001b[1;32m---> 46\u001b[0m     y\u001b[38;5;241m.\u001b[39mindex \u001b[38;5;241m=\u001b[39m X\u001b[38;5;241m.\u001b[39mindex\n\u001b[0;32m     47\u001b[0m \u001b[38;5;28;01mreturn\u001b[39;00m X, y\n",
      "File \u001b[1;32mc:\\Users\\VIRUS\\AppData\\Local\\Programs\\Python\\Python310\\lib\\site-packages\\pandas\\core\\generic.py:5596\u001b[0m, in \u001b[0;36mNDFrame.__setattr__\u001b[1;34m(self, name, value)\u001b[0m\n\u001b[0;32m   5594\u001b[0m \u001b[38;5;28;01mtry\u001b[39;00m:\n\u001b[0;32m   5595\u001b[0m     \u001b[38;5;28mobject\u001b[39m\u001b[38;5;241m.\u001b[39m\u001b[38;5;21m__getattribute__\u001b[39m(\u001b[38;5;28mself\u001b[39m, name)\n\u001b[1;32m-> 5596\u001b[0m     \u001b[38;5;28;01mreturn\u001b[39;00m \u001b[38;5;28;43mobject\u001b[39;49m\u001b[38;5;241;43m.\u001b[39;49m\u001b[38;5;21;43m__setattr__\u001b[39;49m\u001b[43m(\u001b[49m\u001b[38;5;28;43mself\u001b[39;49m\u001b[43m,\u001b[49m\u001b[43m \u001b[49m\u001b[43mname\u001b[49m\u001b[43m,\u001b[49m\u001b[43m \u001b[49m\u001b[43mvalue\u001b[49m\u001b[43m)\u001b[49m\n\u001b[0;32m   5597\u001b[0m \u001b[38;5;28;01mexcept\u001b[39;00m \u001b[38;5;167;01mAttributeError\u001b[39;00m:\n\u001b[0;32m   5598\u001b[0m     \u001b[38;5;28;01mpass\u001b[39;00m\n",
      "File \u001b[1;32mc:\\Users\\VIRUS\\AppData\\Local\\Programs\\Python\\Python310\\lib\\site-packages\\pandas\\_libs\\properties.pyx:70\u001b[0m, in \u001b[0;36mpandas._libs.properties.AxisProperty.__set__\u001b[1;34m()\u001b[0m\n",
      "File \u001b[1;32mc:\\Users\\VIRUS\\AppData\\Local\\Programs\\Python\\Python310\\lib\\site-packages\\pandas\\core\\series.py:572\u001b[0m, in \u001b[0;36mSeries._set_axis\u001b[1;34m(self, axis, labels, fastpath)\u001b[0m\n\u001b[0;32m    568\u001b[0m             \u001b[38;5;28;01mpass\u001b[39;00m\n\u001b[0;32m    570\u001b[0m \u001b[38;5;28;01mif\u001b[39;00m \u001b[38;5;129;01mnot\u001b[39;00m fastpath:\n\u001b[0;32m    571\u001b[0m     \u001b[38;5;66;03m# The ensure_index call above ensures we have an Index object\u001b[39;00m\n\u001b[1;32m--> 572\u001b[0m     \u001b[38;5;28;43mself\u001b[39;49m\u001b[38;5;241;43m.\u001b[39;49m\u001b[43m_mgr\u001b[49m\u001b[38;5;241;43m.\u001b[39;49m\u001b[43mset_axis\u001b[49m\u001b[43m(\u001b[49m\u001b[43maxis\u001b[49m\u001b[43m,\u001b[49m\u001b[43m \u001b[49m\u001b[43mlabels\u001b[49m\u001b[43m)\u001b[49m\n",
      "File \u001b[1;32mc:\\Users\\VIRUS\\AppData\\Local\\Programs\\Python\\Python310\\lib\\site-packages\\pandas\\core\\internals\\managers.py:214\u001b[0m, in \u001b[0;36mBaseBlockManager.set_axis\u001b[1;34m(self, axis, new_labels)\u001b[0m\n\u001b[0;32m    212\u001b[0m \u001b[38;5;28;01mdef\u001b[39;00m \u001b[38;5;21mset_axis\u001b[39m(\u001b[38;5;28mself\u001b[39m, axis: \u001b[38;5;28mint\u001b[39m, new_labels: Index) \u001b[38;5;241m-\u001b[39m\u001b[38;5;241m>\u001b[39m \u001b[38;5;28;01mNone\u001b[39;00m:\n\u001b[0;32m    213\u001b[0m     \u001b[38;5;66;03m# Caller is responsible for ensuring we have an Index object.\u001b[39;00m\n\u001b[1;32m--> 214\u001b[0m     \u001b[38;5;28;43mself\u001b[39;49m\u001b[38;5;241;43m.\u001b[39;49m\u001b[43m_validate_set_axis\u001b[49m\u001b[43m(\u001b[49m\u001b[43maxis\u001b[49m\u001b[43m,\u001b[49m\u001b[43m \u001b[49m\u001b[43mnew_labels\u001b[49m\u001b[43m)\u001b[49m\n\u001b[0;32m    215\u001b[0m     \u001b[38;5;28mself\u001b[39m\u001b[38;5;241m.\u001b[39maxes[axis] \u001b[38;5;241m=\u001b[39m new_labels\n",
      "File \u001b[1;32mc:\\Users\\VIRUS\\AppData\\Local\\Programs\\Python\\Python310\\lib\\site-packages\\pandas\\core\\internals\\base.py:69\u001b[0m, in \u001b[0;36mDataManager._validate_set_axis\u001b[1;34m(self, axis, new_labels)\u001b[0m\n\u001b[0;32m     66\u001b[0m     \u001b[38;5;28;01mpass\u001b[39;00m\n\u001b[0;32m     68\u001b[0m \u001b[38;5;28;01melif\u001b[39;00m new_len \u001b[38;5;241m!=\u001b[39m old_len:\n\u001b[1;32m---> 69\u001b[0m     \u001b[38;5;28;01mraise\u001b[39;00m \u001b[38;5;167;01mValueError\u001b[39;00m(\n\u001b[0;32m     70\u001b[0m         \u001b[38;5;124mf\u001b[39m\u001b[38;5;124m\"\u001b[39m\u001b[38;5;124mLength mismatch: Expected axis has \u001b[39m\u001b[38;5;132;01m{\u001b[39;00mold_len\u001b[38;5;132;01m}\u001b[39;00m\u001b[38;5;124m elements, new \u001b[39m\u001b[38;5;124m\"\u001b[39m\n\u001b[0;32m     71\u001b[0m         \u001b[38;5;124mf\u001b[39m\u001b[38;5;124m\"\u001b[39m\u001b[38;5;124mvalues have \u001b[39m\u001b[38;5;132;01m{\u001b[39;00mnew_len\u001b[38;5;132;01m}\u001b[39;00m\u001b[38;5;124m elements\u001b[39m\u001b[38;5;124m\"\u001b[39m\n\u001b[0;32m     72\u001b[0m     )\n",
      "\u001b[1;31mValueError\u001b[0m: Length mismatch: Expected axis has 2074 elements, new values have 2089 elements"
     ]
    }
   ],
   "source": [
    "from sklearn.model_selection import KFold\n",
    "from sklearn.metrics import accuracy_score, classification_report, confusion_matrix\n",
    "from sklearn.ensemble import RandomForestClassifier\n",
    "from sklearn.preprocessing import StandardScaler\n",
    "from imblearn.over_sampling import RandomOverSampler\n",
    "import pandas as pd\n",
    "import joblib\n",
    "\n",
    "# Load your dataset\n",
    "df = pd.read_csv(\"./Radiomics_Feature_Train.csv\")\n",
    "df_dl=pd.read_csv(\"./Deep_Learning_Features.csv\")\n",
    "# Define features and target\n",
    "# Specify the feature names\n",
    "X_rm=df.drop(['Patient_id','Malignancy','nodule no'], axis=1)\n",
    "\n",
    "X_20_DL_featues= pd.concat([X_rm, X_20], axis=1)\n",
    "\n",
    "y = df['Malignancy']\n",
    "\n",
    "# Use RandomOverSampler to oversample the minority class\n",
    "oversampler = RandomOverSampler(random_state=42)\n",
    "X_resampled, y_resampled = oversampler.fit_resample(X_20_DL_featues, y)\n",
    "\n",
    "# Standardize the data\n",
    "\n",
    "\n",
    "# Convert the resampled features and target back to DataFrame for ease of handling\n",
    "X_resampled_df = pd.DataFrame(X_resampled, columns=X_20_DL_featues.columns)\n",
    "y_resampled_df = pd.Series(y_resampled, name='Malignancy')\n",
    "\n",
    "# Combine the resampled features and target back into a DataFrame\n",
    "df_resampled = pd.concat([X_resampled_df, y_resampled_df], axis=1)\n",
    "\n",
    "# Prepare data for cross-validation\n",
    "X = df_resampled.drop(columns='Malignancy')\n",
    "y = df_resampled['Malignancy']\n",
    "\n",
    "# Define the number of folds (K)\n",
    "num_folds = 5\n",
    "kf = KFold(n_splits=num_folds, shuffle=True, random_state=42)\n",
    "accuracy_scores = []\n",
    "best_accuracy = 0\n",
    "best_model = None\n",
    "\n",
    "# Specify hyperparameters\n",
    "rf_hyperparameters = {\n",
    "    'max_depth': None,\n",
    "    'max_features': 'sqrt',\n",
    "    'min_samples_leaf': 1,\n",
    "    'min_samples_split': 2,\n",
    "    'n_estimators': 200\n",
    "}\n",
    "\n",
    "# Split the dataset into K folds\n",
    "for fold, (train_indices, test_indices) in enumerate(kf.split(X)):\n",
    "    print(f\"Fold {fold + 1}:\")\n",
    "    \n",
    "    # Split the data into training and test sets for this fold\n",
    "    X_train, X_test = X.iloc[train_indices], X.iloc[test_indices]\n",
    "    y_train, y_test = y.iloc[train_indices], y.iloc[test_indices]\n",
    "    \n",
    "    # Train the model\n",
    "    model = RandomForestClassifier(random_state=42, **rf_hyperparameters)\n",
    "    model.fit(X_train, y_train)\n",
    "    \n",
    "    # Make predictions on the test set\n",
    "    y_pred = model.predict(X_test)\n",
    "    \n",
    "    # Evaluate the model\n",
    "    accuracy = accuracy_score(y_test, y_pred)\n",
    "    accuracy_scores.append(accuracy)\n",
    "\n",
    "    # Check if current model is the best model\n",
    "    if accuracy > best_accuracy:\n",
    "        best_accuracy = accuracy\n",
    "        best_model = model\n",
    "\n",
    "    print(\"-\" * 30)\n",
    "    print(f\"Accuracy: {accuracy:.4f}\")\n",
    "    print(\"Classification Report:\\n\", classification_report(y_test, y_pred))\n",
    "    print(\"Confusion Matrix:\\n\", confusion_matrix(y_test, y_pred))\n",
    "\n",
    "# Save the best model\n",
    "\n",
    "joblib.dump(best_model, 'best_random_forest_model_1218_20_features.pkl')\n",
    "# Standardize the full dataset for making final predictions\n",
    "#X_standardized = scaler.transform(X_200)\n",
    "y_pred_best = best_model.predict(X_20_DL_featues)\n",
    "\n",
    "# Save predictions to a CSV file\n",
    "Final_accuracy['RM 1218 and 20 DL Features']=best_accuracy\n",
    "\n",
    "# Calculate and print the average accuracy\n",
    "avg_accuracy = sum(accuracy_scores) / len(accuracy_scores)\n",
    "print(f\"Average Accuracy: {avg_accuracy:.4f}\")"
   ]
  },
  {
   "cell_type": "code",
   "execution_count": null,
   "id": "5e88a674",
   "metadata": {},
   "outputs": [
    {
     "name": "stdout",
     "output_type": "stream",
     "text": [
      "Fold 1:\n",
      "------------------------------\n",
      "Accuracy: 0.9422\n",
      "Classification Report:\n",
      "               precision    recall  f1-score   support\n",
      "\n",
      "           0       0.97      0.91      0.94       212\n",
      "           1       0.91      0.98      0.94       203\n",
      "\n",
      "    accuracy                           0.94       415\n",
      "   macro avg       0.94      0.94      0.94       415\n",
      "weighted avg       0.94      0.94      0.94       415\n",
      "\n",
      "Confusion Matrix:\n",
      " [[193  19]\n",
      " [  5 198]]\n",
      "Fold 2:\n",
      "------------------------------\n",
      "Accuracy: 0.9687\n",
      "Classification Report:\n",
      "               precision    recall  f1-score   support\n",
      "\n",
      "           0       0.97      0.96      0.97       191\n",
      "           1       0.97      0.97      0.97       224\n",
      "\n",
      "    accuracy                           0.97       415\n",
      "   macro avg       0.97      0.97      0.97       415\n",
      "weighted avg       0.97      0.97      0.97       415\n",
      "\n",
      "Confusion Matrix:\n",
      " [[184   7]\n",
      " [  6 218]]\n",
      "Fold 3:\n",
      "------------------------------\n",
      "Accuracy: 0.9422\n",
      "Classification Report:\n",
      "               precision    recall  f1-score   support\n",
      "\n",
      "           0       0.97      0.92      0.94       222\n",
      "           1       0.91      0.97      0.94       193\n",
      "\n",
      "    accuracy                           0.94       415\n",
      "   macro avg       0.94      0.94      0.94       415\n",
      "weighted avg       0.94      0.94      0.94       415\n",
      "\n",
      "Confusion Matrix:\n",
      " [[204  18]\n",
      " [  6 187]]\n",
      "Fold 4:\n",
      "------------------------------\n",
      "Accuracy: 0.9060\n",
      "Classification Report:\n",
      "               precision    recall  f1-score   support\n",
      "\n",
      "           0       0.96      0.87      0.91       228\n",
      "           1       0.86      0.95      0.90       187\n",
      "\n",
      "    accuracy                           0.91       415\n",
      "   macro avg       0.91      0.91      0.91       415\n",
      "weighted avg       0.91      0.91      0.91       415\n",
      "\n",
      "Confusion Matrix:\n",
      " [[198  30]\n",
      " [  9 178]]\n",
      "Fold 5:\n",
      "------------------------------\n",
      "Accuracy: 0.9614\n",
      "Classification Report:\n",
      "               precision    recall  f1-score   support\n",
      "\n",
      "           0       0.99      0.92      0.95       184\n",
      "           1       0.94      1.00      0.97       230\n",
      "\n",
      "    accuracy                           0.96       414\n",
      "   macro avg       0.97      0.96      0.96       414\n",
      "weighted avg       0.96      0.96      0.96       414\n",
      "\n",
      "Confusion Matrix:\n",
      " [[169  15]\n",
      " [  1 229]]\n",
      "Average Accuracy: 0.9441\n"
     ]
    }
   ],
   "source": [
    "from sklearn.model_selection import KFold\n",
    "from sklearn.metrics import accuracy_score, classification_report, confusion_matrix\n",
    "from sklearn.ensemble import RandomForestClassifier\n",
    "from sklearn.preprocessing import StandardScaler\n",
    "from imblearn.over_sampling import RandomOverSampler\n",
    "import pandas as pd\n",
    "import joblib\n",
    "\n",
    "# Load your dataset\n",
    "df = pd.read_csv(\"./Radiomics_Feature_Train.csv\")\n",
    "df_dl=pd.read_csv(\"./Deep_Learning_Features.csv\")\n",
    "# Define features and target\n",
    "# Specify the feature names\n",
    "X_rm=df.drop(['Patient_id','Malignancy','nodule no'], axis=1)\n",
    "\n",
    "X_10_DL_featues= pd.concat([X_rm, X_10], axis=1)\n",
    "\n",
    "y = df['Malignancy']\n",
    "\n",
    "# Use RandomOverSampler to oversample the minority class\n",
    "oversampler = RandomOverSampler(random_state=42)\n",
    "X_resampled, y_resampled = oversampler.fit_resample(X_10_DL_featues, y)\n",
    "\n",
    "# Standardize the data\n",
    "\n",
    "\n",
    "# Convert the resampled features and target back to DataFrame for ease of handling\n",
    "X_resampled_df = pd.DataFrame(X_resampled, columns=X_10_DL_featues.columns)\n",
    "y_resampled_df = pd.Series(y_resampled, name='Malignancy')\n",
    "\n",
    "# Combine the resampled features and target back into a DataFrame\n",
    "df_resampled = pd.concat([X_resampled_df, y_resampled_df], axis=1)\n",
    "\n",
    "# Prepare data for cross-validation\n",
    "X = df_resampled.drop(columns='Malignancy')\n",
    "y = df_resampled['Malignancy']\n",
    "\n",
    "# Define the number of folds (K)\n",
    "num_folds = 5\n",
    "kf = KFold(n_splits=num_folds, shuffle=True, random_state=42)\n",
    "accuracy_scores = []\n",
    "best_accuracy = 0\n",
    "best_model = None\n",
    "\n",
    "# Specify hyperparameters\n",
    "rf_hyperparameters = {\n",
    "    'max_depth': None,\n",
    "    'max_features': 'sqrt',\n",
    "    'min_samples_leaf': 1,\n",
    "    'min_samples_split': 2,\n",
    "    'n_estimators': 200\n",
    "}\n",
    "\n",
    "# Split the dataset into K folds\n",
    "for fold, (train_indices, test_indices) in enumerate(kf.split(X)):\n",
    "    print(f\"Fold {fold + 1}:\")\n",
    "    \n",
    "    # Split the data into training and test sets for this fold\n",
    "    X_train, X_test = X.iloc[train_indices], X.iloc[test_indices]\n",
    "    y_train, y_test = y.iloc[train_indices], y.iloc[test_indices]\n",
    "    \n",
    "    # Train the model\n",
    "    model = RandomForestClassifier(random_state=42, **rf_hyperparameters)\n",
    "    model.fit(X_train, y_train)\n",
    "    \n",
    "    # Make predictions on the test set\n",
    "    y_pred = model.predict(X_test)\n",
    "    \n",
    "    # Evaluate the model\n",
    "    accuracy = accuracy_score(y_test, y_pred)\n",
    "    accuracy_scores.append(accuracy)\n",
    "\n",
    "    # Check if current model is the best model\n",
    "    if accuracy > best_accuracy:\n",
    "        best_accuracy = accuracy\n",
    "        best_model = model\n",
    "\n",
    "    print(\"-\" * 30)\n",
    "    print(f\"Accuracy: {accuracy:.4f}\")\n",
    "    print(\"Classification Report:\\n\", classification_report(y_test, y_pred))\n",
    "    print(\"Confusion Matrix:\\n\", confusion_matrix(y_test, y_pred))\n",
    "\n",
    "# Save the best model\n",
    "\n",
    "joblib.dump(best_model, 'best_random_forest_model_1218_10_features.pkl')\n",
    "# Standardize the full dataset for making final predictions\n",
    "#X_standardized = scaler.transform(X_200)\n",
    "y_pred_best = best_model.predict(X_10_DL_featues)\n",
    "\n",
    "# Save predictions to a CSV file\n",
    "Final_accuracy['RM 1218 and 10 DL Features']=best_accuracy\n",
    "\n",
    "# Calculate and print the average accuracy\n",
    "avg_accuracy = sum(accuracy_scores) / len(accuracy_scores)\n",
    "print(f\"Average Accuracy: {avg_accuracy:.4f}\")"
   ]
  },
  {
   "cell_type": "code",
   "execution_count": null,
   "id": "e3ba73e8",
   "metadata": {},
   "outputs": [
    {
     "name": "stdout",
     "output_type": "stream",
     "text": [
      "Fold 1:\n",
      "------------------------------\n",
      "Accuracy: 0.9566\n",
      "Classification Report:\n",
      "               precision    recall  f1-score   support\n",
      "\n",
      "           0       0.98      0.93      0.96       212\n",
      "           1       0.93      0.99      0.96       203\n",
      "\n",
      "    accuracy                           0.96       415\n",
      "   macro avg       0.96      0.96      0.96       415\n",
      "weighted avg       0.96      0.96      0.96       415\n",
      "\n",
      "Confusion Matrix:\n",
      " [[197  15]\n",
      " [  3 200]]\n",
      "Fold 2:\n",
      "------------------------------\n",
      "Accuracy: 0.9614\n",
      "Classification Report:\n",
      "               precision    recall  f1-score   support\n",
      "\n",
      "           0       0.97      0.95      0.96       191\n",
      "           1       0.96      0.97      0.96       224\n",
      "\n",
      "    accuracy                           0.96       415\n",
      "   macro avg       0.96      0.96      0.96       415\n",
      "weighted avg       0.96      0.96      0.96       415\n",
      "\n",
      "Confusion Matrix:\n",
      " [[181  10]\n",
      " [  6 218]]\n",
      "Fold 3:\n",
      "------------------------------\n",
      "Accuracy: 0.9470\n",
      "Classification Report:\n",
      "               precision    recall  f1-score   support\n",
      "\n",
      "           0       0.98      0.92      0.95       222\n",
      "           1       0.92      0.97      0.94       193\n",
      "\n",
      "    accuracy                           0.95       415\n",
      "   macro avg       0.95      0.95      0.95       415\n",
      "weighted avg       0.95      0.95      0.95       415\n",
      "\n",
      "Confusion Matrix:\n",
      " [[205  17]\n",
      " [  5 188]]\n",
      "Fold 4:\n",
      "------------------------------\n",
      "Accuracy: 0.9060\n",
      "Classification Report:\n",
      "               precision    recall  f1-score   support\n",
      "\n",
      "           0       0.96      0.86      0.91       228\n",
      "           1       0.85      0.96      0.90       187\n",
      "\n",
      "    accuracy                           0.91       415\n",
      "   macro avg       0.91      0.91      0.91       415\n",
      "weighted avg       0.91      0.91      0.91       415\n",
      "\n",
      "Confusion Matrix:\n",
      " [[197  31]\n",
      " [  8 179]]\n",
      "Fold 5:\n",
      "------------------------------\n",
      "Accuracy: 0.9662\n",
      "Classification Report:\n",
      "               precision    recall  f1-score   support\n",
      "\n",
      "           0       0.99      0.93      0.96       184\n",
      "           1       0.95      1.00      0.97       230\n",
      "\n",
      "    accuracy                           0.97       414\n",
      "   macro avg       0.97      0.96      0.97       414\n",
      "weighted avg       0.97      0.97      0.97       414\n",
      "\n",
      "Confusion Matrix:\n",
      " [[171  13]\n",
      " [  1 229]]\n",
      "Average Accuracy: 0.9475\n"
     ]
    }
   ],
   "source": [
    "from sklearn.model_selection import KFold\n",
    "from sklearn.metrics import accuracy_score, classification_report, confusion_matrix\n",
    "from sklearn.ensemble import RandomForestClassifier\n",
    "from sklearn.preprocessing import StandardScaler\n",
    "from imblearn.over_sampling import RandomOverSampler\n",
    "import pandas as pd\n",
    "import joblib\n",
    "\n",
    "# Load your dataset\n",
    "df = pd.read_csv(\"./Radiomics_Feature_Train.csv\")\n",
    "df_dl=pd.read_csv(\"./Deep_Learning_Features.csv\")\n",
    "# Define features and target\n",
    "# Specify the feature names\n",
    "X_200 = df[RM_200_top_feature_names]\n",
    "X_220_DL_featues= pd.concat([X_200, X_20], axis=1)\n",
    "#X_220_DL_featues=X_220_DL_featues.drop('Patient_id', axis=1)\n",
    "y = df['Malignancy']\n",
    "\n",
    "# Use RandomOverSampler to oversample the minority class\n",
    "oversampler = RandomOverSampler(random_state=42)\n",
    "X_resampled, y_resampled = oversampler.fit_resample(X_220_DL_featues, y)\n",
    "\n",
    "# Standardize the data\n",
    "\n",
    "\n",
    "# Convert the resampled features and target back to DataFrame for ease of handling\n",
    "X_resampled_df = pd.DataFrame(X_resampled, columns=X_220_DL_featues.columns)\n",
    "y_resampled_df = pd.Series(y_resampled, name='Malignancy')\n",
    "\n",
    "# Combine the resampled features and target back into a DataFrame\n",
    "df_resampled = pd.concat([X_resampled_df, y_resampled_df], axis=1)\n",
    "\n",
    "# Prepare data for cross-validation\n",
    "X = df_resampled.drop(columns='Malignancy')\n",
    "y = df_resampled['Malignancy']\n",
    "\n",
    "# Define the number of folds (K)\n",
    "num_folds = 5\n",
    "kf = KFold(n_splits=num_folds, shuffle=True, random_state=42)\n",
    "accuracy_scores = []\n",
    "best_accuracy = 0\n",
    "best_model = None\n",
    "\n",
    "# Specify hyperparameters\n",
    "rf_hyperparameters = {\n",
    "    'max_depth': None,\n",
    "    'max_features': 'sqrt',\n",
    "    'min_samples_leaf': 1,\n",
    "    'min_samples_split': 2,\n",
    "    'n_estimators': 200\n",
    "}\n",
    "\n",
    "# Split the dataset into K folds\n",
    "for fold, (train_indices, test_indices) in enumerate(kf.split(X)):\n",
    "    print(f\"Fold {fold + 1}:\")\n",
    "    \n",
    "    # Split the data into training and test sets for this fold\n",
    "    X_train, X_test = X.iloc[train_indices], X.iloc[test_indices]\n",
    "    y_train, y_test = y.iloc[train_indices], y.iloc[test_indices]\n",
    "    \n",
    "    # Train the model\n",
    "    model = RandomForestClassifier(random_state=42, **rf_hyperparameters)\n",
    "    model.fit(X_train, y_train)\n",
    "    \n",
    "    # Make predictions on the test set\n",
    "    y_pred = model.predict(X_test)\n",
    "    \n",
    "    # Evaluate the model\n",
    "    accuracy = accuracy_score(y_test, y_pred)\n",
    "    accuracy_scores.append(accuracy)\n",
    "\n",
    "    # Check if current model is the best model\n",
    "    if accuracy > best_accuracy:\n",
    "        best_accuracy = accuracy\n",
    "        best_model = model\n",
    "\n",
    "    print(\"-\" * 30)\n",
    "    print(f\"Accuracy: {accuracy:.4f}\")\n",
    "    print(\"Classification Report:\\n\", classification_report(y_test, y_pred))\n",
    "    print(\"Confusion Matrix:\\n\", confusion_matrix(y_test, y_pred))\n",
    "\n",
    "# Save the best model\n",
    "\n",
    "joblib.dump(best_model, 'best_random_forest_model_200_20_features.pkl')\n",
    "# Standardize the full dataset for making final predictions\n",
    "#X_standardized = scaler.transform(X_200)\n",
    "y_pred_best = best_model.predict(X_220_DL_featues)\n",
    "\n",
    "# Save predictions to a CSV file\n",
    "Final_accuracy['RM 200 and 20 DL Features']=best_accuracy\n",
    "\n",
    "# Calculate and print the average accuracy\n",
    "avg_accuracy = sum(accuracy_scores) / len(accuracy_scores)\n",
    "print(f\"Average Accuracy: {avg_accuracy:.4f}\")"
   ]
  },
  {
   "cell_type": "code",
   "execution_count": null,
   "id": "9f7a8344",
   "metadata": {},
   "outputs": [
    {
     "name": "stdout",
     "output_type": "stream",
     "text": [
      "Fold 1:\n",
      "------------------------------\n",
      "Accuracy: 0.9446\n",
      "Classification Report:\n",
      "               precision    recall  f1-score   support\n",
      "\n",
      "           0       0.98      0.91      0.94       212\n",
      "           1       0.91      0.99      0.95       203\n",
      "\n",
      "    accuracy                           0.94       415\n",
      "   macro avg       0.95      0.95      0.94       415\n",
      "weighted avg       0.95      0.94      0.94       415\n",
      "\n",
      "Confusion Matrix:\n",
      " [[192  20]\n",
      " [  3 200]]\n",
      "Fold 2:\n",
      "------------------------------\n",
      "Accuracy: 0.9494\n",
      "Classification Report:\n",
      "               precision    recall  f1-score   support\n",
      "\n",
      "           0       0.96      0.93      0.94       191\n",
      "           1       0.94      0.96      0.95       224\n",
      "\n",
      "    accuracy                           0.95       415\n",
      "   macro avg       0.95      0.95      0.95       415\n",
      "weighted avg       0.95      0.95      0.95       415\n",
      "\n",
      "Confusion Matrix:\n",
      " [[178  13]\n",
      " [  8 216]]\n",
      "Fold 3:\n",
      "------------------------------\n",
      "Accuracy: 0.9349\n",
      "Classification Report:\n",
      "               precision    recall  f1-score   support\n",
      "\n",
      "           0       0.98      0.90      0.94       222\n",
      "           1       0.90      0.97      0.93       193\n",
      "\n",
      "    accuracy                           0.93       415\n",
      "   macro avg       0.94      0.94      0.93       415\n",
      "weighted avg       0.94      0.93      0.94       415\n",
      "\n",
      "Confusion Matrix:\n",
      " [[200  22]\n",
      " [  5 188]]\n",
      "Fold 4:\n",
      "------------------------------\n",
      "Accuracy: 0.9060\n",
      "Classification Report:\n",
      "               precision    recall  f1-score   support\n",
      "\n",
      "           0       0.96      0.87      0.91       228\n",
      "           1       0.86      0.95      0.90       187\n",
      "\n",
      "    accuracy                           0.91       415\n",
      "   macro avg       0.91      0.91      0.91       415\n",
      "weighted avg       0.91      0.91      0.91       415\n",
      "\n",
      "Confusion Matrix:\n",
      " [[198  30]\n",
      " [  9 178]]\n",
      "Fold 5:\n",
      "------------------------------\n",
      "Accuracy: 0.9662\n",
      "Classification Report:\n",
      "               precision    recall  f1-score   support\n",
      "\n",
      "           0       0.99      0.93      0.96       184\n",
      "           1       0.95      1.00      0.97       230\n",
      "\n",
      "    accuracy                           0.97       414\n",
      "   macro avg       0.97      0.96      0.97       414\n",
      "weighted avg       0.97      0.97      0.97       414\n",
      "\n",
      "Confusion Matrix:\n",
      " [[171  13]\n",
      " [  1 229]]\n",
      "Average Accuracy: 0.9402\n"
     ]
    }
   ],
   "source": [
    "from sklearn.model_selection import KFold\n",
    "from sklearn.metrics import accuracy_score, classification_report, confusion_matrix\n",
    "from sklearn.ensemble import RandomForestClassifier\n",
    "from sklearn.preprocessing import StandardScaler\n",
    "from imblearn.over_sampling import RandomOverSampler\n",
    "import pandas as pd\n",
    "import joblib\n",
    "\n",
    "# Load your dataset\n",
    "df = pd.read_csv(\"./Radiomics_Feature_Train.csv\")\n",
    "df_dl=pd.read_csv(\"./Deep_Learning_Features.csv\")\n",
    "# Define features and target\n",
    "# Specify the feature names\n",
    "X_200 = df[RM_200_top_feature_names]\n",
    "X_210_DL_featues= pd.concat([X_200, X_10], axis=1)\n",
    "#X_220_DL_featues=X_220_DL_featues.drop('Patient_id', axis=1)\n",
    "y = df['Malignancy']\n",
    "\n",
    "# Use RandomOverSampler to oversample the minority class\n",
    "oversampler = RandomOverSampler(random_state=42)\n",
    "X_resampled, y_resampled = oversampler.fit_resample(X_210_DL_featues, y)\n",
    "\n",
    "# Standardize the data\n",
    "\n",
    "\n",
    "# Convert the resampled features and target back to DataFrame for ease of handling\n",
    "X_resampled_df = pd.DataFrame(X_resampled, columns=X_210_DL_featues.columns)\n",
    "y_resampled_df = pd.Series(y_resampled, name='Malignancy')\n",
    "\n",
    "# Combine the resampled features and target back into a DataFrame\n",
    "df_resampled = pd.concat([X_resampled_df, y_resampled_df], axis=1)\n",
    "\n",
    "# Prepare data for cross-validation\n",
    "X = df_resampled.drop(columns='Malignancy')\n",
    "y = df_resampled['Malignancy']\n",
    "\n",
    "# Define the number of folds (K)\n",
    "num_folds = 5\n",
    "kf = KFold(n_splits=num_folds, shuffle=True, random_state=42)\n",
    "accuracy_scores = []\n",
    "best_accuracy = 0\n",
    "best_model = None\n",
    "\n",
    "# Specify hyperparameters\n",
    "rf_hyperparameters = {\n",
    "    'max_depth': None,\n",
    "    'max_features': 'sqrt',\n",
    "    'min_samples_leaf': 1,\n",
    "    'min_samples_split': 2,\n",
    "    'n_estimators': 200\n",
    "}\n",
    "\n",
    "# Split the dataset into K folds\n",
    "for fold, (train_indices, test_indices) in enumerate(kf.split(X)):\n",
    "    print(f\"Fold {fold + 1}:\")\n",
    "    \n",
    "    # Split the data into training and test sets for this fold\n",
    "    X_train, X_test = X.iloc[train_indices], X.iloc[test_indices]\n",
    "    y_train, y_test = y.iloc[train_indices], y.iloc[test_indices]\n",
    "    \n",
    "    # Train the model\n",
    "    model = RandomForestClassifier(random_state=42, **rf_hyperparameters)\n",
    "    model.fit(X_train, y_train)\n",
    "    \n",
    "    # Make predictions on the test set\n",
    "    y_pred = model.predict(X_test)\n",
    "    \n",
    "    # Evaluate the model\n",
    "    accuracy = accuracy_score(y_test, y_pred)\n",
    "    accuracy_scores.append(accuracy)\n",
    "\n",
    "    # Check if current model is the best model\n",
    "    if accuracy > best_accuracy:\n",
    "        best_accuracy = accuracy\n",
    "        best_model = model\n",
    "\n",
    "    print(\"-\" * 30)\n",
    "    print(f\"Accuracy: {accuracy:.4f}\")\n",
    "    print(\"Classification Report:\\n\", classification_report(y_test, y_pred))\n",
    "    print(\"Confusion Matrix:\\n\", confusion_matrix(y_test, y_pred))\n",
    "\n",
    "# Save the best model\n",
    "\n",
    "joblib.dump(best_model, 'best_random_forest_model_200_10_features.pkl')\n",
    "# Standardize the full dataset for making final predictions\n",
    "#X_standardized = scaler.transform(X_200)\n",
    "y_pred_best = best_model.predict(X_210_DL_featues)\n",
    "\n",
    "# Save predictions to a CSV file\n",
    "Final_accuracy['RM 200 and 10 DL Features']=best_accuracy\n",
    "\n",
    "# Calculate and print the average accuracy\n",
    "avg_accuracy = sum(accuracy_scores) / len(accuracy_scores)\n",
    "print(f\"Average Accuracy: {avg_accuracy:.4f}\")"
   ]
  },
  {
   "cell_type": "markdown",
   "id": "b6c30813",
   "metadata": {},
   "source": [
    "RM 200 DL 20 "
   ]
  },
  {
   "cell_type": "code",
   "execution_count": null,
   "id": "a3e2f6a1",
   "metadata": {},
   "outputs": [],
   "source": []
  },
  {
   "cell_type": "code",
   "execution_count": null,
   "id": "9adf3f13",
   "metadata": {},
   "outputs": [
    {
     "data": {
      "text/plain": [
       "{'RM 1218 DL 128 Features': 0.9710843373493976,\n",
       " 'RM 200 and 128 DL Features': 0.966183574879227,\n",
       " 'RM 100 and 128 DL Features': 0.966183574879227,\n",
       " 'RM 1218 and 20 DL Features': 0.9614457831325302,\n",
       " 'RM 1218 and 10 DL Features': 0.9686746987951808,\n",
       " 'RM 200 and 20 DL Features': 0.966183574879227,\n",
       " 'RM 200 and 10 DL Features': 0.966183574879227}"
      ]
     },
     "execution_count": 40,
     "metadata": {},
     "output_type": "execute_result"
    }
   ],
   "source": [
    "Final_accuracy"
   ]
  },
  {
   "cell_type": "code",
   "execution_count": null,
   "id": "b655c132",
   "metadata": {},
   "outputs": [
    {
     "data": {
      "image/png": "[encoded data removed]",
      "text/plain": [
       "<Figure size 576x432 with 1 Axes>"
      ]
     },
     "metadata": {
      "needs_background": "light"
     },
     "output_type": "display_data"
    }
   ],
   "source": [
    "import matplotlib.pyplot as plt\n",
    "import numpy as np\n",
    "\n",
    "# Your data\n",
    "data = Final_accuracy\n",
    "\n",
    "# Extract model names and corresponding accuracies for each scenario\n",
    "# Plotting\n",
    "plt.figure(figsize=(8, 6))\n",
    "bars = plt.bar(data.keys(), data.values(), color='skyblue')\n",
    "plt.xlabel('Number of Features')\n",
    "plt.ylabel('Accuracy')\n",
    "plt.title('Accuracy Comparison of Different Feature Sets')\n",
    "plt.ylim(0.9, 0.99)  # Set y-axis limits for better visualization\n",
    "plt.grid(axis='y', linestyle='--', alpha=0.7)\n",
    "plt.xticks(rotation=45)  # Rotate x-axis labels for better readability\n",
    "\n",
    "# Adding labels to the bars\n",
    "for bar in bars:\n",
    "    yval = bar.get_height()\n",
    "    plt.text(bar.get_x() + bar.get_width()/2, yval + 0.001, round(yval, 4), ha='center', va='bottom')\n",
    "\n",
    "plt.tight_layout()\n",
    "plt.show()"
   ]
  },
  {
   "cell_type": "code",
   "execution_count": null,
   "id": "545d5fbb",
   "metadata": {},
   "outputs": [],
   "source": [
    "import numpy as np\n",
    "import pandas as pd\n",
    "from tensorflow.keras.models import Sequential, Model, load_model\n",
    "from tensorflow.keras.layers import Conv3D, MaxPooling3D, Flatten, Dense, Input\n",
    "import os\n",
    "import datetime\n",
    "import tensorflow as tf\n",
    "import joblib\n",
    "import SimpleITK as sitk\n",
    "import numpy as np\n",
    "from radiomics import featureextractor,imageoperations\n",
    "import os\n",
    "import pandas as pd\n",
    "from pandas import DataFrame as DF\n",
    "import warnings\n",
    "import time\n",
    "from time import sleep\n",
    "from tqdm import tqdm\n",
    "from skimage import measure"
   ]
  },
  {
   "cell_type": "code",
   "execution_count": null,
   "id": "d02e4b79",
   "metadata": {},
   "outputs": [],
   "source": [
    "Final_accuracy_test={}"
   ]
  },
  {
   "cell_type": "code",
   "execution_count": null,
   "id": "b7ff5271",
   "metadata": {},
   "outputs": [
    {
     "data": {
      "text/plain": [
       "'2024-05-30'"
      ]
     },
     "execution_count": 44,
     "metadata": {},
     "output_type": "execute_result"
    }
   ],
   "source": [
    "import datetime\n",
    "\n",
    "# Get the current date\n",
    "current_date = datetime.date.today()\n",
    "\n",
    "# Format the date as a string in the desired format\n",
    "current_date = current_date.strftime(\"%Y-%m-%d\")\n",
    "current_date"
   ]
  },
  {
   "cell_type": "code",
   "execution_count": null,
   "id": "8babfeb9",
   "metadata": {},
   "outputs": [
    {
     "data": {
      "text/plain": [
       "['../../DataSet Files/Nodule_crop\\\\LIDC-IDRI-0001',\n",
       " '../../DataSet Files/Nodule_crop\\\\LIDC-IDRI-0002',\n",
       " '../../DataSet Files/Nodule_crop\\\\LIDC-IDRI-0003',\n",
       " '../../DataSet Files/Nodule_crop\\\\LIDC-IDRI-0004',\n",
       " '../../DataSet Files/Nodule_crop\\\\LIDC-IDRI-0005',\n",
       " '../../DataSet Files/Nodule_crop\\\\LIDC-IDRI-0006',\n",
       " '../../DataSet Files/Nodule_crop\\\\LIDC-IDRI-0007',\n",
       " '../../DataSet Files/Nodule_crop\\\\LIDC-IDRI-0008',\n",
       " '../../DataSet Files/Nodule_crop\\\\LIDC-IDRI-0010',\n",
       " '../../DataSet Files/Nodule_crop\\\\LIDC-IDRI-0011',\n",
       " '../../DataSet Files/Nodule_crop\\\\LIDC-IDRI-0012',\n",
       " '../../DataSet Files/Nodule_crop\\\\LIDC-IDRI-0013',\n",
       " '../../DataSet Files/Nodule_crop\\\\LIDC-IDRI-0014',\n",
       " '../../DataSet Files/Nodule_crop\\\\LIDC-IDRI-0016',\n",
       " '../../DataSet Files/Nodule_crop\\\\LIDC-IDRI-0018',\n",
       " '../../DataSet Files/Nodule_crop\\\\LIDC-IDRI-0020',\n",
       " '../../DataSet Files/Nodule_crop\\\\LIDC-IDRI-0021',\n",
       " '../../DataSet Files/Nodule_crop\\\\LIDC-IDRI-0023',\n",
       " '../../DataSet Files/Nodule_crop\\\\LIDC-IDRI-0024',\n",
       " '../../DataSet Files/Nodule_crop\\\\LIDC-IDRI-0026',\n",
       " '../../DataSet Files/Nodule_crop\\\\LIDC-IDRI-0027',\n",
       " '../../DataSet Files/Nodule_crop\\\\LIDC-IDRI-0030',\n",
       " '../../DataSet Files/Nodule_crop\\\\LIDC-IDRI-0034',\n",
       " '../../DataSet Files/Nodule_crop\\\\LIDC-IDRI-0035',\n",
       " '../../DataSet Files/Nodule_crop\\\\LIDC-IDRI-0036',\n",
       " '../../DataSet Files/Nodule_crop\\\\LIDC-IDRI-0037',\n",
       " '../../DataSet Files/Nodule_crop\\\\LIDC-IDRI-0039',\n",
       " '../../DataSet Files/Nodule_crop\\\\LIDC-IDRI-0040',\n",
       " '../../DataSet Files/Nodule_crop\\\\LIDC-IDRI-0041',\n",
       " '../../DataSet Files/Nodule_crop\\\\LIDC-IDRI-0042',\n",
       " '../../DataSet Files/Nodule_crop\\\\LIDC-IDRI-0043',\n",
       " '../../DataSet Files/Nodule_crop\\\\LIDC-IDRI-0044',\n",
       " '../../DataSet Files/Nodule_crop\\\\LIDC-IDRI-0046',\n",
       " '../../DataSet Files/Nodule_crop\\\\LIDC-IDRI-0047',\n",
       " '../../DataSet Files/Nodule_crop\\\\LIDC-IDRI-0048',\n",
       " '../../DataSet Files/Nodule_crop\\\\LIDC-IDRI-0049',\n",
       " '../../DataSet Files/Nodule_crop\\\\LIDC-IDRI-0050',\n",
       " '../../DataSet Files/Nodule_crop\\\\LIDC-IDRI-0051',\n",
       " '../../DataSet Files/Nodule_crop\\\\LIDC-IDRI-0052',\n",
       " '../../DataSet Files/Nodule_crop\\\\LIDC-IDRI-0054',\n",
       " '../../DataSet Files/Nodule_crop\\\\LIDC-IDRI-0055',\n",
       " '../../DataSet Files/Nodule_crop\\\\LIDC-IDRI-0057',\n",
       " '../../DataSet Files/Nodule_crop\\\\LIDC-IDRI-0058',\n",
       " '../../DataSet Files/Nodule_crop\\\\LIDC-IDRI-0059',\n",
       " '../../DataSet Files/Nodule_crop\\\\LIDC-IDRI-0060',\n",
       " '../../DataSet Files/Nodule_crop\\\\LIDC-IDRI-0061',\n",
       " '../../DataSet Files/Nodule_crop\\\\LIDC-IDRI-0063',\n",
       " '../../DataSet Files/Nodule_crop\\\\LIDC-IDRI-0065',\n",
       " '../../DataSet Files/Nodule_crop\\\\LIDC-IDRI-0066',\n",
       " '../../DataSet Files/Nodule_crop\\\\LIDC-IDRI-0067',\n",
       " '../../DataSet Files/Nodule_crop\\\\LIDC-IDRI-0068',\n",
       " '../../DataSet Files/Nodule_crop\\\\LIDC-IDRI-0070',\n",
       " '../../DataSet Files/Nodule_crop\\\\LIDC-IDRI-0073',\n",
       " '../../DataSet Files/Nodule_crop\\\\LIDC-IDRI-0074',\n",
       " '../../DataSet Files/Nodule_crop\\\\LIDC-IDRI-0075',\n",
       " '../../DataSet Files/Nodule_crop\\\\LIDC-IDRI-0076',\n",
       " '../../DataSet Files/Nodule_crop\\\\LIDC-IDRI-0077',\n",
       " '../../DataSet Files/Nodule_crop\\\\LIDC-IDRI-0080',\n",
       " '../../DataSet Files/Nodule_crop\\\\LIDC-IDRI-0081',\n",
       " '../../DataSet Files/Nodule_crop\\\\LIDC-IDRI-0082',\n",
       " '../../DataSet Files/Nodule_crop\\\\LIDC-IDRI-0085',\n",
       " '../../DataSet Files/Nodule_crop\\\\LIDC-IDRI-0086',\n",
       " '../../DataSet Files/Nodule_crop\\\\LIDC-IDRI-0087',\n",
       " '../../DataSet Files/Nodule_crop\\\\LIDC-IDRI-0088',\n",
       " '../../DataSet Files/Nodule_crop\\\\LIDC-IDRI-0089',\n",
       " '../../DataSet Files/Nodule_crop\\\\LIDC-IDRI-0090',\n",
       " '../../DataSet Files/Nodule_crop\\\\LIDC-IDRI-0091',\n",
       " '../../DataSet Files/Nodule_crop\\\\LIDC-IDRI-0092',\n",
       " '../../DataSet Files/Nodule_crop\\\\LIDC-IDRI-0093',\n",
       " '../../DataSet Files/Nodule_crop\\\\LIDC-IDRI-0094',\n",
       " '../../DataSet Files/Nodule_crop\\\\LIDC-IDRI-0095',\n",
       " '../../DataSet Files/Nodule_crop\\\\LIDC-IDRI-0096',\n",
       " '../../DataSet Files/Nodule_crop\\\\LIDC-IDRI-0097',\n",
       " '../../DataSet Files/Nodule_crop\\\\LIDC-IDRI-0099',\n",
       " '../../DataSet Files/Nodule_crop\\\\LIDC-IDRI-0102',\n",
       " '../../DataSet Files/Nodule_crop\\\\LIDC-IDRI-0104',\n",
       " '../../DataSet Files/Nodule_crop\\\\LIDC-IDRI-0105',\n",
       " '../../DataSet Files/Nodule_crop\\\\LIDC-IDRI-0107',\n",
       " '../../DataSet Files/Nodule_crop\\\\LIDC-IDRI-0109',\n",
       " '../../DataSet Files/Nodule_crop\\\\LIDC-IDRI-0110',\n",
       " '../../DataSet Files/Nodule_crop\\\\LIDC-IDRI-0112',\n",
       " '../../DataSet Files/Nodule_crop\\\\LIDC-IDRI-0113',\n",
       " '../../DataSet Files/Nodule_crop\\\\LIDC-IDRI-0114',\n",
       " '../../DataSet Files/Nodule_crop\\\\LIDC-IDRI-0116',\n",
       " '../../DataSet Files/Nodule_crop\\\\LIDC-IDRI-0118',\n",
       " '../../DataSet Files/Nodule_crop\\\\LIDC-IDRI-0121',\n",
       " '../../DataSet Files/Nodule_crop\\\\LIDC-IDRI-0123',\n",
       " '../../DataSet Files/Nodule_crop\\\\LIDC-IDRI-0124',\n",
       " '../../DataSet Files/Nodule_crop\\\\LIDC-IDRI-0125',\n",
       " '../../DataSet Files/Nodule_crop\\\\LIDC-IDRI-0128',\n",
       " '../../DataSet Files/Nodule_crop\\\\LIDC-IDRI-0131',\n",
       " '../../DataSet Files/Nodule_crop\\\\LIDC-IDRI-0132',\n",
       " '../../DataSet Files/Nodule_crop\\\\LIDC-IDRI-0133',\n",
       " '../../DataSet Files/Nodule_crop\\\\LIDC-IDRI-0135',\n",
       " '../../DataSet Files/Nodule_crop\\\\LIDC-IDRI-0137',\n",
       " '../../DataSet Files/Nodule_crop\\\\LIDC-IDRI-0139',\n",
       " '../../DataSet Files/Nodule_crop\\\\LIDC-IDRI-0142',\n",
       " '../../DataSet Files/Nodule_crop\\\\LIDC-IDRI-0144',\n",
       " '../../DataSet Files/Nodule_crop\\\\LIDC-IDRI-0145',\n",
       " '../../DataSet Files/Nodule_crop\\\\LIDC-IDRI-0146',\n",
       " '../../DataSet Files/Nodule_crop\\\\LIDC-IDRI-0148',\n",
       " '../../DataSet Files/Nodule_crop\\\\LIDC-IDRI-0151',\n",
       " '../../DataSet Files/Nodule_crop\\\\LIDC-IDRI-0155',\n",
       " '../../DataSet Files/Nodule_crop\\\\LIDC-IDRI-0156',\n",
       " '../../DataSet Files/Nodule_crop\\\\LIDC-IDRI-0157',\n",
       " '../../DataSet Files/Nodule_crop\\\\LIDC-IDRI-0159',\n",
       " '../../DataSet Files/Nodule_crop\\\\LIDC-IDRI-0160',\n",
       " '../../DataSet Files/Nodule_crop\\\\LIDC-IDRI-0161',\n",
       " '../../DataSet Files/Nodule_crop\\\\LIDC-IDRI-0162',\n",
       " '../../DataSet Files/Nodule_crop\\\\LIDC-IDRI-0163',\n",
       " '../../DataSet Files/Nodule_crop\\\\LIDC-IDRI-0166',\n",
       " '../../DataSet Files/Nodule_crop\\\\LIDC-IDRI-0167',\n",
       " '../../DataSet Files/Nodule_crop\\\\LIDC-IDRI-0168',\n",
       " '../../DataSet Files/Nodule_crop\\\\LIDC-IDRI-0169',\n",
       " '../../DataSet Files/Nodule_crop\\\\LIDC-IDRI-0170',\n",
       " '../../DataSet Files/Nodule_crop\\\\LIDC-IDRI-0172',\n",
       " '../../DataSet Files/Nodule_crop\\\\LIDC-IDRI-0175',\n",
       " '../../DataSet Files/Nodule_crop\\\\LIDC-IDRI-0176',\n",
       " '../../DataSet Files/Nodule_crop\\\\LIDC-IDRI-0178',\n",
       " '../../DataSet Files/Nodule_crop\\\\LIDC-IDRI-0179',\n",
       " '../../DataSet Files/Nodule_crop\\\\LIDC-IDRI-0181',\n",
       " '../../DataSet Files/Nodule_crop\\\\LIDC-IDRI-0182',\n",
       " '../../DataSet Files/Nodule_crop\\\\LIDC-IDRI-0183',\n",
       " '../../DataSet Files/Nodule_crop\\\\LIDC-IDRI-0184',\n",
       " '../../DataSet Files/Nodule_crop\\\\LIDC-IDRI-0185',\n",
       " '../../DataSet Files/Nodule_crop\\\\LIDC-IDRI-0186',\n",
       " '../../DataSet Files/Nodule_crop\\\\LIDC-IDRI-0187',\n",
       " '../../DataSet Files/Nodule_crop\\\\LIDC-IDRI-0188',\n",
       " '../../DataSet Files/Nodule_crop\\\\LIDC-IDRI-0190',\n",
       " '../../DataSet Files/Nodule_crop\\\\LIDC-IDRI-0191',\n",
       " '../../DataSet Files/Nodule_crop\\\\LIDC-IDRI-0192',\n",
       " '../../DataSet Files/Nodule_crop\\\\LIDC-IDRI-0193',\n",
       " '../../DataSet Files/Nodule_crop\\\\LIDC-IDRI-0194',\n",
       " '../../DataSet Files/Nodule_crop\\\\LIDC-IDRI-0196',\n",
       " '../../DataSet Files/Nodule_crop\\\\LIDC-IDRI-0198',\n",
       " '../../DataSet Files/Nodule_crop\\\\LIDC-IDRI-0199',\n",
       " '../../DataSet Files/Nodule_crop\\\\LIDC-IDRI-0200',\n",
       " '../../DataSet Files/Nodule_crop\\\\LIDC-IDRI-0201',\n",
       " '../../DataSet Files/Nodule_crop\\\\LIDC-IDRI-0202',\n",
       " '../../DataSet Files/Nodule_crop\\\\LIDC-IDRI-0203',\n",
       " '../../DataSet Files/Nodule_crop\\\\LIDC-IDRI-0204',\n",
       " '../../DataSet Files/Nodule_crop\\\\LIDC-IDRI-0206',\n",
       " '../../DataSet Files/Nodule_crop\\\\LIDC-IDRI-0208',\n",
       " '../../DataSet Files/Nodule_crop\\\\LIDC-IDRI-0210',\n",
       " '../../DataSet Files/Nodule_crop\\\\LIDC-IDRI-0213',\n",
       " '../../DataSet Files/Nodule_crop\\\\LIDC-IDRI-0215',\n",
       " '../../DataSet Files/Nodule_crop\\\\LIDC-IDRI-0216',\n",
       " '../../DataSet Files/Nodule_crop\\\\LIDC-IDRI-0217',\n",
       " '../../DataSet Files/Nodule_crop\\\\LIDC-IDRI-0219',\n",
       " '../../DataSet Files/Nodule_crop\\\\LIDC-IDRI-0221',\n",
       " '../../DataSet Files/Nodule_crop\\\\LIDC-IDRI-0222',\n",
       " '../../DataSet Files/Nodule_crop\\\\LIDC-IDRI-0223',\n",
       " '../../DataSet Files/Nodule_crop\\\\LIDC-IDRI-0227',\n",
       " '../../DataSet Files/Nodule_crop\\\\LIDC-IDRI-0228',\n",
       " '../../DataSet Files/Nodule_crop\\\\LIDC-IDRI-0229',\n",
       " '../../DataSet Files/Nodule_crop\\\\LIDC-IDRI-0230',\n",
       " '../../DataSet Files/Nodule_crop\\\\LIDC-IDRI-0232',\n",
       " '../../DataSet Files/Nodule_crop\\\\LIDC-IDRI-0233',\n",
       " '../../DataSet Files/Nodule_crop\\\\LIDC-IDRI-0237',\n",
       " '../../DataSet Files/Nodule_crop\\\\LIDC-IDRI-0240',\n",
       " '../../DataSet Files/Nodule_crop\\\\LIDC-IDRI-0241',\n",
       " '../../DataSet Files/Nodule_crop\\\\LIDC-IDRI-0242',\n",
       " '../../DataSet Files/Nodule_crop\\\\LIDC-IDRI-0244',\n",
       " '../../DataSet Files/Nodule_crop\\\\LIDC-IDRI-0245',\n",
       " '../../DataSet Files/Nodule_crop\\\\LIDC-IDRI-0246',\n",
       " '../../DataSet Files/Nodule_crop\\\\LIDC-IDRI-0248',\n",
       " '../../DataSet Files/Nodule_crop\\\\LIDC-IDRI-0249',\n",
       " '../../DataSet Files/Nodule_crop\\\\LIDC-IDRI-0251',\n",
       " '../../DataSet Files/Nodule_crop\\\\LIDC-IDRI-0252',\n",
       " '../../DataSet Files/Nodule_crop\\\\LIDC-IDRI-0254',\n",
       " '../../DataSet Files/Nodule_crop\\\\LIDC-IDRI-0255',\n",
       " '../../DataSet Files/Nodule_crop\\\\LIDC-IDRI-0256',\n",
       " '../../DataSet Files/Nodule_crop\\\\LIDC-IDRI-0257',\n",
       " '../../DataSet Files/Nodule_crop\\\\LIDC-IDRI-0258',\n",
       " '../../DataSet Files/Nodule_crop\\\\LIDC-IDRI-0259',\n",
       " '../../DataSet Files/Nodule_crop\\\\LIDC-IDRI-0260',\n",
       " '../../DataSet Files/Nodule_crop\\\\LIDC-IDRI-0263',\n",
       " '../../DataSet Files/Nodule_crop\\\\LIDC-IDRI-0264',\n",
       " '../../DataSet Files/Nodule_crop\\\\LIDC-IDRI-0265',\n",
       " '../../DataSet Files/Nodule_crop\\\\LIDC-IDRI-0267',\n",
       " '../../DataSet Files/Nodule_crop\\\\LIDC-IDRI-0269',\n",
       " '../../DataSet Files/Nodule_crop\\\\LIDC-IDRI-0271',\n",
       " '../../DataSet Files/Nodule_crop\\\\LIDC-IDRI-0272',\n",
       " '../../DataSet Files/Nodule_crop\\\\LIDC-IDRI-0274',\n",
       " '../../DataSet Files/Nodule_crop\\\\LIDC-IDRI-0276',\n",
       " '../../DataSet Files/Nodule_crop\\\\LIDC-IDRI-0277',\n",
       " '../../DataSet Files/Nodule_crop\\\\LIDC-IDRI-0281',\n",
       " '../../DataSet Files/Nodule_crop\\\\LIDC-IDRI-0283',\n",
       " '../../DataSet Files/Nodule_crop\\\\LIDC-IDRI-0284',\n",
       " '../../DataSet Files/Nodule_crop\\\\LIDC-IDRI-0285',\n",
       " '../../DataSet Files/Nodule_crop\\\\LIDC-IDRI-0288',\n",
       " '../../DataSet Files/Nodule_crop\\\\LIDC-IDRI-0289',\n",
       " '../../DataSet Files/Nodule_crop\\\\LIDC-IDRI-0291',\n",
       " '../../DataSet Files/Nodule_crop\\\\LIDC-IDRI-0292',\n",
       " '../../DataSet Files/Nodule_crop\\\\LIDC-IDRI-0294',\n",
       " '../../DataSet Files/Nodule_crop\\\\LIDC-IDRI-0297',\n",
       " '../../DataSet Files/Nodule_crop\\\\LIDC-IDRI-0298',\n",
       " '../../DataSet Files/Nodule_crop\\\\LIDC-IDRI-0299',\n",
       " '../../DataSet Files/Nodule_crop\\\\LIDC-IDRI-0300',\n",
       " '../../DataSet Files/Nodule_crop\\\\LIDC-IDRI-0301',\n",
       " '../../DataSet Files/Nodule_crop\\\\LIDC-IDRI-0304',\n",
       " '../../DataSet Files/Nodule_crop\\\\LIDC-IDRI-0308',\n",
       " '../../DataSet Files/Nodule_crop\\\\LIDC-IDRI-0309',\n",
       " '../../DataSet Files/Nodule_crop\\\\LIDC-IDRI-0310',\n",
       " '../../DataSet Files/Nodule_crop\\\\LIDC-IDRI-0311',\n",
       " '../../DataSet Files/Nodule_crop\\\\LIDC-IDRI-0314',\n",
       " '../../DataSet Files/Nodule_crop\\\\LIDC-IDRI-0315',\n",
       " '../../DataSet Files/Nodule_crop\\\\LIDC-IDRI-0317',\n",
       " '../../DataSet Files/Nodule_crop\\\\LIDC-IDRI-0318',\n",
       " '../../DataSet Files/Nodule_crop\\\\LIDC-IDRI-0319',\n",
       " '../../DataSet Files/Nodule_crop\\\\LIDC-IDRI-0324',\n",
       " '../../DataSet Files/Nodule_crop\\\\LIDC-IDRI-0325',\n",
       " '../../DataSet Files/Nodule_crop\\\\LIDC-IDRI-0329',\n",
       " '../../DataSet Files/Nodule_crop\\\\LIDC-IDRI-0332',\n",
       " '../../DataSet Files/Nodule_crop\\\\LIDC-IDRI-0334',\n",
       " '../../DataSet Files/Nodule_crop\\\\LIDC-IDRI-0335',\n",
       " '../../DataSet Files/Nodule_crop\\\\LIDC-IDRI-0337',\n",
       " '../../DataSet Files/Nodule_crop\\\\LIDC-IDRI-0338',\n",
       " '../../DataSet Files/Nodule_crop\\\\LIDC-IDRI-0339',\n",
       " '../../DataSet Files/Nodule_crop\\\\LIDC-IDRI-0343',\n",
       " '../../DataSet Files/Nodule_crop\\\\LIDC-IDRI-0344',\n",
       " '../../DataSet Files/Nodule_crop\\\\LIDC-IDRI-0345',\n",
       " '../../DataSet Files/Nodule_crop\\\\LIDC-IDRI-0346',\n",
       " '../../DataSet Files/Nodule_crop\\\\LIDC-IDRI-0347',\n",
       " '../../DataSet Files/Nodule_crop\\\\LIDC-IDRI-0348',\n",
       " '../../DataSet Files/Nodule_crop\\\\LIDC-IDRI-0351',\n",
       " '../../DataSet Files/Nodule_crop\\\\LIDC-IDRI-0352',\n",
       " '../../DataSet Files/Nodule_crop\\\\LIDC-IDRI-0353',\n",
       " '../../DataSet Files/Nodule_crop\\\\LIDC-IDRI-0354',\n",
       " '../../DataSet Files/Nodule_crop\\\\LIDC-IDRI-0355',\n",
       " '../../DataSet Files/Nodule_crop\\\\LIDC-IDRI-0356',\n",
       " '../../DataSet Files/Nodule_crop\\\\LIDC-IDRI-0358',\n",
       " '../../DataSet Files/Nodule_crop\\\\LIDC-IDRI-0360',\n",
       " '../../DataSet Files/Nodule_crop\\\\LIDC-IDRI-0362',\n",
       " '../../DataSet Files/Nodule_crop\\\\LIDC-IDRI-0365',\n",
       " '../../DataSet Files/Nodule_crop\\\\LIDC-IDRI-0366',\n",
       " '../../DataSet Files/Nodule_crop\\\\LIDC-IDRI-0369',\n",
       " '../../DataSet Files/Nodule_crop\\\\LIDC-IDRI-0371',\n",
       " '../../DataSet Files/Nodule_crop\\\\LIDC-IDRI-0375',\n",
       " '../../DataSet Files/Nodule_crop\\\\LIDC-IDRI-0376',\n",
       " '../../DataSet Files/Nodule_crop\\\\LIDC-IDRI-0377',\n",
       " '../../DataSet Files/Nodule_crop\\\\LIDC-IDRI-0378',\n",
       " '../../DataSet Files/Nodule_crop\\\\LIDC-IDRI-0379',\n",
       " '../../DataSet Files/Nodule_crop\\\\LIDC-IDRI-0380',\n",
       " '../../DataSet Files/Nodule_crop\\\\LIDC-IDRI-0381',\n",
       " '../../DataSet Files/Nodule_crop\\\\LIDC-IDRI-0384',\n",
       " '../../DataSet Files/Nodule_crop\\\\LIDC-IDRI-0385',\n",
       " '../../DataSet Files/Nodule_crop\\\\LIDC-IDRI-0386',\n",
       " '../../DataSet Files/Nodule_crop\\\\LIDC-IDRI-0387',\n",
       " '../../DataSet Files/Nodule_crop\\\\LIDC-IDRI-0388',\n",
       " '../../DataSet Files/Nodule_crop\\\\LIDC-IDRI-0390',\n",
       " '../../DataSet Files/Nodule_crop\\\\LIDC-IDRI-0392',\n",
       " '../../DataSet Files/Nodule_crop\\\\LIDC-IDRI-0394',\n",
       " '../../DataSet Files/Nodule_crop\\\\LIDC-IDRI-0395',\n",
       " '../../DataSet Files/Nodule_crop\\\\LIDC-IDRI-0397',\n",
       " '../../DataSet Files/Nodule_crop\\\\LIDC-IDRI-0398',\n",
       " '../../DataSet Files/Nodule_crop\\\\LIDC-IDRI-0399',\n",
       " '../../DataSet Files/Nodule_crop\\\\LIDC-IDRI-0405',\n",
       " '../../DataSet Files/Nodule_crop\\\\LIDC-IDRI-0406',\n",
       " '../../DataSet Files/Nodule_crop\\\\LIDC-IDRI-0409',\n",
       " '../../DataSet Files/Nodule_crop\\\\LIDC-IDRI-0411',\n",
       " '../../DataSet Files/Nodule_crop\\\\LIDC-IDRI-0412',\n",
       " '../../DataSet Files/Nodule_crop\\\\LIDC-IDRI-0413',\n",
       " '../../DataSet Files/Nodule_crop\\\\LIDC-IDRI-0414',\n",
       " '../../DataSet Files/Nodule_crop\\\\LIDC-IDRI-0416',\n",
       " '../../DataSet Files/Nodule_crop\\\\LIDC-IDRI-0420',\n",
       " '../../DataSet Files/Nodule_crop\\\\LIDC-IDRI-0421',\n",
       " '../../DataSet Files/Nodule_crop\\\\LIDC-IDRI-0423',\n",
       " '../../DataSet Files/Nodule_crop\\\\LIDC-IDRI-0424',\n",
       " '../../DataSet Files/Nodule_crop\\\\LIDC-IDRI-0427',\n",
       " '../../DataSet Files/Nodule_crop\\\\LIDC-IDRI-0429',\n",
       " '../../DataSet Files/Nodule_crop\\\\LIDC-IDRI-0430',\n",
       " '../../DataSet Files/Nodule_crop\\\\LIDC-IDRI-0433',\n",
       " '../../DataSet Files/Nodule_crop\\\\LIDC-IDRI-0434',\n",
       " '../../DataSet Files/Nodule_crop\\\\LIDC-IDRI-0437',\n",
       " '../../DataSet Files/Nodule_crop\\\\LIDC-IDRI-0438',\n",
       " '../../DataSet Files/Nodule_crop\\\\LIDC-IDRI-0439',\n",
       " '../../DataSet Files/Nodule_crop\\\\LIDC-IDRI-0440',\n",
       " '../../DataSet Files/Nodule_crop\\\\LIDC-IDRI-0442',\n",
       " '../../DataSet Files/Nodule_crop\\\\LIDC-IDRI-0443',\n",
       " '../../DataSet Files/Nodule_crop\\\\LIDC-IDRI-0444',\n",
       " '../../DataSet Files/Nodule_crop\\\\LIDC-IDRI-0445',\n",
       " '../../DataSet Files/Nodule_crop\\\\LIDC-IDRI-0448',\n",
       " '../../DataSet Files/Nodule_crop\\\\LIDC-IDRI-0449',\n",
       " '../../DataSet Files/Nodule_crop\\\\LIDC-IDRI-0451',\n",
       " '../../DataSet Files/Nodule_crop\\\\LIDC-IDRI-0452',\n",
       " '../../DataSet Files/Nodule_crop\\\\LIDC-IDRI-0453',\n",
       " '../../DataSet Files/Nodule_crop\\\\LIDC-IDRI-0456',\n",
       " '../../DataSet Files/Nodule_crop\\\\LIDC-IDRI-0458',\n",
       " '../../DataSet Files/Nodule_crop\\\\LIDC-IDRI-0460',\n",
       " '../../DataSet Files/Nodule_crop\\\\LIDC-IDRI-0462',\n",
       " '../../DataSet Files/Nodule_crop\\\\LIDC-IDRI-0463',\n",
       " '../../DataSet Files/Nodule_crop\\\\LIDC-IDRI-0466',\n",
       " '../../DataSet Files/Nodule_crop\\\\LIDC-IDRI-0467',\n",
       " '../../DataSet Files/Nodule_crop\\\\LIDC-IDRI-0468',\n",
       " '../../DataSet Files/Nodule_crop\\\\LIDC-IDRI-0469',\n",
       " '../../DataSet Files/Nodule_crop\\\\LIDC-IDRI-0474',\n",
       " '../../DataSet Files/Nodule_crop\\\\LIDC-IDRI-0475',\n",
       " '../../DataSet Files/Nodule_crop\\\\LIDC-IDRI-0478',\n",
       " '../../DataSet Files/Nodule_crop\\\\LIDC-IDRI-0479',\n",
       " '../../DataSet Files/Nodule_crop\\\\LIDC-IDRI-0480',\n",
       " '../../DataSet Files/Nodule_crop\\\\LIDC-IDRI-0481',\n",
       " '../../DataSet Files/Nodule_crop\\\\LIDC-IDRI-0484',\n",
       " '../../DataSet Files/Nodule_crop\\\\LIDC-IDRI-0486',\n",
       " '../../DataSet Files/Nodule_crop\\\\LIDC-IDRI-0487',\n",
       " '../../DataSet Files/Nodule_crop\\\\LIDC-IDRI-0489',\n",
       " '../../DataSet Files/Nodule_crop\\\\LIDC-IDRI-0490',\n",
       " '../../DataSet Files/Nodule_crop\\\\LIDC-IDRI-0492',\n",
       " '../../DataSet Files/Nodule_crop\\\\LIDC-IDRI-0493',\n",
       " '../../DataSet Files/Nodule_crop\\\\LIDC-IDRI-0498',\n",
       " '../../DataSet Files/Nodule_crop\\\\LIDC-IDRI-0499',\n",
       " '../../DataSet Files/Nodule_crop\\\\LIDC-IDRI-0500',\n",
       " '../../DataSet Files/Nodule_crop\\\\LIDC-IDRI-0503',\n",
       " '../../DataSet Files/Nodule_crop\\\\LIDC-IDRI-0504',\n",
       " '../../DataSet Files/Nodule_crop\\\\LIDC-IDRI-0507',\n",
       " '../../DataSet Files/Nodule_crop\\\\LIDC-IDRI-0509',\n",
       " '../../DataSet Files/Nodule_crop\\\\LIDC-IDRI-0510',\n",
       " '../../DataSet Files/Nodule_crop\\\\LIDC-IDRI-0515',\n",
       " '../../DataSet Files/Nodule_crop\\\\LIDC-IDRI-0518',\n",
       " '../../DataSet Files/Nodule_crop\\\\LIDC-IDRI-0521',\n",
       " '../../DataSet Files/Nodule_crop\\\\LIDC-IDRI-0522',\n",
       " '../../DataSet Files/Nodule_crop\\\\LIDC-IDRI-0525',\n",
       " '../../DataSet Files/Nodule_crop\\\\LIDC-IDRI-0526',\n",
       " '../../DataSet Files/Nodule_crop\\\\LIDC-IDRI-0527',\n",
       " '../../DataSet Files/Nodule_crop\\\\LIDC-IDRI-0529',\n",
       " '../../DataSet Files/Nodule_crop\\\\LIDC-IDRI-0530',\n",
       " '../../DataSet Files/Nodule_crop\\\\LIDC-IDRI-0532',\n",
       " '../../DataSet Files/Nodule_crop\\\\LIDC-IDRI-0533',\n",
       " '../../DataSet Files/Nodule_crop\\\\LIDC-IDRI-0534',\n",
       " '../../DataSet Files/Nodule_crop\\\\LIDC-IDRI-0535',\n",
       " '../../DataSet Files/Nodule_crop\\\\LIDC-IDRI-0537',\n",
       " '../../DataSet Files/Nodule_crop\\\\LIDC-IDRI-0538',\n",
       " '../../DataSet Files/Nodule_crop\\\\LIDC-IDRI-0541',\n",
       " '../../DataSet Files/Nodule_crop\\\\LIDC-IDRI-0542',\n",
       " '../../DataSet Files/Nodule_crop\\\\LIDC-IDRI-0543',\n",
       " '../../DataSet Files/Nodule_crop\\\\LIDC-IDRI-0546',\n",
       " '../../DataSet Files/Nodule_crop\\\\LIDC-IDRI-0547',\n",
       " '../../DataSet Files/Nodule_crop\\\\LIDC-IDRI-0552',\n",
       " '../../DataSet Files/Nodule_crop\\\\LIDC-IDRI-0553',\n",
       " '../../DataSet Files/Nodule_crop\\\\LIDC-IDRI-0555',\n",
       " '../../DataSet Files/Nodule_crop\\\\LIDC-IDRI-0557',\n",
       " '../../DataSet Files/Nodule_crop\\\\LIDC-IDRI-0558',\n",
       " '../../DataSet Files/Nodule_crop\\\\LIDC-IDRI-0559',\n",
       " '../../DataSet Files/Nodule_crop\\\\LIDC-IDRI-0562',\n",
       " '../../DataSet Files/Nodule_crop\\\\LIDC-IDRI-0565',\n",
       " '../../DataSet Files/Nodule_crop\\\\LIDC-IDRI-0567',\n",
       " '../../DataSet Files/Nodule_crop\\\\LIDC-IDRI-0568',\n",
       " '../../DataSet Files/Nodule_crop\\\\LIDC-IDRI-0571',\n",
       " '../../DataSet Files/Nodule_crop\\\\LIDC-IDRI-0572',\n",
       " '../../DataSet Files/Nodule_crop\\\\LIDC-IDRI-0574',\n",
       " '../../DataSet Files/Nodule_crop\\\\LIDC-IDRI-0576',\n",
       " '../../DataSet Files/Nodule_crop\\\\LIDC-IDRI-0577',\n",
       " '../../DataSet Files/Nodule_crop\\\\LIDC-IDRI-0578',\n",
       " '../../DataSet Files/Nodule_crop\\\\LIDC-IDRI-0579',\n",
       " '../../DataSet Files/Nodule_crop\\\\LIDC-IDRI-0580',\n",
       " '../../DataSet Files/Nodule_crop\\\\LIDC-IDRI-0582',\n",
       " '../../DataSet Files/Nodule_crop\\\\LIDC-IDRI-0583',\n",
       " '../../DataSet Files/Nodule_crop\\\\LIDC-IDRI-0586',\n",
       " '../../DataSet Files/Nodule_crop\\\\LIDC-IDRI-0587',\n",
       " '../../DataSet Files/Nodule_crop\\\\LIDC-IDRI-0590',\n",
       " '../../DataSet Files/Nodule_crop\\\\LIDC-IDRI-0591',\n",
       " '../../DataSet Files/Nodule_crop\\\\LIDC-IDRI-0592',\n",
       " '../../DataSet Files/Nodule_crop\\\\LIDC-IDRI-0594',\n",
       " '../../DataSet Files/Nodule_crop\\\\LIDC-IDRI-0595',\n",
       " '../../DataSet Files/Nodule_crop\\\\LIDC-IDRI-0596',\n",
       " '../../DataSet Files/Nodule_crop\\\\LIDC-IDRI-0601',\n",
       " '../../DataSet Files/Nodule_crop\\\\LIDC-IDRI-0602',\n",
       " '../../DataSet Files/Nodule_crop\\\\LIDC-IDRI-0604',\n",
       " '../../DataSet Files/Nodule_crop\\\\LIDC-IDRI-0605',\n",
       " '../../DataSet Files/Nodule_crop\\\\LIDC-IDRI-0606',\n",
       " '../../DataSet Files/Nodule_crop\\\\LIDC-IDRI-0607',\n",
       " '../../DataSet Files/Nodule_crop\\\\LIDC-IDRI-0608',\n",
       " '../../DataSet Files/Nodule_crop\\\\LIDC-IDRI-0609',\n",
       " '../../DataSet Files/Nodule_crop\\\\LIDC-IDRI-0613',\n",
       " '../../DataSet Files/Nodule_crop\\\\LIDC-IDRI-0614',\n",
       " '../../DataSet Files/Nodule_crop\\\\LIDC-IDRI-0615',\n",
       " '../../DataSet Files/Nodule_crop\\\\LIDC-IDRI-0617',\n",
       " '../../DataSet Files/Nodule_crop\\\\LIDC-IDRI-0618',\n",
       " '../../DataSet Files/Nodule_crop\\\\LIDC-IDRI-0619',\n",
       " '../../DataSet Files/Nodule_crop\\\\LIDC-IDRI-0620',\n",
       " '../../DataSet Files/Nodule_crop\\\\LIDC-IDRI-0624',\n",
       " '../../DataSet Files/Nodule_crop\\\\LIDC-IDRI-0625',\n",
       " '../../DataSet Files/Nodule_crop\\\\LIDC-IDRI-0626',\n",
       " '../../DataSet Files/Nodule_crop\\\\LIDC-IDRI-0628',\n",
       " '../../DataSet Files/Nodule_crop\\\\LIDC-IDRI-0631',\n",
       " '../../DataSet Files/Nodule_crop\\\\LIDC-IDRI-0634',\n",
       " '../../DataSet Files/Nodule_crop\\\\LIDC-IDRI-0635',\n",
       " '../../DataSet Files/Nodule_crop\\\\LIDC-IDRI-0636',\n",
       " '../../DataSet Files/Nodule_crop\\\\LIDC-IDRI-0638',\n",
       " '../../DataSet Files/Nodule_crop\\\\LIDC-IDRI-0639',\n",
       " '../../DataSet Files/Nodule_crop\\\\LIDC-IDRI-0640',\n",
       " '../../DataSet Files/Nodule_crop\\\\LIDC-IDRI-0641',\n",
       " '../../DataSet Files/Nodule_crop\\\\LIDC-IDRI-0642',\n",
       " '../../DataSet Files/Nodule_crop\\\\LIDC-IDRI-0643',\n",
       " '../../DataSet Files/Nodule_crop\\\\LIDC-IDRI-0644',\n",
       " '../../DataSet Files/Nodule_crop\\\\LIDC-IDRI-0645',\n",
       " '../../DataSet Files/Nodule_crop\\\\LIDC-IDRI-0647',\n",
       " '../../DataSet Files/Nodule_crop\\\\LIDC-IDRI-0648',\n",
       " '../../DataSet Files/Nodule_crop\\\\LIDC-IDRI-0652',\n",
       " '../../DataSet Files/Nodule_crop\\\\LIDC-IDRI-0654',\n",
       " '../../DataSet Files/Nodule_crop\\\\LIDC-IDRI-0657',\n",
       " '../../DataSet Files/Nodule_crop\\\\LIDC-IDRI-0658',\n",
       " '../../DataSet Files/Nodule_crop\\\\LIDC-IDRI-0659',\n",
       " '../../DataSet Files/Nodule_crop\\\\LIDC-IDRI-0661',\n",
       " '../../DataSet Files/Nodule_crop\\\\LIDC-IDRI-0663',\n",
       " '../../DataSet Files/Nodule_crop\\\\LIDC-IDRI-0666',\n",
       " '../../DataSet Files/Nodule_crop\\\\LIDC-IDRI-0669',\n",
       " '../../DataSet Files/Nodule_crop\\\\LIDC-IDRI-0672',\n",
       " '../../DataSet Files/Nodule_crop\\\\LIDC-IDRI-0673',\n",
       " '../../DataSet Files/Nodule_crop\\\\LIDC-IDRI-0674',\n",
       " '../../DataSet Files/Nodule_crop\\\\LIDC-IDRI-0676',\n",
       " '../../DataSet Files/Nodule_crop\\\\LIDC-IDRI-0678',\n",
       " '../../DataSet Files/Nodule_crop\\\\LIDC-IDRI-0681',\n",
       " '../../DataSet Files/Nodule_crop\\\\LIDC-IDRI-0682',\n",
       " '../../DataSet Files/Nodule_crop\\\\LIDC-IDRI-0687',\n",
       " '../../DataSet Files/Nodule_crop\\\\LIDC-IDRI-0694',\n",
       " '../../DataSet Files/Nodule_crop\\\\LIDC-IDRI-0695',\n",
       " '../../DataSet Files/Nodule_crop\\\\LIDC-IDRI-0696',\n",
       " '../../DataSet Files/Nodule_crop\\\\LIDC-IDRI-0698',\n",
       " '../../DataSet Files/Nodule_crop\\\\LIDC-IDRI-0700',\n",
       " '../../DataSet Files/Nodule_crop\\\\LIDC-IDRI-0701',\n",
       " '../../DataSet Files/Nodule_crop\\\\LIDC-IDRI-0702',\n",
       " '../../DataSet Files/Nodule_crop\\\\LIDC-IDRI-0703',\n",
       " '../../DataSet Files/Nodule_crop\\\\LIDC-IDRI-0704',\n",
       " '../../DataSet Files/Nodule_crop\\\\LIDC-IDRI-0705',\n",
       " '../../DataSet Files/Nodule_crop\\\\LIDC-IDRI-0706',\n",
       " '../../DataSet Files/Nodule_crop\\\\LIDC-IDRI-0707',\n",
       " '../../DataSet Files/Nodule_crop\\\\LIDC-IDRI-0708',\n",
       " '../../DataSet Files/Nodule_crop\\\\LIDC-IDRI-0709',\n",
       " '../../DataSet Files/Nodule_crop\\\\LIDC-IDRI-0712',\n",
       " '../../DataSet Files/Nodule_crop\\\\LIDC-IDRI-0715',\n",
       " '../../DataSet Files/Nodule_crop\\\\LIDC-IDRI-0717',\n",
       " '../../DataSet Files/Nodule_crop\\\\LIDC-IDRI-0721',\n",
       " '../../DataSet Files/Nodule_crop\\\\LIDC-IDRI-0722',\n",
       " '../../DataSet Files/Nodule_crop\\\\LIDC-IDRI-0724',\n",
       " '../../DataSet Files/Nodule_crop\\\\LIDC-IDRI-0726',\n",
       " '../../DataSet Files/Nodule_crop\\\\LIDC-IDRI-0727',\n",
       " '../../DataSet Files/Nodule_crop\\\\LIDC-IDRI-0728',\n",
       " '../../DataSet Files/Nodule_crop\\\\LIDC-IDRI-0729',\n",
       " '../../DataSet Files/Nodule_crop\\\\LIDC-IDRI-0732',\n",
       " '../../DataSet Files/Nodule_crop\\\\LIDC-IDRI-0733',\n",
       " '../../DataSet Files/Nodule_crop\\\\LIDC-IDRI-0734',\n",
       " '../../DataSet Files/Nodule_crop\\\\LIDC-IDRI-0735',\n",
       " '../../DataSet Files/Nodule_crop\\\\LIDC-IDRI-0736',\n",
       " '../../DataSet Files/Nodule_crop\\\\LIDC-IDRI-0739',\n",
       " '../../DataSet Files/Nodule_crop\\\\LIDC-IDRI-0741',\n",
       " '../../DataSet Files/Nodule_crop\\\\LIDC-IDRI-0743',\n",
       " '../../DataSet Files/Nodule_crop\\\\LIDC-IDRI-0744',\n",
       " '../../DataSet Files/Nodule_crop\\\\LIDC-IDRI-0748',\n",
       " '../../DataSet Files/Nodule_crop\\\\LIDC-IDRI-0749',\n",
       " '../../DataSet Files/Nodule_crop\\\\LIDC-IDRI-0751',\n",
       " '../../DataSet Files/Nodule_crop\\\\LIDC-IDRI-0753',\n",
       " '../../DataSet Files/Nodule_crop\\\\LIDC-IDRI-0756',\n",
       " '../../DataSet Files/Nodule_crop\\\\LIDC-IDRI-0757',\n",
       " '../../DataSet Files/Nodule_crop\\\\LIDC-IDRI-0759',\n",
       " '../../DataSet Files/Nodule_crop\\\\LIDC-IDRI-0761',\n",
       " '../../DataSet Files/Nodule_crop\\\\LIDC-IDRI-0763',\n",
       " '../../DataSet Files/Nodule_crop\\\\LIDC-IDRI-0765',\n",
       " '../../DataSet Files/Nodule_crop\\\\LIDC-IDRI-0766',\n",
       " '../../DataSet Files/Nodule_crop\\\\LIDC-IDRI-0768',\n",
       " '../../DataSet Files/Nodule_crop\\\\LIDC-IDRI-0770',\n",
       " '../../DataSet Files/Nodule_crop\\\\LIDC-IDRI-0771',\n",
       " '../../DataSet Files/Nodule_crop\\\\LIDC-IDRI-0772',\n",
       " '../../DataSet Files/Nodule_crop\\\\LIDC-IDRI-0775',\n",
       " '../../DataSet Files/Nodule_crop\\\\LIDC-IDRI-0776',\n",
       " '../../DataSet Files/Nodule_crop\\\\LIDC-IDRI-0777',\n",
       " '../../DataSet Files/Nodule_crop\\\\LIDC-IDRI-0779',\n",
       " '../../DataSet Files/Nodule_crop\\\\LIDC-IDRI-0783',\n",
       " '../../DataSet Files/Nodule_crop\\\\LIDC-IDRI-0787',\n",
       " '../../DataSet Files/Nodule_crop\\\\LIDC-IDRI-0788',\n",
       " '../../DataSet Files/Nodule_crop\\\\LIDC-IDRI-0789',\n",
       " '../../DataSet Files/Nodule_crop\\\\LIDC-IDRI-0790',\n",
       " '../../DataSet Files/Nodule_crop\\\\LIDC-IDRI-0791',\n",
       " '../../DataSet Files/Nodule_crop\\\\LIDC-IDRI-0792',\n",
       " '../../DataSet Files/Nodule_crop\\\\LIDC-IDRI-0794',\n",
       " '../../DataSet Files/Nodule_crop\\\\LIDC-IDRI-0795',\n",
       " '../../DataSet Files/Nodule_crop\\\\LIDC-IDRI-0796',\n",
       " '../../DataSet Files/Nodule_crop\\\\LIDC-IDRI-0797',\n",
       " '../../DataSet Files/Nodule_crop\\\\LIDC-IDRI-0798',\n",
       " '../../DataSet Files/Nodule_crop\\\\LIDC-IDRI-0800',\n",
       " '../../DataSet Files/Nodule_crop\\\\LIDC-IDRI-0801',\n",
       " '../../DataSet Files/Nodule_crop\\\\LIDC-IDRI-0803',\n",
       " '../../DataSet Files/Nodule_crop\\\\LIDC-IDRI-0806',\n",
       " '../../DataSet Files/Nodule_crop\\\\LIDC-IDRI-0807',\n",
       " '../../DataSet Files/Nodule_crop\\\\LIDC-IDRI-0809',\n",
       " '../../DataSet Files/Nodule_crop\\\\LIDC-IDRI-0810',\n",
       " '../../DataSet Files/Nodule_crop\\\\LIDC-IDRI-0811',\n",
       " '../../DataSet Files/Nodule_crop\\\\LIDC-IDRI-0812',\n",
       " '../../DataSet Files/Nodule_crop\\\\LIDC-IDRI-0813',\n",
       " '../../DataSet Files/Nodule_crop\\\\LIDC-IDRI-0814',\n",
       " '../../DataSet Files/Nodule_crop\\\\LIDC-IDRI-0815',\n",
       " '../../DataSet Files/Nodule_crop\\\\LIDC-IDRI-0816',\n",
       " '../../DataSet Files/Nodule_crop\\\\LIDC-IDRI-0818',\n",
       " '../../DataSet Files/Nodule_crop\\\\LIDC-IDRI-0819',\n",
       " '../../DataSet Files/Nodule_crop\\\\LIDC-IDRI-0820',\n",
       " '../../DataSet Files/Nodule_crop\\\\LIDC-IDRI-0821',\n",
       " '../../DataSet Files/Nodule_crop\\\\LIDC-IDRI-0822',\n",
       " '../../DataSet Files/Nodule_crop\\\\LIDC-IDRI-0825',\n",
       " '../../DataSet Files/Nodule_crop\\\\LIDC-IDRI-0826',\n",
       " '../../DataSet Files/Nodule_crop\\\\LIDC-IDRI-0827',\n",
       " '../../DataSet Files/Nodule_crop\\\\LIDC-IDRI-0832',\n",
       " '../../DataSet Files/Nodule_crop\\\\LIDC-IDRI-0834',\n",
       " '../../DataSet Files/Nodule_crop\\\\LIDC-IDRI-0835',\n",
       " '../../DataSet Files/Nodule_crop\\\\LIDC-IDRI-0836',\n",
       " '../../DataSet Files/Nodule_crop\\\\LIDC-IDRI-0838',\n",
       " '../../DataSet Files/Nodule_crop\\\\LIDC-IDRI-0841',\n",
       " '../../DataSet Files/Nodule_crop\\\\LIDC-IDRI-0842',\n",
       " '../../DataSet Files/Nodule_crop\\\\LIDC-IDRI-0843',\n",
       " '../../DataSet Files/Nodule_crop\\\\LIDC-IDRI-0844',\n",
       " '../../DataSet Files/Nodule_crop\\\\LIDC-IDRI-0846',\n",
       " '../../DataSet Files/Nodule_crop\\\\LIDC-IDRI-0848',\n",
       " '../../DataSet Files/Nodule_crop\\\\LIDC-IDRI-0849',\n",
       " '../../DataSet Files/Nodule_crop\\\\LIDC-IDRI-0850',\n",
       " '../../DataSet Files/Nodule_crop\\\\LIDC-IDRI-0851',\n",
       " '../../DataSet Files/Nodule_crop\\\\LIDC-IDRI-0852',\n",
       " '../../DataSet Files/Nodule_crop\\\\LIDC-IDRI-0854',\n",
       " '../../DataSet Files/Nodule_crop\\\\LIDC-IDRI-0855',\n",
       " '../../DataSet Files/Nodule_crop\\\\LIDC-IDRI-0857',\n",
       " '../../DataSet Files/Nodule_crop\\\\LIDC-IDRI-0859',\n",
       " '../../DataSet Files/Nodule_crop\\\\LIDC-IDRI-0860',\n",
       " '../../DataSet Files/Nodule_crop\\\\LIDC-IDRI-0861',\n",
       " '../../DataSet Files/Nodule_crop\\\\LIDC-IDRI-0863',\n",
       " '../../DataSet Files/Nodule_crop\\\\LIDC-IDRI-0865',\n",
       " '../../DataSet Files/Nodule_crop\\\\LIDC-IDRI-0866',\n",
       " '../../DataSet Files/Nodule_crop\\\\LIDC-IDRI-0867',\n",
       " '../../DataSet Files/Nodule_crop\\\\LIDC-IDRI-0869',\n",
       " '../../DataSet Files/Nodule_crop\\\\LIDC-IDRI-0870',\n",
       " '../../DataSet Files/Nodule_crop\\\\LIDC-IDRI-0871',\n",
       " '../../DataSet Files/Nodule_crop\\\\LIDC-IDRI-0872',\n",
       " '../../DataSet Files/Nodule_crop\\\\LIDC-IDRI-0874',\n",
       " '../../DataSet Files/Nodule_crop\\\\LIDC-IDRI-0875',\n",
       " '../../DataSet Files/Nodule_crop\\\\LIDC-IDRI-0880',\n",
       " '../../DataSet Files/Nodule_crop\\\\LIDC-IDRI-0884',\n",
       " '../../DataSet Files/Nodule_crop\\\\LIDC-IDRI-0886',\n",
       " '../../DataSet Files/Nodule_crop\\\\LIDC-IDRI-0888',\n",
       " '../../DataSet Files/Nodule_crop\\\\LIDC-IDRI-0890',\n",
       " '../../DataSet Files/Nodule_crop\\\\LIDC-IDRI-0892',\n",
       " '../../DataSet Files/Nodule_crop\\\\LIDC-IDRI-0893',\n",
       " '../../DataSet Files/Nodule_crop\\\\LIDC-IDRI-0894',\n",
       " '../../DataSet Files/Nodule_crop\\\\LIDC-IDRI-0895',\n",
       " '../../DataSet Files/Nodule_crop\\\\LIDC-IDRI-0896',\n",
       " '../../DataSet Files/Nodule_crop\\\\LIDC-IDRI-0898',\n",
       " '../../DataSet Files/Nodule_crop\\\\LIDC-IDRI-0899',\n",
       " '../../DataSet Files/Nodule_crop\\\\LIDC-IDRI-0904',\n",
       " '../../DataSet Files/Nodule_crop\\\\LIDC-IDRI-0905',\n",
       " '../../DataSet Files/Nodule_crop\\\\LIDC-IDRI-0906',\n",
       " '../../DataSet Files/Nodule_crop\\\\LIDC-IDRI-0907',\n",
       " '../../DataSet Files/Nodule_crop\\\\LIDC-IDRI-0908',\n",
       " '../../DataSet Files/Nodule_crop\\\\LIDC-IDRI-0910',\n",
       " '../../DataSet Files/Nodule_crop\\\\LIDC-IDRI-0911',\n",
       " '../../DataSet Files/Nodule_crop\\\\LIDC-IDRI-0912',\n",
       " '../../DataSet Files/Nodule_crop\\\\LIDC-IDRI-0913',\n",
       " '../../DataSet Files/Nodule_crop\\\\LIDC-IDRI-0915',\n",
       " '../../DataSet Files/Nodule_crop\\\\LIDC-IDRI-0916',\n",
       " '../../DataSet Files/Nodule_crop\\\\LIDC-IDRI-0917',\n",
       " '../../DataSet Files/Nodule_crop\\\\LIDC-IDRI-0920',\n",
       " '../../DataSet Files/Nodule_crop\\\\LIDC-IDRI-0921',\n",
       " '../../DataSet Files/Nodule_crop\\\\LIDC-IDRI-0922',\n",
       " '../../DataSet Files/Nodule_crop\\\\LIDC-IDRI-0923',\n",
       " '../../DataSet Files/Nodule_crop\\\\LIDC-IDRI-0924',\n",
       " '../../DataSet Files/Nodule_crop\\\\LIDC-IDRI-0925',\n",
       " '../../DataSet Files/Nodule_crop\\\\LIDC-IDRI-0928',\n",
       " '../../DataSet Files/Nodule_crop\\\\LIDC-IDRI-0932',\n",
       " '../../DataSet Files/Nodule_crop\\\\LIDC-IDRI-0933',\n",
       " '../../DataSet Files/Nodule_crop\\\\LIDC-IDRI-0935',\n",
       " '../../DataSet Files/Nodule_crop\\\\LIDC-IDRI-0938',\n",
       " '../../DataSet Files/Nodule_crop\\\\LIDC-IDRI-0939',\n",
       " '../../DataSet Files/Nodule_crop\\\\LIDC-IDRI-0940',\n",
       " '../../DataSet Files/Nodule_crop\\\\LIDC-IDRI-0941',\n",
       " '../../DataSet Files/Nodule_crop\\\\LIDC-IDRI-0942',\n",
       " '../../DataSet Files/Nodule_crop\\\\LIDC-IDRI-0944',\n",
       " '../../DataSet Files/Nodule_crop\\\\LIDC-IDRI-0946',\n",
       " '../../DataSet Files/Nodule_crop\\\\LIDC-IDRI-0947',\n",
       " '../../DataSet Files/Nodule_crop\\\\LIDC-IDRI-0951',\n",
       " '../../DataSet Files/Nodule_crop\\\\LIDC-IDRI-0953',\n",
       " '../../DataSet Files/Nodule_crop\\\\LIDC-IDRI-0955',\n",
       " '../../DataSet Files/Nodule_crop\\\\LIDC-IDRI-0957',\n",
       " '../../DataSet Files/Nodule_crop\\\\LIDC-IDRI-0961',\n",
       " '../../DataSet Files/Nodule_crop\\\\LIDC-IDRI-0963',\n",
       " '../../DataSet Files/Nodule_crop\\\\LIDC-IDRI-0966',\n",
       " '../../DataSet Files/Nodule_crop\\\\LIDC-IDRI-0968',\n",
       " '../../DataSet Files/Nodule_crop\\\\LIDC-IDRI-0969',\n",
       " '../../DataSet Files/Nodule_crop\\\\LIDC-IDRI-0972',\n",
       " '../../DataSet Files/Nodule_crop\\\\LIDC-IDRI-0974',\n",
       " '../../DataSet Files/Nodule_crop\\\\LIDC-IDRI-0976',\n",
       " '../../DataSet Files/Nodule_crop\\\\LIDC-IDRI-0978',\n",
       " '../../DataSet Files/Nodule_crop\\\\LIDC-IDRI-0980',\n",
       " '../../DataSet Files/Nodule_crop\\\\LIDC-IDRI-0981',\n",
       " '../../DataSet Files/Nodule_crop\\\\LIDC-IDRI-0982',\n",
       " '../../DataSet Files/Nodule_crop\\\\LIDC-IDRI-0983',\n",
       " '../../DataSet Files/Nodule_crop\\\\LIDC-IDRI-0984',\n",
       " '../../DataSet Files/Nodule_crop\\\\LIDC-IDRI-0985',\n",
       " '../../DataSet Files/Nodule_crop\\\\LIDC-IDRI-0986',\n",
       " '../../DataSet Files/Nodule_crop\\\\LIDC-IDRI-0987',\n",
       " '../../DataSet Files/Nodule_crop\\\\LIDC-IDRI-0990',\n",
       " '../../DataSet Files/Nodule_crop\\\\LIDC-IDRI-0991',\n",
       " '../../DataSet Files/Nodule_crop\\\\LIDC-IDRI-0994',\n",
       " '../../DataSet Files/Nodule_crop\\\\LIDC-IDRI-0997',\n",
       " '../../DataSet Files/Nodule_crop\\\\LIDC-IDRI-0998',\n",
       " '../../DataSet Files/Nodule_crop\\\\LIDC-IDRI-0999',\n",
       " '../../DataSet Files/Nodule_crop\\\\LIDC-IDRI-1000',\n",
       " '../../DataSet Files/Nodule_crop\\\\LIDC-IDRI-1001',\n",
       " '../../DataSet Files/Nodule_crop\\\\LIDC-IDRI-1002',\n",
       " '../../DataSet Files/Nodule_crop\\\\LIDC-IDRI-1003',\n",
       " '../../DataSet Files/Nodule_crop\\\\LIDC-IDRI-1004',\n",
       " '../../DataSet Files/Nodule_crop\\\\LIDC-IDRI-1005',\n",
       " '../../DataSet Files/Nodule_crop\\\\LIDC-IDRI-1006',\n",
       " '../../DataSet Files/Nodule_crop\\\\LIDC-IDRI-1007',\n",
       " '../../DataSet Files/Nodule_crop\\\\LIDC-IDRI-1010',\n",
       " '../../DataSet Files/Nodule_crop\\\\LIDC-IDRI-1011',\n",
       " '../../DataSet Files/Nodule_crop\\\\LIDC-IDRI-1012']"
      ]
     },
     "execution_count": 93,
     "metadata": {},
     "output_type": "execute_result"
    }
   ],
   "source": [
    "Data_Path= r'../Method -1/ROI_ny_files\n",
    "error_file=\"Error_list_radiomics.txt\"\n",
    "Test_patients = [os.path.join(Data_Path,name) for name in os.listdir(Data_Path) if os.path.isdir(os.path.join(Data_Path, name))]\n",
    "Test_patients = sorted(Test_patients)\n",
    "Test_patients"
   ]
  },
  {
   "cell_type": "code",
   "execution_count": null,
   "id": "24d5a798",
   "metadata": {},
   "outputs": [],
   "source": []
  },
  {
   "cell_type": "code",
   "execution_count": null,
   "id": "b08c43d0",
   "metadata": {},
   "outputs": [],
   "source": [
    "def Extract_Features(image,mask,params_path):\n",
    "    paramsFile = os.path.abspath(params_path)\n",
    "    extractor = featureextractor.RadiomicsFeatureExtractor(paramsFile)\n",
    "    result = extractor.execute(image, mask)\n",
    "    general_info = {'diagnostics_Configuration_EnabledImageTypes','diagnostics_Configuration_Settings',\n",
    "                    'diagnostics_Image-interpolated_Maximum','diagnostics_Image-interpolated_Mean',\n",
    "                    'diagnostics_Image-interpolated_Minimum','diagnostics_Image-interpolated_Size',\n",
    "                    'diagnostics_Image-interpolated_Spacing','diagnostics_Image-original_Hash',\n",
    "                    'diagnostics_Image-original_Maximum','diagnostics_Image-original_Mean',\n",
    "                    'diagnostics_Image-original_Minimum','diagnostics_Image-original_Size',\n",
    "                    'diagnostics_Image-original_Spacing','diagnostics_Mask-interpolated_BoundingBox',\n",
    "                    'diagnostics_Mask-interpolated_CenterOfMass','diagnostics_Mask-interpolated_CenterOfMassIndex',\n",
    "                    'diagnostics_Mask-interpolated_Maximum','diagnostics_Mask-interpolated_Mean',\n",
    "                    'diagnostics_Mask-interpolated_Minimum','diagnostics_Mask-interpolated_Size',\n",
    "                    'diagnostics_Mask-interpolated_Spacing','diagnostics_Mask-interpolated_VolumeNum',\n",
    "                    'diagnostics_Mask-interpolated_VoxelNum','diagnostics_Mask-original_BoundingBox',\n",
    "                    'diagnostics_Mask-original_CenterOfMass','diagnostics_Mask-original_CenterOfMassIndex',\n",
    "                    'diagnostics_Mask-original_Hash','diagnostics_Mask-original_Size',\n",
    "                    'diagnostics_Mask-original_Spacing','diagnostics_Mask-original_VolumeNum',\n",
    "                    'diagnostics_Mask-original_VoxelNum','diagnostics_Versions_Numpy',\n",
    "                    'diagnostics_Versions_PyRadiomics','diagnostics_Versions_PyWavelet',\n",
    "                    'diagnostics_Versions_Python','diagnostics_Versions_SimpleITK',\n",
    "                    'diagnostics_Image-original_Dimensionality'}\n",
    "    features = dict((key, value) for key, value in result.items() if key not in general_info)\n",
    "    feature_info = dict((key, value) for key, value in result.items() if key in general_info)\n",
    "    return features,feature_info"
   ]
  },
  {
   "cell_type": "code",
   "execution_count": null,
   "id": "839470df",
   "metadata": {},
   "outputs": [
    {
     "name": "stderr",
     "output_type": "stream",
     "text": [
      "  0%|          | 0/611 [00:00<?, ?it/s]"
     ]
    },
    {
     "name": "stdout",
     "output_type": "stream",
     "text": [
      "LIDC-IDRI-0001\n"
     ]
    },
    {
     "name": "stderr",
     "output_type": "stream",
     "text": [
      "  0%|          | 1/611 [00:00<07:41,  1.32it/s]"
     ]
    },
    {
     "name": "stdout",
     "output_type": "stream",
     "text": [
      "LIDC-IDRI-0002\n"
     ]
    },
    {
     "name": "stderr",
     "output_type": "stream",
     "text": [
      "  0%|          | 2/611 [00:01<07:05,  1.43it/s]"
     ]
    },
    {
     "name": "stdout",
     "output_type": "stream",
     "text": [
      "LIDC-IDRI-0003\n"
     ]
    },
    {
     "name": "stderr",
     "output_type": "stream",
     "text": [
      "  0%|          | 3/611 [00:03<11:33,  1.14s/it]"
     ]
    },
    {
     "name": "stdout",
     "output_type": "stream",
     "text": [
      "LIDC-IDRI-0004\n"
     ]
    },
    {
     "name": "stderr",
     "output_type": "stream",
     "text": [
      "  1%|          | 4/611 [00:03<08:52,  1.14it/s]"
     ]
    },
    {
     "name": "stdout",
     "output_type": "stream",
     "text": [
      "LIDC-IDRI-0005\n"
     ]
    },
    {
     "name": "stderr",
     "output_type": "stream",
     "text": [
      "  1%|          | 5/611 [00:04<08:58,  1.13it/s]"
     ]
    },
    {
     "name": "stdout",
     "output_type": "stream",
     "text": [
      "LIDC-IDRI-0006\n"
     ]
    },
    {
     "name": "stderr",
     "output_type": "stream",
     "text": [
      "  1%|          | 6/611 [00:05<09:03,  1.11it/s]"
     ]
    },
    {
     "name": "stdout",
     "output_type": "stream",
     "text": [
      "LIDC-IDRI-0007\n"
     ]
    },
    {
     "name": "stderr",
     "output_type": "stream",
     "text": [
      "  1%|          | 7/611 [00:06<08:42,  1.15it/s]"
     ]
    },
    {
     "name": "stdout",
     "output_type": "stream",
     "text": [
      "LIDC-IDRI-0008\n"
     ]
    },
    {
     "name": "stderr",
     "output_type": "stream",
     "text": [
      "  1%|▏         | 8/611 [00:07<08:50,  1.14it/s]"
     ]
    },
    {
     "name": "stdout",
     "output_type": "stream",
     "text": [
      "LIDC-IDRI-0010\n"
     ]
    },
    {
     "name": "stderr",
     "output_type": "stream",
     "text": [
      "  1%|▏         | 9/611 [00:08<09:03,  1.11it/s]"
     ]
    },
    {
     "name": "stdout",
     "output_type": "stream",
     "text": [
      "LIDC-IDRI-0011\n"
     ]
    },
    {
     "name": "stderr",
     "output_type": "stream",
     "text": [
      "  2%|▏         | 10/611 [00:11<16:22,  1.63s/it]"
     ]
    },
    {
     "name": "stdout",
     "output_type": "stream",
     "text": [
      "LIDC-IDRI-0012\n"
     ]
    },
    {
     "name": "stderr",
     "output_type": "stream",
     "text": [
      "  2%|▏         | 11/611 [00:16<28:05,  2.81s/it]"
     ]
    },
    {
     "name": "stdout",
     "output_type": "stream",
     "text": [
      "LIDC-IDRI-0013\n"
     ]
    },
    {
     "name": "stderr",
     "output_type": "stream",
     "text": [
      "  2%|▏         | 12/611 [00:18<24:52,  2.49s/it]"
     ]
    },
    {
     "name": "stdout",
     "output_type": "stream",
     "text": [
      "LIDC-IDRI-0014\n"
     ]
    },
    {
     "name": "stderr",
     "output_type": "stream",
     "text": [
      "  2%|▏         | 13/611 [00:19<18:57,  1.90s/it]"
     ]
    },
    {
     "name": "stdout",
     "output_type": "stream",
     "text": [
      "LIDC-IDRI-0016\n"
     ]
    },
    {
     "name": "stderr",
     "output_type": "stream",
     "text": [
      "  2%|▏         | 14/611 [00:21<20:38,  2.07s/it]"
     ]
    },
    {
     "name": "stdout",
     "output_type": "stream",
     "text": [
      "LIDC-IDRI-0018\n"
     ]
    },
    {
     "name": "stderr",
     "output_type": "stream",
     "text": [
      "  2%|▏         | 15/611 [00:23<20:11,  2.03s/it]"
     ]
    },
    {
     "name": "stdout",
     "output_type": "stream",
     "text": [
      "LIDC-IDRI-0020\n"
     ]
    },
    {
     "name": "stderr",
     "output_type": "stream",
     "text": [
      "  3%|▎         | 16/611 [00:24<15:36,  1.57s/it]"
     ]
    },
    {
     "name": "stdout",
     "output_type": "stream",
     "text": [
      "LIDC-IDRI-0021\n"
     ]
    },
    {
     "name": "stderr",
     "output_type": "stream",
     "text": [
      "  3%|▎         | 17/611 [00:24<12:35,  1.27s/it]"
     ]
    },
    {
     "name": "stdout",
     "output_type": "stream",
     "text": [
      "LIDC-IDRI-0023\n"
     ]
    },
    {
     "name": "stderr",
     "output_type": "stream",
     "text": [
      "  3%|▎         | 18/611 [00:25<10:54,  1.10s/it]"
     ]
    },
    {
     "name": "stdout",
     "output_type": "stream",
     "text": [
      "LIDC-IDRI-0024\n"
     ]
    },
    {
     "name": "stderr",
     "output_type": "stream",
     "text": [
      "  3%|▎         | 19/611 [00:27<13:05,  1.33s/it]"
     ]
    },
    {
     "name": "stdout",
     "output_type": "stream",
     "text": [
      "LIDC-IDRI-0026\n"
     ]
    },
    {
     "name": "stderr",
     "output_type": "stream",
     "text": [
      "  3%|▎         | 20/611 [00:27<10:33,  1.07s/it]"
     ]
    },
    {
     "name": "stdout",
     "output_type": "stream",
     "text": [
      "LIDC-IDRI-0027\n"
     ]
    },
    {
     "name": "stderr",
     "output_type": "stream",
     "text": [
      "  3%|▎         | 21/611 [00:30<15:39,  1.59s/it]"
     ]
    },
    {
     "name": "stdout",
     "output_type": "stream",
     "text": [
      "LIDC-IDRI-0030\n"
     ]
    },
    {
     "name": "stderr",
     "output_type": "stream",
     "text": [
      "  4%|▎         | 22/611 [00:31<13:51,  1.41s/it]"
     ]
    },
    {
     "name": "stdout",
     "output_type": "stream",
     "text": [
      "LIDC-IDRI-0034\n"
     ]
    },
    {
     "name": "stderr",
     "output_type": "stream",
     "text": [
      "  4%|▍         | 23/611 [00:31<11:03,  1.13s/it]"
     ]
    },
    {
     "name": "stdout",
     "output_type": "stream",
     "text": [
      "LIDC-IDRI-0035\n"
     ]
    },
    {
     "name": "stderr",
     "output_type": "stream",
     "text": [
      "  4%|▍         | 24/611 [00:32<09:05,  1.08it/s]"
     ]
    },
    {
     "name": "stdout",
     "output_type": "stream",
     "text": [
      "LIDC-IDRI-0036\n"
     ]
    },
    {
     "name": "stderr",
     "output_type": "stream",
     "text": [
      "  4%|▍         | 25/611 [00:32<07:46,  1.26it/s]"
     ]
    },
    {
     "name": "stdout",
     "output_type": "stream",
     "text": [
      "LIDC-IDRI-0037\n"
     ]
    },
    {
     "name": "stderr",
     "output_type": "stream",
     "text": [
      "  4%|▍         | 26/611 [00:33<08:12,  1.19it/s]"
     ]
    },
    {
     "name": "stdout",
     "output_type": "stream",
     "text": [
      "LIDC-IDRI-0039\n"
     ]
    },
    {
     "name": "stderr",
     "output_type": "stream",
     "text": [
      "  4%|▍         | 27/611 [00:36<12:44,  1.31s/it]"
     ]
    },
    {
     "name": "stdout",
     "output_type": "stream",
     "text": [
      "LIDC-IDRI-0040\n"
     ]
    },
    {
     "name": "stderr",
     "output_type": "stream",
     "text": [
      "  5%|▍         | 28/611 [00:36<10:14,  1.05s/it]"
     ]
    },
    {
     "name": "stdout",
     "output_type": "stream",
     "text": [
      "LIDC-IDRI-0041\n"
     ]
    },
    {
     "name": "stderr",
     "output_type": "stream",
     "text": [
      "  5%|▍         | 29/611 [00:37<10:07,  1.04s/it]"
     ]
    },
    {
     "name": "stdout",
     "output_type": "stream",
     "text": [
      "LIDC-IDRI-0042\n"
     ]
    },
    {
     "name": "stderr",
     "output_type": "stream",
     "text": [
      "  5%|▍         | 30/611 [00:40<15:57,  1.65s/it]"
     ]
    },
    {
     "name": "stdout",
     "output_type": "stream",
     "text": [
      "LIDC-IDRI-0043\n"
     ]
    },
    {
     "name": "stderr",
     "output_type": "stream",
     "text": [
      "  5%|▌         | 31/611 [00:42<15:42,  1.62s/it]"
     ]
    },
    {
     "name": "stdout",
     "output_type": "stream",
     "text": [
      "LIDC-IDRI-0044\n"
     ]
    },
    {
     "name": "stderr",
     "output_type": "stream",
     "text": [
      "  5%|▌         | 32/611 [00:43<15:46,  1.63s/it]"
     ]
    },
    {
     "name": "stdout",
     "output_type": "stream",
     "text": [
      "LIDC-IDRI-0046\n"
     ]
    },
    {
     "name": "stderr",
     "output_type": "stream",
     "text": [
      "  5%|▌         | 33/611 [00:46<18:41,  1.94s/it]"
     ]
    },
    {
     "name": "stdout",
     "output_type": "stream",
     "text": [
      "LIDC-IDRI-0047\n"
     ]
    },
    {
     "name": "stderr",
     "output_type": "stream",
     "text": [
      "  6%|▌         | 34/611 [00:47<14:38,  1.52s/it]"
     ]
    },
    {
     "name": "stdout",
     "output_type": "stream",
     "text": [
      "LIDC-IDRI-0048\n"
     ]
    },
    {
     "name": "stderr",
     "output_type": "stream",
     "text": [
      "  6%|▌         | 35/611 [00:48<14:39,  1.53s/it]"
     ]
    },
    {
     "name": "stdout",
     "output_type": "stream",
     "text": [
      "LIDC-IDRI-0049\n"
     ]
    },
    {
     "name": "stderr",
     "output_type": "stream",
     "text": [
      "  6%|▌         | 36/611 [00:54<28:11,  2.94s/it]"
     ]
    },
    {
     "name": "stdout",
     "output_type": "stream",
     "text": [
      "LIDC-IDRI-0050\n"
     ]
    },
    {
     "name": "stderr",
     "output_type": "stream",
     "text": [
      "  6%|▌         | 37/611 [00:55<21:45,  2.27s/it]"
     ]
    },
    {
     "name": "stdout",
     "output_type": "stream",
     "text": [
      "LIDC-IDRI-0051\n"
     ]
    },
    {
     "name": "stderr",
     "output_type": "stream",
     "text": [
      "  6%|▌         | 38/611 [00:56<18:01,  1.89s/it]"
     ]
    },
    {
     "name": "stdout",
     "output_type": "stream",
     "text": [
      "LIDC-IDRI-0052\n"
     ]
    },
    {
     "name": "stderr",
     "output_type": "stream",
     "text": [
      "  6%|▋         | 39/611 [00:57<15:26,  1.62s/it]"
     ]
    },
    {
     "name": "stdout",
     "output_type": "stream",
     "text": [
      "LIDC-IDRI-0054\n"
     ]
    },
    {
     "name": "stderr",
     "output_type": "stream",
     "text": [
      "  7%|▋         | 40/611 [00:58<12:22,  1.30s/it]"
     ]
    },
    {
     "name": "stdout",
     "output_type": "stream",
     "text": [
      "LIDC-IDRI-0055\n"
     ]
    },
    {
     "name": "stderr",
     "output_type": "stream",
     "text": [
      "  7%|▋         | 41/611 [01:01<17:28,  1.84s/it]"
     ]
    },
    {
     "name": "stdout",
     "output_type": "stream",
     "text": [
      "LIDC-IDRI-0057\n"
     ]
    },
    {
     "name": "stderr",
     "output_type": "stream",
     "text": [
      "  7%|▋         | 42/611 [01:01<14:06,  1.49s/it]"
     ]
    },
    {
     "name": "stdout",
     "output_type": "stream",
     "text": [
      "LIDC-IDRI-0058\n"
     ]
    },
    {
     "name": "stderr",
     "output_type": "stream",
     "text": [
      "  7%|▋         | 43/611 [01:03<14:37,  1.54s/it]"
     ]
    },
    {
     "name": "stdout",
     "output_type": "stream",
     "text": [
      "LIDC-IDRI-0059\n"
     ]
    },
    {
     "name": "stderr",
     "output_type": "stream",
     "text": [
      "  7%|▋         | 44/611 [01:04<11:37,  1.23s/it]"
     ]
    },
    {
     "name": "stdout",
     "output_type": "stream",
     "text": [
      "LIDC-IDRI-0060\n"
     ]
    },
    {
     "name": "stderr",
     "output_type": "stream",
     "text": [
      "  7%|▋         | 45/611 [01:06<15:22,  1.63s/it]"
     ]
    },
    {
     "name": "stdout",
     "output_type": "stream",
     "text": [
      "LIDC-IDRI-0061\n"
     ]
    },
    {
     "name": "stderr",
     "output_type": "stream",
     "text": [
      "  8%|▊         | 46/611 [01:09<18:55,  2.01s/it]"
     ]
    },
    {
     "name": "stdout",
     "output_type": "stream",
     "text": [
      "LIDC-IDRI-0063\n"
     ]
    },
    {
     "name": "stderr",
     "output_type": "stream",
     "text": [
      "  8%|▊         | 47/611 [01:10<17:11,  1.83s/it]"
     ]
    },
    {
     "name": "stdout",
     "output_type": "stream",
     "text": [
      "LIDC-IDRI-0065\n"
     ]
    },
    {
     "name": "stderr",
     "output_type": "stream",
     "text": [
      "  8%|▊         | 48/611 [01:11<13:16,  1.41s/it]"
     ]
    },
    {
     "name": "stdout",
     "output_type": "stream",
     "text": [
      "LIDC-IDRI-0066\n"
     ]
    },
    {
     "name": "stderr",
     "output_type": "stream",
     "text": [
      "  8%|▊         | 49/611 [01:12<13:36,  1.45s/it]"
     ]
    },
    {
     "name": "stdout",
     "output_type": "stream",
     "text": [
      "LIDC-IDRI-0067\n"
     ]
    },
    {
     "name": "stderr",
     "output_type": "stream",
     "text": [
      "  8%|▊         | 50/611 [01:14<14:48,  1.58s/it]"
     ]
    },
    {
     "name": "stdout",
     "output_type": "stream",
     "text": [
      "LIDC-IDRI-0068\n"
     ]
    },
    {
     "name": "stderr",
     "output_type": "stream",
     "text": [
      "  8%|▊         | 51/611 [01:17<18:00,  1.93s/it]"
     ]
    },
    {
     "name": "stdout",
     "output_type": "stream",
     "text": [
      "LIDC-IDRI-0070\n"
     ]
    },
    {
     "name": "stderr",
     "output_type": "stream",
     "text": [
      "  9%|▊         | 52/611 [01:19<16:59,  1.82s/it]"
     ]
    },
    {
     "name": "stdout",
     "output_type": "stream",
     "text": [
      "LIDC-IDRI-0073\n"
     ]
    },
    {
     "name": "stderr",
     "output_type": "stream",
     "text": [
      "  9%|▊         | 53/611 [01:20<14:59,  1.61s/it]"
     ]
    },
    {
     "name": "stdout",
     "output_type": "stream",
     "text": [
      "LIDC-IDRI-0074\n"
     ]
    },
    {
     "name": "stderr",
     "output_type": "stream",
     "text": [
      "  9%|▉         | 54/611 [01:20<12:03,  1.30s/it]"
     ]
    },
    {
     "name": "stdout",
     "output_type": "stream",
     "text": [
      "LIDC-IDRI-0075\n"
     ]
    },
    {
     "name": "stderr",
     "output_type": "stream",
     "text": [
      "  9%|▉         | 55/611 [01:22<11:58,  1.29s/it]"
     ]
    },
    {
     "name": "stdout",
     "output_type": "stream",
     "text": [
      "LIDC-IDRI-0076\n"
     ]
    },
    {
     "name": "stderr",
     "output_type": "stream",
     "text": [
      "  9%|▉         | 56/611 [01:23<10:58,  1.19s/it]"
     ]
    },
    {
     "name": "stdout",
     "output_type": "stream",
     "text": [
      "LIDC-IDRI-0077\n"
     ]
    },
    {
     "name": "stderr",
     "output_type": "stream",
     "text": [
      "  9%|▉         | 57/611 [01:23<09:26,  1.02s/it]"
     ]
    },
    {
     "name": "stdout",
     "output_type": "stream",
     "text": [
      "LIDC-IDRI-0080\n"
     ]
    },
    {
     "name": "stderr",
     "output_type": "stream",
     "text": [
      "  9%|▉         | 58/611 [01:25<11:37,  1.26s/it]"
     ]
    },
    {
     "name": "stdout",
     "output_type": "stream",
     "text": [
      "LIDC-IDRI-0081\n"
     ]
    },
    {
     "name": "stderr",
     "output_type": "stream",
     "text": [
      " 10%|▉         | 59/611 [01:26<11:08,  1.21s/it]"
     ]
    },
    {
     "name": "stdout",
     "output_type": "stream",
     "text": [
      "LIDC-IDRI-0082\n"
     ]
    },
    {
     "name": "stderr",
     "output_type": "stream",
     "text": [
      " 10%|▉         | 60/611 [01:27<09:22,  1.02s/it]"
     ]
    },
    {
     "name": "stdout",
     "output_type": "stream",
     "text": [
      "LIDC-IDRI-0085\n"
     ]
    },
    {
     "name": "stderr",
     "output_type": "stream",
     "text": [
      " 10%|▉         | 61/611 [01:27<07:58,  1.15it/s]"
     ]
    },
    {
     "name": "stdout",
     "output_type": "stream",
     "text": [
      "LIDC-IDRI-0086\n"
     ]
    },
    {
     "name": "stderr",
     "output_type": "stream",
     "text": [
      " 10%|█         | 62/611 [01:28<06:54,  1.33it/s]"
     ]
    },
    {
     "name": "stdout",
     "output_type": "stream",
     "text": [
      "LIDC-IDRI-0087\n"
     ]
    },
    {
     "name": "stderr",
     "output_type": "stream",
     "text": [
      " 10%|█         | 63/611 [01:28<06:34,  1.39it/s]"
     ]
    },
    {
     "name": "stdout",
     "output_type": "stream",
     "text": [
      "LIDC-IDRI-0088\n"
     ]
    },
    {
     "name": "stderr",
     "output_type": "stream",
     "text": [
      " 10%|█         | 64/611 [01:30<08:35,  1.06it/s]"
     ]
    },
    {
     "name": "stdout",
     "output_type": "stream",
     "text": [
      "LIDC-IDRI-0089\n"
     ]
    },
    {
     "name": "stderr",
     "output_type": "stream",
     "text": [
      " 11%|█         | 65/611 [01:31<08:08,  1.12it/s]"
     ]
    },
    {
     "name": "stdout",
     "output_type": "stream",
     "text": [
      "LIDC-IDRI-0090\n"
     ]
    },
    {
     "name": "stderr",
     "output_type": "stream",
     "text": [
      " 11%|█         | 66/611 [01:31<07:07,  1.28it/s]"
     ]
    },
    {
     "name": "stdout",
     "output_type": "stream",
     "text": [
      "LIDC-IDRI-0091\n"
     ]
    },
    {
     "name": "stderr",
     "output_type": "stream",
     "text": [
      " 11%|█         | 67/611 [01:34<11:57,  1.32s/it]"
     ]
    },
    {
     "name": "stdout",
     "output_type": "stream",
     "text": [
      "LIDC-IDRI-0092\n"
     ]
    },
    {
     "name": "stderr",
     "output_type": "stream",
     "text": [
      " 11%|█         | 68/611 [01:36<13:58,  1.54s/it]"
     ]
    },
    {
     "name": "stdout",
     "output_type": "stream",
     "text": [
      "LIDC-IDRI-0093\n"
     ]
    },
    {
     "name": "stderr",
     "output_type": "stream",
     "text": [
      " 11%|█▏        | 69/611 [01:36<11:12,  1.24s/it]"
     ]
    },
    {
     "name": "stdout",
     "output_type": "stream",
     "text": [
      "LIDC-IDRI-0094\n"
     ]
    },
    {
     "name": "stderr",
     "output_type": "stream",
     "text": [
      " 11%|█▏        | 70/611 [01:37<09:40,  1.07s/it]"
     ]
    },
    {
     "name": "stdout",
     "output_type": "stream",
     "text": [
      "LIDC-IDRI-0095\n"
     ]
    },
    {
     "name": "stderr",
     "output_type": "stream",
     "text": [
      " 12%|█▏        | 71/611 [01:38<10:46,  1.20s/it]"
     ]
    },
    {
     "name": "stdout",
     "output_type": "stream",
     "text": [
      "LIDC-IDRI-0096\n"
     ]
    },
    {
     "name": "stderr",
     "output_type": "stream",
     "text": [
      " 12%|█▏        | 72/611 [01:39<09:02,  1.01s/it]"
     ]
    },
    {
     "name": "stdout",
     "output_type": "stream",
     "text": [
      "LIDC-IDRI-0097\n"
     ]
    },
    {
     "name": "stderr",
     "output_type": "stream",
     "text": [
      " 12%|█▏        | 73/611 [01:40<07:39,  1.17it/s]"
     ]
    },
    {
     "name": "stdout",
     "output_type": "stream",
     "text": [
      "LIDC-IDRI-0099\n"
     ]
    },
    {
     "name": "stderr",
     "output_type": "stream",
     "text": [
      " 12%|█▏        | 74/611 [01:40<07:55,  1.13it/s]"
     ]
    },
    {
     "name": "stdout",
     "output_type": "stream",
     "text": [
      "LIDC-IDRI-0102\n"
     ]
    },
    {
     "name": "stderr",
     "output_type": "stream",
     "text": [
      " 12%|█▏        | 75/611 [01:41<06:57,  1.28it/s]"
     ]
    },
    {
     "name": "stdout",
     "output_type": "stream",
     "text": [
      "LIDC-IDRI-0104\n"
     ]
    },
    {
     "name": "stderr",
     "output_type": "stream",
     "text": [
      " 12%|█▏        | 76/611 [01:42<06:45,  1.32it/s]"
     ]
    },
    {
     "name": "stdout",
     "output_type": "stream",
     "text": [
      "LIDC-IDRI-0105\n"
     ]
    },
    {
     "name": "stderr",
     "output_type": "stream",
     "text": [
      " 13%|█▎        | 77/611 [01:42<06:07,  1.45it/s]"
     ]
    },
    {
     "name": "stdout",
     "output_type": "stream",
     "text": [
      "LIDC-IDRI-0107\n"
     ]
    },
    {
     "name": "stderr",
     "output_type": "stream",
     "text": [
      " 13%|█▎        | 78/611 [01:43<05:37,  1.58it/s]"
     ]
    },
    {
     "name": "stdout",
     "output_type": "stream",
     "text": [
      "LIDC-IDRI-0109\n"
     ]
    },
    {
     "name": "stderr",
     "output_type": "stream",
     "text": [
      " 13%|█▎        | 79/611 [01:43<05:23,  1.64it/s]"
     ]
    },
    {
     "name": "stdout",
     "output_type": "stream",
     "text": [
      "LIDC-IDRI-0110\n"
     ]
    },
    {
     "name": "stderr",
     "output_type": "stream",
     "text": [
      " 13%|█▎        | 80/611 [01:44<06:11,  1.43it/s]"
     ]
    },
    {
     "name": "stdout",
     "output_type": "stream",
     "text": [
      "LIDC-IDRI-0112\n"
     ]
    },
    {
     "name": "stderr",
     "output_type": "stream",
     "text": [
      " 13%|█▎        | 81/611 [01:45<05:39,  1.56it/s]"
     ]
    },
    {
     "name": "stdout",
     "output_type": "stream",
     "text": [
      "LIDC-IDRI-0113\n"
     ]
    },
    {
     "name": "stderr",
     "output_type": "stream",
     "text": [
      " 13%|█▎        | 82/611 [01:45<05:16,  1.67it/s]"
     ]
    },
    {
     "name": "stdout",
     "output_type": "stream",
     "text": [
      "LIDC-IDRI-0114\n"
     ]
    },
    {
     "name": "stderr",
     "output_type": "stream",
     "text": [
      " 14%|█▎        | 83/611 [01:46<04:56,  1.78it/s]"
     ]
    },
    {
     "name": "stdout",
     "output_type": "stream",
     "text": [
      "LIDC-IDRI-0116\n"
     ]
    },
    {
     "name": "stderr",
     "output_type": "stream",
     "text": [
      " 14%|█▎        | 84/611 [01:46<05:07,  1.71it/s]"
     ]
    },
    {
     "name": "stdout",
     "output_type": "stream",
     "text": [
      "LIDC-IDRI-0118\n"
     ]
    },
    {
     "name": "stderr",
     "output_type": "stream",
     "text": [
      " 14%|█▍        | 85/611 [01:49<10:03,  1.15s/it]"
     ]
    },
    {
     "name": "stdout",
     "output_type": "stream",
     "text": [
      "LIDC-IDRI-0121\n"
     ]
    },
    {
     "name": "stderr",
     "output_type": "stream",
     "text": [
      " 14%|█▍        | 86/611 [01:50<09:37,  1.10s/it]"
     ]
    },
    {
     "name": "stdout",
     "output_type": "stream",
     "text": [
      "LIDC-IDRI-0123\n"
     ]
    },
    {
     "name": "stderr",
     "output_type": "stream",
     "text": [
      " 14%|█▍        | 87/611 [01:50<07:57,  1.10it/s]"
     ]
    },
    {
     "name": "stdout",
     "output_type": "stream",
     "text": [
      "LIDC-IDRI-0124\n"
     ]
    },
    {
     "name": "stderr",
     "output_type": "stream",
     "text": [
      " 14%|█▍        | 88/611 [01:55<17:37,  2.02s/it]"
     ]
    },
    {
     "name": "stdout",
     "output_type": "stream",
     "text": [
      "LIDC-IDRI-0125\n"
     ]
    },
    {
     "name": "stderr",
     "output_type": "stream",
     "text": [
      " 15%|█▍        | 89/611 [01:56<14:50,  1.71s/it]"
     ]
    },
    {
     "name": "stdout",
     "output_type": "stream",
     "text": [
      "LIDC-IDRI-0128\n"
     ]
    },
    {
     "name": "stderr",
     "output_type": "stream",
     "text": [
      " 15%|█▍        | 90/611 [01:57<12:44,  1.47s/it]"
     ]
    },
    {
     "name": "stdout",
     "output_type": "stream",
     "text": [
      "LIDC-IDRI-0131\n"
     ]
    },
    {
     "name": "stderr",
     "output_type": "stream",
     "text": [
      " 15%|█▍        | 91/611 [01:57<10:06,  1.17s/it]"
     ]
    },
    {
     "name": "stdout",
     "output_type": "stream",
     "text": [
      "LIDC-IDRI-0132\n"
     ]
    },
    {
     "name": "stderr",
     "output_type": "stream",
     "text": [
      " 15%|█▌        | 92/611 [02:00<13:45,  1.59s/it]"
     ]
    },
    {
     "name": "stdout",
     "output_type": "stream",
     "text": [
      "LIDC-IDRI-0133\n"
     ]
    },
    {
     "name": "stderr",
     "output_type": "stream",
     "text": [
      " 15%|█▌        | 93/611 [02:01<12:04,  1.40s/it]"
     ]
    },
    {
     "name": "stdout",
     "output_type": "stream",
     "text": [
      "LIDC-IDRI-0135\n"
     ]
    },
    {
     "name": "stderr",
     "output_type": "stream",
     "text": [
      " 15%|█▌        | 94/611 [02:04<15:51,  1.84s/it]"
     ]
    },
    {
     "name": "stdout",
     "output_type": "stream",
     "text": [
      "LIDC-IDRI-0137\n"
     ]
    },
    {
     "name": "stderr",
     "output_type": "stream",
     "text": [
      " 16%|█▌        | 95/611 [02:06<16:10,  1.88s/it]"
     ]
    },
    {
     "name": "stdout",
     "output_type": "stream",
     "text": [
      "LIDC-IDRI-0139\n"
     ]
    },
    {
     "name": "stderr",
     "output_type": "stream",
     "text": [
      " 16%|█▌        | 96/611 [02:08<17:55,  2.09s/it]"
     ]
    },
    {
     "name": "stdout",
     "output_type": "stream",
     "text": [
      "LIDC-IDRI-0142\n"
     ]
    },
    {
     "name": "stderr",
     "output_type": "stream",
     "text": [
      " 16%|█▌        | 97/611 [02:10<17:06,  2.00s/it]"
     ]
    },
    {
     "name": "stdout",
     "output_type": "stream",
     "text": [
      "LIDC-IDRI-0144\n"
     ]
    },
    {
     "name": "stderr",
     "output_type": "stream",
     "text": [
      " 16%|█▌        | 98/611 [02:12<16:41,  1.95s/it]"
     ]
    },
    {
     "name": "stdout",
     "output_type": "stream",
     "text": [
      "LIDC-IDRI-0145\n"
     ]
    },
    {
     "name": "stderr",
     "output_type": "stream",
     "text": [
      " 16%|█▌        | 99/611 [02:12<13:06,  1.54s/it]"
     ]
    },
    {
     "name": "stdout",
     "output_type": "stream",
     "text": [
      "LIDC-IDRI-0146\n"
     ]
    },
    {
     "name": "stderr",
     "output_type": "stream",
     "text": [
      " 16%|█▋        | 100/611 [02:13<10:26,  1.23s/it]"
     ]
    },
    {
     "name": "stdout",
     "output_type": "stream",
     "text": [
      "LIDC-IDRI-0148\n"
     ]
    },
    {
     "name": "stderr",
     "output_type": "stream",
     "text": [
      " 17%|█▋        | 101/611 [02:14<10:13,  1.20s/it]"
     ]
    },
    {
     "name": "stdout",
     "output_type": "stream",
     "text": [
      "LIDC-IDRI-0151\n"
     ]
    },
    {
     "name": "stderr",
     "output_type": "stream",
     "text": [
      " 17%|█▋        | 102/611 [02:14<08:20,  1.02it/s]"
     ]
    },
    {
     "name": "stdout",
     "output_type": "stream",
     "text": [
      "LIDC-IDRI-0155\n"
     ]
    },
    {
     "name": "stderr",
     "output_type": "stream",
     "text": [
      " 17%|█▋        | 103/611 [02:15<06:57,  1.22it/s]"
     ]
    },
    {
     "name": "stdout",
     "output_type": "stream",
     "text": [
      "LIDC-IDRI-0156\n"
     ]
    },
    {
     "name": "stderr",
     "output_type": "stream",
     "text": [
      " 17%|█▋        | 104/611 [02:15<06:02,  1.40it/s]"
     ]
    },
    {
     "name": "stdout",
     "output_type": "stream",
     "text": [
      "LIDC-IDRI-0157\n"
     ]
    },
    {
     "name": "stderr",
     "output_type": "stream",
     "text": [
      " 17%|█▋        | 105/611 [02:16<05:19,  1.59it/s]"
     ]
    },
    {
     "name": "stdout",
     "output_type": "stream",
     "text": [
      "LIDC-IDRI-0159\n"
     ]
    },
    {
     "name": "stderr",
     "output_type": "stream",
     "text": [
      " 17%|█▋        | 106/611 [02:17<06:12,  1.36it/s]"
     ]
    },
    {
     "name": "stdout",
     "output_type": "stream",
     "text": [
      "LIDC-IDRI-0160\n"
     ]
    },
    {
     "name": "stderr",
     "output_type": "stream",
     "text": [
      " 18%|█▊        | 107/611 [02:19<09:12,  1.10s/it]"
     ]
    },
    {
     "name": "stdout",
     "output_type": "stream",
     "text": [
      "LIDC-IDRI-0161\n"
     ]
    },
    {
     "name": "stderr",
     "output_type": "stream",
     "text": [
      " 18%|█▊        | 108/611 [02:20<10:05,  1.20s/it]"
     ]
    },
    {
     "name": "stdout",
     "output_type": "stream",
     "text": [
      "LIDC-IDRI-0162\n"
     ]
    },
    {
     "name": "stderr",
     "output_type": "stream",
     "text": [
      " 18%|█▊        | 109/611 [02:21<08:11,  1.02it/s]"
     ]
    },
    {
     "name": "stdout",
     "output_type": "stream",
     "text": [
      "LIDC-IDRI-0163\n"
     ]
    },
    {
     "name": "stderr",
     "output_type": "stream",
     "text": [
      " 18%|█▊        | 110/611 [02:21<07:14,  1.15it/s]"
     ]
    },
    {
     "name": "stdout",
     "output_type": "stream",
     "text": [
      "LIDC-IDRI-0166\n"
     ]
    },
    {
     "name": "stderr",
     "output_type": "stream",
     "text": [
      " 18%|█▊        | 111/611 [02:22<07:03,  1.18it/s]"
     ]
    },
    {
     "name": "stdout",
     "output_type": "stream",
     "text": [
      "LIDC-IDRI-0167\n"
     ]
    },
    {
     "name": "stderr",
     "output_type": "stream",
     "text": [
      " 18%|█▊        | 112/611 [02:23<08:10,  1.02it/s]"
     ]
    },
    {
     "name": "stdout",
     "output_type": "stream",
     "text": [
      "LIDC-IDRI-0168\n"
     ]
    },
    {
     "name": "stderr",
     "output_type": "stream",
     "text": [
      " 18%|█▊        | 113/611 [02:24<07:51,  1.06it/s]"
     ]
    },
    {
     "name": "stdout",
     "output_type": "stream",
     "text": [
      "LIDC-IDRI-0169\n"
     ]
    },
    {
     "name": "stderr",
     "output_type": "stream",
     "text": [
      " 19%|█▊        | 114/611 [02:26<08:48,  1.06s/it]"
     ]
    },
    {
     "name": "stdout",
     "output_type": "stream",
     "text": [
      "LIDC-IDRI-0170\n"
     ]
    },
    {
     "name": "stderr",
     "output_type": "stream",
     "text": [
      " 19%|█▉        | 115/611 [02:27<09:04,  1.10s/it]"
     ]
    },
    {
     "name": "stdout",
     "output_type": "stream",
     "text": [
      "LIDC-IDRI-0172\n"
     ]
    },
    {
     "name": "stderr",
     "output_type": "stream",
     "text": [
      " 19%|█▉        | 116/611 [02:27<07:42,  1.07it/s]"
     ]
    },
    {
     "name": "stdout",
     "output_type": "stream",
     "text": [
      "LIDC-IDRI-0175\n"
     ]
    },
    {
     "name": "stderr",
     "output_type": "stream",
     "text": [
      " 19%|█▉        | 117/611 [02:28<06:30,  1.26it/s]"
     ]
    },
    {
     "name": "stdout",
     "output_type": "stream",
     "text": [
      "LIDC-IDRI-0176\n"
     ]
    },
    {
     "name": "stderr",
     "output_type": "stream",
     "text": [
      " 19%|█▉        | 118/611 [02:29<06:40,  1.23it/s]"
     ]
    },
    {
     "name": "stdout",
     "output_type": "stream",
     "text": [
      "LIDC-IDRI-0178\n"
     ]
    },
    {
     "name": "stderr",
     "output_type": "stream",
     "text": [
      " 19%|█▉        | 119/611 [02:29<05:45,  1.42it/s]"
     ]
    },
    {
     "name": "stdout",
     "output_type": "stream",
     "text": [
      "LIDC-IDRI-0179\n"
     ]
    },
    {
     "name": "stderr",
     "output_type": "stream",
     "text": [
      " 20%|█▉        | 120/611 [02:32<10:37,  1.30s/it]"
     ]
    },
    {
     "name": "stdout",
     "output_type": "stream",
     "text": [
      "LIDC-IDRI-0181\n"
     ]
    },
    {
     "name": "stderr",
     "output_type": "stream",
     "text": [
      " 20%|█▉        | 121/611 [02:36<16:45,  2.05s/it]"
     ]
    },
    {
     "name": "stdout",
     "output_type": "stream",
     "text": [
      "LIDC-IDRI-0182\n"
     ]
    },
    {
     "name": "stderr",
     "output_type": "stream",
     "text": [
      " 20%|█▉        | 122/611 [02:36<13:51,  1.70s/it]"
     ]
    },
    {
     "name": "stdout",
     "output_type": "stream",
     "text": [
      "LIDC-IDRI-0183\n"
     ]
    },
    {
     "name": "stderr",
     "output_type": "stream",
     "text": [
      " 20%|██        | 123/611 [02:37<12:04,  1.48s/it]"
     ]
    },
    {
     "name": "stdout",
     "output_type": "stream",
     "text": [
      "LIDC-IDRI-0184\n"
     ]
    },
    {
     "name": "stderr",
     "output_type": "stream",
     "text": [
      " 20%|██        | 124/611 [02:38<09:34,  1.18s/it]"
     ]
    },
    {
     "name": "stdout",
     "output_type": "stream",
     "text": [
      "LIDC-IDRI-0185\n"
     ]
    },
    {
     "name": "stderr",
     "output_type": "stream",
     "text": [
      " 20%|██        | 125/611 [02:41<13:19,  1.64s/it]"
     ]
    },
    {
     "name": "stdout",
     "output_type": "stream",
     "text": [
      "LIDC-IDRI-0186\n"
     ]
    },
    {
     "name": "stderr",
     "output_type": "stream",
     "text": [
      " 21%|██        | 126/611 [02:43<14:16,  1.77s/it]"
     ]
    },
    {
     "name": "stdout",
     "output_type": "stream",
     "text": [
      "LIDC-IDRI-0187\n"
     ]
    },
    {
     "name": "stderr",
     "output_type": "stream",
     "text": [
      " 21%|██        | 127/611 [02:44<12:28,  1.55s/it]"
     ]
    },
    {
     "name": "stdout",
     "output_type": "stream",
     "text": [
      "LIDC-IDRI-0188\n"
     ]
    },
    {
     "name": "stderr",
     "output_type": "stream",
     "text": [
      " 21%|██        | 128/611 [02:47<16:23,  2.04s/it]"
     ]
    },
    {
     "name": "stdout",
     "output_type": "stream",
     "text": [
      "LIDC-IDRI-0190\n"
     ]
    },
    {
     "name": "stderr",
     "output_type": "stream",
     "text": [
      " 21%|██        | 129/611 [02:48<14:08,  1.76s/it]"
     ]
    },
    {
     "name": "stdout",
     "output_type": "stream",
     "text": [
      "LIDC-IDRI-0191\n"
     ]
    },
    {
     "name": "stderr",
     "output_type": "stream",
     "text": [
      " 21%|██▏       | 130/611 [02:49<11:38,  1.45s/it]"
     ]
    },
    {
     "name": "stdout",
     "output_type": "stream",
     "text": [
      "LIDC-IDRI-0192\n"
     ]
    },
    {
     "name": "stderr",
     "output_type": "stream",
     "text": [
      " 21%|██▏       | 131/611 [02:50<11:39,  1.46s/it]"
     ]
    },
    {
     "name": "stdout",
     "output_type": "stream",
     "text": [
      "LIDC-IDRI-0193\n"
     ]
    },
    {
     "name": "stderr",
     "output_type": "stream",
     "text": [
      " 22%|██▏       | 132/611 [02:51<09:14,  1.16s/it]"
     ]
    },
    {
     "name": "stdout",
     "output_type": "stream",
     "text": [
      "LIDC-IDRI-0194\n"
     ]
    },
    {
     "name": "stderr",
     "output_type": "stream",
     "text": [
      " 22%|██▏       | 133/611 [02:53<11:28,  1.44s/it]"
     ]
    },
    {
     "name": "stdout",
     "output_type": "stream",
     "text": [
      "LIDC-IDRI-0196\n"
     ]
    },
    {
     "name": "stderr",
     "output_type": "stream",
     "text": [
      " 22%|██▏       | 134/611 [02:53<09:10,  1.15s/it]"
     ]
    },
    {
     "name": "stdout",
     "output_type": "stream",
     "text": [
      "LIDC-IDRI-0198\n"
     ]
    },
    {
     "name": "stderr",
     "output_type": "stream",
     "text": [
      " 22%|██▏       | 135/611 [02:54<07:27,  1.06it/s]"
     ]
    },
    {
     "name": "stdout",
     "output_type": "stream",
     "text": [
      "LIDC-IDRI-0199\n"
     ]
    },
    {
     "name": "stderr",
     "output_type": "stream",
     "text": [
      " 22%|██▏       | 136/611 [02:55<07:19,  1.08it/s]"
     ]
    },
    {
     "name": "stdout",
     "output_type": "stream",
     "text": [
      "LIDC-IDRI-0200\n"
     ]
    },
    {
     "name": "stderr",
     "output_type": "stream",
     "text": [
      " 22%|██▏       | 137/611 [02:55<06:08,  1.29it/s]"
     ]
    },
    {
     "name": "stdout",
     "output_type": "stream",
     "text": [
      "LIDC-IDRI-0201\n"
     ]
    },
    {
     "name": "stderr",
     "output_type": "stream",
     "text": [
      " 23%|██▎       | 138/611 [02:56<07:28,  1.05it/s]"
     ]
    },
    {
     "name": "stdout",
     "output_type": "stream",
     "text": [
      "LIDC-IDRI-0202\n"
     ]
    },
    {
     "name": "stderr",
     "output_type": "stream",
     "text": [
      " 23%|██▎       | 139/611 [02:57<06:14,  1.26it/s]"
     ]
    },
    {
     "name": "stdout",
     "output_type": "stream",
     "text": [
      "LIDC-IDRI-0203\n"
     ]
    },
    {
     "name": "stderr",
     "output_type": "stream",
     "text": [
      " 23%|██▎       | 140/611 [02:58<06:57,  1.13it/s]"
     ]
    },
    {
     "name": "stdout",
     "output_type": "stream",
     "text": [
      "LIDC-IDRI-0204\n"
     ]
    },
    {
     "name": "stderr",
     "output_type": "stream",
     "text": [
      " 23%|██▎       | 141/611 [02:58<06:12,  1.26it/s]"
     ]
    },
    {
     "name": "stdout",
     "output_type": "stream",
     "text": [
      "LIDC-IDRI-0206\n"
     ]
    },
    {
     "name": "stderr",
     "output_type": "stream",
     "text": [
      " 23%|██▎       | 142/611 [03:00<07:27,  1.05it/s]"
     ]
    },
    {
     "name": "stdout",
     "output_type": "stream",
     "text": [
      "LIDC-IDRI-0208\n"
     ]
    },
    {
     "name": "stderr",
     "output_type": "stream",
     "text": [
      " 23%|██▎       | 143/611 [03:01<08:30,  1.09s/it]"
     ]
    },
    {
     "name": "stdout",
     "output_type": "stream",
     "text": [
      "LIDC-IDRI-0210\n"
     ]
    },
    {
     "name": "stderr",
     "output_type": "stream",
     "text": [
      " 24%|██▎       | 144/611 [03:02<07:01,  1.11it/s]"
     ]
    },
    {
     "name": "stdout",
     "output_type": "stream",
     "text": [
      "LIDC-IDRI-0213\n"
     ]
    },
    {
     "name": "stderr",
     "output_type": "stream",
     "text": [
      " 24%|██▎       | 145/611 [03:02<05:57,  1.30it/s]c:\\Users\\VIRUS\\AppData\\Local\\Programs\\Python\\Python310\\lib\\site-packages\\radiomics\\glcm.py:599: RuntimeWarning: invalid value encountered in sqrt\n",
      "  imc2 = (1 - numpy.e ** (-2 * (HXY2 - HXY))) ** 0.5\n"
     ]
    },
    {
     "name": "stdout",
     "output_type": "stream",
     "text": [
      "LIDC-IDRI-0215\n"
     ]
    },
    {
     "name": "stderr",
     "output_type": "stream",
     "text": [
      " 24%|██▍       | 146/611 [03:04<08:25,  1.09s/it]"
     ]
    },
    {
     "name": "stdout",
     "output_type": "stream",
     "text": [
      "LIDC-IDRI-0216\n"
     ]
    },
    {
     "name": "stderr",
     "output_type": "stream",
     "text": [
      " 24%|██▍       | 147/611 [03:05<07:56,  1.03s/it]"
     ]
    },
    {
     "name": "stdout",
     "output_type": "stream",
     "text": [
      "LIDC-IDRI-0217\n"
     ]
    },
    {
     "name": "stderr",
     "output_type": "stream",
     "text": [
      " 24%|██▍       | 148/611 [03:06<08:48,  1.14s/it]"
     ]
    },
    {
     "name": "stdout",
     "output_type": "stream",
     "text": [
      "LIDC-IDRI-0219\n"
     ]
    },
    {
     "name": "stderr",
     "output_type": "stream",
     "text": [
      " 24%|██▍       | 149/611 [03:07<07:12,  1.07it/s]"
     ]
    },
    {
     "name": "stdout",
     "output_type": "stream",
     "text": [
      "LIDC-IDRI-0221\n"
     ]
    },
    {
     "name": "stderr",
     "output_type": "stream",
     "text": [
      " 25%|██▍       | 150/611 [03:07<06:27,  1.19it/s]"
     ]
    },
    {
     "name": "stdout",
     "output_type": "stream",
     "text": [
      "LIDC-IDRI-0222\n"
     ]
    },
    {
     "name": "stderr",
     "output_type": "stream",
     "text": [
      " 25%|██▍       | 151/611 [03:08<05:31,  1.39it/s]"
     ]
    },
    {
     "name": "stdout",
     "output_type": "stream",
     "text": [
      "LIDC-IDRI-0223\n"
     ]
    },
    {
     "name": "stderr",
     "output_type": "stream",
     "text": [
      " 25%|██▍       | 152/611 [03:09<06:09,  1.24it/s]"
     ]
    },
    {
     "name": "stdout",
     "output_type": "stream",
     "text": [
      "LIDC-IDRI-0227\n"
     ]
    },
    {
     "name": "stderr",
     "output_type": "stream",
     "text": [
      " 25%|██▌       | 153/611 [03:09<05:20,  1.43it/s]"
     ]
    },
    {
     "name": "stdout",
     "output_type": "stream",
     "text": [
      "LIDC-IDRI-0228\n"
     ]
    },
    {
     "name": "stderr",
     "output_type": "stream",
     "text": [
      " 25%|██▌       | 154/611 [03:10<04:47,  1.59it/s]"
     ]
    },
    {
     "name": "stdout",
     "output_type": "stream",
     "text": [
      "LIDC-IDRI-0229\n"
     ]
    },
    {
     "name": "stderr",
     "output_type": "stream",
     "text": [
      " 25%|██▌       | 155/611 [03:13<10:47,  1.42s/it]"
     ]
    },
    {
     "name": "stdout",
     "output_type": "stream",
     "text": [
      "LIDC-IDRI-0230\n"
     ]
    },
    {
     "name": "stderr",
     "output_type": "stream",
     "text": [
      " 26%|██▌       | 156/611 [03:14<09:33,  1.26s/it]"
     ]
    },
    {
     "name": "stdout",
     "output_type": "stream",
     "text": [
      "LIDC-IDRI-0232\n"
     ]
    },
    {
     "name": "stderr",
     "output_type": "stream",
     "text": [
      " 26%|██▌       | 157/611 [03:14<07:40,  1.02s/it]"
     ]
    },
    {
     "name": "stdout",
     "output_type": "stream",
     "text": [
      "LIDC-IDRI-0233\n"
     ]
    },
    {
     "name": "stderr",
     "output_type": "stream",
     "text": [
      " 26%|██▌       | 158/611 [03:15<07:21,  1.02it/s]"
     ]
    },
    {
     "name": "stdout",
     "output_type": "stream",
     "text": [
      "LIDC-IDRI-0237\n"
     ]
    },
    {
     "name": "stderr",
     "output_type": "stream",
     "text": [
      " 26%|██▌       | 159/611 [03:17<08:23,  1.11s/it]"
     ]
    },
    {
     "name": "stdout",
     "output_type": "stream",
     "text": [
      "LIDC-IDRI-0240\n"
     ]
    },
    {
     "name": "stderr",
     "output_type": "stream",
     "text": [
      " 26%|██▌       | 160/611 [03:18<08:18,  1.10s/it]"
     ]
    },
    {
     "name": "stdout",
     "output_type": "stream",
     "text": [
      "LIDC-IDRI-0241\n"
     ]
    },
    {
     "name": "stderr",
     "output_type": "stream",
     "text": [
      " 26%|██▋       | 161/611 [03:19<08:54,  1.19s/it]"
     ]
    },
    {
     "name": "stdout",
     "output_type": "stream",
     "text": [
      "LIDC-IDRI-0242\n"
     ]
    },
    {
     "name": "stderr",
     "output_type": "stream",
     "text": [
      " 27%|██▋       | 162/611 [03:20<07:34,  1.01s/it]"
     ]
    },
    {
     "name": "stdout",
     "output_type": "stream",
     "text": [
      "LIDC-IDRI-0244\n"
     ]
    },
    {
     "name": "stderr",
     "output_type": "stream",
     "text": [
      " 27%|██▋       | 163/611 [03:21<08:34,  1.15s/it]"
     ]
    },
    {
     "name": "stdout",
     "output_type": "stream",
     "text": [
      "LIDC-IDRI-0245\n"
     ]
    },
    {
     "name": "stderr",
     "output_type": "stream",
     "text": [
      " 27%|██▋       | 164/611 [03:22<06:56,  1.07it/s]"
     ]
    },
    {
     "name": "stdout",
     "output_type": "stream",
     "text": [
      "LIDC-IDRI-0246\n"
     ]
    },
    {
     "name": "stderr",
     "output_type": "stream",
     "text": [
      " 27%|██▋       | 165/611 [03:22<05:55,  1.26it/s]"
     ]
    },
    {
     "name": "stdout",
     "output_type": "stream",
     "text": [
      "LIDC-IDRI-0248\n"
     ]
    },
    {
     "name": "stderr",
     "output_type": "stream",
     "text": [
      " 27%|██▋       | 166/611 [03:22<05:04,  1.46it/s]"
     ]
    },
    {
     "name": "stdout",
     "output_type": "stream",
     "text": [
      "LIDC-IDRI-0249\n"
     ]
    },
    {
     "name": "stderr",
     "output_type": "stream",
     "text": [
      " 27%|██▋       | 167/611 [03:23<05:43,  1.29it/s]"
     ]
    },
    {
     "name": "stdout",
     "output_type": "stream",
     "text": [
      "LIDC-IDRI-0251\n"
     ]
    },
    {
     "name": "stderr",
     "output_type": "stream",
     "text": [
      " 27%|██▋       | 168/611 [03:24<04:57,  1.49it/s]"
     ]
    },
    {
     "name": "stdout",
     "output_type": "stream",
     "text": [
      "LIDC-IDRI-0252\n"
     ]
    },
    {
     "name": "stderr",
     "output_type": "stream",
     "text": [
      " 28%|██▊       | 169/611 [03:24<04:40,  1.57it/s]"
     ]
    },
    {
     "name": "stdout",
     "output_type": "stream",
     "text": [
      "LIDC-IDRI-0254\n"
     ]
    },
    {
     "name": "stderr",
     "output_type": "stream",
     "text": [
      " 28%|██▊       | 170/611 [03:26<06:09,  1.19it/s]"
     ]
    },
    {
     "name": "stdout",
     "output_type": "stream",
     "text": [
      "LIDC-IDRI-0255\n"
     ]
    },
    {
     "name": "stderr",
     "output_type": "stream",
     "text": [
      " 28%|██▊       | 171/611 [03:27<06:14,  1.17it/s]"
     ]
    },
    {
     "name": "stdout",
     "output_type": "stream",
     "text": [
      "LIDC-IDRI-0256\n"
     ]
    },
    {
     "name": "stderr",
     "output_type": "stream",
     "text": [
      " 28%|██▊       | 172/611 [03:27<05:22,  1.36it/s]"
     ]
    },
    {
     "name": "stdout",
     "output_type": "stream",
     "text": [
      "LIDC-IDRI-0257\n"
     ]
    },
    {
     "name": "stderr",
     "output_type": "stream",
     "text": [
      " 28%|██▊       | 173/611 [03:28<04:56,  1.47it/s]"
     ]
    },
    {
     "name": "stdout",
     "output_type": "stream",
     "text": [
      "LIDC-IDRI-0258\n"
     ]
    },
    {
     "name": "stderr",
     "output_type": "stream",
     "text": [
      " 28%|██▊       | 174/611 [03:29<05:38,  1.29it/s]"
     ]
    },
    {
     "name": "stdout",
     "output_type": "stream",
     "text": [
      "LIDC-IDRI-0259\n"
     ]
    },
    {
     "name": "stderr",
     "output_type": "stream",
     "text": [
      " 29%|██▊       | 175/611 [03:29<04:54,  1.48it/s]"
     ]
    },
    {
     "name": "stdout",
     "output_type": "stream",
     "text": [
      "LIDC-IDRI-0260\n"
     ]
    },
    {
     "name": "stderr",
     "output_type": "stream",
     "text": [
      " 29%|██▉       | 176/611 [03:31<07:52,  1.09s/it]"
     ]
    },
    {
     "name": "stdout",
     "output_type": "stream",
     "text": [
      "LIDC-IDRI-0263\n"
     ]
    },
    {
     "name": "stderr",
     "output_type": "stream",
     "text": [
      " 29%|██▉       | 177/611 [03:32<06:34,  1.10it/s]"
     ]
    },
    {
     "name": "stdout",
     "output_type": "stream",
     "text": [
      "LIDC-IDRI-0264\n"
     ]
    },
    {
     "name": "stderr",
     "output_type": "stream",
     "text": [
      " 29%|██▉       | 178/611 [03:33<06:35,  1.10it/s]"
     ]
    },
    {
     "name": "stdout",
     "output_type": "stream",
     "text": [
      "LIDC-IDRI-0265\n"
     ]
    },
    {
     "name": "stderr",
     "output_type": "stream",
     "text": [
      " 29%|██▉       | 179/611 [03:33<05:56,  1.21it/s]"
     ]
    },
    {
     "name": "stdout",
     "output_type": "stream",
     "text": [
      "LIDC-IDRI-0267\n"
     ]
    },
    {
     "name": "stderr",
     "output_type": "stream",
     "text": [
      " 29%|██▉       | 180/611 [03:35<07:09,  1.00it/s]"
     ]
    },
    {
     "name": "stdout",
     "output_type": "stream",
     "text": [
      "LIDC-IDRI-0269\n"
     ]
    },
    {
     "name": "stderr",
     "output_type": "stream",
     "text": [
      " 30%|██▉       | 181/611 [03:35<05:59,  1.20it/s]"
     ]
    },
    {
     "name": "stdout",
     "output_type": "stream",
     "text": [
      "LIDC-IDRI-0271\n"
     ]
    },
    {
     "name": "stderr",
     "output_type": "stream",
     "text": [
      " 30%|██▉       | 182/611 [03:35<05:08,  1.39it/s]"
     ]
    },
    {
     "name": "stdout",
     "output_type": "stream",
     "text": [
      "LIDC-IDRI-0272\n"
     ]
    },
    {
     "name": "stderr",
     "output_type": "stream",
     "text": [
      " 30%|██▉       | 183/611 [03:36<04:32,  1.57it/s]"
     ]
    },
    {
     "name": "stdout",
     "output_type": "stream",
     "text": [
      "LIDC-IDRI-0274\n"
     ]
    },
    {
     "name": "stderr",
     "output_type": "stream",
     "text": [
      " 30%|███       | 184/611 [03:36<04:13,  1.69it/s]"
     ]
    },
    {
     "name": "stdout",
     "output_type": "stream",
     "text": [
      "LIDC-IDRI-0276\n"
     ]
    },
    {
     "name": "stderr",
     "output_type": "stream",
     "text": [
      " 30%|███       | 185/611 [03:37<03:53,  1.83it/s]"
     ]
    },
    {
     "name": "stdout",
     "output_type": "stream",
     "text": [
      "LIDC-IDRI-0277\n"
     ]
    },
    {
     "name": "stderr",
     "output_type": "stream",
     "text": [
      " 30%|███       | 186/611 [03:37<04:05,  1.73it/s]"
     ]
    },
    {
     "name": "stdout",
     "output_type": "stream",
     "text": [
      "LIDC-IDRI-0281\n"
     ]
    },
    {
     "name": "stderr",
     "output_type": "stream",
     "text": [
      " 31%|███       | 187/611 [03:38<03:49,  1.85it/s]"
     ]
    },
    {
     "name": "stdout",
     "output_type": "stream",
     "text": [
      "LIDC-IDRI-0283\n"
     ]
    },
    {
     "name": "stderr",
     "output_type": "stream",
     "text": [
      " 31%|███       | 188/611 [03:38<03:37,  1.94it/s]"
     ]
    },
    {
     "name": "stdout",
     "output_type": "stream",
     "text": [
      "LIDC-IDRI-0284\n"
     ]
    },
    {
     "name": "stderr",
     "output_type": "stream",
     "text": [
      " 31%|███       | 189/611 [03:39<04:22,  1.61it/s]"
     ]
    },
    {
     "name": "stdout",
     "output_type": "stream",
     "text": [
      "LIDC-IDRI-0285\n"
     ]
    },
    {
     "name": "stderr",
     "output_type": "stream",
     "text": [
      " 31%|███       | 190/611 [03:40<05:11,  1.35it/s]"
     ]
    },
    {
     "name": "stdout",
     "output_type": "stream",
     "text": [
      "LIDC-IDRI-0288\n"
     ]
    },
    {
     "name": "stderr",
     "output_type": "stream",
     "text": [
      " 31%|███▏      | 191/611 [03:41<05:28,  1.28it/s]"
     ]
    },
    {
     "name": "stdout",
     "output_type": "stream",
     "text": [
      "LIDC-IDRI-0289\n"
     ]
    },
    {
     "name": "stderr",
     "output_type": "stream",
     "text": [
      " 31%|███▏      | 192/611 [03:42<06:12,  1.12it/s]"
     ]
    },
    {
     "name": "stdout",
     "output_type": "stream",
     "text": [
      "LIDC-IDRI-0291\n"
     ]
    },
    {
     "name": "stderr",
     "output_type": "stream",
     "text": [
      " 32%|███▏      | 193/611 [03:43<05:16,  1.32it/s]"
     ]
    },
    {
     "name": "stdout",
     "output_type": "stream",
     "text": [
      "LIDC-IDRI-0292\n"
     ]
    },
    {
     "name": "stderr",
     "output_type": "stream",
     "text": [
      " 32%|███▏      | 194/611 [03:43<04:44,  1.47it/s]"
     ]
    },
    {
     "name": "stdout",
     "output_type": "stream",
     "text": [
      "LIDC-IDRI-0294\n"
     ]
    },
    {
     "name": "stderr",
     "output_type": "stream",
     "text": [
      " 32%|███▏      | 195/611 [03:44<04:34,  1.52it/s]"
     ]
    },
    {
     "name": "stdout",
     "output_type": "stream",
     "text": [
      "LIDC-IDRI-0297\n"
     ]
    },
    {
     "name": "stderr",
     "output_type": "stream",
     "text": [
      " 32%|███▏      | 196/611 [03:44<04:08,  1.67it/s]"
     ]
    },
    {
     "name": "stdout",
     "output_type": "stream",
     "text": [
      "LIDC-IDRI-0298\n"
     ]
    },
    {
     "name": "stderr",
     "output_type": "stream",
     "text": [
      " 32%|███▏      | 197/611 [03:48<10:50,  1.57s/it]"
     ]
    },
    {
     "name": "stdout",
     "output_type": "stream",
     "text": [
      "LIDC-IDRI-0299\n"
     ]
    },
    {
     "name": "stderr",
     "output_type": "stream",
     "text": [
      " 32%|███▏      | 198/611 [03:50<10:29,  1.52s/it]"
     ]
    },
    {
     "name": "stdout",
     "output_type": "stream",
     "text": [
      "LIDC-IDRI-0300\n"
     ]
    },
    {
     "name": "stderr",
     "output_type": "stream",
     "text": [
      " 33%|███▎      | 199/611 [03:51<11:01,  1.61s/it]"
     ]
    },
    {
     "name": "stdout",
     "output_type": "stream",
     "text": [
      "LIDC-IDRI-0301\n"
     ]
    },
    {
     "name": "stderr",
     "output_type": "stream",
     "text": [
      " 33%|███▎      | 200/611 [03:52<09:35,  1.40s/it]"
     ]
    },
    {
     "name": "stdout",
     "output_type": "stream",
     "text": [
      "LIDC-IDRI-0304\n"
     ]
    },
    {
     "name": "stderr",
     "output_type": "stream",
     "text": [
      " 33%|███▎      | 201/611 [03:53<07:39,  1.12s/it]"
     ]
    },
    {
     "name": "stdout",
     "output_type": "stream",
     "text": [
      "LIDC-IDRI-0308\n"
     ]
    },
    {
     "name": "stderr",
     "output_type": "stream",
     "text": [
      " 33%|███▎      | 202/611 [03:53<06:18,  1.08it/s]"
     ]
    },
    {
     "name": "stdout",
     "output_type": "stream",
     "text": [
      "LIDC-IDRI-0309\n"
     ]
    },
    {
     "name": "stderr",
     "output_type": "stream",
     "text": [
      " 33%|███▎      | 203/611 [03:54<05:18,  1.28it/s]"
     ]
    },
    {
     "name": "stdout",
     "output_type": "stream",
     "text": [
      "LIDC-IDRI-0310\n"
     ]
    },
    {
     "name": "stderr",
     "output_type": "stream",
     "text": [
      " 33%|███▎      | 204/611 [03:54<04:39,  1.46it/s]"
     ]
    },
    {
     "name": "stdout",
     "output_type": "stream",
     "text": [
      "LIDC-IDRI-0311\n"
     ]
    },
    {
     "name": "stderr",
     "output_type": "stream",
     "text": [
      " 34%|███▎      | 205/611 [03:55<05:35,  1.21it/s]"
     ]
    },
    {
     "name": "stdout",
     "output_type": "stream",
     "text": [
      "LIDC-IDRI-0314\n"
     ]
    },
    {
     "name": "stderr",
     "output_type": "stream",
     "text": [
      " 34%|███▎      | 206/611 [03:56<04:58,  1.36it/s]"
     ]
    },
    {
     "name": "stdout",
     "output_type": "stream",
     "text": [
      "LIDC-IDRI-0315\n"
     ]
    },
    {
     "name": "stderr",
     "output_type": "stream",
     "text": [
      " 34%|███▍      | 207/611 [03:58<08:27,  1.26s/it]"
     ]
    },
    {
     "name": "stdout",
     "output_type": "stream",
     "text": [
      "LIDC-IDRI-0317\n"
     ]
    },
    {
     "name": "stderr",
     "output_type": "stream",
     "text": [
      " 34%|███▍      | 208/611 [03:59<06:46,  1.01s/it]"
     ]
    },
    {
     "name": "stdout",
     "output_type": "stream",
     "text": [
      "LIDC-IDRI-0318\n"
     ]
    },
    {
     "name": "stderr",
     "output_type": "stream",
     "text": [
      " 34%|███▍      | 209/611 [03:59<05:36,  1.20it/s]"
     ]
    },
    {
     "name": "stdout",
     "output_type": "stream",
     "text": [
      "LIDC-IDRI-0319\n"
     ]
    },
    {
     "name": "stderr",
     "output_type": "stream",
     "text": [
      " 34%|███▍      | 210/611 [04:00<04:47,  1.40it/s]"
     ]
    },
    {
     "name": "stdout",
     "output_type": "stream",
     "text": [
      "LIDC-IDRI-0324\n"
     ]
    },
    {
     "name": "stderr",
     "output_type": "stream",
     "text": [
      " 35%|███▍      | 211/611 [04:00<04:13,  1.58it/s]"
     ]
    },
    {
     "name": "stdout",
     "output_type": "stream",
     "text": [
      "LIDC-IDRI-0325\n"
     ]
    },
    {
     "name": "stderr",
     "output_type": "stream",
     "text": [
      " 35%|███▍      | 212/611 [04:01<04:14,  1.57it/s]"
     ]
    },
    {
     "name": "stdout",
     "output_type": "stream",
     "text": [
      "LIDC-IDRI-0329\n"
     ]
    },
    {
     "name": "stderr",
     "output_type": "stream",
     "text": [
      " 35%|███▍      | 213/611 [04:01<03:50,  1.73it/s]"
     ]
    },
    {
     "name": "stdout",
     "output_type": "stream",
     "text": [
      "LIDC-IDRI-0332\n"
     ]
    },
    {
     "name": "stderr",
     "output_type": "stream",
     "text": [
      " 35%|███▌      | 214/611 [04:03<05:43,  1.15it/s]"
     ]
    },
    {
     "name": "stdout",
     "output_type": "stream",
     "text": [
      "LIDC-IDRI-0334\n"
     ]
    },
    {
     "name": "stderr",
     "output_type": "stream",
     "text": [
      " 35%|███▌      | 215/611 [04:06<10:42,  1.62s/it]"
     ]
    },
    {
     "name": "stdout",
     "output_type": "stream",
     "text": [
      "LIDC-IDRI-0335\n"
     ]
    },
    {
     "name": "stderr",
     "output_type": "stream",
     "text": [
      " 35%|███▌      | 216/611 [04:08<11:07,  1.69s/it]"
     ]
    },
    {
     "name": "stdout",
     "output_type": "stream",
     "text": [
      "LIDC-IDRI-0337\n"
     ]
    },
    {
     "name": "stderr",
     "output_type": "stream",
     "text": [
      " 36%|███▌      | 217/611 [04:09<10:07,  1.54s/it]"
     ]
    },
    {
     "name": "stdout",
     "output_type": "stream",
     "text": [
      "LIDC-IDRI-0338\n"
     ]
    },
    {
     "name": "stderr",
     "output_type": "stream",
     "text": [
      " 36%|███▌      | 218/611 [04:10<07:55,  1.21s/it]"
     ]
    },
    {
     "name": "stdout",
     "output_type": "stream",
     "text": [
      "LIDC-IDRI-0339\n"
     ]
    },
    {
     "name": "stderr",
     "output_type": "stream",
     "text": [
      " 36%|███▌      | 219/611 [04:10<06:23,  1.02it/s]"
     ]
    },
    {
     "name": "stdout",
     "output_type": "stream",
     "text": [
      "LIDC-IDRI-0343\n"
     ]
    },
    {
     "name": "stderr",
     "output_type": "stream",
     "text": [
      " 36%|███▌      | 220/611 [04:10<05:20,  1.22it/s]"
     ]
    },
    {
     "name": "stdout",
     "output_type": "stream",
     "text": [
      "LIDC-IDRI-0344\n"
     ]
    },
    {
     "name": "stderr",
     "output_type": "stream",
     "text": [
      " 36%|███▌      | 221/611 [04:11<05:28,  1.19it/s]"
     ]
    },
    {
     "name": "stdout",
     "output_type": "stream",
     "text": [
      "LIDC-IDRI-0345\n"
     ]
    },
    {
     "name": "stderr",
     "output_type": "stream",
     "text": [
      " 36%|███▋      | 222/611 [04:12<05:31,  1.17it/s]"
     ]
    },
    {
     "name": "stdout",
     "output_type": "stream",
     "text": [
      "LIDC-IDRI-0346\n"
     ]
    },
    {
     "name": "stderr",
     "output_type": "stream",
     "text": [
      " 36%|███▋      | 223/611 [04:14<08:20,  1.29s/it]"
     ]
    },
    {
     "name": "stdout",
     "output_type": "stream",
     "text": [
      "LIDC-IDRI-0347\n"
     ]
    },
    {
     "name": "stderr",
     "output_type": "stream",
     "text": [
      " 37%|███▋      | 224/611 [04:16<09:06,  1.41s/it]"
     ]
    },
    {
     "name": "stdout",
     "output_type": "stream",
     "text": [
      "LIDC-IDRI-0348\n"
     ]
    },
    {
     "name": "stderr",
     "output_type": "stream",
     "text": [
      " 37%|███▋      | 225/611 [04:17<07:19,  1.14s/it]"
     ]
    },
    {
     "name": "stdout",
     "output_type": "stream",
     "text": [
      "LIDC-IDRI-0351\n"
     ]
    },
    {
     "name": "stderr",
     "output_type": "stream",
     "text": [
      " 37%|███▋      | 226/611 [04:17<05:58,  1.07it/s]"
     ]
    },
    {
     "name": "stdout",
     "output_type": "stream",
     "text": [
      "LIDC-IDRI-0352\n"
     ]
    },
    {
     "name": "stderr",
     "output_type": "stream",
     "text": [
      " 37%|███▋      | 227/611 [04:18<05:15,  1.22it/s]"
     ]
    },
    {
     "name": "stdout",
     "output_type": "stream",
     "text": [
      "LIDC-IDRI-0353\n"
     ]
    },
    {
     "name": "stderr",
     "output_type": "stream",
     "text": [
      " 37%|███▋      | 228/611 [04:19<06:23,  1.00s/it]"
     ]
    },
    {
     "name": "stdout",
     "output_type": "stream",
     "text": [
      "LIDC-IDRI-0354\n"
     ]
    },
    {
     "name": "stderr",
     "output_type": "stream",
     "text": [
      " 37%|███▋      | 229/611 [04:20<06:10,  1.03it/s]"
     ]
    },
    {
     "name": "stdout",
     "output_type": "stream",
     "text": [
      "LIDC-IDRI-0355\n"
     ]
    },
    {
     "name": "stderr",
     "output_type": "stream",
     "text": [
      " 38%|███▊      | 230/611 [04:21<05:25,  1.17it/s]"
     ]
    },
    {
     "name": "stdout",
     "output_type": "stream",
     "text": [
      "LIDC-IDRI-0356\n"
     ]
    },
    {
     "name": "stderr",
     "output_type": "stream",
     "text": [
      " 38%|███▊      | 231/611 [04:24<09:43,  1.53s/it]"
     ]
    },
    {
     "name": "stdout",
     "output_type": "stream",
     "text": [
      "LIDC-IDRI-0358\n"
     ]
    },
    {
     "name": "stderr",
     "output_type": "stream",
     "text": [
      " 38%|███▊      | 232/611 [04:26<11:06,  1.76s/it]"
     ]
    },
    {
     "name": "stdout",
     "output_type": "stream",
     "text": [
      "LIDC-IDRI-0360\n"
     ]
    },
    {
     "name": "stderr",
     "output_type": "stream",
     "text": [
      " 38%|███▊      | 233/611 [04:28<11:10,  1.77s/it]"
     ]
    },
    {
     "name": "stdout",
     "output_type": "stream",
     "text": [
      "LIDC-IDRI-0362\n"
     ]
    },
    {
     "name": "stderr",
     "output_type": "stream",
     "text": [
      " 38%|███▊      | 234/611 [04:28<08:42,  1.39s/it]"
     ]
    },
    {
     "name": "stdout",
     "output_type": "stream",
     "text": [
      "LIDC-IDRI-0365\n"
     ]
    },
    {
     "name": "stderr",
     "output_type": "stream",
     "text": [
      " 38%|███▊      | 235/611 [04:29<07:03,  1.13s/it]"
     ]
    },
    {
     "name": "stdout",
     "output_type": "stream",
     "text": [
      "LIDC-IDRI-0366\n"
     ]
    },
    {
     "name": "stderr",
     "output_type": "stream",
     "text": [
      " 39%|███▊      | 236/611 [04:29<06:03,  1.03it/s]"
     ]
    },
    {
     "name": "stdout",
     "output_type": "stream",
     "text": [
      "LIDC-IDRI-0369\n"
     ]
    },
    {
     "name": "stderr",
     "output_type": "stream",
     "text": [
      " 39%|███▉      | 237/611 [04:30<05:03,  1.23it/s]"
     ]
    },
    {
     "name": "stdout",
     "output_type": "stream",
     "text": [
      "LIDC-IDRI-0371\n"
     ]
    },
    {
     "name": "stderr",
     "output_type": "stream",
     "text": [
      " 39%|███▉      | 238/611 [04:30<04:25,  1.40it/s]"
     ]
    },
    {
     "name": "stdout",
     "output_type": "stream",
     "text": [
      "LIDC-IDRI-0375\n"
     ]
    },
    {
     "name": "stderr",
     "output_type": "stream",
     "text": [
      " 39%|███▉      | 239/611 [04:31<04:49,  1.28it/s]"
     ]
    },
    {
     "name": "stdout",
     "output_type": "stream",
     "text": [
      "LIDC-IDRI-0376\n"
     ]
    },
    {
     "name": "stderr",
     "output_type": "stream",
     "text": [
      " 39%|███▉      | 240/611 [04:32<04:58,  1.24it/s]"
     ]
    },
    {
     "name": "stdout",
     "output_type": "stream",
     "text": [
      "LIDC-IDRI-0377\n"
     ]
    },
    {
     "name": "stderr",
     "output_type": "stream",
     "text": [
      " 39%|███▉      | 241/611 [04:33<05:21,  1.15it/s]"
     ]
    },
    {
     "name": "stdout",
     "output_type": "stream",
     "text": [
      "LIDC-IDRI-0378\n"
     ]
    },
    {
     "name": "stderr",
     "output_type": "stream",
     "text": [
      " 40%|███▉      | 242/611 [04:34<04:35,  1.34it/s]"
     ]
    },
    {
     "name": "stdout",
     "output_type": "stream",
     "text": [
      "LIDC-IDRI-0379\n"
     ]
    },
    {
     "name": "stderr",
     "output_type": "stream",
     "text": [
      " 40%|███▉      | 243/611 [04:35<06:33,  1.07s/it]"
     ]
    },
    {
     "name": "stdout",
     "output_type": "stream",
     "text": [
      "LIDC-IDRI-0380\n"
     ]
    },
    {
     "name": "stderr",
     "output_type": "stream",
     "text": [
      " 40%|███▉      | 244/611 [04:37<06:59,  1.14s/it]"
     ]
    },
    {
     "name": "stdout",
     "output_type": "stream",
     "text": [
      "LIDC-IDRI-0381\n"
     ]
    },
    {
     "name": "stderr",
     "output_type": "stream",
     "text": [
      " 40%|████      | 245/611 [04:37<05:41,  1.07it/s]"
     ]
    },
    {
     "name": "stdout",
     "output_type": "stream",
     "text": [
      "LIDC-IDRI-0384\n"
     ]
    },
    {
     "name": "stderr",
     "output_type": "stream",
     "text": [
      " 40%|████      | 246/611 [04:38<04:46,  1.27it/s]"
     ]
    },
    {
     "name": "stdout",
     "output_type": "stream",
     "text": [
      "LIDC-IDRI-0385\n"
     ]
    },
    {
     "name": "stderr",
     "output_type": "stream",
     "text": [
      " 40%|████      | 247/611 [04:38<04:11,  1.45it/s]"
     ]
    },
    {
     "name": "stdout",
     "output_type": "stream",
     "text": [
      "LIDC-IDRI-0386\n"
     ]
    },
    {
     "name": "stderr",
     "output_type": "stream",
     "text": [
      " 41%|████      | 248/611 [04:40<06:16,  1.04s/it]"
     ]
    },
    {
     "name": "stdout",
     "output_type": "stream",
     "text": [
      "LIDC-IDRI-0387\n"
     ]
    },
    {
     "name": "stderr",
     "output_type": "stream",
     "text": [
      " 41%|████      | 249/611 [04:41<06:21,  1.06s/it]"
     ]
    },
    {
     "name": "stdout",
     "output_type": "stream",
     "text": [
      "LIDC-IDRI-0388\n"
     ]
    },
    {
     "name": "stderr",
     "output_type": "stream",
     "text": [
      " 41%|████      | 250/611 [04:42<06:50,  1.14s/it]"
     ]
    },
    {
     "name": "stdout",
     "output_type": "stream",
     "text": [
      "LIDC-IDRI-0390\n"
     ]
    },
    {
     "name": "stderr",
     "output_type": "stream",
     "text": [
      " 41%|████      | 251/611 [04:46<10:35,  1.77s/it]"
     ]
    },
    {
     "name": "stdout",
     "output_type": "stream",
     "text": [
      "LIDC-IDRI-0392\n"
     ]
    },
    {
     "name": "stderr",
     "output_type": "stream",
     "text": [
      " 41%|████      | 252/611 [04:46<08:57,  1.50s/it]"
     ]
    },
    {
     "name": "stdout",
     "output_type": "stream",
     "text": [
      "LIDC-IDRI-0394\n"
     ]
    },
    {
     "name": "stderr",
     "output_type": "stream",
     "text": [
      " 41%|████▏     | 253/611 [04:50<11:58,  2.01s/it]"
     ]
    },
    {
     "name": "stdout",
     "output_type": "stream",
     "text": [
      "LIDC-IDRI-0395\n"
     ]
    },
    {
     "name": "stderr",
     "output_type": "stream",
     "text": [
      " 42%|████▏     | 254/611 [04:51<10:58,  1.84s/it]"
     ]
    },
    {
     "name": "stdout",
     "output_type": "stream",
     "text": [
      "LIDC-IDRI-0397\n"
     ]
    },
    {
     "name": "stderr",
     "output_type": "stream",
     "text": [
      " 42%|████▏     | 255/611 [04:52<08:25,  1.42s/it]"
     ]
    },
    {
     "name": "stdout",
     "output_type": "stream",
     "text": [
      "LIDC-IDRI-0398\n"
     ]
    },
    {
     "name": "stderr",
     "output_type": "stream",
     "text": [
      " 42%|████▏     | 256/611 [04:54<09:47,  1.65s/it]"
     ]
    },
    {
     "name": "stdout",
     "output_type": "stream",
     "text": [
      "LIDC-IDRI-0399\n"
     ]
    },
    {
     "name": "stderr",
     "output_type": "stream",
     "text": [
      " 42%|████▏     | 257/611 [04:54<07:35,  1.29s/it]"
     ]
    },
    {
     "name": "stdout",
     "output_type": "stream",
     "text": [
      "LIDC-IDRI-0405\n"
     ]
    },
    {
     "name": "stderr",
     "output_type": "stream",
     "text": [
      " 42%|████▏     | 258/611 [04:56<07:46,  1.32s/it]"
     ]
    },
    {
     "name": "stdout",
     "output_type": "stream",
     "text": [
      "LIDC-IDRI-0406\n"
     ]
    },
    {
     "name": "stderr",
     "output_type": "stream",
     "text": [
      " 42%|████▏     | 259/611 [04:56<06:57,  1.18s/it]"
     ]
    },
    {
     "name": "stdout",
     "output_type": "stream",
     "text": [
      "LIDC-IDRI-0409\n"
     ]
    },
    {
     "name": "stderr",
     "output_type": "stream",
     "text": [
      " 43%|████▎     | 260/611 [04:58<07:14,  1.24s/it]"
     ]
    },
    {
     "name": "stdout",
     "output_type": "stream",
     "text": [
      "LIDC-IDRI-0411\n"
     ]
    },
    {
     "name": "stderr",
     "output_type": "stream",
     "text": [
      " 43%|████▎     | 261/611 [04:59<06:34,  1.13s/it]"
     ]
    },
    {
     "name": "stdout",
     "output_type": "stream",
     "text": [
      "LIDC-IDRI-0412\n"
     ]
    },
    {
     "name": "stderr",
     "output_type": "stream",
     "text": [
      " 43%|████▎     | 262/611 [05:00<06:53,  1.18s/it]"
     ]
    },
    {
     "name": "stdout",
     "output_type": "stream",
     "text": [
      "LIDC-IDRI-0413\n"
     ]
    },
    {
     "name": "stderr",
     "output_type": "stream",
     "text": [
      " 43%|████▎     | 263/611 [05:01<06:24,  1.10s/it]"
     ]
    },
    {
     "name": "stdout",
     "output_type": "stream",
     "text": [
      "LIDC-IDRI-0414\n"
     ]
    },
    {
     "name": "stderr",
     "output_type": "stream",
     "text": [
      " 43%|████▎     | 264/611 [05:01<05:18,  1.09it/s]"
     ]
    },
    {
     "name": "stdout",
     "output_type": "stream",
     "text": [
      "LIDC-IDRI-0416\n"
     ]
    },
    {
     "name": "stderr",
     "output_type": "stream",
     "text": [
      " 43%|████▎     | 265/611 [05:02<05:13,  1.10it/s]"
     ]
    },
    {
     "name": "stdout",
     "output_type": "stream",
     "text": [
      "LIDC-IDRI-0420\n"
     ]
    },
    {
     "name": "stderr",
     "output_type": "stream",
     "text": [
      " 44%|████▎     | 266/611 [05:03<05:10,  1.11it/s]"
     ]
    },
    {
     "name": "stdout",
     "output_type": "stream",
     "text": [
      "LIDC-IDRI-0421\n"
     ]
    },
    {
     "name": "stderr",
     "output_type": "stream",
     "text": [
      " 44%|████▎     | 267/611 [05:04<05:26,  1.05it/s]"
     ]
    },
    {
     "name": "stdout",
     "output_type": "stream",
     "text": [
      "LIDC-IDRI-0423\n"
     ]
    },
    {
     "name": "stderr",
     "output_type": "stream",
     "text": [
      " 44%|████▍     | 268/611 [05:05<04:45,  1.20it/s]"
     ]
    },
    {
     "name": "stdout",
     "output_type": "stream",
     "text": [
      "LIDC-IDRI-0424\n"
     ]
    },
    {
     "name": "stderr",
     "output_type": "stream",
     "text": [
      " 44%|████▍     | 269/611 [05:06<04:48,  1.18it/s]"
     ]
    },
    {
     "name": "stdout",
     "output_type": "stream",
     "text": [
      "LIDC-IDRI-0427\n"
     ]
    },
    {
     "name": "stderr",
     "output_type": "stream",
     "text": [
      " 44%|████▍     | 270/611 [05:07<06:25,  1.13s/it]"
     ]
    },
    {
     "name": "stdout",
     "output_type": "stream",
     "text": [
      "LIDC-IDRI-0429\n"
     ]
    },
    {
     "name": "stderr",
     "output_type": "stream",
     "text": [
      " 44%|████▍     | 271/611 [05:08<05:59,  1.06s/it]"
     ]
    },
    {
     "name": "stdout",
     "output_type": "stream",
     "text": [
      "LIDC-IDRI-0430\n"
     ]
    },
    {
     "name": "stderr",
     "output_type": "stream",
     "text": [
      " 45%|████▍     | 272/611 [05:09<05:43,  1.01s/it]"
     ]
    },
    {
     "name": "stdout",
     "output_type": "stream",
     "text": [
      "LIDC-IDRI-0433\n"
     ]
    },
    {
     "name": "stderr",
     "output_type": "stream",
     "text": [
      " 45%|████▍     | 273/611 [05:11<06:54,  1.23s/it]"
     ]
    },
    {
     "name": "stdout",
     "output_type": "stream",
     "text": [
      "LIDC-IDRI-0434\n"
     ]
    },
    {
     "name": "stderr",
     "output_type": "stream",
     "text": [
      " 45%|████▍     | 274/611 [05:13<07:22,  1.31s/it]"
     ]
    },
    {
     "name": "stdout",
     "output_type": "stream",
     "text": [
      "LIDC-IDRI-0437\n"
     ]
    },
    {
     "name": "stderr",
     "output_type": "stream",
     "text": [
      " 45%|████▌     | 275/611 [05:14<08:16,  1.48s/it]"
     ]
    },
    {
     "name": "stdout",
     "output_type": "stream",
     "text": [
      "LIDC-IDRI-0438\n"
     ]
    },
    {
     "name": "stderr",
     "output_type": "stream",
     "text": [
      " 45%|████▌     | 276/611 [05:15<06:31,  1.17s/it]"
     ]
    },
    {
     "name": "stdout",
     "output_type": "stream",
     "text": [
      "LIDC-IDRI-0439\n"
     ]
    },
    {
     "name": "stderr",
     "output_type": "stream",
     "text": [
      " 45%|████▌     | 277/611 [05:16<06:13,  1.12s/it]"
     ]
    },
    {
     "name": "stdout",
     "output_type": "stream",
     "text": [
      "LIDC-IDRI-0440\n"
     ]
    },
    {
     "name": "stderr",
     "output_type": "stream",
     "text": [
      " 45%|████▌     | 278/611 [05:17<05:50,  1.05s/it]"
     ]
    },
    {
     "name": "stdout",
     "output_type": "stream",
     "text": [
      "LIDC-IDRI-0442\n"
     ]
    },
    {
     "name": "stderr",
     "output_type": "stream",
     "text": [
      " 46%|████▌     | 279/611 [05:18<06:24,  1.16s/it]"
     ]
    },
    {
     "name": "stdout",
     "output_type": "stream",
     "text": [
      "LIDC-IDRI-0443\n"
     ]
    },
    {
     "name": "stderr",
     "output_type": "stream",
     "text": [
      " 46%|████▌     | 280/611 [05:19<05:58,  1.08s/it]"
     ]
    },
    {
     "name": "stdout",
     "output_type": "stream",
     "text": [
      "LIDC-IDRI-0444\n"
     ]
    },
    {
     "name": "stderr",
     "output_type": "stream",
     "text": [
      " 46%|████▌     | 281/611 [05:19<04:55,  1.12it/s]"
     ]
    },
    {
     "name": "stdout",
     "output_type": "stream",
     "text": [
      "LIDC-IDRI-0445\n"
     ]
    },
    {
     "name": "stderr",
     "output_type": "stream",
     "text": [
      " 46%|████▌     | 282/611 [05:20<04:09,  1.32it/s]"
     ]
    },
    {
     "name": "stdout",
     "output_type": "stream",
     "text": [
      "LIDC-IDRI-0448\n"
     ]
    },
    {
     "name": "stderr",
     "output_type": "stream",
     "text": [
      " 46%|████▋     | 283/611 [05:21<05:12,  1.05it/s]"
     ]
    },
    {
     "name": "stdout",
     "output_type": "stream",
     "text": [
      "LIDC-IDRI-0449\n"
     ]
    },
    {
     "name": "stderr",
     "output_type": "stream",
     "text": [
      " 46%|████▋     | 284/611 [05:22<05:06,  1.07it/s]"
     ]
    },
    {
     "name": "stdout",
     "output_type": "stream",
     "text": [
      "LIDC-IDRI-0451\n"
     ]
    },
    {
     "name": "stderr",
     "output_type": "stream",
     "text": [
      " 47%|████▋     | 285/611 [05:23<04:19,  1.26it/s]"
     ]
    },
    {
     "name": "stdout",
     "output_type": "stream",
     "text": [
      "LIDC-IDRI-0452\n"
     ]
    },
    {
     "name": "stderr",
     "output_type": "stream",
     "text": [
      " 47%|████▋     | 286/611 [05:24<04:28,  1.21it/s]"
     ]
    },
    {
     "name": "stdout",
     "output_type": "stream",
     "text": [
      "LIDC-IDRI-0453\n"
     ]
    },
    {
     "name": "stderr",
     "output_type": "stream",
     "text": [
      " 47%|████▋     | 287/611 [05:24<03:49,  1.41it/s]"
     ]
    },
    {
     "name": "stdout",
     "output_type": "stream",
     "text": [
      "LIDC-IDRI-0456\n"
     ]
    },
    {
     "name": "stderr",
     "output_type": "stream",
     "text": [
      " 47%|████▋     | 288/611 [05:25<04:52,  1.10it/s]"
     ]
    },
    {
     "name": "stdout",
     "output_type": "stream",
     "text": [
      "LIDC-IDRI-0458\n"
     ]
    },
    {
     "name": "stderr",
     "output_type": "stream",
     "text": [
      " 47%|████▋     | 289/611 [05:26<04:49,  1.11it/s]"
     ]
    },
    {
     "name": "stdout",
     "output_type": "stream",
     "text": [
      "LIDC-IDRI-0460\n"
     ]
    },
    {
     "name": "stderr",
     "output_type": "stream",
     "text": [
      " 47%|████▋     | 290/611 [05:27<04:50,  1.11it/s]"
     ]
    },
    {
     "name": "stdout",
     "output_type": "stream",
     "text": [
      "LIDC-IDRI-0462\n"
     ]
    },
    {
     "name": "stderr",
     "output_type": "stream",
     "text": [
      " 48%|████▊     | 291/611 [05:29<05:49,  1.09s/it]"
     ]
    },
    {
     "name": "stdout",
     "output_type": "stream",
     "text": [
      "LIDC-IDRI-0463\n"
     ]
    },
    {
     "name": "stderr",
     "output_type": "stream",
     "text": [
      " 48%|████▊     | 292/611 [05:30<05:30,  1.04s/it]"
     ]
    },
    {
     "name": "stdout",
     "output_type": "stream",
     "text": [
      "LIDC-IDRI-0466\n"
     ]
    },
    {
     "name": "stderr",
     "output_type": "stream",
     "text": [
      " 48%|████▊     | 293/611 [05:31<06:11,  1.17s/it]"
     ]
    },
    {
     "name": "stdout",
     "output_type": "stream",
     "text": [
      "LIDC-IDRI-0467\n"
     ]
    },
    {
     "name": "stderr",
     "output_type": "stream",
     "text": [
      " 48%|████▊     | 294/611 [05:32<05:00,  1.06it/s]"
     ]
    },
    {
     "name": "stdout",
     "output_type": "stream",
     "text": [
      "LIDC-IDRI-0468\n"
     ]
    },
    {
     "name": "stderr",
     "output_type": "stream",
     "text": [
      " 48%|████▊     | 295/611 [05:32<04:12,  1.25it/s]"
     ]
    },
    {
     "name": "stdout",
     "output_type": "stream",
     "text": [
      "LIDC-IDRI-0469\n"
     ]
    },
    {
     "name": "stderr",
     "output_type": "stream",
     "text": [
      " 48%|████▊     | 296/611 [05:34<05:50,  1.11s/it]"
     ]
    },
    {
     "name": "stdout",
     "output_type": "stream",
     "text": [
      "LIDC-IDRI-0474\n"
     ]
    },
    {
     "name": "stderr",
     "output_type": "stream",
     "text": [
      " 49%|████▊     | 297/611 [05:36<07:42,  1.47s/it]"
     ]
    },
    {
     "name": "stdout",
     "output_type": "stream",
     "text": [
      "LIDC-IDRI-0475\n"
     ]
    },
    {
     "name": "stderr",
     "output_type": "stream",
     "text": [
      " 49%|████▉     | 298/611 [05:37<06:05,  1.17s/it]"
     ]
    },
    {
     "name": "stdout",
     "output_type": "stream",
     "text": [
      "LIDC-IDRI-0478\n"
     ]
    },
    {
     "name": "stderr",
     "output_type": "stream",
     "text": [
      " 49%|████▉     | 299/611 [05:37<05:01,  1.04it/s]"
     ]
    },
    {
     "name": "stdout",
     "output_type": "stream",
     "text": [
      "LIDC-IDRI-0479\n"
     ]
    },
    {
     "name": "stderr",
     "output_type": "stream",
     "text": [
      " 49%|████▉     | 300/611 [05:38<04:51,  1.07it/s]"
     ]
    },
    {
     "name": "stdout",
     "output_type": "stream",
     "text": [
      "LIDC-IDRI-0480\n"
     ]
    },
    {
     "name": "stderr",
     "output_type": "stream",
     "text": [
      " 49%|████▉     | 301/611 [05:38<04:04,  1.27it/s]"
     ]
    },
    {
     "name": "stdout",
     "output_type": "stream",
     "text": [
      "LIDC-IDRI-0481\n"
     ]
    },
    {
     "name": "stderr",
     "output_type": "stream",
     "text": [
      " 49%|████▉     | 302/611 [05:42<08:01,  1.56s/it]"
     ]
    },
    {
     "name": "stdout",
     "output_type": "stream",
     "text": [
      "LIDC-IDRI-0484\n"
     ]
    },
    {
     "name": "stderr",
     "output_type": "stream",
     "text": [
      " 50%|████▉     | 303/611 [05:42<06:24,  1.25s/it]"
     ]
    },
    {
     "name": "stdout",
     "output_type": "stream",
     "text": [
      "LIDC-IDRI-0486\n"
     ]
    },
    {
     "name": "stderr",
     "output_type": "stream",
     "text": [
      " 50%|████▉     | 304/611 [05:43<05:48,  1.14s/it]"
     ]
    },
    {
     "name": "stdout",
     "output_type": "stream",
     "text": [
      "LIDC-IDRI-0487\n"
     ]
    },
    {
     "name": "stderr",
     "output_type": "stream",
     "text": [
      " 50%|████▉     | 305/611 [05:44<05:22,  1.05s/it]"
     ]
    },
    {
     "name": "stdout",
     "output_type": "stream",
     "text": [
      "LIDC-IDRI-0489\n"
     ]
    },
    {
     "name": "stderr",
     "output_type": "stream",
     "text": [
      " 50%|█████     | 306/611 [05:47<08:04,  1.59s/it]"
     ]
    },
    {
     "name": "stdout",
     "output_type": "stream",
     "text": [
      "LIDC-IDRI-0490\n"
     ]
    },
    {
     "name": "stderr",
     "output_type": "stream",
     "text": [
      " 50%|█████     | 307/611 [05:48<07:03,  1.39s/it]"
     ]
    },
    {
     "name": "stdout",
     "output_type": "stream",
     "text": [
      "LIDC-IDRI-0492\n"
     ]
    },
    {
     "name": "stderr",
     "output_type": "stream",
     "text": [
      " 50%|█████     | 308/611 [05:50<07:54,  1.57s/it]"
     ]
    },
    {
     "name": "stdout",
     "output_type": "stream",
     "text": [
      "LIDC-IDRI-0493\n"
     ]
    },
    {
     "name": "stderr",
     "output_type": "stream",
     "text": [
      " 51%|█████     | 309/611 [05:51<07:13,  1.43s/it]"
     ]
    },
    {
     "name": "stdout",
     "output_type": "stream",
     "text": [
      "LIDC-IDRI-0498\n"
     ]
    },
    {
     "name": "stderr",
     "output_type": "stream",
     "text": [
      " 51%|█████     | 310/611 [05:51<05:42,  1.14s/it]"
     ]
    },
    {
     "name": "stdout",
     "output_type": "stream",
     "text": [
      "LIDC-IDRI-0499\n"
     ]
    },
    {
     "name": "stderr",
     "output_type": "stream",
     "text": [
      " 51%|█████     | 311/611 [05:54<07:54,  1.58s/it]"
     ]
    },
    {
     "name": "stdout",
     "output_type": "stream",
     "text": [
      "LIDC-IDRI-0500\n"
     ]
    },
    {
     "name": "stderr",
     "output_type": "stream",
     "text": [
      " 51%|█████     | 312/611 [05:54<06:11,  1.24s/it]"
     ]
    },
    {
     "name": "stdout",
     "output_type": "stream",
     "text": [
      "LIDC-IDRI-0503\n"
     ]
    },
    {
     "name": "stderr",
     "output_type": "stream",
     "text": [
      " 51%|█████     | 313/611 [05:55<05:00,  1.01s/it]"
     ]
    },
    {
     "name": "stdout",
     "output_type": "stream",
     "text": [
      "LIDC-IDRI-0504\n"
     ]
    },
    {
     "name": "stderr",
     "output_type": "stream",
     "text": [
      " 51%|█████▏    | 314/611 [05:55<04:12,  1.18it/s]"
     ]
    },
    {
     "name": "stdout",
     "output_type": "stream",
     "text": [
      "LIDC-IDRI-0507\n"
     ]
    },
    {
     "name": "stderr",
     "output_type": "stream",
     "text": [
      " 52%|█████▏    | 315/611 [05:57<05:30,  1.12s/it]"
     ]
    },
    {
     "name": "stdout",
     "output_type": "stream",
     "text": [
      "LIDC-IDRI-0509\n"
     ]
    },
    {
     "name": "stderr",
     "output_type": "stream",
     "text": [
      " 52%|█████▏    | 316/611 [05:59<06:26,  1.31s/it]"
     ]
    },
    {
     "name": "stdout",
     "output_type": "stream",
     "text": [
      "LIDC-IDRI-0510\n"
     ]
    },
    {
     "name": "stderr",
     "output_type": "stream",
     "text": [
      " 52%|█████▏    | 317/611 [06:02<09:05,  1.86s/it]"
     ]
    },
    {
     "name": "stdout",
     "output_type": "stream",
     "text": [
      "LIDC-IDRI-0515\n"
     ]
    },
    {
     "name": "stderr",
     "output_type": "stream",
     "text": [
      " 52%|█████▏    | 318/611 [06:03<07:06,  1.46s/it]"
     ]
    },
    {
     "name": "stdout",
     "output_type": "stream",
     "text": [
      "LIDC-IDRI-0518\n"
     ]
    },
    {
     "name": "stderr",
     "output_type": "stream",
     "text": [
      " 52%|█████▏    | 319/611 [06:04<07:02,  1.45s/it]"
     ]
    },
    {
     "name": "stdout",
     "output_type": "stream",
     "text": [
      "LIDC-IDRI-0521\n"
     ]
    },
    {
     "name": "stderr",
     "output_type": "stream",
     "text": [
      " 52%|█████▏    | 320/611 [06:04<05:40,  1.17s/it]"
     ]
    },
    {
     "name": "stdout",
     "output_type": "stream",
     "text": [
      "LIDC-IDRI-0522\n"
     ]
    },
    {
     "name": "stderr",
     "output_type": "stream",
     "text": [
      " 53%|█████▎    | 321/611 [06:05<04:36,  1.05it/s]"
     ]
    },
    {
     "name": "stdout",
     "output_type": "stream",
     "text": [
      "LIDC-IDRI-0525\n"
     ]
    },
    {
     "name": "stderr",
     "output_type": "stream",
     "text": [
      " 53%|█████▎    | 322/611 [06:06<04:29,  1.07it/s]"
     ]
    },
    {
     "name": "stdout",
     "output_type": "stream",
     "text": [
      "LIDC-IDRI-0526\n"
     ]
    },
    {
     "name": "stderr",
     "output_type": "stream",
     "text": [
      " 53%|█████▎    | 323/611 [06:09<07:18,  1.52s/it]"
     ]
    },
    {
     "name": "stdout",
     "output_type": "stream",
     "text": [
      "LIDC-IDRI-0527\n"
     ]
    },
    {
     "name": "stderr",
     "output_type": "stream",
     "text": [
      " 53%|█████▎    | 324/611 [06:09<05:46,  1.21s/it]"
     ]
    },
    {
     "name": "stdout",
     "output_type": "stream",
     "text": [
      "LIDC-IDRI-0529\n"
     ]
    },
    {
     "name": "stderr",
     "output_type": "stream",
     "text": [
      " 53%|█████▎    | 325/611 [06:10<05:15,  1.10s/it]"
     ]
    },
    {
     "name": "stdout",
     "output_type": "stream",
     "text": [
      "LIDC-IDRI-0530\n"
     ]
    },
    {
     "name": "stderr",
     "output_type": "stream",
     "text": [
      " 53%|█████▎    | 326/611 [06:11<04:55,  1.04s/it]"
     ]
    },
    {
     "name": "stdout",
     "output_type": "stream",
     "text": [
      "LIDC-IDRI-0532\n"
     ]
    },
    {
     "name": "stderr",
     "output_type": "stream",
     "text": [
      " 54%|█████▎    | 327/611 [06:11<04:04,  1.16it/s]"
     ]
    },
    {
     "name": "stdout",
     "output_type": "stream",
     "text": [
      "LIDC-IDRI-0533\n"
     ]
    },
    {
     "name": "stderr",
     "output_type": "stream",
     "text": [
      " 54%|█████▎    | 328/611 [06:12<03:29,  1.35it/s]"
     ]
    },
    {
     "name": "stdout",
     "output_type": "stream",
     "text": [
      "LIDC-IDRI-0534\n"
     ]
    },
    {
     "name": "stderr",
     "output_type": "stream",
     "text": [
      " 54%|█████▍    | 329/611 [06:13<03:56,  1.19it/s]"
     ]
    },
    {
     "name": "stdout",
     "output_type": "stream",
     "text": [
      "LIDC-IDRI-0535\n"
     ]
    },
    {
     "name": "stderr",
     "output_type": "stream",
     "text": [
      " 54%|█████▍    | 330/611 [06:14<04:44,  1.01s/it]"
     ]
    },
    {
     "name": "stdout",
     "output_type": "stream",
     "text": [
      "LIDC-IDRI-0537\n"
     ]
    },
    {
     "name": "stderr",
     "output_type": "stream",
     "text": [
      " 54%|█████▍    | 331/611 [06:15<03:54,  1.19it/s]"
     ]
    },
    {
     "name": "stdout",
     "output_type": "stream",
     "text": [
      "LIDC-IDRI-0538\n"
     ]
    },
    {
     "name": "stderr",
     "output_type": "stream",
     "text": [
      " 54%|█████▍    | 332/611 [06:15<03:21,  1.39it/s]"
     ]
    },
    {
     "name": "stdout",
     "output_type": "stream",
     "text": [
      "LIDC-IDRI-0541\n"
     ]
    },
    {
     "name": "stderr",
     "output_type": "stream",
     "text": [
      " 55%|█████▍    | 333/611 [06:16<03:34,  1.30it/s]"
     ]
    },
    {
     "name": "stdout",
     "output_type": "stream",
     "text": [
      "LIDC-IDRI-0542\n"
     ]
    },
    {
     "name": "stderr",
     "output_type": "stream",
     "text": [
      " 55%|█████▍    | 334/611 [06:17<03:41,  1.25it/s]"
     ]
    },
    {
     "name": "stdout",
     "output_type": "stream",
     "text": [
      "LIDC-IDRI-0543\n"
     ]
    },
    {
     "name": "stderr",
     "output_type": "stream",
     "text": [
      " 55%|█████▍    | 335/611 [06:18<04:07,  1.11it/s]"
     ]
    },
    {
     "name": "stdout",
     "output_type": "stream",
     "text": [
      "LIDC-IDRI-0546\n"
     ]
    },
    {
     "name": "stderr",
     "output_type": "stream",
     "text": [
      " 55%|█████▍    | 336/611 [06:19<03:40,  1.25it/s]"
     ]
    },
    {
     "name": "stdout",
     "output_type": "stream",
     "text": [
      "LIDC-IDRI-0547\n"
     ]
    },
    {
     "name": "stderr",
     "output_type": "stream",
     "text": [
      " 55%|█████▌    | 337/611 [06:20<03:45,  1.21it/s]"
     ]
    },
    {
     "name": "stdout",
     "output_type": "stream",
     "text": [
      "LIDC-IDRI-0552\n"
     ]
    },
    {
     "name": "stderr",
     "output_type": "stream",
     "text": [
      " 55%|█████▌    | 338/611 [06:20<03:16,  1.39it/s]"
     ]
    },
    {
     "name": "stdout",
     "output_type": "stream",
     "text": [
      "LIDC-IDRI-0553\n"
     ]
    },
    {
     "name": "stderr",
     "output_type": "stream",
     "text": [
      " 55%|█████▌    | 339/611 [06:21<03:30,  1.29it/s]"
     ]
    },
    {
     "name": "stdout",
     "output_type": "stream",
     "text": [
      "LIDC-IDRI-0555\n"
     ]
    },
    {
     "name": "stderr",
     "output_type": "stream",
     "text": [
      " 56%|█████▌    | 340/611 [06:21<03:06,  1.46it/s]"
     ]
    },
    {
     "name": "stdout",
     "output_type": "stream",
     "text": [
      "LIDC-IDRI-0557\n"
     ]
    },
    {
     "name": "stderr",
     "output_type": "stream",
     "text": [
      " 56%|█████▌    | 341/611 [06:22<02:46,  1.62it/s]"
     ]
    },
    {
     "name": "stdout",
     "output_type": "stream",
     "text": [
      "LIDC-IDRI-0558\n"
     ]
    },
    {
     "name": "stderr",
     "output_type": "stream",
     "text": [
      " 56%|█████▌    | 342/611 [06:22<02:32,  1.77it/s]"
     ]
    },
    {
     "name": "stdout",
     "output_type": "stream",
     "text": [
      "LIDC-IDRI-0559\n"
     ]
    },
    {
     "name": "stderr",
     "output_type": "stream",
     "text": [
      " 56%|█████▌    | 343/611 [06:23<02:55,  1.52it/s]"
     ]
    },
    {
     "name": "stdout",
     "output_type": "stream",
     "text": [
      "LIDC-IDRI-0562\n"
     ]
    },
    {
     "name": "stderr",
     "output_type": "stream",
     "text": [
      " 56%|█████▋    | 344/611 [06:24<03:14,  1.37it/s]"
     ]
    },
    {
     "name": "stdout",
     "output_type": "stream",
     "text": [
      "LIDC-IDRI-0565\n"
     ]
    },
    {
     "name": "stderr",
     "output_type": "stream",
     "text": [
      " 56%|█████▋    | 345/611 [06:26<05:25,  1.22s/it]"
     ]
    },
    {
     "name": "stdout",
     "output_type": "stream",
     "text": [
      "LIDC-IDRI-0567\n"
     ]
    },
    {
     "name": "stderr",
     "output_type": "stream",
     "text": [
      " 57%|█████▋    | 346/611 [06:27<04:53,  1.11s/it]"
     ]
    },
    {
     "name": "stdout",
     "output_type": "stream",
     "text": [
      "LIDC-IDRI-0568\n"
     ]
    },
    {
     "name": "stderr",
     "output_type": "stream",
     "text": [
      " 57%|█████▋    | 347/611 [06:29<05:20,  1.22s/it]"
     ]
    },
    {
     "name": "stdout",
     "output_type": "stream",
     "text": [
      "LIDC-IDRI-0571\n"
     ]
    },
    {
     "name": "stderr",
     "output_type": "stream",
     "text": [
      " 57%|█████▋    | 348/611 [06:29<04:18,  1.02it/s]"
     ]
    },
    {
     "name": "stdout",
     "output_type": "stream",
     "text": [
      "LIDC-IDRI-0572\n"
     ]
    },
    {
     "name": "stderr",
     "output_type": "stream",
     "text": [
      " 57%|█████▋    | 349/611 [06:30<03:35,  1.22it/s]"
     ]
    },
    {
     "name": "stdout",
     "output_type": "stream",
     "text": [
      "LIDC-IDRI-0574\n"
     ]
    },
    {
     "name": "stderr",
     "output_type": "stream",
     "text": [
      " 57%|█████▋    | 350/611 [06:30<03:04,  1.41it/s]"
     ]
    },
    {
     "name": "stdout",
     "output_type": "stream",
     "text": [
      "LIDC-IDRI-0576\n"
     ]
    },
    {
     "name": "stderr",
     "output_type": "stream",
     "text": [
      " 57%|█████▋    | 351/611 [06:32<04:47,  1.11s/it]"
     ]
    },
    {
     "name": "stdout",
     "output_type": "stream",
     "text": [
      "LIDC-IDRI-0577\n"
     ]
    },
    {
     "name": "stderr",
     "output_type": "stream",
     "text": [
      " 58%|█████▊    | 352/611 [06:34<05:35,  1.29s/it]"
     ]
    },
    {
     "name": "stdout",
     "output_type": "stream",
     "text": [
      "LIDC-IDRI-0578\n"
     ]
    },
    {
     "name": "stderr",
     "output_type": "stream",
     "text": [
      " 58%|█████▊    | 353/611 [06:34<04:30,  1.05s/it]"
     ]
    },
    {
     "name": "stdout",
     "output_type": "stream",
     "text": [
      "LIDC-IDRI-0579\n"
     ]
    },
    {
     "name": "stderr",
     "output_type": "stream",
     "text": [
      " 58%|█████▊    | 354/611 [06:35<03:51,  1.11it/s]"
     ]
    },
    {
     "name": "stdout",
     "output_type": "stream",
     "text": [
      "LIDC-IDRI-0580\n"
     ]
    },
    {
     "name": "stderr",
     "output_type": "stream",
     "text": [
      " 58%|█████▊    | 355/611 [06:35<03:15,  1.31it/s]"
     ]
    },
    {
     "name": "stdout",
     "output_type": "stream",
     "text": [
      "LIDC-IDRI-0582\n"
     ]
    },
    {
     "name": "stderr",
     "output_type": "stream",
     "text": [
      " 58%|█████▊    | 356/611 [06:38<06:12,  1.46s/it]"
     ]
    },
    {
     "name": "stdout",
     "output_type": "stream",
     "text": [
      "LIDC-IDRI-0583\n"
     ]
    },
    {
     "name": "stderr",
     "output_type": "stream",
     "text": [
      " 58%|█████▊    | 357/611 [06:43<09:58,  2.36s/it]"
     ]
    },
    {
     "name": "stdout",
     "output_type": "stream",
     "text": [
      "LIDC-IDRI-0586\n"
     ]
    },
    {
     "name": "stderr",
     "output_type": "stream",
     "text": [
      " 59%|█████▊    | 358/611 [06:44<08:05,  1.92s/it]"
     ]
    },
    {
     "name": "stdout",
     "output_type": "stream",
     "text": [
      "LIDC-IDRI-0587\n"
     ]
    },
    {
     "name": "stderr",
     "output_type": "stream",
     "text": [
      " 59%|█████▉    | 359/611 [06:47<09:30,  2.26s/it]"
     ]
    },
    {
     "name": "stdout",
     "output_type": "stream",
     "text": [
      "LIDC-IDRI-0590\n"
     ]
    },
    {
     "name": "stderr",
     "output_type": "stream",
     "text": [
      " 59%|█████▉    | 360/611 [06:47<07:12,  1.72s/it]"
     ]
    },
    {
     "name": "stdout",
     "output_type": "stream",
     "text": [
      "LIDC-IDRI-0591\n"
     ]
    },
    {
     "name": "stderr",
     "output_type": "stream",
     "text": [
      " 59%|█████▉    | 361/611 [06:48<05:35,  1.34s/it]"
     ]
    },
    {
     "name": "stdout",
     "output_type": "stream",
     "text": [
      "LIDC-IDRI-0592\n"
     ]
    },
    {
     "name": "stderr",
     "output_type": "stream",
     "text": [
      " 59%|█████▉    | 362/611 [06:48<04:27,  1.07s/it]"
     ]
    },
    {
     "name": "stdout",
     "output_type": "stream",
     "text": [
      "LIDC-IDRI-0594\n"
     ]
    },
    {
     "name": "stderr",
     "output_type": "stream",
     "text": [
      " 59%|█████▉    | 363/611 [06:49<04:29,  1.09s/it]"
     ]
    },
    {
     "name": "stdout",
     "output_type": "stream",
     "text": [
      "LIDC-IDRI-0595\n"
     ]
    },
    {
     "name": "stderr",
     "output_type": "stream",
     "text": [
      " 60%|█████▉    | 364/611 [06:50<03:53,  1.06it/s]"
     ]
    },
    {
     "name": "stdout",
     "output_type": "stream",
     "text": [
      "LIDC-IDRI-0596\n"
     ]
    },
    {
     "name": "stderr",
     "output_type": "stream",
     "text": [
      " 60%|█████▉    | 365/611 [06:51<03:48,  1.07it/s]"
     ]
    },
    {
     "name": "stdout",
     "output_type": "stream",
     "text": [
      "LIDC-IDRI-0601\n"
     ]
    },
    {
     "name": "stderr",
     "output_type": "stream",
     "text": [
      " 60%|█████▉    | 366/611 [06:53<05:38,  1.38s/it]"
     ]
    },
    {
     "name": "stdout",
     "output_type": "stream",
     "text": [
      "LIDC-IDRI-0602\n"
     ]
    },
    {
     "name": "stderr",
     "output_type": "stream",
     "text": [
      " 60%|██████    | 367/611 [06:54<05:20,  1.31s/it]"
     ]
    },
    {
     "name": "stdout",
     "output_type": "stream",
     "text": [
      "LIDC-IDRI-0604\n"
     ]
    },
    {
     "name": "stderr",
     "output_type": "stream",
     "text": [
      " 60%|██████    | 368/611 [06:57<06:34,  1.62s/it]"
     ]
    },
    {
     "name": "stdout",
     "output_type": "stream",
     "text": [
      "LIDC-IDRI-0605\n"
     ]
    },
    {
     "name": "stderr",
     "output_type": "stream",
     "text": [
      " 60%|██████    | 369/611 [07:00<08:28,  2.10s/it]"
     ]
    },
    {
     "name": "stdout",
     "output_type": "stream",
     "text": [
      "LIDC-IDRI-0606\n"
     ]
    },
    {
     "name": "stderr",
     "output_type": "stream",
     "text": [
      " 61%|██████    | 370/611 [07:01<06:37,  1.65s/it]"
     ]
    },
    {
     "name": "stdout",
     "output_type": "stream",
     "text": [
      "LIDC-IDRI-0607\n"
     ]
    },
    {
     "name": "stderr",
     "output_type": "stream",
     "text": [
      " 61%|██████    | 371/611 [07:01<05:16,  1.32s/it]"
     ]
    },
    {
     "name": "stdout",
     "output_type": "stream",
     "text": [
      "LIDC-IDRI-0608\n"
     ]
    },
    {
     "name": "stderr",
     "output_type": "stream",
     "text": [
      " 61%|██████    | 372/611 [07:03<05:56,  1.49s/it]"
     ]
    },
    {
     "name": "stdout",
     "output_type": "stream",
     "text": [
      "LIDC-IDRI-0609\n"
     ]
    },
    {
     "name": "stderr",
     "output_type": "stream",
     "text": [
      " 61%|██████    | 373/611 [07:03<04:43,  1.19s/it]"
     ]
    },
    {
     "name": "stdout",
     "output_type": "stream",
     "text": [
      "LIDC-IDRI-0613\n"
     ]
    },
    {
     "name": "stderr",
     "output_type": "stream",
     "text": [
      " 61%|██████    | 374/611 [07:04<03:49,  1.03it/s]"
     ]
    },
    {
     "name": "stdout",
     "output_type": "stream",
     "text": [
      "LIDC-IDRI-0614\n"
     ]
    },
    {
     "name": "stderr",
     "output_type": "stream",
     "text": [
      " 61%|██████▏   | 375/611 [07:05<04:29,  1.14s/it]"
     ]
    },
    {
     "name": "stdout",
     "output_type": "stream",
     "text": [
      "LIDC-IDRI-0615\n"
     ]
    },
    {
     "name": "stderr",
     "output_type": "stream",
     "text": [
      " 62%|██████▏   | 376/611 [07:07<04:42,  1.20s/it]"
     ]
    },
    {
     "name": "stdout",
     "output_type": "stream",
     "text": [
      "LIDC-IDRI-0617\n"
     ]
    },
    {
     "name": "stderr",
     "output_type": "stream",
     "text": [
      " 62%|██████▏   | 377/611 [07:08<04:21,  1.12s/it]"
     ]
    },
    {
     "name": "stdout",
     "output_type": "stream",
     "text": [
      "LIDC-IDRI-0618\n"
     ]
    },
    {
     "name": "stderr",
     "output_type": "stream",
     "text": [
      " 62%|██████▏   | 378/611 [07:08<03:35,  1.08it/s]"
     ]
    },
    {
     "name": "stdout",
     "output_type": "stream",
     "text": [
      "LIDC-IDRI-0619\n"
     ]
    },
    {
     "name": "stderr",
     "output_type": "stream",
     "text": [
      " 62%|██████▏   | 379/611 [07:09<03:45,  1.03it/s]"
     ]
    },
    {
     "name": "stdout",
     "output_type": "stream",
     "text": [
      "LIDC-IDRI-0620\n"
     ]
    },
    {
     "name": "stderr",
     "output_type": "stream",
     "text": [
      " 62%|██████▏   | 380/611 [07:11<04:46,  1.24s/it]"
     ]
    },
    {
     "name": "stdout",
     "output_type": "stream",
     "text": [
      "LIDC-IDRI-0624\n"
     ]
    },
    {
     "name": "stderr",
     "output_type": "stream",
     "text": [
      " 62%|██████▏   | 381/611 [07:13<04:55,  1.28s/it]"
     ]
    },
    {
     "name": "stdout",
     "output_type": "stream",
     "text": [
      "LIDC-IDRI-0625\n"
     ]
    },
    {
     "name": "stderr",
     "output_type": "stream",
     "text": [
      " 63%|██████▎   | 382/611 [07:13<03:57,  1.04s/it]"
     ]
    },
    {
     "name": "stdout",
     "output_type": "stream",
     "text": [
      "LIDC-IDRI-0626\n"
     ]
    },
    {
     "name": "stderr",
     "output_type": "stream",
     "text": [
      " 63%|██████▎   | 383/611 [07:13<03:17,  1.15it/s]"
     ]
    },
    {
     "name": "stdout",
     "output_type": "stream",
     "text": [
      "LIDC-IDRI-0628\n"
     ]
    },
    {
     "name": "stderr",
     "output_type": "stream",
     "text": [
      " 63%|██████▎   | 384/611 [07:15<03:51,  1.02s/it]"
     ]
    },
    {
     "name": "stdout",
     "output_type": "stream",
     "text": [
      "LIDC-IDRI-0631\n"
     ]
    },
    {
     "name": "stderr",
     "output_type": "stream",
     "text": [
      " 63%|██████▎   | 385/611 [07:15<03:10,  1.18it/s]"
     ]
    },
    {
     "name": "stdout",
     "output_type": "stream",
     "text": [
      "LIDC-IDRI-0634\n"
     ]
    },
    {
     "name": "stderr",
     "output_type": "stream",
     "text": [
      " 63%|██████▎   | 386/611 [07:16<02:44,  1.37it/s]"
     ]
    },
    {
     "name": "stdout",
     "output_type": "stream",
     "text": [
      "LIDC-IDRI-0635\n"
     ]
    },
    {
     "name": "stderr",
     "output_type": "stream",
     "text": [
      " 63%|██████▎   | 387/611 [07:16<02:27,  1.52it/s]"
     ]
    },
    {
     "name": "stdout",
     "output_type": "stream",
     "text": [
      "LIDC-IDRI-0636\n"
     ]
    },
    {
     "name": "stderr",
     "output_type": "stream",
     "text": [
      " 64%|██████▎   | 388/611 [07:19<04:25,  1.19s/it]"
     ]
    },
    {
     "name": "stdout",
     "output_type": "stream",
     "text": [
      "LIDC-IDRI-0638\n"
     ]
    },
    {
     "name": "stderr",
     "output_type": "stream",
     "text": [
      " 64%|██████▎   | 389/611 [07:19<03:35,  1.03it/s]"
     ]
    },
    {
     "name": "stdout",
     "output_type": "stream",
     "text": [
      "LIDC-IDRI-0639\n"
     ]
    },
    {
     "name": "stderr",
     "output_type": "stream",
     "text": [
      " 64%|██████▍   | 390/611 [07:20<03:27,  1.06it/s]"
     ]
    },
    {
     "name": "stdout",
     "output_type": "stream",
     "text": [
      "LIDC-IDRI-0640\n"
     ]
    },
    {
     "name": "stderr",
     "output_type": "stream",
     "text": [
      " 64%|██████▍   | 391/611 [07:21<03:27,  1.06it/s]"
     ]
    },
    {
     "name": "stdout",
     "output_type": "stream",
     "text": [
      "LIDC-IDRI-0641\n"
     ]
    },
    {
     "name": "stderr",
     "output_type": "stream",
     "text": [
      " 64%|██████▍   | 392/611 [07:24<05:21,  1.47s/it]"
     ]
    },
    {
     "name": "stdout",
     "output_type": "stream",
     "text": [
      "LIDC-IDRI-0642\n"
     ]
    },
    {
     "name": "stderr",
     "output_type": "stream",
     "text": [
      " 64%|██████▍   | 393/611 [07:25<05:43,  1.58s/it]"
     ]
    },
    {
     "name": "stdout",
     "output_type": "stream",
     "text": [
      "LIDC-IDRI-0643\n"
     ]
    },
    {
     "name": "stderr",
     "output_type": "stream",
     "text": [
      " 64%|██████▍   | 394/611 [07:26<04:29,  1.24s/it]"
     ]
    },
    {
     "name": "stdout",
     "output_type": "stream",
     "text": [
      "LIDC-IDRI-0644\n"
     ]
    },
    {
     "name": "stderr",
     "output_type": "stream",
     "text": [
      " 65%|██████▍   | 395/611 [07:26<03:37,  1.00s/it]"
     ]
    },
    {
     "name": "stdout",
     "output_type": "stream",
     "text": [
      "LIDC-IDRI-0645\n"
     ]
    },
    {
     "name": "stderr",
     "output_type": "stream",
     "text": [
      " 65%|██████▍   | 396/611 [07:27<02:59,  1.20it/s]"
     ]
    },
    {
     "name": "stdout",
     "output_type": "stream",
     "text": [
      "LIDC-IDRI-0647\n"
     ]
    },
    {
     "name": "stderr",
     "output_type": "stream",
     "text": [
      " 65%|██████▍   | 397/611 [07:27<02:33,  1.40it/s]"
     ]
    },
    {
     "name": "stdout",
     "output_type": "stream",
     "text": [
      "LIDC-IDRI-0648\n"
     ]
    },
    {
     "name": "stderr",
     "output_type": "stream",
     "text": [
      " 65%|██████▌   | 398/611 [07:28<02:43,  1.31it/s]"
     ]
    },
    {
     "name": "stdout",
     "output_type": "stream",
     "text": [
      "LIDC-IDRI-0652\n"
     ]
    },
    {
     "name": "stderr",
     "output_type": "stream",
     "text": [
      " 65%|██████▌   | 399/611 [07:29<02:21,  1.50it/s]"
     ]
    },
    {
     "name": "stdout",
     "output_type": "stream",
     "text": [
      "LIDC-IDRI-0654\n"
     ]
    },
    {
     "name": "stderr",
     "output_type": "stream",
     "text": [
      " 65%|██████▌   | 400/611 [07:29<02:06,  1.67it/s]"
     ]
    },
    {
     "name": "stdout",
     "output_type": "stream",
     "text": [
      "LIDC-IDRI-0657\n"
     ]
    },
    {
     "name": "stderr",
     "output_type": "stream",
     "text": [
      " 66%|██████▌   | 401/611 [07:29<01:57,  1.79it/s]"
     ]
    },
    {
     "name": "stdout",
     "output_type": "stream",
     "text": [
      "LIDC-IDRI-0658\n"
     ]
    },
    {
     "name": "stderr",
     "output_type": "stream",
     "text": [
      " 66%|██████▌   | 402/611 [07:30<01:49,  1.90it/s]"
     ]
    },
    {
     "name": "stdout",
     "output_type": "stream",
     "text": [
      "LIDC-IDRI-0659\n"
     ]
    },
    {
     "name": "stderr",
     "output_type": "stream",
     "text": [
      " 66%|██████▌   | 403/611 [07:30<01:44,  2.00it/s]"
     ]
    },
    {
     "name": "stdout",
     "output_type": "stream",
     "text": [
      "LIDC-IDRI-0661\n"
     ]
    },
    {
     "name": "stderr",
     "output_type": "stream",
     "text": [
      " 66%|██████▌   | 404/611 [07:32<03:04,  1.12it/s]"
     ]
    },
    {
     "name": "stdout",
     "output_type": "stream",
     "text": [
      "LIDC-IDRI-0663\n"
     ]
    },
    {
     "name": "stderr",
     "output_type": "stream",
     "text": [
      " 66%|██████▋   | 405/611 [07:34<03:30,  1.02s/it]"
     ]
    },
    {
     "name": "stdout",
     "output_type": "stream",
     "text": [
      "LIDC-IDRI-0666\n"
     ]
    },
    {
     "name": "stderr",
     "output_type": "stream",
     "text": [
      " 66%|██████▋   | 406/611 [07:34<02:55,  1.17it/s]"
     ]
    },
    {
     "name": "stdout",
     "output_type": "stream",
     "text": [
      "LIDC-IDRI-0669\n"
     ]
    },
    {
     "name": "stderr",
     "output_type": "stream",
     "text": [
      " 67%|██████▋   | 407/611 [07:34<02:28,  1.37it/s]"
     ]
    },
    {
     "name": "stdout",
     "output_type": "stream",
     "text": [
      "LIDC-IDRI-0672\n"
     ]
    },
    {
     "name": "stderr",
     "output_type": "stream",
     "text": [
      " 67%|██████▋   | 408/611 [07:35<02:11,  1.54it/s]"
     ]
    },
    {
     "name": "stdout",
     "output_type": "stream",
     "text": [
      "LIDC-IDRI-0673\n"
     ]
    },
    {
     "name": "stderr",
     "output_type": "stream",
     "text": [
      " 67%|██████▋   | 409/611 [07:36<02:52,  1.17it/s]"
     ]
    },
    {
     "name": "stdout",
     "output_type": "stream",
     "text": [
      "LIDC-IDRI-0674\n"
     ]
    },
    {
     "name": "stderr",
     "output_type": "stream",
     "text": [
      " 67%|██████▋   | 410/611 [07:37<02:58,  1.13it/s]"
     ]
    },
    {
     "name": "stdout",
     "output_type": "stream",
     "text": [
      "LIDC-IDRI-0676\n"
     ]
    },
    {
     "name": "stderr",
     "output_type": "stream",
     "text": [
      " 67%|██████▋   | 411/611 [07:38<02:32,  1.31it/s]"
     ]
    },
    {
     "name": "stdout",
     "output_type": "stream",
     "text": [
      "LIDC-IDRI-0678\n"
     ]
    },
    {
     "name": "stderr",
     "output_type": "stream",
     "text": [
      " 67%|██████▋   | 412/611 [07:38<02:14,  1.48it/s]"
     ]
    },
    {
     "name": "stdout",
     "output_type": "stream",
     "text": [
      "LIDC-IDRI-0681\n"
     ]
    },
    {
     "name": "stderr",
     "output_type": "stream",
     "text": [
      " 68%|██████▊   | 413/611 [07:39<02:05,  1.58it/s]"
     ]
    },
    {
     "name": "stdout",
     "output_type": "stream",
     "text": [
      "LIDC-IDRI-0682\n"
     ]
    },
    {
     "name": "stderr",
     "output_type": "stream",
     "text": [
      " 68%|██████▊   | 414/611 [07:40<03:01,  1.08it/s]"
     ]
    },
    {
     "name": "stdout",
     "output_type": "stream",
     "text": [
      "LIDC-IDRI-0687\n"
     ]
    },
    {
     "name": "stderr",
     "output_type": "stream",
     "text": [
      " 68%|██████▊   | 415/611 [07:41<02:38,  1.23it/s]"
     ]
    },
    {
     "name": "stdout",
     "output_type": "stream",
     "text": [
      "LIDC-IDRI-0694\n"
     ]
    },
    {
     "name": "stderr",
     "output_type": "stream",
     "text": [
      " 68%|██████▊   | 416/611 [07:41<02:17,  1.42it/s]"
     ]
    },
    {
     "name": "stdout",
     "output_type": "stream",
     "text": [
      "LIDC-IDRI-0695\n"
     ]
    },
    {
     "name": "stderr",
     "output_type": "stream",
     "text": [
      " 68%|██████▊   | 417/611 [07:42<02:26,  1.32it/s]"
     ]
    },
    {
     "name": "stdout",
     "output_type": "stream",
     "text": [
      "LIDC-IDRI-0696\n"
     ]
    },
    {
     "name": "stderr",
     "output_type": "stream",
     "text": [
      " 68%|██████▊   | 418/611 [07:43<02:07,  1.52it/s]"
     ]
    },
    {
     "name": "stdout",
     "output_type": "stream",
     "text": [
      "LIDC-IDRI-0698\n"
     ]
    },
    {
     "name": "stderr",
     "output_type": "stream",
     "text": [
      " 69%|██████▊   | 419/611 [07:44<02:26,  1.31it/s]"
     ]
    },
    {
     "name": "stdout",
     "output_type": "stream",
     "text": [
      "LIDC-IDRI-0700\n"
     ]
    },
    {
     "name": "stderr",
     "output_type": "stream",
     "text": [
      " 69%|██████▊   | 420/611 [07:44<02:08,  1.49it/s]"
     ]
    },
    {
     "name": "stdout",
     "output_type": "stream",
     "text": [
      "LIDC-IDRI-0701\n"
     ]
    },
    {
     "name": "stderr",
     "output_type": "stream",
     "text": [
      " 69%|██████▉   | 421/611 [07:46<03:25,  1.08s/it]"
     ]
    },
    {
     "name": "stdout",
     "output_type": "stream",
     "text": [
      "LIDC-IDRI-0702\n"
     ]
    },
    {
     "name": "stderr",
     "output_type": "stream",
     "text": [
      " 69%|██████▉   | 422/611 [07:48<04:40,  1.48s/it]"
     ]
    },
    {
     "name": "stdout",
     "output_type": "stream",
     "text": [
      "LIDC-IDRI-0703\n"
     ]
    },
    {
     "name": "stderr",
     "output_type": "stream",
     "text": [
      " 69%|██████▉   | 423/611 [07:49<04:04,  1.30s/it]"
     ]
    },
    {
     "name": "stdout",
     "output_type": "stream",
     "text": [
      "LIDC-IDRI-0704\n"
     ]
    },
    {
     "name": "stderr",
     "output_type": "stream",
     "text": [
      " 69%|██████▉   | 424/611 [07:50<03:40,  1.18s/it]"
     ]
    },
    {
     "name": "stdout",
     "output_type": "stream",
     "text": [
      "LIDC-IDRI-0705\n"
     ]
    },
    {
     "name": "stderr",
     "output_type": "stream",
     "text": [
      " 70%|██████▉   | 425/611 [07:52<04:14,  1.37s/it]"
     ]
    },
    {
     "name": "stdout",
     "output_type": "stream",
     "text": [
      "LIDC-IDRI-0706\n"
     ]
    },
    {
     "name": "stderr",
     "output_type": "stream",
     "text": [
      " 70%|██████▉   | 426/611 [07:53<03:38,  1.18s/it]"
     ]
    },
    {
     "name": "stdout",
     "output_type": "stream",
     "text": [
      "LIDC-IDRI-0707\n"
     ]
    },
    {
     "name": "stderr",
     "output_type": "stream",
     "text": [
      " 70%|██████▉   | 427/611 [07:55<04:13,  1.38s/it]"
     ]
    },
    {
     "name": "stdout",
     "output_type": "stream",
     "text": [
      "LIDC-IDRI-0708\n"
     ]
    },
    {
     "name": "stderr",
     "output_type": "stream",
     "text": [
      " 70%|███████   | 428/611 [07:56<04:06,  1.35s/it]"
     ]
    },
    {
     "name": "stdout",
     "output_type": "stream",
     "text": [
      "LIDC-IDRI-0709\n"
     ]
    },
    {
     "name": "stderr",
     "output_type": "stream",
     "text": [
      " 70%|███████   | 429/611 [07:58<05:03,  1.67s/it]"
     ]
    },
    {
     "name": "stdout",
     "output_type": "stream",
     "text": [
      "LIDC-IDRI-0712\n"
     ]
    },
    {
     "name": "stderr",
     "output_type": "stream",
     "text": [
      " 70%|███████   | 430/611 [07:59<04:19,  1.43s/it]"
     ]
    },
    {
     "name": "stdout",
     "output_type": "stream",
     "text": [
      "LIDC-IDRI-0715\n"
     ]
    },
    {
     "name": "stderr",
     "output_type": "stream",
     "text": [
      " 71%|███████   | 431/611 [08:00<03:35,  1.20s/it]"
     ]
    },
    {
     "name": "stdout",
     "output_type": "stream",
     "text": [
      "LIDC-IDRI-0717\n"
     ]
    },
    {
     "name": "stderr",
     "output_type": "stream",
     "text": [
      " 71%|███████   | 432/611 [08:00<02:52,  1.04it/s]"
     ]
    },
    {
     "name": "stdout",
     "output_type": "stream",
     "text": [
      "LIDC-IDRI-0721\n"
     ]
    },
    {
     "name": "stderr",
     "output_type": "stream",
     "text": [
      " 71%|███████   | 433/611 [08:01<02:24,  1.23it/s]"
     ]
    },
    {
     "name": "stdout",
     "output_type": "stream",
     "text": [
      "LIDC-IDRI-0722\n"
     ]
    },
    {
     "name": "stderr",
     "output_type": "stream",
     "text": [
      " 71%|███████   | 434/611 [08:02<03:06,  1.05s/it]"
     ]
    },
    {
     "name": "stdout",
     "output_type": "stream",
     "text": [
      "LIDC-IDRI-0724\n"
     ]
    },
    {
     "name": "stderr",
     "output_type": "stream",
     "text": [
      " 71%|███████   | 435/611 [08:03<02:33,  1.15it/s]"
     ]
    },
    {
     "name": "stdout",
     "output_type": "stream",
     "text": [
      "LIDC-IDRI-0726\n"
     ]
    },
    {
     "name": "stderr",
     "output_type": "stream",
     "text": [
      " 71%|███████▏  | 436/611 [08:03<02:11,  1.33it/s]"
     ]
    },
    {
     "name": "stdout",
     "output_type": "stream",
     "text": [
      "LIDC-IDRI-0727\n"
     ]
    },
    {
     "name": "stderr",
     "output_type": "stream",
     "text": [
      " 72%|███████▏  | 437/611 [08:04<01:54,  1.52it/s]"
     ]
    },
    {
     "name": "stdout",
     "output_type": "stream",
     "text": [
      "LIDC-IDRI-0728\n"
     ]
    },
    {
     "name": "stderr",
     "output_type": "stream",
     "text": [
      " 72%|███████▏  | 438/611 [08:04<01:42,  1.68it/s]"
     ]
    },
    {
     "name": "stdout",
     "output_type": "stream",
     "text": [
      "LIDC-IDRI-0729\n"
     ]
    },
    {
     "name": "stderr",
     "output_type": "stream",
     "text": [
      " 72%|███████▏  | 439/611 [08:05<01:34,  1.82it/s]"
     ]
    },
    {
     "name": "stdout",
     "output_type": "stream",
     "text": [
      "LIDC-IDRI-0732\n"
     ]
    },
    {
     "name": "stderr",
     "output_type": "stream",
     "text": [
      " 72%|███████▏  | 440/611 [08:05<01:30,  1.90it/s]"
     ]
    },
    {
     "name": "stdout",
     "output_type": "stream",
     "text": [
      "LIDC-IDRI-0733\n"
     ]
    },
    {
     "name": "stderr",
     "output_type": "stream",
     "text": [
      " 72%|███████▏  | 441/611 [08:07<02:35,  1.10it/s]"
     ]
    },
    {
     "name": "stdout",
     "output_type": "stream",
     "text": [
      "LIDC-IDRI-0734\n"
     ]
    },
    {
     "name": "stderr",
     "output_type": "stream",
     "text": [
      " 72%|███████▏  | 442/611 [08:07<02:14,  1.26it/s]"
     ]
    },
    {
     "name": "stdout",
     "output_type": "stream",
     "text": [
      "LIDC-IDRI-0735\n"
     ]
    },
    {
     "name": "stderr",
     "output_type": "stream",
     "text": [
      " 73%|███████▎  | 443/611 [08:08<02:17,  1.23it/s]"
     ]
    },
    {
     "name": "stdout",
     "output_type": "stream",
     "text": [
      "LIDC-IDRI-0736\n"
     ]
    },
    {
     "name": "stderr",
     "output_type": "stream",
     "text": [
      " 73%|███████▎  | 444/611 [08:09<01:58,  1.41it/s]"
     ]
    },
    {
     "name": "stdout",
     "output_type": "stream",
     "text": [
      "LIDC-IDRI-0739\n"
     ]
    },
    {
     "name": "stderr",
     "output_type": "stream",
     "text": [
      " 73%|███████▎  | 445/611 [08:09<01:45,  1.58it/s]"
     ]
    },
    {
     "name": "stdout",
     "output_type": "stream",
     "text": [
      "LIDC-IDRI-0741\n"
     ]
    },
    {
     "name": "stderr",
     "output_type": "stream",
     "text": [
      " 73%|███████▎  | 446/611 [08:11<02:24,  1.14it/s]"
     ]
    },
    {
     "name": "stdout",
     "output_type": "stream",
     "text": [
      "LIDC-IDRI-0743\n"
     ]
    },
    {
     "name": "stderr",
     "output_type": "stream",
     "text": [
      " 73%|███████▎  | 447/611 [08:12<02:51,  1.05s/it]"
     ]
    },
    {
     "name": "stdout",
     "output_type": "stream",
     "text": [
      "LIDC-IDRI-0744\n"
     ]
    },
    {
     "name": "stderr",
     "output_type": "stream",
     "text": [
      " 73%|███████▎  | 448/611 [08:13<02:20,  1.16it/s]"
     ]
    },
    {
     "name": "stdout",
     "output_type": "stream",
     "text": [
      "LIDC-IDRI-0748\n"
     ]
    },
    {
     "name": "stderr",
     "output_type": "stream",
     "text": [
      " 73%|███████▎  | 449/611 [08:15<03:24,  1.26s/it]"
     ]
    },
    {
     "name": "stdout",
     "output_type": "stream",
     "text": [
      "LIDC-IDRI-0749\n"
     ]
    },
    {
     "name": "stderr",
     "output_type": "stream",
     "text": [
      " 74%|███████▎  | 450/611 [08:17<04:17,  1.60s/it]"
     ]
    },
    {
     "name": "stdout",
     "output_type": "stream",
     "text": [
      "LIDC-IDRI-0751\n"
     ]
    },
    {
     "name": "stderr",
     "output_type": "stream",
     "text": [
      " 74%|███████▍  | 451/611 [08:21<06:09,  2.31s/it]"
     ]
    },
    {
     "name": "stdout",
     "output_type": "stream",
     "text": [
      "LIDC-IDRI-0753\n"
     ]
    },
    {
     "name": "stderr",
     "output_type": "stream",
     "text": [
      " 74%|███████▍  | 452/611 [08:22<04:38,  1.75s/it]"
     ]
    },
    {
     "name": "stdout",
     "output_type": "stream",
     "text": [
      "LIDC-IDRI-0756\n"
     ]
    },
    {
     "name": "stderr",
     "output_type": "stream",
     "text": [
      " 74%|███████▍  | 453/611 [08:22<03:36,  1.37s/it]"
     ]
    },
    {
     "name": "stdout",
     "output_type": "stream",
     "text": [
      "LIDC-IDRI-0757\n"
     ]
    },
    {
     "name": "stderr",
     "output_type": "stream",
     "text": [
      " 74%|███████▍  | 454/611 [08:22<02:53,  1.10s/it]"
     ]
    },
    {
     "name": "stdout",
     "output_type": "stream",
     "text": [
      "LIDC-IDRI-0759\n"
     ]
    },
    {
     "name": "stderr",
     "output_type": "stream",
     "text": [
      " 74%|███████▍  | 455/611 [08:24<03:05,  1.19s/it]"
     ]
    },
    {
     "name": "stdout",
     "output_type": "stream",
     "text": [
      "LIDC-IDRI-0761\n"
     ]
    },
    {
     "name": "stderr",
     "output_type": "stream",
     "text": [
      " 75%|███████▍  | 456/611 [08:25<03:11,  1.23s/it]"
     ]
    },
    {
     "name": "stdout",
     "output_type": "stream",
     "text": [
      "LIDC-IDRI-0763\n"
     ]
    },
    {
     "name": "stderr",
     "output_type": "stream",
     "text": [
      " 75%|███████▍  | 457/611 [08:26<02:53,  1.13s/it]"
     ]
    },
    {
     "name": "stdout",
     "output_type": "stream",
     "text": [
      "LIDC-IDRI-0765\n"
     ]
    },
    {
     "name": "stderr",
     "output_type": "stream",
     "text": [
      " 75%|███████▍  | 458/611 [08:27<02:21,  1.08it/s]"
     ]
    },
    {
     "name": "stdout",
     "output_type": "stream",
     "text": [
      "LIDC-IDRI-0766\n"
     ]
    },
    {
     "name": "stderr",
     "output_type": "stream",
     "text": [
      " 75%|███████▌  | 459/611 [08:27<02:01,  1.25it/s]"
     ]
    },
    {
     "name": "stdout",
     "output_type": "stream",
     "text": [
      "LIDC-IDRI-0768\n"
     ]
    },
    {
     "name": "stderr",
     "output_type": "stream",
     "text": [
      " 75%|███████▌  | 460/611 [08:28<01:45,  1.43it/s]"
     ]
    },
    {
     "name": "stdout",
     "output_type": "stream",
     "text": [
      "LIDC-IDRI-0770\n"
     ]
    },
    {
     "name": "stderr",
     "output_type": "stream",
     "text": [
      " 75%|███████▌  | 461/611 [08:32<04:22,  1.75s/it]"
     ]
    },
    {
     "name": "stdout",
     "output_type": "stream",
     "text": [
      "LIDC-IDRI-0771\n"
     ]
    },
    {
     "name": "stderr",
     "output_type": "stream",
     "text": [
      " 76%|███████▌  | 462/611 [08:32<03:22,  1.36s/it]"
     ]
    },
    {
     "name": "stdout",
     "output_type": "stream",
     "text": [
      "LIDC-IDRI-0772\n"
     ]
    },
    {
     "name": "stderr",
     "output_type": "stream",
     "text": [
      " 76%|███████▌  | 463/611 [08:34<03:24,  1.38s/it]"
     ]
    },
    {
     "name": "stdout",
     "output_type": "stream",
     "text": [
      "LIDC-IDRI-0775\n"
     ]
    },
    {
     "name": "stderr",
     "output_type": "stream",
     "text": [
      " 76%|███████▌  | 464/611 [08:38<05:49,  2.38s/it]"
     ]
    },
    {
     "name": "stdout",
     "output_type": "stream",
     "text": [
      "LIDC-IDRI-0776\n"
     ]
    },
    {
     "name": "stderr",
     "output_type": "stream",
     "text": [
      " 76%|███████▌  | 465/611 [08:40<05:00,  2.06s/it]"
     ]
    },
    {
     "name": "stdout",
     "output_type": "stream",
     "text": [
      "LIDC-IDRI-0777\n"
     ]
    },
    {
     "name": "stderr",
     "output_type": "stream",
     "text": [
      " 76%|███████▋  | 466/611 [08:42<05:25,  2.24s/it]"
     ]
    },
    {
     "name": "stdout",
     "output_type": "stream",
     "text": [
      "LIDC-IDRI-0779\n"
     ]
    },
    {
     "name": "stderr",
     "output_type": "stream",
     "text": [
      " 76%|███████▋  | 467/611 [08:43<04:10,  1.74s/it]"
     ]
    },
    {
     "name": "stdout",
     "output_type": "stream",
     "text": [
      "LIDC-IDRI-0783\n"
     ]
    },
    {
     "name": "stderr",
     "output_type": "stream",
     "text": [
      " 77%|███████▋  | 468/611 [08:43<03:12,  1.35s/it]"
     ]
    },
    {
     "name": "stdout",
     "output_type": "stream",
     "text": [
      "LIDC-IDRI-0787\n"
     ]
    },
    {
     "name": "stderr",
     "output_type": "stream",
     "text": [
      " 77%|███████▋  | 469/611 [08:44<02:51,  1.21s/it]"
     ]
    },
    {
     "name": "stdout",
     "output_type": "stream",
     "text": [
      "LIDC-IDRI-0788\n"
     ]
    },
    {
     "name": "stderr",
     "output_type": "stream",
     "text": [
      " 77%|███████▋  | 470/611 [08:45<02:55,  1.24s/it]"
     ]
    },
    {
     "name": "stdout",
     "output_type": "stream",
     "text": [
      "LIDC-IDRI-0789\n"
     ]
    },
    {
     "name": "stderr",
     "output_type": "stream",
     "text": [
      " 77%|███████▋  | 471/611 [08:46<02:21,  1.01s/it]"
     ]
    },
    {
     "name": "stdout",
     "output_type": "stream",
     "text": [
      "LIDC-IDRI-0790\n"
     ]
    },
    {
     "name": "stderr",
     "output_type": "stream",
     "text": [
      " 77%|███████▋  | 472/611 [08:47<02:37,  1.14s/it]"
     ]
    },
    {
     "name": "stdout",
     "output_type": "stream",
     "text": [
      "LIDC-IDRI-0791\n"
     ]
    },
    {
     "name": "stderr",
     "output_type": "stream",
     "text": [
      " 77%|███████▋  | 473/611 [08:48<02:09,  1.06it/s]"
     ]
    },
    {
     "name": "stdout",
     "output_type": "stream",
     "text": [
      "LIDC-IDRI-0792\n"
     ]
    },
    {
     "name": "stderr",
     "output_type": "stream",
     "text": [
      " 78%|███████▊  | 474/611 [08:49<02:24,  1.05s/it]"
     ]
    },
    {
     "name": "stdout",
     "output_type": "stream",
     "text": [
      "LIDC-IDRI-0794\n"
     ]
    },
    {
     "name": "stderr",
     "output_type": "stream",
     "text": [
      " 78%|███████▊  | 475/611 [08:50<02:14,  1.01it/s]"
     ]
    },
    {
     "name": "stdout",
     "output_type": "stream",
     "text": [
      "LIDC-IDRI-0795\n"
     ]
    },
    {
     "name": "stderr",
     "output_type": "stream",
     "text": [
      " 78%|███████▊  | 476/611 [08:51<02:10,  1.03it/s]"
     ]
    },
    {
     "name": "stdout",
     "output_type": "stream",
     "text": [
      "LIDC-IDRI-0796\n"
     ]
    },
    {
     "name": "stderr",
     "output_type": "stream",
     "text": [
      " 78%|███████▊  | 477/611 [08:52<01:53,  1.18it/s]"
     ]
    },
    {
     "name": "stdout",
     "output_type": "stream",
     "text": [
      "LIDC-IDRI-0797\n"
     ]
    },
    {
     "name": "stderr",
     "output_type": "stream",
     "text": [
      " 78%|███████▊  | 478/611 [08:52<01:36,  1.38it/s]"
     ]
    },
    {
     "name": "stdout",
     "output_type": "stream",
     "text": [
      "LIDC-IDRI-0798\n"
     ]
    },
    {
     "name": "stderr",
     "output_type": "stream",
     "text": [
      " 78%|███████▊  | 479/611 [08:53<01:45,  1.25it/s]"
     ]
    },
    {
     "name": "stdout",
     "output_type": "stream",
     "text": [
      "LIDC-IDRI-0800\n"
     ]
    },
    {
     "name": "stderr",
     "output_type": "stream",
     "text": [
      " 79%|███████▊  | 480/611 [08:54<02:13,  1.02s/it]"
     ]
    },
    {
     "name": "stdout",
     "output_type": "stream",
     "text": [
      "LIDC-IDRI-0801\n"
     ]
    },
    {
     "name": "stderr",
     "output_type": "stream",
     "text": [
      " 79%|███████▊  | 481/611 [08:55<02:08,  1.01it/s]"
     ]
    },
    {
     "name": "stdout",
     "output_type": "stream",
     "text": [
      "LIDC-IDRI-0803\n"
     ]
    },
    {
     "name": "stderr",
     "output_type": "stream",
     "text": [
      " 79%|███████▉  | 482/611 [08:56<01:47,  1.19it/s]"
     ]
    },
    {
     "name": "stdout",
     "output_type": "stream",
     "text": [
      "LIDC-IDRI-0806\n"
     ]
    },
    {
     "name": "stderr",
     "output_type": "stream",
     "text": [
      " 79%|███████▉  | 483/611 [08:58<02:22,  1.11s/it]"
     ]
    },
    {
     "name": "stdout",
     "output_type": "stream",
     "text": [
      "LIDC-IDRI-0807\n"
     ]
    },
    {
     "name": "stderr",
     "output_type": "stream",
     "text": [
      " 79%|███████▉  | 484/611 [08:59<02:15,  1.06s/it]"
     ]
    },
    {
     "name": "stdout",
     "output_type": "stream",
     "text": [
      "LIDC-IDRI-0809\n"
     ]
    },
    {
     "name": "stderr",
     "output_type": "stream",
     "text": [
      " 79%|███████▉  | 485/611 [08:59<01:51,  1.13it/s]"
     ]
    },
    {
     "name": "stdout",
     "output_type": "stream",
     "text": [
      "LIDC-IDRI-0810\n"
     ]
    },
    {
     "name": "stderr",
     "output_type": "stream",
     "text": [
      " 80%|███████▉  | 486/611 [09:00<01:51,  1.12it/s]"
     ]
    },
    {
     "name": "stdout",
     "output_type": "stream",
     "text": [
      "LIDC-IDRI-0811\n"
     ]
    },
    {
     "name": "stderr",
     "output_type": "stream",
     "text": [
      " 80%|███████▉  | 487/611 [09:01<01:43,  1.20it/s]"
     ]
    },
    {
     "name": "stdout",
     "output_type": "stream",
     "text": [
      "LIDC-IDRI-0812\n"
     ]
    },
    {
     "name": "stderr",
     "output_type": "stream",
     "text": [
      " 80%|███████▉  | 488/611 [09:01<01:28,  1.39it/s]"
     ]
    },
    {
     "name": "stdout",
     "output_type": "stream",
     "text": [
      "LIDC-IDRI-0813\n"
     ]
    },
    {
     "name": "stderr",
     "output_type": "stream",
     "text": [
      " 80%|████████  | 489/611 [09:02<01:33,  1.30it/s]"
     ]
    },
    {
     "name": "stdout",
     "output_type": "stream",
     "text": [
      "LIDC-IDRI-0814\n"
     ]
    },
    {
     "name": "stderr",
     "output_type": "stream",
     "text": [
      " 80%|████████  | 490/611 [09:03<01:39,  1.21it/s]"
     ]
    },
    {
     "name": "stdout",
     "output_type": "stream",
     "text": [
      "LIDC-IDRI-0815\n"
     ]
    },
    {
     "name": "stderr",
     "output_type": "stream",
     "text": [
      " 80%|████████  | 491/611 [09:03<01:26,  1.38it/s]"
     ]
    },
    {
     "name": "stdout",
     "output_type": "stream",
     "text": [
      "LIDC-IDRI-0816\n"
     ]
    },
    {
     "name": "stderr",
     "output_type": "stream",
     "text": [
      " 81%|████████  | 492/611 [09:04<01:34,  1.26it/s]"
     ]
    },
    {
     "name": "stdout",
     "output_type": "stream",
     "text": [
      "LIDC-IDRI-0818\n"
     ]
    },
    {
     "name": "stderr",
     "output_type": "stream",
     "text": [
      " 81%|████████  | 493/611 [09:05<01:21,  1.44it/s]"
     ]
    },
    {
     "name": "stdout",
     "output_type": "stream",
     "text": [
      "LIDC-IDRI-0819\n"
     ]
    },
    {
     "name": "stderr",
     "output_type": "stream",
     "text": [
      " 81%|████████  | 494/611 [09:07<02:04,  1.07s/it]"
     ]
    },
    {
     "name": "stdout",
     "output_type": "stream",
     "text": [
      "LIDC-IDRI-0820\n"
     ]
    },
    {
     "name": "stderr",
     "output_type": "stream",
     "text": [
      " 81%|████████  | 495/611 [09:08<01:58,  1.02s/it]"
     ]
    },
    {
     "name": "stdout",
     "output_type": "stream",
     "text": [
      "LIDC-IDRI-0821\n"
     ]
    },
    {
     "name": "stderr",
     "output_type": "stream",
     "text": [
      " 81%|████████  | 496/611 [09:08<01:37,  1.18it/s]"
     ]
    },
    {
     "name": "stdout",
     "output_type": "stream",
     "text": [
      "LIDC-IDRI-0822\n"
     ]
    },
    {
     "name": "stderr",
     "output_type": "stream",
     "text": [
      " 81%|████████▏ | 497/611 [09:10<02:12,  1.16s/it]"
     ]
    },
    {
     "name": "stdout",
     "output_type": "stream",
     "text": [
      "Error: LIDC-IDRI-0822:No labels found in this mask (i.e. nothing is segmented)!\n",
      "\n",
      "LIDC-IDRI-0825\n"
     ]
    },
    {
     "name": "stderr",
     "output_type": "stream",
     "text": [
      " 82%|████████▏ | 498/611 [09:11<01:47,  1.05it/s]"
     ]
    },
    {
     "name": "stdout",
     "output_type": "stream",
     "text": [
      "LIDC-IDRI-0826\n"
     ]
    },
    {
     "name": "stderr",
     "output_type": "stream",
     "text": [
      " 82%|████████▏ | 499/611 [09:11<01:47,  1.05it/s]"
     ]
    },
    {
     "name": "stdout",
     "output_type": "stream",
     "text": [
      "LIDC-IDRI-0827\n"
     ]
    },
    {
     "name": "stderr",
     "output_type": "stream",
     "text": [
      " 82%|████████▏ | 500/611 [09:13<01:57,  1.06s/it]"
     ]
    },
    {
     "name": "stdout",
     "output_type": "stream",
     "text": [
      "LIDC-IDRI-0832\n"
     ]
    },
    {
     "name": "stderr",
     "output_type": "stream",
     "text": [
      " 82%|████████▏ | 501/611 [09:13<01:36,  1.14it/s]"
     ]
    },
    {
     "name": "stdout",
     "output_type": "stream",
     "text": [
      "LIDC-IDRI-0834\n"
     ]
    },
    {
     "name": "stderr",
     "output_type": "stream",
     "text": [
      " 82%|████████▏ | 502/611 [09:14<01:22,  1.33it/s]"
     ]
    },
    {
     "name": "stdout",
     "output_type": "stream",
     "text": [
      "LIDC-IDRI-0835\n"
     ]
    },
    {
     "name": "stderr",
     "output_type": "stream",
     "text": [
      " 82%|████████▏ | 503/611 [09:15<01:25,  1.27it/s]"
     ]
    },
    {
     "name": "stdout",
     "output_type": "stream",
     "text": [
      "LIDC-IDRI-0836\n"
     ]
    },
    {
     "name": "stderr",
     "output_type": "stream",
     "text": [
      " 82%|████████▏ | 504/611 [09:15<01:26,  1.24it/s]"
     ]
    },
    {
     "name": "stdout",
     "output_type": "stream",
     "text": [
      "LIDC-IDRI-0838\n"
     ]
    },
    {
     "name": "stderr",
     "output_type": "stream",
     "text": [
      " 83%|████████▎ | 505/611 [09:17<01:58,  1.12s/it]"
     ]
    },
    {
     "name": "stdout",
     "output_type": "stream",
     "text": [
      "LIDC-IDRI-0841\n"
     ]
    },
    {
     "name": "stderr",
     "output_type": "stream",
     "text": [
      " 83%|████████▎ | 506/611 [09:18<01:43,  1.02it/s]"
     ]
    },
    {
     "name": "stdout",
     "output_type": "stream",
     "text": [
      "LIDC-IDRI-0842\n"
     ]
    },
    {
     "name": "stderr",
     "output_type": "stream",
     "text": [
      " 83%|████████▎ | 507/611 [09:19<01:39,  1.04it/s]"
     ]
    },
    {
     "name": "stdout",
     "output_type": "stream",
     "text": [
      "LIDC-IDRI-0843\n"
     ]
    },
    {
     "name": "stderr",
     "output_type": "stream",
     "text": [
      " 83%|████████▎ | 508/611 [09:22<02:36,  1.52s/it]"
     ]
    },
    {
     "name": "stdout",
     "output_type": "stream",
     "text": [
      "LIDC-IDRI-0844\n"
     ]
    },
    {
     "name": "stderr",
     "output_type": "stream",
     "text": [
      " 83%|████████▎ | 509/611 [09:23<02:32,  1.50s/it]"
     ]
    },
    {
     "name": "stdout",
     "output_type": "stream",
     "text": [
      "LIDC-IDRI-0846\n"
     ]
    },
    {
     "name": "stderr",
     "output_type": "stream",
     "text": [
      " 83%|████████▎ | 510/611 [09:24<02:12,  1.31s/it]"
     ]
    },
    {
     "name": "stdout",
     "output_type": "stream",
     "text": [
      "LIDC-IDRI-0848\n"
     ]
    },
    {
     "name": "stderr",
     "output_type": "stream",
     "text": [
      " 84%|████████▎ | 511/611 [09:24<01:44,  1.05s/it]"
     ]
    },
    {
     "name": "stdout",
     "output_type": "stream",
     "text": [
      "LIDC-IDRI-0849\n"
     ]
    },
    {
     "name": "stderr",
     "output_type": "stream",
     "text": [
      " 84%|████████▍ | 512/611 [09:26<02:04,  1.26s/it]"
     ]
    },
    {
     "name": "stdout",
     "output_type": "stream",
     "text": [
      "LIDC-IDRI-0850\n"
     ]
    },
    {
     "name": "stderr",
     "output_type": "stream",
     "text": [
      " 84%|████████▍ | 513/611 [09:27<01:55,  1.18s/it]"
     ]
    },
    {
     "name": "stdout",
     "output_type": "stream",
     "text": [
      "LIDC-IDRI-0851\n"
     ]
    },
    {
     "name": "stderr",
     "output_type": "stream",
     "text": [
      " 84%|████████▍ | 514/611 [09:29<02:22,  1.47s/it]"
     ]
    },
    {
     "name": "stdout",
     "output_type": "stream",
     "text": [
      "LIDC-IDRI-0852\n"
     ]
    },
    {
     "name": "stderr",
     "output_type": "stream",
     "text": [
      " 84%|████████▍ | 515/611 [09:30<02:03,  1.29s/it]"
     ]
    },
    {
     "name": "stdout",
     "output_type": "stream",
     "text": [
      "LIDC-IDRI-0854\n"
     ]
    },
    {
     "name": "stderr",
     "output_type": "stream",
     "text": [
      " 84%|████████▍ | 516/611 [09:31<02:03,  1.30s/it]"
     ]
    },
    {
     "name": "stdout",
     "output_type": "stream",
     "text": [
      "LIDC-IDRI-0855\n"
     ]
    },
    {
     "name": "stderr",
     "output_type": "stream",
     "text": [
      " 85%|████████▍ | 517/611 [09:37<04:06,  2.62s/it]"
     ]
    },
    {
     "name": "stdout",
     "output_type": "stream",
     "text": [
      "LIDC-IDRI-0857\n"
     ]
    },
    {
     "name": "stderr",
     "output_type": "stream",
     "text": [
      " 85%|████████▍ | 518/611 [09:38<03:02,  1.97s/it]"
     ]
    },
    {
     "name": "stdout",
     "output_type": "stream",
     "text": [
      "LIDC-IDRI-0859\n"
     ]
    },
    {
     "name": "stderr",
     "output_type": "stream",
     "text": [
      " 85%|████████▍ | 519/611 [09:38<02:18,  1.51s/it]"
     ]
    },
    {
     "name": "stdout",
     "output_type": "stream",
     "text": [
      "LIDC-IDRI-0860\n"
     ]
    },
    {
     "name": "stderr",
     "output_type": "stream",
     "text": [
      " 85%|████████▌ | 520/611 [09:39<02:00,  1.33s/it]"
     ]
    },
    {
     "name": "stdout",
     "output_type": "stream",
     "text": [
      "LIDC-IDRI-0861\n"
     ]
    },
    {
     "name": "stderr",
     "output_type": "stream",
     "text": [
      " 85%|████████▌ | 521/611 [09:40<01:54,  1.27s/it]"
     ]
    },
    {
     "name": "stdout",
     "output_type": "stream",
     "text": [
      "LIDC-IDRI-0863\n"
     ]
    },
    {
     "name": "stderr",
     "output_type": "stream",
     "text": [
      " 85%|████████▌ | 522/611 [09:41<01:42,  1.15s/it]"
     ]
    },
    {
     "name": "stdout",
     "output_type": "stream",
     "text": [
      "LIDC-IDRI-0865\n"
     ]
    },
    {
     "name": "stderr",
     "output_type": "stream",
     "text": [
      " 86%|████████▌ | 523/611 [09:42<01:28,  1.01s/it]"
     ]
    },
    {
     "name": "stdout",
     "output_type": "stream",
     "text": [
      "LIDC-IDRI-0866\n"
     ]
    },
    {
     "name": "stderr",
     "output_type": "stream",
     "text": [
      " 86%|████████▌ | 524/611 [09:43<01:46,  1.23s/it]"
     ]
    },
    {
     "name": "stdout",
     "output_type": "stream",
     "text": [
      "LIDC-IDRI-0867\n"
     ]
    },
    {
     "name": "stderr",
     "output_type": "stream",
     "text": [
      " 86%|████████▌ | 525/611 [09:44<01:37,  1.13s/it]"
     ]
    },
    {
     "name": "stdout",
     "output_type": "stream",
     "text": [
      "LIDC-IDRI-0869\n"
     ]
    },
    {
     "name": "stderr",
     "output_type": "stream",
     "text": [
      " 86%|████████▌ | 526/611 [09:47<02:04,  1.47s/it]"
     ]
    },
    {
     "name": "stdout",
     "output_type": "stream",
     "text": [
      "LIDC-IDRI-0870\n"
     ]
    },
    {
     "name": "stderr",
     "output_type": "stream",
     "text": [
      " 86%|████████▋ | 527/611 [09:52<03:41,  2.63s/it]"
     ]
    },
    {
     "name": "stdout",
     "output_type": "stream",
     "text": [
      "LIDC-IDRI-0871\n"
     ]
    },
    {
     "name": "stderr",
     "output_type": "stream",
     "text": [
      " 86%|████████▋ | 528/611 [09:55<03:54,  2.83s/it]"
     ]
    },
    {
     "name": "stdout",
     "output_type": "stream",
     "text": [
      "LIDC-IDRI-0872\n"
     ]
    },
    {
     "name": "stderr",
     "output_type": "stream",
     "text": [
      " 87%|████████▋ | 529/611 [09:56<03:05,  2.27s/it]"
     ]
    },
    {
     "name": "stdout",
     "output_type": "stream",
     "text": [
      "LIDC-IDRI-0874\n"
     ]
    },
    {
     "name": "stderr",
     "output_type": "stream",
     "text": [
      " 87%|████████▋ | 530/611 [09:57<02:41,  1.99s/it]"
     ]
    },
    {
     "name": "stdout",
     "output_type": "stream",
     "text": [
      "LIDC-IDRI-0875\n"
     ]
    },
    {
     "name": "stderr",
     "output_type": "stream",
     "text": [
      " 87%|████████▋ | 531/611 [09:58<02:03,  1.55s/it]"
     ]
    },
    {
     "name": "stdout",
     "output_type": "stream",
     "text": [
      "LIDC-IDRI-0880\n"
     ]
    },
    {
     "name": "stderr",
     "output_type": "stream",
     "text": [
      " 87%|████████▋ | 532/611 [09:58<01:36,  1.22s/it]"
     ]
    },
    {
     "name": "stdout",
     "output_type": "stream",
     "text": [
      "LIDC-IDRI-0884\n"
     ]
    },
    {
     "name": "stderr",
     "output_type": "stream",
     "text": [
      " 87%|████████▋ | 533/611 [09:59<01:20,  1.03s/it]"
     ]
    },
    {
     "name": "stdout",
     "output_type": "stream",
     "text": [
      "LIDC-IDRI-0886\n"
     ]
    },
    {
     "name": "stderr",
     "output_type": "stream",
     "text": [
      " 87%|████████▋ | 534/611 [10:00<01:29,  1.16s/it]"
     ]
    },
    {
     "name": "stdout",
     "output_type": "stream",
     "text": [
      "LIDC-IDRI-0888\n"
     ]
    },
    {
     "name": "stderr",
     "output_type": "stream",
     "text": [
      " 88%|████████▊ | 535/611 [10:01<01:12,  1.05it/s]"
     ]
    },
    {
     "name": "stdout",
     "output_type": "stream",
     "text": [
      "LIDC-IDRI-0890\n"
     ]
    },
    {
     "name": "stderr",
     "output_type": "stream",
     "text": [
      " 88%|████████▊ | 536/611 [10:02<01:19,  1.06s/it]"
     ]
    },
    {
     "name": "stdout",
     "output_type": "stream",
     "text": [
      "LIDC-IDRI-0892\n"
     ]
    },
    {
     "name": "stderr",
     "output_type": "stream",
     "text": [
      " 88%|████████▊ | 537/611 [10:04<01:43,  1.40s/it]"
     ]
    },
    {
     "name": "stdout",
     "output_type": "stream",
     "text": [
      "LIDC-IDRI-0893\n"
     ]
    },
    {
     "name": "stderr",
     "output_type": "stream",
     "text": [
      " 88%|████████▊ | 538/611 [10:06<01:43,  1.41s/it]"
     ]
    },
    {
     "name": "stdout",
     "output_type": "stream",
     "text": [
      "LIDC-IDRI-0894\n"
     ]
    },
    {
     "name": "stderr",
     "output_type": "stream",
     "text": [
      " 88%|████████▊ | 539/611 [10:08<01:48,  1.51s/it]"
     ]
    },
    {
     "name": "stdout",
     "output_type": "stream",
     "text": [
      "LIDC-IDRI-0895\n"
     ]
    },
    {
     "name": "stderr",
     "output_type": "stream",
     "text": [
      " 88%|████████▊ | 540/611 [10:08<01:26,  1.22s/it]"
     ]
    },
    {
     "name": "stdout",
     "output_type": "stream",
     "text": [
      "LIDC-IDRI-0896\n"
     ]
    },
    {
     "name": "stderr",
     "output_type": "stream",
     "text": [
      " 89%|████████▊ | 541/611 [10:09<01:17,  1.11s/it]"
     ]
    },
    {
     "name": "stdout",
     "output_type": "stream",
     "text": [
      "LIDC-IDRI-0898\n"
     ]
    },
    {
     "name": "stderr",
     "output_type": "stream",
     "text": [
      " 89%|████████▊ | 542/611 [10:10<01:12,  1.05s/it]"
     ]
    },
    {
     "name": "stdout",
     "output_type": "stream",
     "text": [
      "LIDC-IDRI-0899\n"
     ]
    },
    {
     "name": "stderr",
     "output_type": "stream",
     "text": [
      " 89%|████████▉ | 543/611 [10:10<00:59,  1.14it/s]"
     ]
    },
    {
     "name": "stdout",
     "output_type": "stream",
     "text": [
      "LIDC-IDRI-0904\n"
     ]
    },
    {
     "name": "stderr",
     "output_type": "stream",
     "text": [
      " 89%|████████▉ | 544/611 [10:12<01:08,  1.02s/it]"
     ]
    },
    {
     "name": "stdout",
     "output_type": "stream",
     "text": [
      "LIDC-IDRI-0905\n"
     ]
    },
    {
     "name": "stderr",
     "output_type": "stream",
     "text": [
      " 89%|████████▉ | 545/611 [10:12<00:56,  1.17it/s]"
     ]
    },
    {
     "name": "stdout",
     "output_type": "stream",
     "text": [
      "LIDC-IDRI-0906\n"
     ]
    },
    {
     "name": "stderr",
     "output_type": "stream",
     "text": [
      " 89%|████████▉ | 546/611 [10:13<00:55,  1.16it/s]"
     ]
    },
    {
     "name": "stdout",
     "output_type": "stream",
     "text": [
      "LIDC-IDRI-0907\n"
     ]
    },
    {
     "name": "stderr",
     "output_type": "stream",
     "text": [
      " 90%|████████▉ | 547/611 [10:14<00:55,  1.15it/s]"
     ]
    },
    {
     "name": "stdout",
     "output_type": "stream",
     "text": [
      "LIDC-IDRI-0908\n"
     ]
    },
    {
     "name": "stderr",
     "output_type": "stream",
     "text": [
      " 90%|████████▉ | 548/611 [10:14<00:46,  1.34it/s]"
     ]
    },
    {
     "name": "stdout",
     "output_type": "stream",
     "text": [
      "LIDC-IDRI-0910\n"
     ]
    },
    {
     "name": "stderr",
     "output_type": "stream",
     "text": [
      " 90%|████████▉ | 549/611 [10:16<00:55,  1.12it/s]"
     ]
    },
    {
     "name": "stdout",
     "output_type": "stream",
     "text": [
      "LIDC-IDRI-0911\n"
     ]
    },
    {
     "name": "stderr",
     "output_type": "stream",
     "text": [
      " 90%|█████████ | 550/611 [10:16<00:47,  1.28it/s]"
     ]
    },
    {
     "name": "stdout",
     "output_type": "stream",
     "text": [
      "LIDC-IDRI-0912\n"
     ]
    },
    {
     "name": "stderr",
     "output_type": "stream",
     "text": [
      " 90%|█████████ | 551/611 [10:19<01:14,  1.24s/it]"
     ]
    },
    {
     "name": "stdout",
     "output_type": "stream",
     "text": [
      "LIDC-IDRI-0913\n"
     ]
    },
    {
     "name": "stderr",
     "output_type": "stream",
     "text": [
      " 90%|█████████ | 552/611 [10:20<01:11,  1.21s/it]"
     ]
    },
    {
     "name": "stdout",
     "output_type": "stream",
     "text": [
      "LIDC-IDRI-0915\n"
     ]
    },
    {
     "name": "stderr",
     "output_type": "stream",
     "text": [
      " 91%|█████████ | 553/611 [10:20<00:57,  1.01it/s]"
     ]
    },
    {
     "name": "stdout",
     "output_type": "stream",
     "text": [
      "LIDC-IDRI-0916\n"
     ]
    },
    {
     "name": "stderr",
     "output_type": "stream",
     "text": [
      " 91%|█████████ | 554/611 [10:24<01:38,  1.72s/it]"
     ]
    },
    {
     "name": "stdout",
     "output_type": "stream",
     "text": [
      "LIDC-IDRI-0917\n"
     ]
    },
    {
     "name": "stderr",
     "output_type": "stream",
     "text": [
      " 91%|█████████ | 555/611 [10:24<01:22,  1.47s/it]"
     ]
    },
    {
     "name": "stdout",
     "output_type": "stream",
     "text": [
      "LIDC-IDRI-0920\n"
     ]
    },
    {
     "name": "stderr",
     "output_type": "stream",
     "text": [
      " 91%|█████████ | 556/611 [10:25<01:04,  1.17s/it]"
     ]
    },
    {
     "name": "stdout",
     "output_type": "stream",
     "text": [
      "LIDC-IDRI-0921\n"
     ]
    },
    {
     "name": "stderr",
     "output_type": "stream",
     "text": [
      " 91%|█████████ | 557/611 [10:28<01:28,  1.63s/it]"
     ]
    },
    {
     "name": "stdout",
     "output_type": "stream",
     "text": [
      "LIDC-IDRI-0922\n"
     ]
    },
    {
     "name": "stderr",
     "output_type": "stream",
     "text": [
      " 91%|█████████▏| 558/611 [10:28<01:09,  1.31s/it]"
     ]
    },
    {
     "name": "stdout",
     "output_type": "stream",
     "text": [
      "LIDC-IDRI-0923\n"
     ]
    },
    {
     "name": "stderr",
     "output_type": "stream",
     "text": [
      " 91%|█████████▏| 559/611 [10:29<00:55,  1.07s/it]"
     ]
    },
    {
     "name": "stdout",
     "output_type": "stream",
     "text": [
      "LIDC-IDRI-0924\n"
     ]
    },
    {
     "name": "stderr",
     "output_type": "stream",
     "text": [
      " 92%|█████████▏| 560/611 [10:29<00:45,  1.13it/s]"
     ]
    },
    {
     "name": "stdout",
     "output_type": "stream",
     "text": [
      "LIDC-IDRI-0925\n"
     ]
    },
    {
     "name": "stderr",
     "output_type": "stream",
     "text": [
      " 92%|█████████▏| 561/611 [10:30<00:37,  1.32it/s]"
     ]
    },
    {
     "name": "stdout",
     "output_type": "stream",
     "text": [
      "LIDC-IDRI-0928\n"
     ]
    },
    {
     "name": "stderr",
     "output_type": "stream",
     "text": [
      " 92%|█████████▏| 562/611 [10:30<00:39,  1.26it/s]"
     ]
    },
    {
     "name": "stdout",
     "output_type": "stream",
     "text": [
      "LIDC-IDRI-0932\n"
     ]
    },
    {
     "name": "stderr",
     "output_type": "stream",
     "text": [
      " 92%|█████████▏| 563/611 [10:31<00:33,  1.42it/s]"
     ]
    },
    {
     "name": "stdout",
     "output_type": "stream",
     "text": [
      "LIDC-IDRI-0933\n"
     ]
    },
    {
     "name": "stderr",
     "output_type": "stream",
     "text": [
      " 92%|█████████▏| 564/611 [10:33<00:49,  1.05s/it]"
     ]
    },
    {
     "name": "stdout",
     "output_type": "stream",
     "text": [
      "LIDC-IDRI-0935\n"
     ]
    },
    {
     "name": "stderr",
     "output_type": "stream",
     "text": [
      " 92%|█████████▏| 565/611 [10:34<00:45,  1.00it/s]"
     ]
    },
    {
     "name": "stdout",
     "output_type": "stream",
     "text": [
      "LIDC-IDRI-0938\n"
     ]
    },
    {
     "name": "stderr",
     "output_type": "stream",
     "text": [
      " 93%|█████████▎| 566/611 [10:34<00:37,  1.19it/s]"
     ]
    },
    {
     "name": "stdout",
     "output_type": "stream",
     "text": [
      "LIDC-IDRI-0939\n"
     ]
    },
    {
     "name": "stderr",
     "output_type": "stream",
     "text": [
      " 93%|█████████▎| 567/611 [10:35<00:31,  1.38it/s]"
     ]
    },
    {
     "name": "stdout",
     "output_type": "stream",
     "text": [
      "LIDC-IDRI-0940\n"
     ]
    },
    {
     "name": "stderr",
     "output_type": "stream",
     "text": [
      " 93%|█████████▎| 568/611 [10:35<00:28,  1.52it/s]"
     ]
    },
    {
     "name": "stdout",
     "output_type": "stream",
     "text": [
      "LIDC-IDRI-0941\n"
     ]
    },
    {
     "name": "stderr",
     "output_type": "stream",
     "text": [
      " 93%|█████████▎| 569/611 [10:36<00:25,  1.67it/s]"
     ]
    },
    {
     "name": "stdout",
     "output_type": "stream",
     "text": [
      "LIDC-IDRI-0942\n"
     ]
    },
    {
     "name": "stderr",
     "output_type": "stream",
     "text": [
      " 93%|█████████▎| 570/611 [10:38<00:40,  1.01it/s]"
     ]
    },
    {
     "name": "stdout",
     "output_type": "stream",
     "text": [
      "LIDC-IDRI-0944\n"
     ]
    },
    {
     "name": "stderr",
     "output_type": "stream",
     "text": [
      " 93%|█████████▎| 571/611 [10:38<00:38,  1.03it/s]"
     ]
    },
    {
     "name": "stdout",
     "output_type": "stream",
     "text": [
      "LIDC-IDRI-0946\n"
     ]
    },
    {
     "name": "stderr",
     "output_type": "stream",
     "text": [
      " 94%|█████████▎| 572/611 [10:39<00:32,  1.22it/s]"
     ]
    },
    {
     "name": "stdout",
     "output_type": "stream",
     "text": [
      "LIDC-IDRI-0947\n"
     ]
    },
    {
     "name": "stderr",
     "output_type": "stream",
     "text": [
      " 94%|█████████▍| 573/611 [10:40<00:32,  1.18it/s]"
     ]
    },
    {
     "name": "stdout",
     "output_type": "stream",
     "text": [
      "LIDC-IDRI-0951\n"
     ]
    },
    {
     "name": "stderr",
     "output_type": "stream",
     "text": [
      " 94%|█████████▍| 574/611 [10:41<00:32,  1.14it/s]"
     ]
    },
    {
     "name": "stdout",
     "output_type": "stream",
     "text": [
      "LIDC-IDRI-0953\n"
     ]
    },
    {
     "name": "stderr",
     "output_type": "stream",
     "text": [
      " 94%|█████████▍| 575/611 [10:41<00:26,  1.34it/s]"
     ]
    },
    {
     "name": "stdout",
     "output_type": "stream",
     "text": [
      "LIDC-IDRI-0955\n"
     ]
    },
    {
     "name": "stderr",
     "output_type": "stream",
     "text": [
      " 94%|█████████▍| 576/611 [10:42<00:22,  1.52it/s]"
     ]
    },
    {
     "name": "stdout",
     "output_type": "stream",
     "text": [
      "LIDC-IDRI-0957\n"
     ]
    },
    {
     "name": "stderr",
     "output_type": "stream",
     "text": [
      " 94%|█████████▍| 577/611 [10:43<00:24,  1.38it/s]"
     ]
    },
    {
     "name": "stdout",
     "output_type": "stream",
     "text": [
      "LIDC-IDRI-0961\n"
     ]
    },
    {
     "name": "stderr",
     "output_type": "stream",
     "text": [
      " 95%|█████████▍| 578/611 [10:45<00:43,  1.33s/it]"
     ]
    },
    {
     "name": "stdout",
     "output_type": "stream",
     "text": [
      "LIDC-IDRI-0963\n"
     ]
    },
    {
     "name": "stderr",
     "output_type": "stream",
     "text": [
      " 95%|█████████▍| 579/611 [10:46<00:34,  1.07s/it]"
     ]
    },
    {
     "name": "stdout",
     "output_type": "stream",
     "text": [
      "LIDC-IDRI-0966\n"
     ]
    },
    {
     "name": "stderr",
     "output_type": "stream",
     "text": [
      " 95%|█████████▍| 580/611 [10:47<00:35,  1.15s/it]"
     ]
    },
    {
     "name": "stdout",
     "output_type": "stream",
     "text": [
      "LIDC-IDRI-0968\n"
     ]
    },
    {
     "name": "stderr",
     "output_type": "stream",
     "text": [
      " 95%|█████████▌| 581/611 [10:48<00:29,  1.02it/s]"
     ]
    },
    {
     "name": "stdout",
     "output_type": "stream",
     "text": [
      "LIDC-IDRI-0969\n"
     ]
    },
    {
     "name": "stderr",
     "output_type": "stream",
     "text": [
      " 95%|█████████▌| 582/611 [10:49<00:31,  1.09s/it]"
     ]
    },
    {
     "name": "stdout",
     "output_type": "stream",
     "text": [
      "LIDC-IDRI-0972\n"
     ]
    },
    {
     "name": "stderr",
     "output_type": "stream",
     "text": [
      " 95%|█████████▌| 583/611 [10:50<00:26,  1.06it/s]"
     ]
    },
    {
     "name": "stdout",
     "output_type": "stream",
     "text": [
      "LIDC-IDRI-0974\n"
     ]
    },
    {
     "name": "stderr",
     "output_type": "stream",
     "text": [
      " 96%|█████████▌| 584/611 [10:50<00:24,  1.08it/s]"
     ]
    },
    {
     "name": "stdout",
     "output_type": "stream",
     "text": [
      "LIDC-IDRI-0976\n"
     ]
    },
    {
     "name": "stderr",
     "output_type": "stream",
     "text": [
      " 96%|█████████▌| 585/611 [10:51<00:21,  1.20it/s]"
     ]
    },
    {
     "name": "stdout",
     "output_type": "stream",
     "text": [
      "LIDC-IDRI-0978\n"
     ]
    },
    {
     "name": "stderr",
     "output_type": "stream",
     "text": [
      " 96%|█████████▌| 586/611 [10:52<00:21,  1.17it/s]"
     ]
    },
    {
     "name": "stdout",
     "output_type": "stream",
     "text": [
      "LIDC-IDRI-0980\n"
     ]
    },
    {
     "name": "stderr",
     "output_type": "stream",
     "text": [
      " 96%|█████████▌| 587/611 [10:53<00:20,  1.14it/s]"
     ]
    },
    {
     "name": "stdout",
     "output_type": "stream",
     "text": [
      "LIDC-IDRI-0981\n"
     ]
    },
    {
     "name": "stderr",
     "output_type": "stream",
     "text": [
      " 96%|█████████▌| 588/611 [10:53<00:17,  1.34it/s]"
     ]
    },
    {
     "name": "stdout",
     "output_type": "stream",
     "text": [
      "LIDC-IDRI-0982\n"
     ]
    },
    {
     "name": "stderr",
     "output_type": "stream",
     "text": [
      " 96%|█████████▋| 589/611 [10:54<00:17,  1.26it/s]"
     ]
    },
    {
     "name": "stdout",
     "output_type": "stream",
     "text": [
      "LIDC-IDRI-0983\n"
     ]
    },
    {
     "name": "stderr",
     "output_type": "stream",
     "text": [
      " 97%|█████████▋| 590/611 [10:55<00:14,  1.45it/s]"
     ]
    },
    {
     "name": "stdout",
     "output_type": "stream",
     "text": [
      "LIDC-IDRI-0984\n"
     ]
    },
    {
     "name": "stderr",
     "output_type": "stream",
     "text": [
      " 97%|█████████▋| 591/611 [10:55<00:12,  1.62it/s]"
     ]
    },
    {
     "name": "stdout",
     "output_type": "stream",
     "text": [
      "LIDC-IDRI-0985\n"
     ]
    },
    {
     "name": "stderr",
     "output_type": "stream",
     "text": [
      " 97%|█████████▋| 592/611 [10:56<00:10,  1.76it/s]"
     ]
    },
    {
     "name": "stdout",
     "output_type": "stream",
     "text": [
      "LIDC-IDRI-0986\n"
     ]
    },
    {
     "name": "stderr",
     "output_type": "stream",
     "text": [
      " 97%|█████████▋| 593/611 [10:57<00:11,  1.50it/s]"
     ]
    },
    {
     "name": "stdout",
     "output_type": "stream",
     "text": [
      "LIDC-IDRI-0987\n"
     ]
    },
    {
     "name": "stderr",
     "output_type": "stream",
     "text": [
      " 97%|█████████▋| 594/611 [10:58<00:15,  1.13it/s]"
     ]
    },
    {
     "name": "stdout",
     "output_type": "stream",
     "text": [
      "LIDC-IDRI-0990\n"
     ]
    },
    {
     "name": "stderr",
     "output_type": "stream",
     "text": [
      " 97%|█████████▋| 595/611 [10:58<00:12,  1.32it/s]"
     ]
    },
    {
     "name": "stdout",
     "output_type": "stream",
     "text": [
      "LIDC-IDRI-0991\n"
     ]
    },
    {
     "name": "stderr",
     "output_type": "stream",
     "text": [
      " 98%|█████████▊| 596/611 [10:59<00:09,  1.51it/s]"
     ]
    },
    {
     "name": "stdout",
     "output_type": "stream",
     "text": [
      "LIDC-IDRI-0994\n"
     ]
    },
    {
     "name": "stderr",
     "output_type": "stream",
     "text": [
      " 98%|█████████▊| 597/611 [11:01<00:14,  1.03s/it]"
     ]
    },
    {
     "name": "stdout",
     "output_type": "stream",
     "text": [
      "LIDC-IDRI-0997\n"
     ]
    },
    {
     "name": "stderr",
     "output_type": "stream",
     "text": [
      " 98%|█████████▊| 598/611 [11:03<00:16,  1.27s/it]"
     ]
    },
    {
     "name": "stdout",
     "output_type": "stream",
     "text": [
      "LIDC-IDRI-0998\n"
     ]
    },
    {
     "name": "stderr",
     "output_type": "stream",
     "text": [
      " 98%|█████████▊| 599/611 [11:06<00:22,  1.84s/it]"
     ]
    },
    {
     "name": "stdout",
     "output_type": "stream",
     "text": [
      "LIDC-IDRI-0999\n"
     ]
    },
    {
     "name": "stderr",
     "output_type": "stream",
     "text": [
      " 98%|█████████▊| 600/611 [11:07<00:19,  1.73s/it]"
     ]
    },
    {
     "name": "stdout",
     "output_type": "stream",
     "text": [
      "LIDC-IDRI-1000\n"
     ]
    },
    {
     "name": "stderr",
     "output_type": "stream",
     "text": [
      " 98%|█████████▊| 601/611 [11:09<00:17,  1.72s/it]"
     ]
    },
    {
     "name": "stdout",
     "output_type": "stream",
     "text": [
      "LIDC-IDRI-1001\n"
     ]
    },
    {
     "name": "stderr",
     "output_type": "stream",
     "text": [
      " 99%|█████████▊| 602/611 [11:10<00:13,  1.47s/it]"
     ]
    },
    {
     "name": "stdout",
     "output_type": "stream",
     "text": [
      "LIDC-IDRI-1002\n"
     ]
    },
    {
     "name": "stderr",
     "output_type": "stream",
     "text": [
      " 99%|█████████▊| 603/611 [11:12<00:14,  1.77s/it]"
     ]
    },
    {
     "name": "stdout",
     "output_type": "stream",
     "text": [
      "LIDC-IDRI-1003\n"
     ]
    },
    {
     "name": "stderr",
     "output_type": "stream",
     "text": [
      " 99%|█████████▉| 604/611 [11:15<00:14,  2.14s/it]"
     ]
    },
    {
     "name": "stdout",
     "output_type": "stream",
     "text": [
      "LIDC-IDRI-1004\n"
     ]
    },
    {
     "name": "stderr",
     "output_type": "stream",
     "text": [
      " 99%|█████████▉| 605/611 [11:17<00:11,  1.93s/it]"
     ]
    },
    {
     "name": "stdout",
     "output_type": "stream",
     "text": [
      "LIDC-IDRI-1005\n"
     ]
    },
    {
     "name": "stderr",
     "output_type": "stream",
     "text": [
      " 99%|█████████▉| 606/611 [11:18<00:08,  1.78s/it]"
     ]
    },
    {
     "name": "stdout",
     "output_type": "stream",
     "text": [
      "LIDC-IDRI-1006\n"
     ]
    },
    {
     "name": "stderr",
     "output_type": "stream",
     "text": [
      " 99%|█████████▉| 607/611 [11:19<00:05,  1.42s/it]"
     ]
    },
    {
     "name": "stdout",
     "output_type": "stream",
     "text": [
      "LIDC-IDRI-1007\n"
     ]
    },
    {
     "name": "stderr",
     "output_type": "stream",
     "text": [
      "100%|█████████▉| 608/611 [11:20<00:03,  1.32s/it]"
     ]
    },
    {
     "name": "stdout",
     "output_type": "stream",
     "text": [
      "LIDC-IDRI-1010\n"
     ]
    },
    {
     "name": "stderr",
     "output_type": "stream",
     "text": [
      "100%|█████████▉| 609/611 [11:20<00:02,  1.06s/it]"
     ]
    },
    {
     "name": "stdout",
     "output_type": "stream",
     "text": [
      "LIDC-IDRI-1011\n"
     ]
    },
    {
     "name": "stderr",
     "output_type": "stream",
     "text": [
      "100%|█████████▉| 610/611 [11:22<00:01,  1.31s/it]"
     ]
    },
    {
     "name": "stdout",
     "output_type": "stream",
     "text": [
      "LIDC-IDRI-1012\n"
     ]
    },
    {
     "name": "stderr",
     "output_type": "stream",
     "text": [
      "100%|██████████| 611/611 [11:23<00:00,  1.12s/it]\n"
     ]
    }
   ],
   "source": [
    "Feature = []\n",
    "test_patients = [os.path.join(Data_Path,name) for name in os.listdir(Data_Path) if os.path.isdir(os.path.join(Data_Path, name))]\n",
    "test_patients = sorted(test_patients)    \n",
    "for patients in tqdm(test_patients):\n",
    "        #sleep(0.01)\n",
    "        print(patients[-14:])\n",
    "        dcm_File = patients[-14:]\n",
    "        count=(len([entry for entry in os.listdir(patients) if os.path.isfile(os.path.join(patients, entry))]))\n",
    "        try:\n",
    "\n",
    "            for i in range(1,int(count/2)+1):\n",
    "                roi_path = Data_Path+'/'+dcm_File+\"/\"+dcm_File+'_'+str(i)+'_roi.npy'\n",
    "                img=np.load(roi_path)\n",
    "                ROI = sitk.GetImageFromArray(img)\n",
    "            \n",
    "                mask_path = Data_Path+'/'+dcm_File+\"/\"+dcm_File+'_'+str(i)+'_label.npy'\n",
    "                msk=np.load(mask_path)\n",
    "                Mask = sitk.GetImageFromArray(msk)\n",
    "            \n",
    "                features, feature_info = Extract_Features(ROI, Mask, 'params.yaml')\n",
    "                features['Patient_id']=dcm_File+'_'+str(i)+'_roi.npy'\n",
    "                Feature.append(features)\n",
    "        except Exception as Error:\n",
    "            with open('Error_list_radiomics.txt', 'a') as error_file:\n",
    "                error_file.write(f\"Error: {dcm_File}:{str(Error)}\\n\")\n",
    "                print(\"Error: \"+dcm_File+\":\"+str(Error)+\"\\n\")\n",
    "            continue\n",
    "    \n",
    "df = DF(Feature).fillna('0')\n",
    "df.to_csv(f\"RM_features_{current_date}_test_1.csv\", index=False,sep=',')\n"
   ]
  },
  {
   "cell_type": "code",
   "execution_count": null,
   "id": "ee66ac56",
   "metadata": {},
   "outputs": [
    {
     "ename": "AttributeError",
     "evalue": "'str' object has no attribute 'head'",
     "output_type": "error",
     "traceback": [
      "\u001b[1;31m---------------------------------------------------------------------------\u001b[0m",
      "\u001b[1;31mAttributeError\u001b[0m                            Traceback (most recent call last)",
      "Input \u001b[1;32mIn [106]\u001b[0m, in \u001b[0;36m<cell line: 2>\u001b[1;34m()\u001b[0m\n\u001b[0;32m      1\u001b[0m Test_Data\u001b[38;5;241m=\u001b[39m\u001b[38;5;124mf\u001b[39m\u001b[38;5;124m\"\u001b[39m\u001b[38;5;124mRM_features_\u001b[39m\u001b[38;5;132;01m{\u001b[39;00mcurrent_date\u001b[38;5;132;01m}\u001b[39;00m\u001b[38;5;124m_test_1.csv\u001b[39m\u001b[38;5;124m\"\u001b[39m\n\u001b[1;32m----> 2\u001b[0m \u001b[43mTest_Data\u001b[49m\u001b[38;5;241;43m.\u001b[39;49m\u001b[43mhead\u001b[49m()\n",
      "\u001b[1;31mAttributeError\u001b[0m: 'str' object has no attribute 'head'"
     ]
    }
   ],
   "source": [
    "Test_Data=f\"RM_features_{current_date}_test_1.csv\"\n"
   ]
  },
  {
   "cell_type": "code",
   "execution_count": null,
   "id": "73510f83",
   "metadata": {},
   "outputs": [
    {
     "data": {
      "text/plain": [
       "(1393, 1219)"
      ]
     },
     "execution_count": 107,
     "metadata": {},
     "output_type": "execute_result"
    }
   ],
   "source": [
    "test_df=pd.read_csv(Test_Data)\n",
    "test_df.shape\n",
    "#from sklearn.preprocessing import StandardScaler\n",
    "#X_standardized = StandardScaler().fit_transform(Rm_200)\n"
   ]
  },
  {
   "cell_type": "code",
   "execution_count": null,
   "id": "41f4a693",
   "metadata": {},
   "outputs": [
    {
     "name": "stdout",
     "output_type": "stream",
     "text": [
      "WARNING:tensorflow:No training configuration found in the save file, so the model was *not* compiled. Compile it manually.\n",
      "44/44 [==============================] - 209s 5s/step\n"
     ]
    }
   ],
   "source": [
    "import tensorflow as tf\n",
    "import os\n",
    "from tensorflow.keras.models import load_model\n",
    "import numpy as np\n",
    "from sklearn.metrics import accuracy_score, f1_score, confusion_matrix\n",
    "\n",
    "# Load the model\n",
    "model = load_model('feature_extractor_model_27-05-2024_128.h5')\n",
    "\n",
    "# Load or prepare your test data (replace this with your actual test data)\n",
    "# X_test = ... \n",
    "# y_test = ...\n",
    "train_data_path = r'../../DataSet Files/ROI_ny_files'\n",
    "train_patients = [name for name in os.listdir(train_data_path) if os.path.isfile(os.path.join(train_data_path, name))]\n",
    "file_list = sorted(train_patients)\n",
    "data = [np.expand_dims(np.load(f'{train_data_path}/{file}'), axis=-1) for file in file_list]\n",
    "X_test = np.array(data)\n",
    "# Ensure X_test is a NumPy array\n",
    "# X_test = np.array(X_test)\n",
    "\n",
    "# Make predictions\n",
    "predictions = model.predict(X_test)\n",
    "\n",
    "predictions_df = pd.DataFrame(predictions)\n",
    "\n",
    "# Save to CSV\n",
    "predictions_df.to_csv('Deep_Learning_Test_1.csv', index=False)\n",
    "# For a classification model, you might need to convert predictions to class labels\n",
    "\n",
    "predictions_df=pd.read_csv('Deep_Learning_Test_1.csv')"
   ]
  },
  {
   "cell_type": "markdown",
   "id": "84c3c601",
   "metadata": {},
   "source": [
    "Radiomics Model with 1218 Features"
   ]
  },
  {
   "cell_type": "code",
   "execution_count": null,
   "id": "86d1154e",
   "metadata": {},
   "outputs": [
    {
     "name": "stdout",
     "output_type": "stream",
     "text": [
      "Model parameters: {'bootstrap': True, 'ccp_alpha': 0.0, 'class_weight': None, 'criterion': 'gini', 'max_depth': None, 'max_features': 'sqrt', 'max_leaf_nodes': None, 'max_samples': None, 'min_impurity_decrease': 0.0, 'min_samples_leaf': 1, 'min_samples_split': 2, 'min_weight_fraction_leaf': 0.0, 'monotonic_cst': None, 'n_estimators': 200, 'n_jobs': None, 'oob_score': False, 'random_state': 42, 'verbose': 0, 'warm_start': False}\n",
      "Feature importances: [0.00063874 0.00056097 0.00025007 ... 0.         0.01974114 0.00276167]\n",
      "Number of features: 1346\n",
      "Class labels: [0 1]\n",
      "Number of classes: 2\n"
     ]
    }
   ],
   "source": [
    "import joblib\n",
    "\n",
    "# Load the model\n",
    "model = joblib.load('./best_random_forest_model_1218_128_features.pkl')  # or 'best_fuse_model.pkl'\n",
    "\n",
    "# Get model parameters\n",
    "params = model.get_params()\n",
    "print(\"Model parameters:\", params)\n",
    "\n",
    "# Get feature importances\n",
    "feature_importances = model.feature_importances_\n",
    "print(\"Feature importances:\", feature_importances)\n",
    "\n",
    "# Get number of features\n",
    "n_features = model.n_features_in_\n",
    "print(\"Number of features:\", n_features)\n",
    "\n",
    "# Get class labels\n",
    "classes = model.classes_\n",
    "print(\"Class labels:\", classes)\n",
    "\n",
    "# Get number of classes\n",
    "n_classes = model.n_classes_\n",
    "print(\"Number of classes:\", n_classes)"
   ]
  },
  {
   "cell_type": "code",
   "execution_count": null,
   "id": "e20b6811",
   "metadata": {},
   "outputs": [
    {
     "name": "stdout",
     "output_type": "stream",
     "text": [
      "[1 0 0 ... 0 0 0]\n"
     ]
    },
    {
     "name": "stderr",
     "output_type": "stream",
     "text": [
      "c:\\Users\\VIRUS\\AppData\\Local\\Programs\\Python\\Python310\\lib\\site-packages\\sklearn\\base.py:493: UserWarning: X does not have valid feature names, but RandomForestClassifier was fitted with feature names\n",
      "  warnings.warn(\n"
     ]
    }
   ],
   "source": [
    "import pandas as pd\n",
    "import joblib\n",
    "\n",
    "# Load the saved model\n",
    "model = joblib.load('./best_random_forest_model_1218_128_features.pkl')\n",
    "\n",
    "# Load the test dataset\n",
    "\n",
    "\n",
    "# Assuming you've already preprocessed your test data similarly to the training data\n",
    "X_test = test_df.drop(columns=['Patient_id'])\n",
    "# pd.concat([X_resampled_df, y_resampled_df], axis=1)\n",
    "X_test=pd.concat([X_test,predictions_df], axis=1)\n",
    "scaler = StandardScaler()\n",
    "X_test = scaler.fit_transform(X_test)\n",
    "# Make predictions on the test set\n",
    "y_pred_best_1 = model.predict(X_test)\n",
    "\n",
    "# Evaluate the performance of the model using appropriate metrics\n",
    "\n",
    "print(y_pred_best_1)"
   ]
  },
  {
   "cell_type": "code",
   "execution_count": null,
   "id": "d52dce71",
   "metadata": {},
   "outputs": [],
   "source": [
    "\n",
    "y_test_p=pd.DataFrame(y_pred_best_1)\n",
    "y_test_p['Image File']=test_df['Patient_id']\n",
    "Pr_file=f\"test_{current_date}_1.csv\"\n",
    "y_test_p.to_csv(Pr_file)"
   ]
  },
  {
   "cell_type": "code",
   "execution_count": null,
   "id": "d978fbfe",
   "metadata": {},
   "outputs": [],
   "source": [
    "import pandas as pd\n",
    "\n",
    "# Read the CSV files\n",
    "try:\n",
    "    radiomics_df = pd.read_csv('./Radiomics_Feature.csv')\n",
    "    example_df = pd.read_csv(Pr_file)\n",
    "except FileNotFoundError as e:\n",
    "    print(f\"Error: {e}\")\n",
    "    exit()\n",
    "\n",
    "# Print the first few rows of the dataframes to check the structure\n",
    "\n",
    "\n",
    "# Merge the dataframes based on the patient_id and Image File columns\n",
    "try:\n",
    "    merged_df = pd.merge(example_df, radiomics_df, left_on='Image File', right_on='Patient_id', how='left')\n",
    "    #print(merged_df.head())\n",
    "except KeyError as e:\n",
    "    print(f\"Error: {e}\")\n",
    "    exit()\n",
    "\n",
    "# Select relevant columns, assuming you want to keep all columns from example_df and add Malignancy\n",
    "y_test = merged_df[['Malignancy']]\n",
    "\n",
    "\n"
   ]
  },
  {
   "cell_type": "code",
   "execution_count": null,
   "id": "c7b56b46",
   "metadata": {},
   "outputs": [
    {
     "name": "stdout",
     "output_type": "stream",
     "text": [
      "Accuracy: 0.9353912419239052\n",
      "Classification Report:\n",
      "               precision    recall  f1-score   support\n",
      "\n",
      "           0       0.99      0.93      0.96      1047\n",
      "           1       0.81      0.96      0.88       346\n",
      "\n",
      "    accuracy                           0.94      1393\n",
      "   macro avg       0.90      0.94      0.92      1393\n",
      "weighted avg       0.94      0.94      0.94      1393\n",
      "\n",
      "Confusion Matrix:\n",
      " [[970  77]\n",
      " [ 13 333]]\n"
     ]
    }
   ],
   "source": [
    "from sklearn.metrics import accuracy_score, classification_report, confusion_matrix\n",
    "\n",
    "accuracy = accuracy_score(y_test, y_pred_best_1)\n",
    "report = classification_report(y_test, y_pred_best_1)\n",
    "conf_matrix = confusion_matrix(y_test, y_pred_best_1)\n",
    "\n",
    "print(\"Accuracy:\", accuracy)\n",
    "print(\"Classification Report:\\n\", report)\n",
    "print(\"Confusion Matrix:\\n\", conf_matrix)\n",
    "Final_accuracy_test['RM 1218 DL 128 ']=accuracy"
   ]
  },
  {
   "cell_type": "markdown",
   "id": "25ad97ed",
   "metadata": {},
   "source": [
    "200 Radiomics 128 DL Features"
   ]
  },
  {
   "cell_type": "code",
   "execution_count": null,
   "id": "f81e416a",
   "metadata": {},
   "outputs": [
    {
     "name": "stdout",
     "output_type": "stream",
     "text": [
      "Model parameters: {'bootstrap': True, 'ccp_alpha': 0.0, 'class_weight': None, 'criterion': 'gini', 'max_depth': None, 'max_features': 'sqrt', 'max_leaf_nodes': None, 'max_samples': None, 'min_impurity_decrease': 0.0, 'min_samples_leaf': 1, 'min_samples_split': 2, 'min_weight_fraction_leaf': 0.0, 'monotonic_cst': None, 'n_estimators': 200, 'n_jobs': None, 'oob_score': False, 'random_state': 42, 'verbose': 0, 'warm_start': False}\n",
      "Feature importances: [0.00269777 0.00221464 0.00125106 0.00135899 0.00188205 0.00114613\n",
      " 0.00320557 0.00193735 0.00040045 0.00164575 0.00258598 0.00293002\n",
      " 0.00195833 0.00376416 0.00162791 0.0027837  0.00185007 0.00309191\n",
      " 0.00199878 0.0025728  0.00131017 0.00240878 0.00209233 0.00192448\n",
      " 0.00143673 0.00260106 0.00099123 0.00192352 0.00110215 0.0019383\n",
      " 0.00306597 0.00167102 0.00264633 0.002371   0.00188078 0.00227863\n",
      " 0.00202573 0.00172574 0.00062935 0.00084306 0.00218243 0.00046191\n",
      " 0.00090851 0.00173884 0.00265845 0.001487   0.00096575 0.0020333\n",
      " 0.00202035 0.00152489 0.00168625 0.00148247 0.00245864 0.00337413\n",
      " 0.002034   0.00155034 0.00124039 0.00182989 0.00115615 0.00200202\n",
      " 0.00144245 0.00160194 0.00190162 0.00210765 0.00224286 0.0006604\n",
      " 0.00142101 0.00116663 0.002267   0.00207651 0.00029114 0.00123844\n",
      " 0.00145049 0.00115435 0.00194148 0.00197548 0.00152404 0.00266678\n",
      " 0.00204144 0.00255643 0.00269952 0.00164451 0.00190465 0.00187075\n",
      " 0.00210582 0.00174981 0.00166827 0.00176638 0.00209142 0.00192416\n",
      " 0.00102267 0.00291537 0.00146548 0.00182704 0.00138176 0.00240134\n",
      " 0.00126726 0.00223465 0.00133507 0.00242016 0.00117945 0.00075647\n",
      " 0.00260516 0.00160575 0.00080846 0.00214175 0.00164353 0.00124174\n",
      " 0.00167227 0.00390284 0.00271004 0.00166921 0.00240869 0.00203482\n",
      " 0.00088423 0.00125072 0.00112627 0.00254402 0.00194757 0.00207141\n",
      " 0.0015947  0.00234804 0.00342692 0.00255263 0.00109716 0.00255297\n",
      " 0.00255201 0.002186   0.002233   0.00286402 0.00194042 0.00225145\n",
      " 0.00276995 0.00149919 0.00198417 0.00184599 0.0013016  0.00173389\n",
      " 0.00184706 0.00201396 0.00192851 0.00306143 0.0016999  0.00150036\n",
      " 0.00319132 0.00223134 0.00129517 0.00098885 0.00121127 0.00193751\n",
      " 0.00147189 0.00196719 0.00138608 0.00416046 0.00212007 0.00151456\n",
      " 0.00183998 0.00194083 0.00210979 0.00139443 0.00194087 0.00220623\n",
      " 0.00160895 0.00172222 0.00145376 0.00215865 0.0010528  0.00153777\n",
      " 0.0022065  0.00210203 0.00221796 0.00250329 0.00241126 0.00035512\n",
      " 0.00167541 0.00261733 0.00171364 0.00146831 0.00232518 0.0019296\n",
      " 0.00194201 0.00049507 0.00091827 0.00300494 0.00107649 0.00163365\n",
      " 0.00266734 0.00225892 0.00186052 0.00207144 0.00160627 0.00093344\n",
      " 0.00259055 0.00114204 0.0029316  0.00137574 0.00282584 0.00161047\n",
      " 0.00217088 0.00102427 0.00724549 0.         0.         0.00338037\n",
      " 0.         0.03192319 0.         0.         0.         0.0057071\n",
      " 0.         0.         0.         0.         0.         0.\n",
      " 0.         0.         0.         0.         0.01938185 0.\n",
      " 0.         0.         0.         0.         0.         0.\n",
      " 0.         0.         0.02366559 0.         0.00466239 0.00381615\n",
      " 0.         0.04084568 0.00814171 0.         0.         0.\n",
      " 0.         0.         0.00279992 0.         0.         0.02984339\n",
      " 0.         0.00247728 0.         0.         0.00634707 0.\n",
      " 0.         0.         0.         0.00625699 0.         0.0398111\n",
      " 0.00068738 0.         0.         0.00457263 0.         0.00714798\n",
      " 0.         0.         0.         0.         0.00240721 0.\n",
      " 0.         0.02365701 0.         0.00234857 0.00830188 0.\n",
      " 0.         0.         0.00755409 0.         0.         0.03115602\n",
      " 0.         0.04207945 0.03122218 0.01677644 0.         0.\n",
      " 0.         0.         0.00353647 0.         0.         0.0025826\n",
      " 0.00545209 0.         0.         0.         0.         0.\n",
      " 0.         0.0074609  0.00039471 0.04452702 0.         0.03286675\n",
      " 0.04134807 0.00586244 0.         0.         0.         0.\n",
      " 0.00622449 0.         0.         0.         0.         0.\n",
      " 0.00616159 0.         0.         0.         0.02135486 0.\n",
      " 0.         0.         0.02752213 0.00340293]\n",
      "Number of features: 328\n",
      "Class labels: [0 1]\n",
      "Number of classes: 2\n"
     ]
    }
   ],
   "source": [
    "import joblib\n",
    "\n",
    "# Load the model\n",
    "model = joblib.load('./best_random_forest_model_200_128_features.pkl')  # or 'best_fuse_model.pkl'\n",
    "\n",
    "# Get model parameters\n",
    "params = model.get_params()\n",
    "print(\"Model parameters:\", params)\n",
    "\n",
    "# Get feature importances\n",
    "feature_importances = model.feature_importances_\n",
    "print(\"Feature importances:\", feature_importances)\n",
    "\n",
    "# Get number of features\n",
    "n_features = model.n_features_in_\n",
    "print(\"Number of features:\", n_features)\n",
    "\n",
    "# Get class labels\n",
    "classes = model.classes_\n",
    "print(\"Class labels:\", classes)\n",
    "\n",
    "# Get number of classes\n",
    "n_classes = model.n_classes_\n",
    "print(\"Number of classes:\", n_classes)"
   ]
  },
  {
   "cell_type": "code",
   "execution_count": null,
   "id": "ed673f25",
   "metadata": {},
   "outputs": [
    {
     "name": "stdout",
     "output_type": "stream",
     "text": [
      "[1 1 0 ... 0 0 0]\n"
     ]
    }
   ],
   "source": [
    "import pandas as pd\n",
    "import joblib\n",
    "\n",
    "# Load the saved model\n",
    "model = joblib.load('./best_random_forest_model_200_128_features.pkl')\n",
    "\n",
    "# Load the test dataset\n",
    "\n",
    "\n",
    "# Assuming you've already preprocessed your test data similarly to the training data\n",
    "X_test = test_df[RM_200_top_feature_names]\n",
    "# pd.concat([X_resampled_df, y_resampled_df], axis=1)\n",
    "X_test=pd.concat([X_test,predictions_df], axis=1)\n",
    "#scaler = StandardScaler()\n",
    "#X_test = scaler.fit_transform(X_test)\n",
    "# Make predictions on the test set\n",
    "y_pred_best_2 = model.predict(X_test)\n",
    "\n",
    "# Evaluate the performance of the model using appropriate metrics\n",
    "\n",
    "print(y_pred_best_2)"
   ]
  },
  {
   "cell_type": "code",
   "execution_count": null,
   "id": "f3680f77",
   "metadata": {},
   "outputs": [],
   "source": [
    "y_test_p=pd.DataFrame(y_pred_best_2)\n",
    "y_test_p['Image File']=test_df['Patient_id']\n",
    "Pr_file=f\"test_{current_date}_2.csv\"\n",
    "y_test_p.to_csv(Pr_file)"
   ]
  },
  {
   "cell_type": "code",
   "execution_count": null,
   "id": "c0dfdd97",
   "metadata": {},
   "outputs": [],
   "source": [
    "import pandas as pd\n",
    "\n",
    "# Read the CSV files\n",
    "try:\n",
    "    radiomics_df = pd.read_csv('./Radiomics_Feature.csv')\n",
    "    example_df = pd.read_csv(Pr_file)\n",
    "except FileNotFoundError as e:\n",
    "    print(f\"Error: {e}\")\n",
    "    exit()\n",
    "\n",
    "# Print the first few rows of the dataframes to check the structure\n",
    "\n",
    "\n",
    "# Merge the dataframes based on the patient_id and Image File columns\n",
    "try:\n",
    "    merged_df = pd.merge(example_df, radiomics_df, left_on='Image File', right_on='Patient_id', how='left')\n",
    "    #print(merged_df.head())\n",
    "except KeyError as e:\n",
    "    print(f\"Error: {e}\")\n",
    "    exit()\n",
    "\n",
    "# Select relevant columns, assuming you want to keep all columns from example_df and add Malignancy\n",
    "y_test = merged_df[['Malignancy']]"
   ]
  },
  {
   "cell_type": "code",
   "execution_count": null,
   "id": "ec53df38",
   "metadata": {},
   "outputs": [
    {
     "name": "stdout",
     "output_type": "stream",
     "text": [
      "Accuracy: 0.9892318736539842\n",
      "Classification Report:\n",
      "               precision    recall  f1-score   support\n",
      "\n",
      "           0       1.00      0.99      0.99      1047\n",
      "           1       0.96      0.99      0.98       346\n",
      "\n",
      "    accuracy                           0.99      1393\n",
      "   macro avg       0.98      0.99      0.99      1393\n",
      "weighted avg       0.99      0.99      0.99      1393\n",
      "\n",
      "Confusion Matrix:\n",
      " [[1034   13]\n",
      " [   2  344]]\n"
     ]
    }
   ],
   "source": [
    "from sklearn.metrics import accuracy_score, classification_report, confusion_matrix\n",
    "\n",
    "accuracy = accuracy_score(y_test, y_pred_best_2)\n",
    "report = classification_report(y_test, y_pred_best_2)\n",
    "conf_matrix = confusion_matrix(y_test, y_pred_best_2)\n",
    "\n",
    "print(\"Accuracy:\", accuracy)\n",
    "print(\"Classification Report:\\n\", report)\n",
    "print(\"Confusion Matrix:\\n\", conf_matrix)\n",
    "Final_accuracy_test['RM 200 DL 128']=accuracy"
   ]
  },
  {
   "cell_type": "markdown",
   "id": "07f106e2",
   "metadata": {},
   "source": [
    "100 Radiomics 128 Deep Learning Features"
   ]
  },
  {
   "cell_type": "code",
   "execution_count": null,
   "id": "7ae0f41a",
   "metadata": {},
   "outputs": [
    {
     "name": "stdout",
     "output_type": "stream",
     "text": [
      "Model parameters: {'bootstrap': True, 'ccp_alpha': 0.0, 'class_weight': None, 'criterion': 'gini', 'max_depth': None, 'max_features': 'sqrt', 'max_leaf_nodes': None, 'max_samples': None, 'min_impurity_decrease': 0.0, 'min_samples_leaf': 1, 'min_samples_split': 2, 'min_weight_fraction_leaf': 0.0, 'monotonic_cst': None, 'n_estimators': 200, 'n_jobs': None, 'oob_score': False, 'random_state': 42, 'verbose': 0, 'warm_start': False}\n",
      "Feature importances: [0.00359329 0.00426817 0.00270444 0.00327824 0.00382126 0.00206064\n",
      " 0.00388787 0.00404252 0.00128844 0.00330473 0.00316    0.00383753\n",
      " 0.00412288 0.00431761 0.00376185 0.00508408 0.00316806 0.0043387\n",
      " 0.0027176  0.00336338 0.00227986 0.0037379  0.00389827 0.00238013\n",
      " 0.00261058 0.00402904 0.00164374 0.00409571 0.00196284 0.00259741\n",
      " 0.00457616 0.00208836 0.00427607 0.00364313 0.00290521 0.00286358\n",
      " 0.0032412  0.00370283 0.00150572 0.00185258 0.00418614 0.00142707\n",
      " 0.00230045 0.00348852 0.00286723 0.00260409 0.00118851 0.00409241\n",
      " 0.00358837 0.00245849 0.00312008 0.00168802 0.00393982 0.00407875\n",
      " 0.00368724 0.00328565 0.00169451 0.00283798 0.0021219  0.00303767\n",
      " 0.00295864 0.00263553 0.00308282 0.00360182 0.00353647 0.00128734\n",
      " 0.00234794 0.00227704 0.00416288 0.00362658 0.0005499  0.00294315\n",
      " 0.00260395 0.00260955 0.00335714 0.00244398 0.00380921 0.00505078\n",
      " 0.00389153 0.00375915 0.00353065 0.00327126 0.00380408 0.00279042\n",
      " 0.00404852 0.00341158 0.00388931 0.0031032  0.00378685 0.00348172\n",
      " 0.00218704 0.0050789  0.00261858 0.00343953 0.0037355  0.00453604\n",
      " 0.00249616 0.0033969  0.00324449 0.0031425  0.00828158 0.\n",
      " 0.         0.00445703 0.         0.0240699  0.         0.\n",
      " 0.         0.00566729 0.         0.         0.         0.\n",
      " 0.         0.         0.         0.         0.         0.\n",
      " 0.01193798 0.         0.         0.         0.         0.\n",
      " 0.         0.         0.         0.         0.01761631 0.\n",
      " 0.00526134 0.00649777 0.         0.04726724 0.00515382 0.\n",
      " 0.         0.         0.         0.         0.00323718 0.\n",
      " 0.         0.04554965 0.         0.00291111 0.         0.\n",
      " 0.0086248  0.         0.         0.         0.         0.00445976\n",
      " 0.         0.04511415 0.00105043 0.         0.         0.00808384\n",
      " 0.         0.01222767 0.         0.         0.         0.\n",
      " 0.00306658 0.         0.         0.0221444  0.         0.00429491\n",
      " 0.01112403 0.         0.         0.         0.00750844 0.\n",
      " 0.         0.06291361 0.         0.04913394 0.03742887 0.02704403\n",
      " 0.         0.         0.         0.         0.00395146 0.\n",
      " 0.         0.00350992 0.00629701 0.         0.         0.\n",
      " 0.         0.         0.         0.00698465 0.00078458 0.03194385\n",
      " 0.         0.03060191 0.04204774 0.0071985  0.         0.\n",
      " 0.         0.         0.00867816 0.         0.         0.\n",
      " 0.         0.         0.00931754 0.         0.         0.\n",
      " 0.01327271 0.         0.         0.         0.02212221 0.00392898]\n",
      "Number of features: 228\n",
      "Class labels: [0 1]\n",
      "Number of classes: 2\n"
     ]
    }
   ],
   "source": [
    "import joblib\n",
    "\n",
    "# Load the model\n",
    "model = joblib.load('./best_random_forest_model_100_128_features.pkl')  # or 'best_fuse_model.pkl'\n",
    "\n",
    "# Get model parameters\n",
    "params = model.get_params()\n",
    "print(\"Model parameters:\", params)\n",
    "\n",
    "# Get feature importances\n",
    "feature_importances = model.feature_importances_\n",
    "print(\"Feature importances:\", feature_importances)\n",
    "\n",
    "# Get number of features\n",
    "n_features = model.n_features_in_\n",
    "print(\"Number of features:\", n_features)\n",
    "\n",
    "# Get class labels\n",
    "classes = model.classes_\n",
    "print(\"Class labels:\", classes)\n",
    "\n",
    "# Get number of classes\n",
    "n_classes = model.n_classes_\n",
    "print(\"Number of classes:\", n_classes)"
   ]
  },
  {
   "cell_type": "code",
   "execution_count": null,
   "id": "fb1dfea2",
   "metadata": {},
   "outputs": [
    {
     "name": "stdout",
     "output_type": "stream",
     "text": [
      "[1 1 0 ... 0 0 0]\n"
     ]
    }
   ],
   "source": [
    "import pandas as pd\n",
    "import joblib\n",
    "\n",
    "# Load the saved model\n",
    "model = joblib.load('./best_random_forest_model_100_128_features.pkl')\n",
    "\n",
    "# Load the test dataset\n",
    "\n",
    "\n",
    "# Assuming you've already preprocessed your test data similarly to the training data\n",
    "X_test = test_df[RM_100_top_feature_names]\n",
    "# pd.concat([X_resampled_df, y_resampled_df], axis=1)\n",
    "X_test=pd.concat([X_test,predictions_df], axis=1)\n",
    "#scaler = StandardScaler()\n",
    "#X_test = scaler.fit_transform(X_test)\n",
    "# Make predictions on the test set\n",
    "y_pred_best_3 = model.predict(X_test)\n",
    "\n",
    "# Evaluate the performance of the model using appropriate metrics\n",
    "\n",
    "print(y_pred_best_3)"
   ]
  },
  {
   "cell_type": "code",
   "execution_count": null,
   "id": "90756aa4",
   "metadata": {},
   "outputs": [],
   "source": [
    "y_test_p=pd.DataFrame(y_pred_best_3)\n",
    "y_test_p['Image File']=test_df['Patient_id']\n",
    "Pr_file=f\"test_{current_date}_3.csv\"\n",
    "y_test_p.to_csv(Pr_file)"
   ]
  },
  {
   "cell_type": "code",
   "execution_count": null,
   "id": "41c39473",
   "metadata": {},
   "outputs": [],
   "source": [
    "import pandas as pd\n",
    "\n",
    "# Read the CSV files\n",
    "try:\n",
    "    radiomics_df = pd.read_csv('./Radiomics_Feature.csv')\n",
    "    example_df = pd.read_csv(Pr_file)\n",
    "except FileNotFoundError as e:\n",
    "    print(f\"Error: {e}\")\n",
    "    exit()\n",
    "\n",
    "# Print the first few rows of the dataframes to check the structure\n",
    "\n",
    "\n",
    "# Merge the dataframes based on the patient_id and Image File columns\n",
    "try:\n",
    "    merged_df = pd.merge(example_df, radiomics_df, left_on='Image File', right_on='Patient_id', how='left')\n",
    "    #print(merged_df.head())\n",
    "except KeyError as e:\n",
    "    print(f\"Error: {e}\")\n",
    "    exit()\n",
    "\n",
    "# Select relevant columns, assuming you want to keep all columns from example_df and add Malignancy\n",
    "y_test = merged_df[['Malignancy']]"
   ]
  },
  {
   "cell_type": "code",
   "execution_count": null,
   "id": "3eaebb57",
   "metadata": {},
   "outputs": [
    {
     "name": "stdout",
     "output_type": "stream",
     "text": [
      "Accuracy: 0.9892318736539842\n",
      "Classification Report:\n",
      "               precision    recall  f1-score   support\n",
      "\n",
      "           0       1.00      0.99      0.99      1047\n",
      "           1       0.96      0.99      0.98       346\n",
      "\n",
      "    accuracy                           0.99      1393\n",
      "   macro avg       0.98      0.99      0.99      1393\n",
      "weighted avg       0.99      0.99      0.99      1393\n",
      "\n",
      "Confusion Matrix:\n",
      " [[1034   13]\n",
      " [   2  344]]\n"
     ]
    }
   ],
   "source": [
    "from sklearn.metrics import accuracy_score, classification_report, confusion_matrix\n",
    "\n",
    "accuracy = accuracy_score(y_test, y_pred_best_3)\n",
    "report = classification_report(y_test, y_pred_best_3)\n",
    "conf_matrix = confusion_matrix(y_test, y_pred_best_3)\n",
    "\n",
    "print(\"Accuracy:\", accuracy)\n",
    "print(\"Classification Report:\\n\", report)\n",
    "print(\"Confusion Matrix:\\n\", conf_matrix)\n",
    "Final_accuracy_test['RM 100 DL 128  Features']=accuracy"
   ]
  },
  {
   "cell_type": "markdown",
   "id": "ab24d3b5",
   "metadata": {},
   "source": [
    "Radiomics 1218 Deep Learning 20"
   ]
  },
  {
   "cell_type": "code",
   "execution_count": null,
   "id": "58b007ec",
   "metadata": {},
   "outputs": [
    {
     "name": "stdout",
     "output_type": "stream",
     "text": [
      "Model parameters: {'bootstrap': True, 'ccp_alpha': 0.0, 'class_weight': None, 'criterion': 'gini', 'max_depth': None, 'max_features': 'sqrt', 'max_leaf_nodes': None, 'max_samples': None, 'min_impurity_decrease': 0.0, 'min_samples_leaf': 1, 'min_samples_split': 2, 'min_weight_fraction_leaf': 0.0, 'monotonic_cst': None, 'n_estimators': 200, 'n_jobs': None, 'oob_score': False, 'random_state': 42, 'verbose': 0, 'warm_start': False}\n",
      "Feature importances: [0.00062298 0.00056297 0.00060632 ... 0.00402997 0.00568278 0.00348033]\n",
      "Number of features: 1238\n",
      "Class labels: [0 1]\n",
      "Number of classes: 2\n"
     ]
    }
   ],
   "source": [
    "import joblib\n",
    "\n",
    "# Load the model\n",
    "model = joblib.load('./best_random_forest_model_1218_20_features.pkl')  # or 'best_fuse_model.pkl'\n",
    "\n",
    "# Get model parameters\n",
    "params = model.get_params()\n",
    "print(\"Model parameters:\", params)\n",
    "\n",
    "# Get feature importances\n",
    "feature_importances = model.feature_importances_\n",
    "print(\"Feature importances:\", feature_importances)\n",
    "\n",
    "# Get number of features\n",
    "n_features = model.n_features_in_\n",
    "print(\"Number of features:\", n_features)\n",
    "\n",
    "# Get class labels\n",
    "classes = model.classes_\n",
    "print(\"Class labels:\", classes)\n",
    "\n",
    "# Get number of classes\n",
    "n_classes = model.n_classes_\n",
    "print(\"Number of classes:\", n_classes)"
   ]
  },
  {
   "cell_type": "code",
   "execution_count": null,
   "id": "e591d17a",
   "metadata": {},
   "outputs": [
    {
     "name": "stdout",
     "output_type": "stream",
     "text": [
      "[1 1 0 ... 0 0 0]\n"
     ]
    }
   ],
   "source": [
    "import pandas as pd\n",
    "import joblib\n",
    "\n",
    "# Load the saved model\n",
    "model = joblib.load('./best_random_forest_model_1218_20_features.pkl')\n",
    "\n",
    "# Load the test dataset\n",
    "\n",
    "\n",
    "# Assuming you've already preprocessed your test data similarly to the training data\n",
    "X_test = test_df.drop(columns=['Patient_id'])\n",
    "DL_20=predictions_df[DL_20_top_feature_names]\n",
    "# pd.concat([X_resampled_df, y_resampled_df], axis=1)\n",
    "X_test=pd.concat([X_test,DL_20], axis=1)\n",
    "#scaler = StandardScaler()\n",
    "#X_test = scaler.fit_transform(X_test)\n",
    "# Make predictions on the test set\n",
    "y_pred_best_4 = model.predict(X_test)\n",
    "\n",
    "# Evaluate the performance of the model using appropriate metrics\n",
    "\n",
    "print(y_pred_best_4)"
   ]
  },
  {
   "cell_type": "code",
   "execution_count": null,
   "id": "b52ec5ef",
   "metadata": {},
   "outputs": [],
   "source": [
    "y_test_p=pd.DataFrame(y_pred_best_4)\n",
    "y_test_p['Image File']=test_df['Patient_id']\n",
    "Pr_file=f\"test_{current_date}_4.csv\"\n",
    "y_test_p.to_csv(Pr_file)"
   ]
  },
  {
   "cell_type": "code",
   "execution_count": null,
   "id": "5c0ed96d",
   "metadata": {},
   "outputs": [],
   "source": [
    "import pandas as pd\n",
    "\n",
    "# Read the CSV files\n",
    "try:\n",
    "    radiomics_df = pd.read_csv('./Radiomics_Feature.csv')\n",
    "    example_df = pd.read_csv(Pr_file)\n",
    "except FileNotFoundError as e:\n",
    "    print(f\"Error: {e}\")\n",
    "    exit()\n",
    "\n",
    "# Print the first few rows of the dataframes to check the structure\n",
    "\n",
    "\n",
    "# Merge the dataframes based on the patient_id and Image File columns\n",
    "try:\n",
    "    merged_df = pd.merge(example_df, radiomics_df, left_on='Image File', right_on='Patient_id', how='left')\n",
    "    #print(merged_df.head())\n",
    "except KeyError as e:\n",
    "    print(f\"Error: {e}\")\n",
    "    exit()\n",
    "\n",
    "# Select relevant columns, assuming you want to keep all columns from example_df and add Malignancy\n",
    "y_test = merged_df[['Malignancy']]"
   ]
  },
  {
   "cell_type": "code",
   "execution_count": null,
   "id": "cd9a7bab",
   "metadata": {},
   "outputs": [
    {
     "name": "stdout",
     "output_type": "stream",
     "text": [
      "Accuracy: 0.9892318736539842\n",
      "Classification Report:\n",
      "               precision    recall  f1-score   support\n",
      "\n",
      "           0       0.99      0.99      0.99      1047\n",
      "           1       0.97      0.98      0.98       346\n",
      "\n",
      "    accuracy                           0.99      1393\n",
      "   macro avg       0.98      0.99      0.99      1393\n",
      "weighted avg       0.99      0.99      0.99      1393\n",
      "\n",
      "Confusion Matrix:\n",
      " [[1038    9]\n",
      " [   6  340]]\n"
     ]
    }
   ],
   "source": [
    "from sklearn.metrics import accuracy_score, classification_report, confusion_matrix\n",
    "\n",
    "accuracy = accuracy_score(y_test, y_pred_best_4)\n",
    "report = classification_report(y_test, y_pred_best_4)\n",
    "conf_matrix = confusion_matrix(y_test, y_pred_best_4)\n",
    "\n",
    "print(\"Accuracy:\", accuracy)\n",
    "print(\"Classification Report:\\n\", report)\n",
    "print(\"Confusion Matrix:\\n\", conf_matrix)\n",
    "Final_accuracy_test['RM 1218 DL 20  ']=accuracy"
   ]
  },
  {
   "cell_type": "markdown",
   "id": "5f7b3e5e",
   "metadata": {},
   "source": [
    "RM 1218 DL 10"
   ]
  },
  {
   "cell_type": "code",
   "execution_count": null,
   "id": "4dcd896c",
   "metadata": {},
   "outputs": [
    {
     "name": "stdout",
     "output_type": "stream",
     "text": [
      "Model parameters: {'bootstrap': True, 'ccp_alpha': 0.0, 'class_weight': None, 'criterion': 'gini', 'max_depth': None, 'max_features': 'sqrt', 'max_leaf_nodes': None, 'max_samples': None, 'min_impurity_decrease': 0.0, 'min_samples_leaf': 1, 'min_samples_split': 2, 'min_weight_fraction_leaf': 0.0, 'monotonic_cst': None, 'n_estimators': 200, 'n_jobs': None, 'oob_score': False, 'random_state': 42, 'verbose': 0, 'warm_start': False}\n",
      "Feature importances: [0.0007054  0.0005318  0.00139321 ... 0.03202034 0.03138232 0.03641458]\n",
      "Number of features: 1228\n",
      "Class labels: [0 1]\n",
      "Number of classes: 2\n"
     ]
    }
   ],
   "source": [
    "import joblib\n",
    "\n",
    "# Load the model\n",
    "model = joblib.load('./best_random_forest_model_1218_10_features.pkl')  # or 'best_fuse_model.pkl'\n",
    "\n",
    "# Get model parameters\n",
    "params = model.get_params()\n",
    "print(\"Model parameters:\", params)\n",
    "\n",
    "# Get feature importances\n",
    "feature_importances = model.feature_importances_\n",
    "print(\"Feature importances:\", feature_importances)\n",
    "\n",
    "# Get number of features\n",
    "n_features = model.n_features_in_\n",
    "print(\"Number of features:\", n_features)\n",
    "\n",
    "# Get class labels\n",
    "classes = model.classes_\n",
    "print(\"Class labels:\", classes)\n",
    "\n",
    "# Get number of classes\n",
    "n_classes = model.n_classes_\n",
    "print(\"Number of classes:\", n_classes)"
   ]
  },
  {
   "cell_type": "code",
   "execution_count": null,
   "id": "fd843b91",
   "metadata": {},
   "outputs": [
    {
     "name": "stdout",
     "output_type": "stream",
     "text": [
      "[1 1 0 ... 0 0 0]\n"
     ]
    }
   ],
   "source": [
    "import pandas as pd\n",
    "import joblib\n",
    "\n",
    "# Load the saved model\n",
    "model = joblib.load('./best_random_forest_model_1218_10_features.pkl')\n",
    "\n",
    "# Load the test dataset\n",
    "\n",
    "\n",
    "# Assuming you've already preprocessed your test data similarly to the training data\n",
    "X_test = test_df.drop(columns=['Patient_id'])\n",
    "DL_10=predictions_df[DL_10_top_feature_names]\n",
    "# pd.concat([X_resampled_df, y_resampled_df], axis=1)\n",
    "X_test=pd.concat([X_test,DL_10], axis=1)\n",
    "#scaler = StandardScaler()\n",
    "#X_test = scaler.fit_transform(X_test)\n",
    "# Make predictions on the test set\n",
    "y_pred_best_5 = model.predict(X_test)\n",
    "\n",
    "# Evaluate the performance of the model using appropriate metrics\n",
    "\n",
    "print(y_pred_best_5)"
   ]
  },
  {
   "cell_type": "code",
   "execution_count": null,
   "id": "28984c50",
   "metadata": {},
   "outputs": [],
   "source": [
    "y_test_p=pd.DataFrame(y_pred_best_5)\n",
    "y_test_p['Image File']=test_df['Patient_id']\n",
    "Pr_file=f\"test_{current_date}_5.csv\"\n",
    "y_test_p.to_csv(Pr_file)"
   ]
  },
  {
   "cell_type": "code",
   "execution_count": null,
   "id": "8fd1df0c",
   "metadata": {},
   "outputs": [],
   "source": [
    "import pandas as pd\n",
    "\n",
    "# Read the CSV files\n",
    "try:\n",
    "    radiomics_df = pd.read_csv('./Radiomics_Feature.csv')\n",
    "    example_df = pd.read_csv(Pr_file)\n",
    "except FileNotFoundError as e:\n",
    "    print(f\"Error: {e}\")\n",
    "    exit()\n",
    "\n",
    "# Print the first few rows of the dataframes to check the structure\n",
    "\n",
    "\n",
    "# Merge the dataframes based on the patient_id and Image File columns\n",
    "try:\n",
    "    merged_df = pd.merge(example_df, radiomics_df, left_on='Image File', right_on='Patient_id', how='left')\n",
    "    #print(merged_df.head())\n",
    "except KeyError as e:\n",
    "    print(f\"Error: {e}\")\n",
    "    exit()\n",
    "\n",
    "# Select relevant columns, assuming you want to keep all columns from example_df and add Malignancy\n",
    "y_test = merged_df[['Malignancy']]"
   ]
  },
  {
   "cell_type": "code",
   "execution_count": null,
   "id": "c6571e62",
   "metadata": {},
   "outputs": [
    {
     "name": "stdout",
     "output_type": "stream",
     "text": [
      "Accuracy: 0.9913854989231874\n",
      "Classification Report:\n",
      "               precision    recall  f1-score   support\n",
      "\n",
      "           0       1.00      0.99      0.99      1047\n",
      "           1       0.98      0.99      0.98       346\n",
      "\n",
      "    accuracy                           0.99      1393\n",
      "   macro avg       0.99      0.99      0.99      1393\n",
      "weighted avg       0.99      0.99      0.99      1393\n",
      "\n",
      "Confusion Matrix:\n",
      " [[1040    7]\n",
      " [   5  341]]\n"
     ]
    }
   ],
   "source": [
    "from sklearn.metrics import accuracy_score, classification_report, confusion_matrix\n",
    "\n",
    "accuracy = accuracy_score(y_test, y_pred_best_5)\n",
    "report = classification_report(y_test, y_pred_best_5)\n",
    "conf_matrix = confusion_matrix(y_test, y_pred_best_5)\n",
    "\n",
    "print(\"Accuracy:\", accuracy)\n",
    "print(\"Classification Report:\\n\", report)\n",
    "print(\"Confusion Matrix:\\n\", conf_matrix)\n",
    "Final_accuracy_test['RM 1218 DL 10  ']=accuracy"
   ]
  },
  {
   "cell_type": "code",
   "execution_count": null,
   "id": "7b9172a7",
   "metadata": {},
   "outputs": [
    {
     "name": "stdout",
     "output_type": "stream",
     "text": [
      "Model parameters: {'bootstrap': True, 'ccp_alpha': 0.0, 'class_weight': None, 'criterion': 'gini', 'max_depth': None, 'max_features': 'sqrt', 'max_leaf_nodes': None, 'max_samples': None, 'min_impurity_decrease': 0.0, 'min_samples_leaf': 1, 'min_samples_split': 2, 'min_weight_fraction_leaf': 0.0, 'monotonic_cst': None, 'n_estimators': 200, 'n_jobs': None, 'oob_score': False, 'random_state': 42, 'verbose': 0, 'warm_start': False}\n",
      "Feature importances: [0.00211879 0.00195542 0.00101851 0.00129414 0.00233817 0.00131009\n",
      " 0.00344111 0.00204617 0.00092242 0.00202131 0.00194747 0.00277271\n",
      " 0.00248445 0.00433188 0.00253117 0.003012   0.00191828 0.00362049\n",
      " 0.00203161 0.00279796 0.00121585 0.0028013  0.002639   0.00188499\n",
      " 0.0017557  0.00391351 0.00117331 0.00306788 0.00096046 0.00180898\n",
      " 0.00395127 0.0023889  0.00270721 0.00216951 0.00200078 0.00262913\n",
      " 0.00197262 0.00226088 0.00081953 0.00145593 0.00311569 0.00061221\n",
      " 0.00146067 0.00168953 0.00143864 0.00154727 0.00121257 0.00206079\n",
      " 0.00324282 0.00137023 0.00186797 0.00129269 0.00266577 0.00372459\n",
      " 0.00311181 0.00210225 0.0014065  0.00181394 0.00128076 0.00158072\n",
      " 0.00199671 0.00173249 0.00215034 0.00328453 0.00251045 0.00100318\n",
      " 0.00140427 0.00122122 0.00267792 0.002964   0.00045601 0.00203501\n",
      " 0.00182928 0.0019956  0.00248205 0.00191934 0.00211344 0.0025876\n",
      " 0.00185618 0.00210933 0.00187066 0.00190346 0.00202562 0.00139919\n",
      " 0.00304409 0.0023015  0.00199006 0.00212039 0.00287809 0.00290027\n",
      " 0.00215647 0.00378215 0.00133435 0.00234803 0.00229064 0.0027248\n",
      " 0.00164206 0.00246645 0.00103083 0.00232911 0.00107489 0.00068674\n",
      " 0.0027561  0.00148873 0.00129232 0.00173838 0.00135295 0.00134244\n",
      " 0.00148551 0.00481545 0.00377575 0.00213162 0.00165436 0.00163748\n",
      " 0.00153052 0.00175478 0.0016371  0.00314074 0.00268446 0.00195129\n",
      " 0.00175827 0.00365904 0.00363582 0.00344408 0.00284401 0.00208023\n",
      " 0.0029556  0.00267852 0.00207053 0.00436718 0.00233141 0.00227342\n",
      " 0.00271655 0.00145114 0.0019482  0.0026933  0.00178357 0.00234898\n",
      " 0.00182689 0.00254005 0.00133147 0.00236753 0.00210954 0.0019637\n",
      " 0.00290585 0.00323273 0.0014039  0.00135253 0.0026917  0.0014806\n",
      " 0.00186991 0.00145395 0.00138426 0.00349992 0.00210361 0.00226301\n",
      " 0.0022378  0.00208387 0.00172121 0.00168327 0.00243447 0.00262372\n",
      " 0.00217483 0.00238732 0.0022806  0.00254105 0.00103675 0.00108433\n",
      " 0.00295396 0.00241197 0.00265349 0.0029044  0.00281911 0.00049109\n",
      " 0.00288746 0.00348017 0.00227381 0.00154653 0.00325579 0.00142668\n",
      " 0.0015962  0.00073914 0.00158122 0.00293154 0.00060435 0.00170304\n",
      " 0.00267632 0.00246538 0.00272689 0.0018842  0.00181061 0.00191217\n",
      " 0.00294094 0.00140883 0.00300973 0.00163    0.00301301 0.0018328\n",
      " 0.00190902 0.00116908 0.03539259 0.04788311 0.02969829 0.04525195\n",
      " 0.02260986 0.04376868 0.02902225 0.02654444 0.02601381 0.04546671\n",
      " 0.04461993 0.01888988 0.02530023 0.04624304 0.02632552 0.01227893\n",
      " 0.0173353  0.00994753 0.00791675 0.00884499]\n",
      "Number of features: 220\n",
      "Class labels: [0 1]\n",
      "Number of classes: 2\n"
     ]
    }
   ],
   "source": [
    "import joblib\n",
    "\n",
    "# Load the model\n",
    "model = joblib.load('./best_random_forest_model_200_20_features.pkl')  # or 'best_fuse_model.pkl'\n",
    "\n",
    "# Get model parameters\n",
    "params = model.get_params()\n",
    "print(\"Model parameters:\", params)\n",
    "\n",
    "# Get feature importances\n",
    "feature_importances = model.feature_importances_\n",
    "print(\"Feature importances:\", feature_importances)\n",
    "\n",
    "# Get number of features\n",
    "n_features = model.n_features_in_\n",
    "print(\"Number of features:\", n_features)\n",
    "\n",
    "# Get class labels\n",
    "classes = model.classes_\n",
    "print(\"Class labels:\", classes)\n",
    "\n",
    "# Get number of classes\n",
    "n_classes = model.n_classes_\n",
    "print(\"Number of classes:\", n_classes)"
   ]
  },
  {
   "cell_type": "code",
   "execution_count": null,
   "id": "b44a835b",
   "metadata": {},
   "outputs": [
    {
     "name": "stdout",
     "output_type": "stream",
     "text": [
      "[1 1 0 ... 0 0 0]\n"
     ]
    }
   ],
   "source": [
    "import pandas as pd\n",
    "import joblib\n",
    "\n",
    "# Load the saved model\n",
    "model = joblib.load('./best_random_forest_model_200_20_features.pkl')\n",
    "\n",
    "# Load the test dataset\n",
    "\n",
    "\n",
    "# Assuming you've already preprocessed your test data similarly to the training data\n",
    "X_200 = test_df[RM_200_top_feature_names]\n",
    "DL_20=predictions_df[DL_20_top_feature_names]\n",
    "# pd.concat([X_resampled_df, y_resampled_df], axis=1)\n",
    "X_test=pd.concat([X_200,DL_20], axis=1)\n",
    "#scaler = StandardScaler()\n",
    "#X_test = scaler.fit_transform(X_test)\n",
    "# Make predictions on the test set\n",
    "y_pred_best_6 = model.predict(X_test)\n",
    "\n",
    "# Evaluate the performance of the model using appropriate metrics\n",
    "\n",
    "print(y_pred_best_6)"
   ]
  },
  {
   "cell_type": "code",
   "execution_count": null,
   "id": "cb5d2145",
   "metadata": {},
   "outputs": [],
   "source": [
    "y_test_p=pd.DataFrame(y_pred_best_6)\n",
    "y_test_p['Image File']=test_df['Patient_id']\n",
    "Pr_file=f\"test_{current_date}_6.csv\"\n",
    "y_test_p.to_csv(Pr_file)"
   ]
  },
  {
   "cell_type": "code",
   "execution_count": null,
   "id": "e5a8dc82",
   "metadata": {},
   "outputs": [],
   "source": [
    "import pandas as pd\n",
    "\n",
    "# Read the CSV files\n",
    "try:\n",
    "    radiomics_df = pd.read_csv('./Radiomics_Feature.csv')\n",
    "    example_df = pd.read_csv(Pr_file)\n",
    "except FileNotFoundError as e:\n",
    "    print(f\"Error: {e}\")\n",
    "    exit()\n",
    "\n",
    "# Print the first few rows of the dataframes to check the structure\n",
    "\n",
    "\n",
    "# Merge the dataframes based on the patient_id and Image File columns\n",
    "try:\n",
    "    merged_df = pd.merge(example_df, radiomics_df, left_on='Image File', right_on='Patient_id', how='left')\n",
    "    #print(merged_df.head())\n",
    "except KeyError as e:\n",
    "    print(f\"Error: {e}\")\n",
    "    exit()\n",
    "\n",
    "# Select relevant columns, assuming you want to keep all columns from example_df and add Malignancy\n",
    "y_test = merged_df[['Malignancy']]"
   ]
  },
  {
   "cell_type": "code",
   "execution_count": null,
   "id": "c2f493f6",
   "metadata": {},
   "outputs": [
    {
     "name": "stdout",
     "output_type": "stream",
     "text": [
      "Accuracy: 0.9892318736539842\n",
      "Classification Report:\n",
      "               precision    recall  f1-score   support\n",
      "\n",
      "           0       1.00      0.99      0.99      1047\n",
      "           1       0.96      0.99      0.98       346\n",
      "\n",
      "    accuracy                           0.99      1393\n",
      "   macro avg       0.98      0.99      0.99      1393\n",
      "weighted avg       0.99      0.99      0.99      1393\n",
      "\n",
      "Confusion Matrix:\n",
      " [[1034   13]\n",
      " [   2  344]]\n"
     ]
    }
   ],
   "source": [
    "from sklearn.metrics import accuracy_score, classification_report, confusion_matrix\n",
    "\n",
    "accuracy = accuracy_score(y_test, y_pred_best_6)\n",
    "report = classification_report(y_test, y_pred_best_6)\n",
    "conf_matrix = confusion_matrix(y_test, y_pred_best_6)\n",
    "\n",
    "print(\"Accuracy:\", accuracy)\n",
    "print(\"Classification Report:\\n\", report)\n",
    "print(\"Confusion Matrix:\\n\", conf_matrix)\n",
    "Final_accuracy_test['RM 200 DL 20  ']=accuracy"
   ]
  },
  {
   "cell_type": "code",
   "execution_count": null,
   "id": "5d18a46c",
   "metadata": {},
   "outputs": [
    {
     "name": "stdout",
     "output_type": "stream",
     "text": [
      "Model parameters: {'bootstrap': True, 'ccp_alpha': 0.0, 'class_weight': None, 'criterion': 'gini', 'max_depth': None, 'max_features': 'sqrt', 'max_leaf_nodes': None, 'max_samples': None, 'min_impurity_decrease': 0.0, 'min_samples_leaf': 1, 'min_samples_split': 2, 'min_weight_fraction_leaf': 0.0, 'monotonic_cst': None, 'n_estimators': 200, 'n_jobs': None, 'oob_score': False, 'random_state': 42, 'verbose': 0, 'warm_start': False}\n",
      "Feature importances: [0.00287864 0.00522295 0.00160662 0.00193957 0.00316132 0.00198286\n",
      " 0.00289952 0.00245234 0.00126518 0.0021951  0.00311288 0.00379148\n",
      " 0.0034861  0.00476821 0.00310015 0.00401512 0.00174484 0.00373156\n",
      " 0.00260674 0.00385522 0.0020706  0.00347672 0.00247764 0.00125198\n",
      " 0.0017442  0.00373818 0.00116573 0.00321905 0.00143923 0.00271211\n",
      " 0.00357117 0.00205093 0.00357415 0.002513   0.00269319 0.00344806\n",
      " 0.00232856 0.00305423 0.00110134 0.00172163 0.00345983 0.00117847\n",
      " 0.00181655 0.00228063 0.00226505 0.00206452 0.00111994 0.00298697\n",
      " 0.00397863 0.00188894 0.00226102 0.00177437 0.00330276 0.00380369\n",
      " 0.00362519 0.00215129 0.00158081 0.00250842 0.00176942 0.00260312\n",
      " 0.00320159 0.00161526 0.00215682 0.00266409 0.00346608 0.00129143\n",
      " 0.0021457  0.00166332 0.00275497 0.00314619 0.00048985 0.00238226\n",
      " 0.00155412 0.00206475 0.00171335 0.00181225 0.00175915 0.00347467\n",
      " 0.0029365  0.00309149 0.00252441 0.0023521  0.00284954 0.00183102\n",
      " 0.00285986 0.00306941 0.00217829 0.00207338 0.00313136 0.0028136\n",
      " 0.00194534 0.00455623 0.00170428 0.00244622 0.00233064 0.00322455\n",
      " 0.00172958 0.0025204  0.00228615 0.00316591 0.00140643 0.00078595\n",
      " 0.00285332 0.00297524 0.00190205 0.00260826 0.00182768 0.00141451\n",
      " 0.00231855 0.00495798 0.00429137 0.00235933 0.0025632  0.00236455\n",
      " 0.00202104 0.00285756 0.00163203 0.00271277 0.00277573 0.00342599\n",
      " 0.00216568 0.00302559 0.00366892 0.00310855 0.00257977 0.00227137\n",
      " 0.0030189  0.00274584 0.00191718 0.00520757 0.00276494 0.00317395\n",
      " 0.0023392  0.00182082 0.00227157 0.00250058 0.00229946 0.0026953\n",
      " 0.00195257 0.00246541 0.00388734 0.00330106 0.00239606 0.0020663\n",
      " 0.00321815 0.00330642 0.00155346 0.00143739 0.0027199  0.00214137\n",
      " 0.00199814 0.00233131 0.00107505 0.00398515 0.0032662  0.00229768\n",
      " 0.00255244 0.00242446 0.00276499 0.00140774 0.00268748 0.00304578\n",
      " 0.00193034 0.00320477 0.00232095 0.0033962  0.00126094 0.00210289\n",
      " 0.00366962 0.00285217 0.00335092 0.00350605 0.00309022 0.00100819\n",
      " 0.0022418  0.00344201 0.00241137 0.00208959 0.0028678  0.00218926\n",
      " 0.00188778 0.00084126 0.00208223 0.00395458 0.00111194 0.0017916\n",
      " 0.00320117 0.00245062 0.00324424 0.00312789 0.00193702 0.00150974\n",
      " 0.00308032 0.00182623 0.00274032 0.00248887 0.00336883 0.00218546\n",
      " 0.00205533 0.00125793 0.05297516 0.05800236 0.04333117 0.08055505\n",
      " 0.03629309 0.04429062 0.04250914 0.03914378 0.04006495 0.0552818 ]\n",
      "Number of features: 210\n",
      "Class labels: [0 1]\n",
      "Number of classes: 2\n"
     ]
    }
   ],
   "source": [
    "import joblib\n",
    "\n",
    "# Load the model\n",
    "model = joblib.load('./best_random_forest_model_200_10_features.pkl')  # or 'best_fuse_model.pkl'\n",
    "\n",
    "# Get model parameters\n",
    "params = model.get_params()\n",
    "print(\"Model parameters:\", params)\n",
    "\n",
    "# Get feature importances\n",
    "feature_importances = model.feature_importances_\n",
    "print(\"Feature importances:\", feature_importances)\n",
    "\n",
    "# Get number of features\n",
    "n_features = model.n_features_in_\n",
    "print(\"Number of features:\", n_features)\n",
    "\n",
    "# Get class labels\n",
    "classes = model.classes_\n",
    "print(\"Class labels:\", classes)\n",
    "\n",
    "# Get number of classes\n",
    "n_classes = model.n_classes_\n",
    "print(\"Number of classes:\", n_classes)"
   ]
  },
  {
   "cell_type": "code",
   "execution_count": null,
   "id": "384399fd",
   "metadata": {},
   "outputs": [
    {
     "name": "stdout",
     "output_type": "stream",
     "text": [
      "[1 1 0 ... 0 0 0]\n"
     ]
    }
   ],
   "source": [
    "import pandas as pd\n",
    "import joblib\n",
    "\n",
    "# Load the saved model\n",
    "model = joblib.load('./best_random_forest_model_200_10_features.pkl')\n",
    "\n",
    "# Load the test dataset\n",
    "\n",
    "\n",
    "# Assuming you've already preprocessed your test data similarly to the training data\n",
    "X_200 = test_df[RM_200_top_feature_names]\n",
    "DL_10=predictions_df[DL_10_top_feature_names]\n",
    "# pd.concat([X_resampled_df, y_resampled_df], axis=1)\n",
    "X_test=pd.concat([X_200,DL_10], axis=1)\n",
    "#scaler = StandardScaler()\n",
    "#X_test = scaler.fit_transform(X_test)\n",
    "# Make predictions on the test set\n",
    "y_pred_best_7 = model.predict(X_test)\n",
    "\n",
    "# Evaluate the performance of the model using appropriate metrics\n",
    "\n",
    "print(y_pred_best_7)"
   ]
  },
  {
   "cell_type": "code",
   "execution_count": null,
   "id": "7b738937",
   "metadata": {},
   "outputs": [],
   "source": [
    "y_test_p=pd.DataFrame(y_pred_best_7)\n",
    "y_test_p['Image File']=test_df['Patient_id']\n",
    "Pr_file=f\"test_{current_date}_7.csv\"\n",
    "y_test_p.to_csv(Pr_file)"
   ]
  },
  {
   "cell_type": "code",
   "execution_count": null,
   "id": "8528f321",
   "metadata": {},
   "outputs": [],
   "source": [
    "import pandas as pd\n",
    "\n",
    "# Read the CSV files\n",
    "try:\n",
    "    radiomics_df = pd.read_csv('./Radiomics_Feature.csv')\n",
    "    example_df = pd.read_csv(Pr_file)\n",
    "except FileNotFoundError as e:\n",
    "    print(f\"Error: {e}\")\n",
    "    exit()\n",
    "\n",
    "# Print the first few rows of the dataframes to check the structure\n",
    "\n",
    "\n",
    "# Merge the dataframes based on the patient_id and Image File columns\n",
    "try:\n",
    "    merged_df = pd.merge(example_df, radiomics_df, left_on='Image File', right_on='Patient_id', how='left')\n",
    "    #print(merged_df.head())\n",
    "except KeyError as e:\n",
    "    print(f\"Error: {e}\")\n",
    "    exit()\n",
    "\n",
    "# Select relevant columns, assuming you want to keep all columns from example_df and add Malignancy\n",
    "y_test = merged_df[['Malignancy']]"
   ]
  },
  {
   "cell_type": "code",
   "execution_count": null,
   "id": "a6d83955",
   "metadata": {},
   "outputs": [
    {
     "name": "stdout",
     "output_type": "stream",
     "text": [
      "Accuracy: 0.9892318736539842\n",
      "Classification Report:\n",
      "               precision    recall  f1-score   support\n",
      "\n",
      "           0       1.00      0.99      0.99      1047\n",
      "           1       0.96      0.99      0.98       346\n",
      "\n",
      "    accuracy                           0.99      1393\n",
      "   macro avg       0.98      0.99      0.99      1393\n",
      "weighted avg       0.99      0.99      0.99      1393\n",
      "\n",
      "Confusion Matrix:\n",
      " [[1034   13]\n",
      " [   2  344]]\n"
     ]
    }
   ],
   "source": [
    "from sklearn.metrics import accuracy_score, classification_report, confusion_matrix\n",
    "\n",
    "accuracy = accuracy_score(y_test, y_pred_best_7)\n",
    "report = classification_report(y_test, y_pred_best_7)\n",
    "conf_matrix = confusion_matrix(y_test, y_pred_best_7)\n",
    "\n",
    "print(\"Accuracy:\", accuracy)\n",
    "print(\"Classification Report:\\n\", report)\n",
    "print(\"Confusion Matrix:\\n\", conf_matrix)\n",
    "Final_accuracy_test['RM 200 DL 10  ']=accuracy"
   ]
  },
  {
   "cell_type": "code",
   "execution_count": null,
   "id": "7d065834",
   "metadata": {},
   "outputs": [
    {
     "data": {
      "image/png": "[encoded data removed]",
      "text/plain": [
       "<Figure size 576x432 with 1 Axes>"
      ]
     },
     "metadata": {
      "needs_background": "light"
     },
     "output_type": "display_data"
    }
   ],
   "source": [
    "data = Final_accuracy_test\n",
    "\n",
    "# Extract model names and corresponding accuracies for each scenario\n",
    "# Plotting\n",
    "plt.figure(figsize=(8, 6))\n",
    "bars = plt.bar(data.keys(), data.values(), color='skyblue')\n",
    "plt.xlabel('Number of Features')\n",
    "plt.ylabel('Accuracy')\n",
    "plt.title('Accuracy Comparison of Fusion Model with Seperate Training Set')\n",
    "plt.ylim(0.6, 1.1)  # Set y-axis limits for better visualization\n",
    "plt.grid(axis='y', linestyle='--', alpha=0.7)\n",
    "plt.xticks(rotation=45)  # Rotate x-axis labels for better readability\n",
    "\n",
    "# Adding labels to the bars\n",
    "for bar in bars:\n",
    "    yval = bar.get_height()\n",
    "    plt.text(bar.get_x() + bar.get_width()/2, yval + 0.001, round(yval, 4), ha='center', va='bottom')\n",
    "\n",
    "plt.tight_layout()\n",
    "plt.show()"
   ]
  },
  {
   "cell_type": "code",
   "execution_count": null,
   "id": "a513fe22",
   "metadata": {},
   "outputs": [],
   "source": []
  }
 ],
 "metadata": {
  "kernelspec": {
   "display_name": "Python 3 (ipykernel)",
   "language": "python",
   "name": "python3"
  },
  "language_info": {
   "codemirror_mode": {
    "name": "ipython",
    "version": 3
   },
   "file_extension": ".py",
   "mimetype": "text/x-python",
   "name": "python",
   "nbconvert_exporter": "python",
   "pygments_lexer": "ipython3",
   "version": "3.10.2"
  }
 },
 "nbformat": 4,
 "nbformat_minor": 5
}
