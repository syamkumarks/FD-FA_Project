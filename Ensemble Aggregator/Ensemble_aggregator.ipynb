{
 "cells": [
  {
   "cell_type": "code",
   "execution_count": 91,
   "metadata": {},
   "outputs": [],
   "source": [
    "import pandas as pd\n",
    "import numpy as np\n",
    "import matplotlib.pyplot as plt\n",
    "import seaborn as sns\n",
    "from sklearn.model_selection import cross_val_score\n",
    "from sklearn.ensemble import RandomForestClassifier\n",
    "from sklearn.decomposition import PCA\n",
    "from sklearn.preprocessing import StandardScaler\n",
    "from sklearn.model_selection import train_test_split\n",
    "from sklearn.linear_model import LogisticRegression\n",
    "from sklearn.tree import DecisionTreeClassifier\n",
    "from sklearn.ensemble import RandomForestClassifier, GradientBoostingClassifier\n",
    "from sklearn.svm import SVC\n",
    "from sklearn.neighbors import KNeighborsClassifier\n",
    "from sklearn.naive_bayes import GaussianNB\n",
    "from sklearn.discriminant_analysis import LinearDiscriminantAnalysis\n",
    "from sklearn.neural_network import MLPClassifier\n",
    "from sklearn.metrics import accuracy_score\n",
    "from sklearn.metrics import classification_report, confusion_matrix\n",
    "from sklearn.metrics import accuracy_score,roc_curve,recall_score,roc_auc_score,auc,confusion_matrix,cohen_kappa_score, f1_score, precision_score,matthews_corrcoef \n",
    "from tqdm import tqdm\n",
    "from sklearn.svm import SVC,LinearSVC\n",
    "from sklearn.model_selection import StratifiedKFold\n",
    "from sklearn.feature_selection import SelectPercentile, f_classif, chi2, SelectFromModel, SelectKBest\n",
    "from sklearn.feature_selection import RFE\n",
    "from sklearn.preprocessing import MinMaxScaler\n",
    "import scipy.stats as stats\n",
    "from sklearn.svm import SVC\n",
    "from sklearn.model_selection import GridSearchCV, train_test_split\n",
    "from sklearn.metrics import accuracy_score\n",
    "\n",
    "# Optional imports for preprocessing and visualization\n",
    "from sklearn.preprocessing import StandardScaler\n",
    "import matplotlib.pyplot as plt\n",
    "import os\n",
    "\n",
    "import SimpleITK as sitk\n",
    "import numpy as np\n",
    "from radiomics import featureextractor,imageoperations\n",
    "import os\n",
    "import pandas as pd\n",
    "from pandas import DataFrame as DF\n",
    "import warnings\n",
    "import time\n",
    "from time import sleep\n",
    "from tqdm import tqdm\n",
    "from skimage import measure"
   ]
  },
  {
   "cell_type": "code",
   "execution_count": 92,
   "metadata": {},
   "outputs": [
    {
     "data": {
      "text/plain": [
       "['Test_Files\\\\LIDC-IDRI-0007',\n",
       " 'Test_Files\\\\LIDC-IDRI-0151',\n",
       " 'Test_Files\\\\LIDC-IDRI-0269',\n",
       " 'Test_Files\\\\LIDC-IDRI-0423',\n",
       " 'Test_Files\\\\LIDC-IDRI-0640',\n",
       " 'Test_Files\\\\LIDC-IDRI-0712',\n",
       " 'Test_Files\\\\LIDC-IDRI-0726',\n",
       " 'Test_Files\\\\LIDC-IDRI-0863',\n",
       " 'Test_Files\\\\LIDC-IDRI-0932',\n",
       " 'Test_Files\\\\LIDC-IDRI-0966']"
      ]
     },
     "execution_count": 92,
     "metadata": {},
     "output_type": "execute_result"
    }
   ],
   "source": [
    "Data_Path= r'Test_Files'\n",
    "error_file=\"Error_list_radiomics.txt\"\n",
    "Test_patients = [os.path.join(Data_Path,name) for name in os.listdir(Data_Path) if os.path.isdir(os.path.join(Data_Path, name))]\n",
    "Test_patients = sorted(Test_patients)\n",
    "Test_patients"
   ]
  },
  {
   "cell_type": "code",
   "execution_count": 93,
   "metadata": {},
   "outputs": [],
   "source": [
    "def Extract_Features(image,mask,params_path):\n",
    "    paramsFile = os.path.abspath(params_path)\n",
    "    extractor = featureextractor.RadiomicsFeatureExtractor(paramsFile)\n",
    "    result = extractor.execute(image, mask)\n",
    "    general_info = {'diagnostics_Configuration_EnabledImageTypes','diagnostics_Configuration_Settings',\n",
    "                    'diagnostics_Image-interpolated_Maximum','diagnostics_Image-interpolated_Mean',\n",
    "                    'diagnostics_Image-interpolated_Minimum','diagnostics_Image-interpolated_Size',\n",
    "                    'diagnostics_Image-interpolated_Spacing','diagnostics_Image-original_Hash',\n",
    "                    'diagnostics_Image-original_Maximum','diagnostics_Image-original_Mean',\n",
    "                    'diagnostics_Image-original_Minimum','diagnostics_Image-original_Size',\n",
    "                    'diagnostics_Image-original_Spacing','diagnostics_Mask-interpolated_BoundingBox',\n",
    "                    'diagnostics_Mask-interpolated_CenterOfMass','diagnostics_Mask-interpolated_CenterOfMassIndex',\n",
    "                    'diagnostics_Mask-interpolated_Maximum','diagnostics_Mask-interpolated_Mean',\n",
    "                    'diagnostics_Mask-interpolated_Minimum','diagnostics_Mask-interpolated_Size',\n",
    "                    'diagnostics_Mask-interpolated_Spacing','diagnostics_Mask-interpolated_VolumeNum',\n",
    "                    'diagnostics_Mask-interpolated_VoxelNum','diagnostics_Mask-original_BoundingBox',\n",
    "                    'diagnostics_Mask-original_CenterOfMass','diagnostics_Mask-original_CenterOfMassIndex',\n",
    "                    'diagnostics_Mask-original_Hash','diagnostics_Mask-original_Size',\n",
    "                    'diagnostics_Mask-original_Spacing','diagnostics_Mask-original_VolumeNum',\n",
    "                    'diagnostics_Mask-original_VoxelNum','diagnostics_Versions_Numpy',\n",
    "                    'diagnostics_Versions_PyRadiomics','diagnostics_Versions_PyWavelet',\n",
    "                    'diagnostics_Versions_Python','diagnostics_Versions_SimpleITK',\n",
    "                    'diagnostics_Image-original_Dimensionality'}\n",
    "    features = dict((key, value) for key, value in result.items() if key not in general_info)\n",
    "    feature_info = dict((key, value) for key, value in result.items() if key in general_info)\n",
    "    return features,feature_info"
   ]
  },
  {
   "cell_type": "code",
   "execution_count": 94,
   "metadata": {},
   "outputs": [
    {
     "name": "stderr",
     "output_type": "stream",
     "text": [
      "  0%|          | 0/10 [00:00<?, ?it/s]"
     ]
    },
    {
     "name": "stdout",
     "output_type": "stream",
     "text": [
      "LIDC-IDRI-0007\n"
     ]
    },
    {
     "name": "stderr",
     "output_type": "stream",
     "text": [
      " 10%|█         | 1/10 [00:01<00:14,  1.65s/it]"
     ]
    },
    {
     "name": "stdout",
     "output_type": "stream",
     "text": [
      "LIDC-IDRI-0151\n"
     ]
    },
    {
     "name": "stderr",
     "output_type": "stream",
     "text": [
      " 20%|██        | 2/10 [00:02<00:08,  1.02s/it]"
     ]
    },
    {
     "name": "stdout",
     "output_type": "stream",
     "text": [
      "LIDC-IDRI-0269\n"
     ]
    },
    {
     "name": "stderr",
     "output_type": "stream",
     "text": [
      " 30%|███       | 3/10 [00:02<00:05,  1.22it/s]"
     ]
    },
    {
     "name": "stdout",
     "output_type": "stream",
     "text": [
      "LIDC-IDRI-0423\n"
     ]
    },
    {
     "name": "stderr",
     "output_type": "stream",
     "text": [
      " 40%|████      | 4/10 [00:03<00:04,  1.28it/s]"
     ]
    },
    {
     "name": "stdout",
     "output_type": "stream",
     "text": [
      "LIDC-IDRI-0640\n"
     ]
    },
    {
     "name": "stderr",
     "output_type": "stream",
     "text": [
      " 50%|█████     | 5/10 [00:05<00:05,  1.09s/it]"
     ]
    },
    {
     "name": "stdout",
     "output_type": "stream",
     "text": [
      "LIDC-IDRI-0712\n"
     ]
    },
    {
     "name": "stderr",
     "output_type": "stream",
     "text": [
      " 60%|██████    | 6/10 [00:06<00:04,  1.24s/it]"
     ]
    },
    {
     "name": "stdout",
     "output_type": "stream",
     "text": [
      "LIDC-IDRI-0726\n"
     ]
    },
    {
     "name": "stderr",
     "output_type": "stream",
     "text": [
      " 70%|███████   | 7/10 [00:07<00:03,  1.01s/it]"
     ]
    },
    {
     "name": "stdout",
     "output_type": "stream",
     "text": [
      "LIDC-IDRI-0863\n"
     ]
    },
    {
     "name": "stderr",
     "output_type": "stream",
     "text": [
      " 80%|████████  | 8/10 [00:08<00:02,  1.06s/it]"
     ]
    },
    {
     "name": "stdout",
     "output_type": "stream",
     "text": [
      "LIDC-IDRI-0932\n"
     ]
    },
    {
     "name": "stderr",
     "output_type": "stream",
     "text": [
      " 90%|█████████ | 9/10 [00:08<00:00,  1.11it/s]"
     ]
    },
    {
     "name": "stdout",
     "output_type": "stream",
     "text": [
      "LIDC-IDRI-0966\n"
     ]
    },
    {
     "name": "stderr",
     "output_type": "stream",
     "text": [
      "100%|██████████| 10/10 [00:10<00:00,  1.06s/it]\n"
     ]
    }
   ],
   "source": [
    "Feature = []\n",
    "test_patients = [os.path.join(Data_Path,name) for name in os.listdir(Data_Path) if os.path.isdir(os.path.join(Data_Path, name))]\n",
    "test_patients = sorted(test_patients)    \n",
    "for patients in tqdm(test_patients):\n",
    "        #sleep(0.01)\n",
    "        print(patients[-14:])\n",
    "        dcm_File = patients[-14:]\n",
    "        count=(len([entry for entry in os.listdir(patients) if os.path.isfile(os.path.join(patients, entry))]))\n",
    "        try:\n",
    "\n",
    "            for i in range(1,int(count/2)+1):\n",
    "                roi_path = Data_Path+'/'+dcm_File+\"/\"+dcm_File+'_'+str(i)+'_roi.npy'\n",
    "                img=np.load(roi_path)\n",
    "                ROI = sitk.GetImageFromArray(img)\n",
    "            \n",
    "                mask_path = Data_Path+'/'+dcm_File+\"/\"+dcm_File+'_'+str(i)+'_label.npy'\n",
    "                msk=np.load(mask_path)\n",
    "                Mask = sitk.GetImageFromArray(msk)\n",
    "            \n",
    "                features, feature_info = Extract_Features(ROI, Mask, 'params.yaml')\n",
    "                features['Patient_id']=dcm_File+'_'+str(i)+'_roi.npy'\n",
    "                Feature.append(features)\n",
    "        except Exception as Error:\n",
    "            with open('Error_list_radiomics.txt', 'a') as error_file:\n",
    "                error_file.write(f\"Error: {dcm_File}:{str(Error)}\\n\")\n",
    "                print(\"Error: \"+dcm_File+\":\"+str(Error)+\"\\n\")\n",
    "            continue\n",
    "    \n",
    "df = DF(Feature).fillna('0')\n",
    "df.to_csv(f\"RM_features_Test.csv\", index=False,sep=',')"
   ]
  },
  {
   "cell_type": "code",
   "execution_count": 95,
   "metadata": {},
   "outputs": [],
   "source": [
    "RM_RF_model_200_features=['wavelet-LHL_glrlm_GrayLevelNonUniformity', 'log-sigma-1-0-mm-3D_gldm_DependenceNonUniformity', 'log-sigma-4-0-mm-3D_gldm_LargeDependenceEmphasis', 'log-sigma-3-0-mm-3D_firstorder_TotalEnergy', 'log-sigma-4-0-mm-3D_glszm_HighGrayLevelZoneEmphasis', 'wavelet-HHH_glrlm_RunVariance', 'log-sigma-4-0-mm-3D_glrlm_LongRunHighGrayLevelEmphasis', 'log-sigma-5-0-mm-3D_firstorder_Median', 'original_glrlm_RunEntropy', 'log-sigma-5-0-mm-3D_firstorder_Skewness', 'log-sigma-3-0-mm-3D_gldm_LargeDependenceEmphasis', 'log-sigma-5-0-mm-3D_firstorder_InterquartileRange', 'log-sigma-1-0-mm-3D_firstorder_MeanAbsoluteDeviation', 'log-sigma-1-0-mm-3D_firstorder_Energy', 'log-sigma-2-0-mm-3D_gldm_GrayLevelNonUniformity', 'log-sigma-3-0-mm-3D_gldm_DependenceNonUniformityNormalized', 'wavelet-LHL_glcm_DifferenceAverage', 'log-sigma-5-0-mm-3D_gldm_LargeDependenceEmphasis', 'log-sigma-4-0-mm-3D_firstorder_Skewness', 'log-sigma-5-0-mm-3D_firstorder_10Percentile', 'log-sigma-2-0-mm-3D_glrlm_RunLengthNonUniformity', 'log-sigma-4-0-mm-3D_firstorder_Kurtosis', 'log-sigma-2-0-mm-3D_glrlm_RunEntropy', 'log-sigma-2-0-mm-3D_firstorder_Range', 'log-sigma-3-0-mm-3D_firstorder_Minimum', 'log-sigma-4-0-mm-3D_gldm_DependenceNonUniformityNormalized', 'log-sigma-3-0-mm-3D_firstorder_Skewness', 'log-sigma-2-0-mm-3D_firstorder_MeanAbsoluteDeviation', 'log-sigma-4-0-mm-3D_firstorder_MeanAbsoluteDeviation', 'original_glrlm_RunLengthNonUniformity', 'original_glrlm_GrayLevelNonUniformity', 'log-sigma-2-0-mm-3D_firstorder_InterquartileRange', 'wavelet-LHL_glcm_Contrast', 'log-sigma-1-0-mm-3D_glrlm_RunEntropy', 'log-sigma-5-0-mm-3D_firstorder_Kurtosis', 'log-sigma-4-0-mm-3D_glrlm_RunEntropy', 'wavelet-LLH_glrlm_GrayLevelNonUniformity', 'original_shape_VoxelVolume', 'log-sigma-2-0-mm-3D_glrlm_LongRunLowGrayLevelEmphasis', 'log-sigma-5-0-mm-3D_glrlm_RunVariance', 'original_glrlm_RunVariance', 'log-sigma-4-0-mm-3D_firstorder_InterquartileRange', 'wavelet-LLL_firstorder_Minimum', 'wavelet-LHL_glcm_Id', 'original_shape_Elongation', 'log-sigma-2-0-mm-3D_firstorder_Variance', 'log-sigma-5-0-mm-3D_firstorder_Variance', 'log-sigma-3-0-mm-3D_glcm_Idn', 'wavelet-HLL_gldm_DependenceNonUniformity', 'log-sigma-5-0-mm-3D_glrlm_LongRunEmphasis', 'log-sigma-3-0-mm-3D_glszm_SizeZoneNonUniformityNormalized', 'wavelet-HHH_glrlm_LongRunEmphasis', 'log-sigma-1-0-mm-3D_firstorder_Range', 'log-sigma-3-0-mm-3D_glszm_ZoneEntropy', 'wavelet-LHL_firstorder_TotalEnergy', 'log-sigma-3-0-mm-3D_glrlm_RunLengthNonUniformity', 'log-sigma-1-0-mm-3D_firstorder_TotalEnergy', 'wavelet-HLL_firstorder_RobustMeanAbsoluteDeviation', 'log-sigma-5-0-mm-3D_glrlm_RunLengthNonUniformityNormalized', 'log-sigma-2-0-mm-3D_firstorder_RootMeanSquared', 'wavelet-LHL_glrlm_ShortRunLowGrayLevelEmphasis', 'wavelet-LLH_firstorder_TotalEnergy', 'wavelet-HHH_gldm_DependenceNonUniformity', 'log-sigma-3-0-mm-3D_firstorder_InterquartileRange', 'wavelet-LLH_glcm_DifferenceAverage', 'log-sigma-5-0-mm-3D_glrlm_LongRunHighGrayLevelEmphasis', 'wavelet-LLL_firstorder_10Percentile', 'original_firstorder_10Percentile', 'log-sigma-5-0-mm-3D_gldm_SmallDependenceLowGrayLevelEmphasis', 'log-sigma-1-0-mm-3D_glrlm_LongRunHighGrayLevelEmphasis', 'wavelet-LLL_glrlm_RunLengthNonUniformity', 'log-sigma-3-0-mm-3D_glrlm_LongRunEmphasis', 'log-sigma-4-0-mm-3D_firstorder_Maximum', 'log-sigma-5-0-mm-3D_firstorder_Entropy', 'log-sigma-5-0-mm-3D_firstorder_Maximum', 'log-sigma-5-0-mm-3D_glrlm_RunLengthNonUniformity', 'log-sigma-1-0-mm-3D_firstorder_Kurtosis', 'log-sigma-1-0-mm-3D_firstorder_RobustMeanAbsoluteDeviation', 'log-sigma-5-0-mm-3D_gldm_LargeDependenceHighGrayLevelEmphasis', 'log-sigma-1-0-mm-3D_firstorder_InterquartileRange', 'log-sigma-4-0-mm-3D_glszm_ZonePercentage', 'wavelet-LLH_glcm_Idn', 'original_glrlm_ShortRunEmphasis', 'log-sigma-1-0-mm-3D_firstorder_Variance', 'log-sigma-1-0-mm-3D_firstorder_Skewness', 'log-sigma-3-0-mm-3D_firstorder_10Percentile', 'log-sigma-5-0-mm-3D_glszm_GrayLevelNonUniformityNormalized', 'log-sigma-1-0-mm-3D_gldm_LargeDependenceHighGrayLevelEmphasis', 'log-sigma-2-0-mm-3D_gldm_DependenceNonUniformity', 'wavelet-LLH_firstorder_10Percentile', 'log-sigma-3-0-mm-3D_firstorder_RobustMeanAbsoluteDeviation', 'wavelet-LHL_glcm_Idmn', 'log-sigma-5-0-mm-3D_glcm_ClusterTendency', 'log-sigma-3-0-mm-3D_glrlm_RunEntropy', 'wavelet-LLH_firstorder_Maximum', 'log-sigma-1-0-mm-3D_firstorder_10Percentile', 'original_shape_MinorAxisLength', 'log-sigma-3-0-mm-3D_glcm_ClusterShade', 'log-sigma-5-0-mm-3D_firstorder_Range', 'log-sigma-5-0-mm-3D_glcm_Id', 'log-sigma-5-0-mm-3D_firstorder_Minimum', 'wavelet-LLL_gldm_DependenceVariance', 'log-sigma-4-0-mm-3D_glszm_GrayLevelNonUniformityNormalized', 'original_glcm_ClusterTendency', 'log-sigma-4-0-mm-3D_glcm_ClusterShade', 'original_glcm_JointEntropy', 'log-sigma-4-0-mm-3D_firstorder_Range', 'log-sigma-5-0-mm-3D_glrlm_LongRunLowGrayLevelEmphasis', 'log-sigma-5-0-mm-3D_glcm_Imc2', 'log-sigma-5-0-mm-3D_firstorder_RobustMeanAbsoluteDeviation', 'original_shape_Flatness', 'log-sigma-2-0-mm-3D_firstorder_RobustMeanAbsoluteDeviation', 'wavelet-LHL_glcm_Idn', 'log-sigma-5-0-mm-3D_glrlm_RunEntropy', 'log-sigma-2-0-mm-3D_firstorder_Maximum', 'log-sigma-5-0-mm-3D_firstorder_Mean', 'log-sigma-2-0-mm-3D_firstorder_Median', 'log-sigma-4-0-mm-3D_glszm_GrayLevelNonUniformity', 'wavelet-LLL_gldm_DependenceNonUniformityNormalized', 'log-sigma-4-0-mm-3D_glszm_SmallAreaEmphasis', 'original_shape_Maximum2DDiameterColumn', 'log-sigma-1-0-mm-3D_firstorder_RootMeanSquared', 'log-sigma-2-0-mm-3D_glszm_SmallAreaHighGrayLevelEmphasis', 'wavelet-LLL_firstorder_90Percentile', 'log-sigma-4-0-mm-3D_glcm_Idmn', 'log-sigma-1-0-mm-3D_gldm_GrayLevelVariance', 'log-sigma-2-0-mm-3D_glcm_JointEntropy', 'wavelet-LHL_glrlm_RunLengthNonUniformity', 'log-sigma-3-0-mm-3D_glcm_Imc1', 'log-sigma-2-0-mm-3D_firstorder_Minimum', 'log-sigma-5-0-mm-3D_firstorder_RootMeanSquared', 'log-sigma-5-0-mm-3D_firstorder_TotalEnergy', 'log-sigma-5-0-mm-3D_glszm_GrayLevelVariance', 'log-sigma-1-0-mm-3D_firstorder_Maximum', 'log-sigma-3-0-mm-3D_glcm_DifferenceVariance', 'log-sigma-4-0-mm-3D_glcm_Idn', 'log-sigma-2-0-mm-3D_gldm_DependenceVariance', 'log-sigma-3-0-mm-3D_firstorder_Mean', 'log-sigma-3-0-mm-3D_glcm_Imc2', 'log-sigma-5-0-mm-3D_gldm_SmallDependenceHighGrayLevelEmphasis', 'log-sigma-5-0-mm-3D_gldm_DependenceNonUniformityNormalized', 'wavelet-HLL_firstorder_10Percentile', 'log-sigma-3-0-mm-3D_gldm_DependenceVariance', 'log-sigma-4-0-mm-3D_glszm_LargeAreaHighGrayLevelEmphasis', 'log-sigma-5-0-mm-3D_firstorder_MeanAbsoluteDeviation', 'wavelet-HLL_glcm_SumSquares', 'log-sigma-2-0-mm-3D_glcm_DifferenceAverage', 'log-sigma-3-0-mm-3D_gldm_LargeDependenceHighGrayLevelEmphasis', 'wavelet-LLH_firstorder_Minimum', 'wavelet-HLL_firstorder_Minimum', 'log-sigma-1-0-mm-3D_firstorder_Entropy', 'log-sigma-3-0-mm-3D_glcm_DifferenceEntropy', 'log-sigma-1-0-mm-3D_glrlm_GrayLevelVariance', 'wavelet-LLL_glrlm_LongRunEmphasis', 'log-sigma-4-0-mm-3D_glszm_SmallAreaHighGrayLevelEmphasis', 'wavelet-LLL_firstorder_Kurtosis', 'log-sigma-4-0-mm-3D_glrlm_LongRunLowGrayLevelEmphasis', 'wavelet-LHL_glcm_Idm', 'log-sigma-5-0-mm-3D_glrlm_GrayLevelNonUniformityNormalized', 'original_firstorder_Minimum', 'log-sigma-3-0-mm-3D_firstorder_Kurtosis', 'original_firstorder_Variance', 'wavelet-HHL_gldm_GrayLevelNonUniformity', 'wavelet-LHL_glcm_Correlation', 'log-sigma-1-0-mm-3D_firstorder_Minimum', 'wavelet-LLL_gldm_LargeDependenceHighGrayLevelEmphasis', 'log-sigma-4-0-mm-3D_firstorder_Uniformity', 'log-sigma-1-0-mm-3D_glrlm_ShortRunLowGrayLevelEmphasis', 'wavelet-LHL_glcm_SumSquares', 'wavelet-LLH_glcm_Idm', 'wavelet-LLH_glcm_InverseVariance', 'wavelet-HLL_firstorder_MeanAbsoluteDeviation', 'original_firstorder_Energy', 'log-sigma-1-0-mm-3D_glcm_SumEntropy', 'wavelet-LLL_glcm_Imc2', 'log-sigma-1-0-mm-3D_glcm_Imc1', 'original_firstorder_Mean', 'log-sigma-5-0-mm-3D_glcm_ClusterProminence', 'log-sigma-5-0-mm-3D_glcm_Imc1', 'wavelet-HHH_firstorder_TotalEnergy', 'wavelet-LLL_firstorder_Variance', 'log-sigma-4-0-mm-3D_glcm_InverseVariance', 'log-sigma-4-0-mm-3D_firstorder_10Percentile', 'wavelet-LLH_glcm_Imc1', 'log-sigma-2-0-mm-3D_glszm_LargeAreaLowGrayLevelEmphasis', 'wavelet-HHL_glrlm_LongRunLowGrayLevelEmphasis', 'log-sigma-2-0-mm-3D_glcm_Correlation', 'log-sigma-2-0-mm-3D_glrlm_RunPercentage', 'log-sigma-4-0-mm-3D_firstorder_Minimum', 'original_firstorder_Range', 'log-sigma-1-0-mm-3D_gldm_GrayLevelNonUniformity', 'log-sigma-3-0-mm-3D_firstorder_MeanAbsoluteDeviation', 'wavelet-LLH_glcm_Correlation', 'log-sigma-2-0-mm-3D_gldm_SmallDependenceEmphasis', 'log-sigma-4-0-mm-3D_gldm_DependenceNonUniformity', 'log-sigma-3-0-mm-3D_firstorder_RootMeanSquared', 'log-sigma-2-0-mm-3D_firstorder_Energy', 'log-sigma-4-0-mm-3D_glrlm_RunPercentage', 'log-sigma-4-0-mm-3D_glcm_JointEnergy', 'log-sigma-4-0-mm-3D_firstorder_RobustMeanAbsoluteDeviation']\n",
    "RM_RF_model_100_features=RM_RF_model_200_features[:100]\n"
   ]
  },
  {
   "cell_type": "code",
   "execution_count": 96,
   "metadata": {},
   "outputs": [],
   "source": [
    "Test_DF=pd.read_csv(\"./RM_features_Test.csv\")\n",
    "scaler = StandardScaler()\n",
    "\n",
    "X_1218=Test_DF.drop('Patient_id', axis=1)\n",
    "#X_test = scaler.fit_transform(X_1218)\n",
    "#X_1218=X_test\n",
    "X_200=Test_DF[RM_RF_model_200_features]\n",
    "X_100=Test_DF[RM_RF_model_100_features]"
   ]
  },
  {
   "cell_type": "code",
   "execution_count": 97,
   "metadata": {},
   "outputs": [],
   "source": [
    "import joblib\n",
    "models={\n",
    " \n",
    "    }"
   ]
  },
  {
   "cell_type": "code",
   "execution_count": null,
   "metadata": {},
   "outputs": [],
   "source": []
  },
  {
   "cell_type": "code",
   "execution_count": 98,
   "metadata": {},
   "outputs": [
    {
     "name": "stdout",
     "output_type": "stream",
     "text": [
      "['LIDC-IDRI-0007', '1', 'label.npy']\n",
      "['LIDC-IDRI-0007', '1', 'roi.npy']\n",
      "Copied: LIDC-IDRI-0007_1_roi.npy from ./Test_Files\\LIDC-IDRI-0007\\LIDC-IDRI-0007_1_roi.npy to ./ROI_ny_files\\LIDC-IDRI-0007_1_roi.npy\n",
      "['LIDC-IDRI-0151', '1', 'label.npy']\n",
      "['LIDC-IDRI-0151', '1', 'roi.npy']\n",
      "Copied: LIDC-IDRI-0151_1_roi.npy from ./Test_Files\\LIDC-IDRI-0151\\LIDC-IDRI-0151_1_roi.npy to ./ROI_ny_files\\LIDC-IDRI-0151_1_roi.npy\n",
      "['LIDC-IDRI-0269', '1', 'label.npy']\n",
      "['LIDC-IDRI-0269', '1', 'roi.npy']\n",
      "Copied: LIDC-IDRI-0269_1_roi.npy from ./Test_Files\\LIDC-IDRI-0269\\LIDC-IDRI-0269_1_roi.npy to ./ROI_ny_files\\LIDC-IDRI-0269_1_roi.npy\n",
      "['LIDC-IDRI-0423', '1', 'label.npy']\n",
      "['LIDC-IDRI-0423', '1', 'roi.npy']\n",
      "Copied: LIDC-IDRI-0423_1_roi.npy from ./Test_Files\\LIDC-IDRI-0423\\LIDC-IDRI-0423_1_roi.npy to ./ROI_ny_files\\LIDC-IDRI-0423_1_roi.npy\n",
      "['LIDC-IDRI-0640', '1', 'label.npy']\n",
      "['LIDC-IDRI-0640', '1', 'roi.npy']\n",
      "Copied: LIDC-IDRI-0640_1_roi.npy from ./Test_Files\\LIDC-IDRI-0640\\LIDC-IDRI-0640_1_roi.npy to ./ROI_ny_files\\LIDC-IDRI-0640_1_roi.npy\n",
      "['LIDC-IDRI-0640', '2', 'label.npy']\n",
      "['LIDC-IDRI-0640', '2', 'roi.npy']\n",
      "Copied: LIDC-IDRI-0640_2_roi.npy from ./Test_Files\\LIDC-IDRI-0640\\LIDC-IDRI-0640_2_roi.npy to ./ROI_ny_files\\LIDC-IDRI-0640_2_roi.npy\n",
      "['LIDC-IDRI-0712', '1', 'label.npy']\n",
      "['LIDC-IDRI-0712', '1', 'roi.npy']\n",
      "Copied: LIDC-IDRI-0712_1_roi.npy from ./Test_Files\\LIDC-IDRI-0712\\LIDC-IDRI-0712_1_roi.npy to ./ROI_ny_files\\LIDC-IDRI-0712_1_roi.npy\n",
      "['LIDC-IDRI-0712', '2', 'label.npy']\n",
      "['LIDC-IDRI-0712', '2', 'roi.npy']\n",
      "Copied: LIDC-IDRI-0712_2_roi.npy from ./Test_Files\\LIDC-IDRI-0712\\LIDC-IDRI-0712_2_roi.npy to ./ROI_ny_files\\LIDC-IDRI-0712_2_roi.npy\n",
      "['LIDC-IDRI-0726', '1', 'label.npy']\n",
      "['LIDC-IDRI-0726', '1', 'roi.npy']\n",
      "Copied: LIDC-IDRI-0726_1_roi.npy from ./Test_Files\\LIDC-IDRI-0726\\LIDC-IDRI-0726_1_roi.npy to ./ROI_ny_files\\LIDC-IDRI-0726_1_roi.npy\n",
      "['LIDC-IDRI-0863', '1', 'label.npy']\n",
      "['LIDC-IDRI-0863', '1', 'roi.npy']\n",
      "Copied: LIDC-IDRI-0863_1_roi.npy from ./Test_Files\\LIDC-IDRI-0863\\LIDC-IDRI-0863_1_roi.npy to ./ROI_ny_files\\LIDC-IDRI-0863_1_roi.npy\n",
      "['LIDC-IDRI-0863', '2', 'label.npy']\n",
      "['LIDC-IDRI-0863', '2', 'roi.npy']\n",
      "Copied: LIDC-IDRI-0863_2_roi.npy from ./Test_Files\\LIDC-IDRI-0863\\LIDC-IDRI-0863_2_roi.npy to ./ROI_ny_files\\LIDC-IDRI-0863_2_roi.npy\n",
      "['LIDC-IDRI-0932', '1', 'label.npy']\n",
      "['LIDC-IDRI-0932', '1', 'roi.npy']\n",
      "Copied: LIDC-IDRI-0932_1_roi.npy from ./Test_Files\\LIDC-IDRI-0932\\LIDC-IDRI-0932_1_roi.npy to ./ROI_ny_files\\LIDC-IDRI-0932_1_roi.npy\n",
      "['LIDC-IDRI-0966', '1', 'label.npy']\n",
      "['LIDC-IDRI-0966', '1', 'roi.npy']\n",
      "Copied: LIDC-IDRI-0966_1_roi.npy from ./Test_Files\\LIDC-IDRI-0966\\LIDC-IDRI-0966_1_roi.npy to ./ROI_ny_files\\LIDC-IDRI-0966_1_roi.npy\n",
      "['LIDC-IDRI-0966', '2', 'label.npy']\n",
      "['LIDC-IDRI-0966', '2', 'roi.npy']\n",
      "Copied: LIDC-IDRI-0966_2_roi.npy from ./Test_Files\\LIDC-IDRI-0966\\LIDC-IDRI-0966_2_roi.npy to ./ROI_ny_files\\LIDC-IDRI-0966_2_roi.npy\n",
      "['LIDC-IDRI-0966', '3', 'label.npy']\n",
      "['LIDC-IDRI-0966', '3', 'roi.npy']\n",
      "Copied: LIDC-IDRI-0966_3_roi.npy from ./Test_Files\\LIDC-IDRI-0966\\LIDC-IDRI-0966_3_roi.npy to ./ROI_ny_files\\LIDC-IDRI-0966_3_roi.npy\n"
     ]
    }
   ],
   "source": [
    "import os\n",
    "import shutil\n",
    "import csv\n",
    "\n",
    "def copy_files_with_suffix(source_dir, destination_dir_image,  image_suffix):\n",
    "    # Ensure the destination directory exists\n",
    "    os.makedirs(destination_dir_image, exist_ok=True)\n",
    "    \n",
    "    # Iterate through all files in the source directory\n",
    "    for root, dirs, files in os.walk(source_dir):\n",
    "        for file in files:\n",
    "            # Check if the file name ends with the specified suffix\n",
    "            print(file.split(\"_\"))\n",
    "            if file[-8:]==image_suffix:\n",
    "                source_image_path = os.path.join(root, file)\n",
    "                destination_image_path = os.path.join(destination_dir_image, file)\n",
    "                # Copy the file to the destination directory\n",
    "                shutil.copy2(source_image_path, destination_image_path)\n",
    "                print(f\"Copied: {file} from {source_image_path} to {destination_image_path}\")\n",
    "               \n",
    "            \n",
    "\n",
    "# Replace these paths and pattern with your actual values\n",
    "source_directory = './Test_Files'\n",
    "destination_directory_image = './ROI_ny_files'\n",
    "\n",
    "image_name_suffix = '_roi.npy'\n",
    "\n",
    "\n",
    "copy_files_with_suffix(source_directory, destination_directory_image, image_name_suffix)"
   ]
  },
  {
   "cell_type": "code",
   "execution_count": 99,
   "metadata": {},
   "outputs": [
    {
     "name": "stdout",
     "output_type": "stream",
     "text": [
      "WARNING:tensorflow:No training configuration found in the save file, so the model was *not* compiled. Compile it manually.\n",
      "1/1 [==============================] - 3s 3s/step\n"
     ]
    }
   ],
   "source": [
    "import tensorflow as tf\n",
    "import os\n",
    "from tensorflow.keras.models import load_model\n",
    "import numpy as np\n",
    "from sklearn.metrics import accuracy_score, f1_score, confusion_matrix\n",
    "\n",
    "# Load the model\n",
    "model = load_model('feature_extractor_model_27-05-2024_128.h5')\n",
    "\n",
    "# Load or prepare your test data (replace this with your actual test data)\n",
    "# X_test = ... \n",
    "# y_test = ...\n",
    "train_data_path = r'./ROI_ny_files'\n",
    "train_patients = [name for name in os.listdir(train_data_path) if os.path.isfile(os.path.join(train_data_path, name))]\n",
    "file_list = sorted(train_patients)\n",
    "data = [np.expand_dims(np.load(f'{train_data_path}/{file}'), axis=-1) for file in file_list]\n",
    "X_test = np.array(data)\n",
    "# Ensure X_test is a NumPy array\n",
    "# X_test = np.array(X_test)\n",
    "\n",
    "# Make predictions\n",
    "predictions = model.predict(X_test)\n",
    "\n",
    "predictions_df = pd.DataFrame(predictions)\n",
    "\n",
    "# Save to CSV\n",
    "predictions_df.to_csv('Deep_Learning_Test', index=False)\n",
    "# For a classification model, you might need to convert predictions to class labels\n",
    "\n"
   ]
  },
  {
   "cell_type": "code",
   "execution_count": 100,
   "metadata": {},
   "outputs": [],
   "source": [
    "predictions_df=pd.read_csv('Deep_Learning_Test')"
   ]
  },
  {
   "cell_type": "code",
   "execution_count": 101,
   "metadata": {},
   "outputs": [],
   "source": [
    "DL_20_top_feature_names=['85', '105', '63', '118', '84', '20', '30', '32', '45', '127', '83', '107', '36', '5', '61', '103', '35', '106', '57', '81']\n",
    "DL_10_top_feature_names=['85', '105', '63', '118', '84', '20', '30', '32', '45', '127']\n",
    "\n",
    "RM_200_top_feature_names=['log-sigma-5-0-mm-3D_firstorder_Range', 'wavelet-HLH_firstorder_TotalEnergy', 'log-sigma-2-0-mm-3D_glrlm_RunEntropy', 'original_shape_Maximum2DDiameterColumn', 'log-sigma-5-0-mm-3D_glrlm_RunVariance', 'log-sigma-4-0-mm-3D_firstorder_Skewness', 'wavelet-LLH_glrlm_ShortRunHighGrayLevelEmphasis', 'wavelet-LHL_gldm_DependenceNonUniformity', 'log-sigma-5-0-mm-3D_firstorder_InterquartileRange', 'original_shape_LeastAxisLength', 'log-sigma-3-0-mm-3D_firstorder_TotalEnergy', 'log-sigma-5-0-mm-3D_firstorder_MeanAbsoluteDeviation', 'log-sigma-3-0-mm-3D_glszm_LowGrayLevelZoneEmphasis', 'wavelet-LLH_firstorder_TotalEnergy', 'log-sigma-3-0-mm-3D_firstorder_Range', 'original_glrlm_GrayLevelNonUniformity', 'log-sigma-2-0-mm-3D_firstorder_TotalEnergy', 'wavelet-LHL_firstorder_TotalEnergy', 'log-sigma-2-0-mm-3D_gldm_LargeDependenceEmphasis', 'original_glrlm_RunEntropy', 'log-sigma-4-0-mm-3D_firstorder_RootMeanSquared', 'wavelet-LHL_glcm_DifferenceEntropy', 'wavelet-LHH_firstorder_TotalEnergy', 'log-sigma-4-0-mm-3D_glrlm_GrayLevelNonUniformity', 'log-sigma-2-0-mm-3D_firstorder_RobustMeanAbsoluteDeviation', 'log-sigma-4-0-mm-3D_glcm_Imc1', 'log-sigma-3-0-mm-3D_gldm_LargeDependenceEmphasis', 'log-sigma-2-0-mm-3D_firstorder_Skewness', 'log-sigma-1-0-mm-3D_firstorder_Energy', 'wavelet-LHL_glcm_Idmn', 'wavelet-LLL_firstorder_Minimum', 'wavelet-LLH_firstorder_Energy', 'log-sigma-5-0-mm-3D_glrlm_RunEntropy', 'wavelet-HLL_firstorder_MeanAbsoluteDeviation', 'log-sigma-3-0-mm-3D_glszm_HighGrayLevelZoneEmphasis', 'log-sigma-5-0-mm-3D_glszm_HighGrayLevelZoneEmphasis', 'log-sigma-2-0-mm-3D_glszm_GrayLevelNonUniformityNormalized', 'log-sigma-5-0-mm-3D_firstorder_Minimum', 'log-sigma-4-0-mm-3D_firstorder_RobustMeanAbsoluteDeviation', 'log-sigma-5-0-mm-3D_firstorder_RobustMeanAbsoluteDeviation', 'wavelet-LLL_glrlm_LongRunHighGrayLevelEmphasis', 'wavelet-HHH_glrlm_RunLengthNonUniformity', 'log-sigma-3-0-mm-3D_firstorder_Median', 'log-sigma-5-0-mm-3D_glrlm_RunLengthNonUniformityNormalized', 'log-sigma-5-0-mm-3D_firstorder_Kurtosis', 'wavelet-HHH_glrlm_LongRunLowGrayLevelEmphasis', 'log-sigma-5-0-mm-3D_glcm_Idm', 'wavelet-LLH_glrlm_ShortRunEmphasis', 'log-sigma-5-0-mm-3D_gldm_DependenceNonUniformityNormalized', 'original_shape_Maximum2DDiameterRow', 'wavelet-LLL_firstorder_Maximum', 'log-sigma-2-0-mm-3D_firstorder_10Percentile', 'original_shape_Flatness', 'log-sigma-5-0-mm-3D_firstorder_Variance', 'original_firstorder_TotalEnergy', 'log-sigma-2-0-mm-3D_firstorder_Energy', 'log-sigma-3-0-mm-3D_firstorder_90Percentile', 'original_shape_SurfaceVolumeRatio', 'log-sigma-3-0-mm-3D_firstorder_MeanAbsoluteDeviation', 'wavelet-LHL_glcm_Contrast', 'log-sigma-4-0-mm-3D_glszm_LargeAreaEmphasis', 'log-sigma-1-0-mm-3D_firstorder_Skewness', 'wavelet-HLL_glrlm_GrayLevelNonUniformity', 'wavelet-LHH_glszm_ZonePercentage', 'log-sigma-5-0-mm-3D_gldm_LargeDependenceEmphasis', 'wavelet-LLL_gldm_DependenceNonUniformity', 'log-sigma-4-0-mm-3D_firstorder_MeanAbsoluteDeviation', 'log-sigma-5-0-mm-3D_gldm_DependenceNonUniformity', 'log-sigma-2-0-mm-3D_glrlm_GrayLevelNonUniformityNormalized', 'wavelet-LLH_glcm_DifferenceAverage', 'wavelet-LLL_gldm_GrayLevelNonUniformity', 'log-sigma-3-0-mm-3D_firstorder_RootMeanSquared', 'wavelet-HLL_firstorder_Mean', 'log-sigma-4-0-mm-3D_glrlm_LongRunLowGrayLevelEmphasis', 'log-sigma-3-0-mm-3D_firstorder_Kurtosis', 'log-sigma-4-0-mm-3D_glcm_JointEnergy', 'original_shape_Maximum2DDiameterSlice', 'log-sigma-1-0-mm-3D_firstorder_90Percentile', 'log-sigma-1-0-mm-3D_firstorder_Kurtosis', 'wavelet-HLL_firstorder_InterquartileRange', 'wavelet-LLH_glrlm_LongRunHighGrayLevelEmphasis', 'log-sigma-2-0-mm-3D_firstorder_InterquartileRange', 'log-sigma-3-0-mm-3D_glszm_SmallAreaEmphasis', 'log-sigma-4-0-mm-3D_glrlm_LongRunEmphasis', 'log-sigma-2-0-mm-3D_firstorder_Median', 'log-sigma-4-0-mm-3D_glszm_GrayLevelNonUniformity', 'wavelet-HLL_firstorder_Energy', 'log-sigma-4-0-mm-3D_glcm_Correlation', 'original_firstorder_Minimum', 'wavelet-LHH_gldm_DependenceNonUniformity', 'wavelet-LLH_glcm_Idm', 'log-sigma-5-0-mm-3D_firstorder_Skewness', 'wavelet-LLH_glcm_Imc2', 'wavelet-LHL_glcm_MaximumProbability', 'wavelet-HHH_glrlm_GrayLevelNonUniformity', 'wavelet-HLH_glrlm_GrayLevelNonUniformity', 'log-sigma-4-0-mm-3D_firstorder_Median', 'wavelet-LLL_firstorder_Kurtosis', 'log-sigma-5-0-mm-3D_firstorder_90Percentile', 'log-sigma-4-0-mm-3D_firstorder_Kurtosis', 'wavelet-LHL_firstorder_Energy', 'log-sigma-3-0-mm-3D_glcm_DifferenceEntropy', 'wavelet-LLL_firstorder_Energy', 'log-sigma-5-0-mm-3D_glcm_MaximumProbability', 'log-sigma-4-0-mm-3D_firstorder_10Percentile', 'log-sigma-1-0-mm-3D_firstorder_RootMeanSquared', 'wavelet-LHL_glrlm_RunLengthNonUniformity', 'wavelet-LLH_glcm_Idn', 'log-sigma-5-0-mm-3D_glszm_GrayLevelVariance', 'original_glcm_Contrast', 'wavelet-HLL_firstorder_10Percentile', 'log-sigma-3-0-mm-3D_firstorder_Skewness', 'log-sigma-3-0-mm-3D_gldm_DependenceEntropy', 'wavelet-LLL_gldm_HighGrayLevelEmphasis', 'wavelet-HLL_firstorder_TotalEnergy', 'log-sigma-3-0-mm-3D_firstorder_Variance', 'log-sigma-3-0-mm-3D_glrlm_ShortRunHighGrayLevelEmphasis', 'log-sigma-5-0-mm-3D_glrlm_GrayLevelVariance', 'wavelet-LLL_firstorder_Variance', 'log-sigma-4-0-mm-3D_glszm_HighGrayLevelZoneEmphasis', 'wavelet-LLL_firstorder_TotalEnergy', 'log-sigma-1-0-mm-3D_firstorder_Maximum', 'log-sigma-4-0-mm-3D_glrlm_RunPercentage', 'log-sigma-1-0-mm-3D_glrlm_RunVariance', 'log-sigma-5-0-mm-3D_glszm_ZonePercentage', 'wavelet-LLH_glcm_InverseVariance', 'log-sigma-2-0-mm-3D_firstorder_MeanAbsoluteDeviation', 'wavelet-LHL_glcm_Idn', 'wavelet-LLH_firstorder_Range', 'log-sigma-1-0-mm-3D_glrlm_GrayLevelNonUniformityNormalized', 'wavelet-HLL_firstorder_Range', 'log-sigma-4-0-mm-3D_firstorder_Mean', 'log-sigma-5-0-mm-3D_firstorder_Maximum', 'original_firstorder_Range', 'log-sigma-4-0-mm-3D_glrlm_RunVariance', 'log-sigma-5-0-mm-3D_glszm_LargeAreaHighGrayLevelEmphasis', 'log-sigma-1-0-mm-3D_gldm_LargeDependenceLowGrayLevelEmphasis', 'log-sigma-2-0-mm-3D_glszm_SizeZoneNonUniformityNormalized', 'wavelet-LLH_firstorder_RobustMeanAbsoluteDeviation', 'log-sigma-5-0-mm-3D_glcm_Imc1', 'wavelet-LLH_glcm_Correlation', 'log-sigma-5-0-mm-3D_gldm_GrayLevelVariance', 'wavelet-LLL_glrlm_ShortRunLowGrayLevelEmphasis', 'log-sigma-4-0-mm-3D_gldm_SmallDependenceEmphasis', 'wavelet-HHH_glrlm_LongRunEmphasis', 'wavelet-LLL_firstorder_Range', 'log-sigma-3-0-mm-3D_firstorder_10Percentile', 'log-sigma-5-0-mm-3D_firstorder_Median', 'log-sigma-5-0-mm-3D_glcm_ClusterShade', 'log-sigma-1-0-mm-3D_gldm_LowGrayLevelEmphasis', 'original_firstorder_MeanAbsoluteDeviation', 'original_glrlm_ShortRunHighGrayLevelEmphasis', 'log-sigma-3-0-mm-3D_glcm_ClusterShade', 'log-sigma-5-0-mm-3D_glrlm_LongRunHighGrayLevelEmphasis', 'log-sigma-4-0-mm-3D_glszm_ZonePercentage', 'log-sigma-1-0-mm-3D_firstorder_Range', 'wavelet-LLL_firstorder_Skewness', 'log-sigma-3-0-mm-3D_firstorder_Mean', 'original_shape_Maximum3DDiameter', 'log-sigma-4-0-mm-3D_firstorder_InterquartileRange', 'original_shape_MinorAxisLength', 'wavelet-LLL_glrlm_HighGrayLevelRunEmphasis', 'wavelet-LLL_glrlm_ShortRunHighGrayLevelEmphasis', 'wavelet-LHL_gldm_GrayLevelNonUniformity', 'log-sigma-5-0-mm-3D_glrlm_LongRunLowGrayLevelEmphasis', 'log-sigma-3-0-mm-3D_firstorder_Minimum', 'log-sigma-5-0-mm-3D_gldm_SmallDependenceHighGrayLevelEmphasis', 'log-sigma-2-0-mm-3D_glrlm_RunLengthNonUniformityNormalized', 'log-sigma-2-0-mm-3D_firstorder_Variance', 'log-sigma-4-0-mm-3D_firstorder_Range', 'log-sigma-3-0-mm-3D_glcm_ClusterTendency', 'original_glcm_ClusterTendency', 'log-sigma-1-0-mm-3D_glszm_LargeAreaHighGrayLevelEmphasis', 'wavelet-HLL_firstorder_Variance', 'wavelet-LLH_firstorder_Maximum', 'log-sigma-3-0-mm-3D_glrlm_LongRunEmphasis', 'wavelet-LLH_firstorder_MeanAbsoluteDeviation', 'log-sigma-4-0-mm-3D_glrlm_GrayLevelNonUniformityNormalized', 'log-sigma-5-0-mm-3D_glszm_GrayLevelNonUniformity', 'log-sigma-1-0-mm-3D_firstorder_MeanAbsoluteDeviation', 'log-sigma-4-0-mm-3D_glszm_LargeAreaHighGrayLevelEmphasis', 'wavelet-LLH_gldm_GrayLevelNonUniformity', 'log-sigma-5-0-mm-3D_glcm_SumSquares', 'log-sigma-1-0-mm-3D_glrlm_LongRunHighGrayLevelEmphasis', 'log-sigma-4-0-mm-3D_gldm_LargeDependenceEmphasis', 'wavelet-LHL_glcm_DifferenceVariance', 'wavelet-LHL_glcm_ClusterProminence', 'log-sigma-5-0-mm-3D_glcm_InverseVariance', 'original_glrlm_ShortRunLowGrayLevelEmphasis', 'log-sigma-2-0-mm-3D_glrlm_HighGrayLevelRunEmphasis', 'log-sigma-1-0-mm-3D_glszm_LargeAreaEmphasis', 'log-sigma-1-0-mm-3D_firstorder_Minimum', 'log-sigma-1-0-mm-3D_glcm_ClusterTendency', 'log-sigma-3-0-mm-3D_firstorder_InterquartileRange', 'log-sigma-1-0-mm-3D_glcm_Idm', 'wavelet-HLH_gldm_GrayLevelNonUniformity', 'log-sigma-3-0-mm-3D_glrlm_GrayLevelVariance', 'original_glcm_SumEntropy', 'wavelet-LHL_glcm_Id', 'log-sigma-1-0-mm-3D_gldm_GrayLevelVariance']\n",
    "RM_100_top_feature_names=['log-sigma-5-0-mm-3D_firstorder_Range', 'wavelet-HLH_firstorder_TotalEnergy', 'log-sigma-2-0-mm-3D_glrlm_RunEntropy', 'original_shape_Maximum2DDiameterColumn', 'log-sigma-5-0-mm-3D_glrlm_RunVariance', 'log-sigma-4-0-mm-3D_firstorder_Skewness', 'wavelet-LLH_glrlm_ShortRunHighGrayLevelEmphasis', 'wavelet-LHL_gldm_DependenceNonUniformity', 'log-sigma-5-0-mm-3D_firstorder_InterquartileRange', 'original_shape_LeastAxisLength', 'log-sigma-3-0-mm-3D_firstorder_TotalEnergy', 'log-sigma-5-0-mm-3D_firstorder_MeanAbsoluteDeviation', 'log-sigma-3-0-mm-3D_glszm_LowGrayLevelZoneEmphasis', 'wavelet-LLH_firstorder_TotalEnergy', 'log-sigma-3-0-mm-3D_firstorder_Range', 'original_glrlm_GrayLevelNonUniformity', 'log-sigma-2-0-mm-3D_firstorder_TotalEnergy', 'wavelet-LHL_firstorder_TotalEnergy', 'log-sigma-2-0-mm-3D_gldm_LargeDependenceEmphasis', 'original_glrlm_RunEntropy', 'log-sigma-4-0-mm-3D_firstorder_RootMeanSquared', 'wavelet-LHL_glcm_DifferenceEntropy', 'wavelet-LHH_firstorder_TotalEnergy', 'log-sigma-4-0-mm-3D_glrlm_GrayLevelNonUniformity', 'log-sigma-2-0-mm-3D_firstorder_RobustMeanAbsoluteDeviation', 'log-sigma-4-0-mm-3D_glcm_Imc1', 'log-sigma-3-0-mm-3D_gldm_LargeDependenceEmphasis', 'log-sigma-2-0-mm-3D_firstorder_Skewness', 'log-sigma-1-0-mm-3D_firstorder_Energy', 'wavelet-LHL_glcm_Idmn', 'wavelet-LLL_firstorder_Minimum', 'wavelet-LLH_firstorder_Energy', 'log-sigma-5-0-mm-3D_glrlm_RunEntropy', 'wavelet-HLL_firstorder_MeanAbsoluteDeviation', 'log-sigma-3-0-mm-3D_glszm_HighGrayLevelZoneEmphasis', 'log-sigma-5-0-mm-3D_glszm_HighGrayLevelZoneEmphasis', 'log-sigma-2-0-mm-3D_glszm_GrayLevelNonUniformityNormalized', 'log-sigma-5-0-mm-3D_firstorder_Minimum', 'log-sigma-4-0-mm-3D_firstorder_RobustMeanAbsoluteDeviation', 'log-sigma-5-0-mm-3D_firstorder_RobustMeanAbsoluteDeviation', 'wavelet-LLL_glrlm_LongRunHighGrayLevelEmphasis', 'wavelet-HHH_glrlm_RunLengthNonUniformity', 'log-sigma-3-0-mm-3D_firstorder_Median', 'log-sigma-5-0-mm-3D_glrlm_RunLengthNonUniformityNormalized', 'log-sigma-5-0-mm-3D_firstorder_Kurtosis', 'wavelet-HHH_glrlm_LongRunLowGrayLevelEmphasis', 'log-sigma-5-0-mm-3D_glcm_Idm', 'wavelet-LLH_glrlm_ShortRunEmphasis', 'log-sigma-5-0-mm-3D_gldm_DependenceNonUniformityNormalized', 'original_shape_Maximum2DDiameterRow', 'wavelet-LLL_firstorder_Maximum', 'log-sigma-2-0-mm-3D_firstorder_10Percentile', 'original_shape_Flatness', 'log-sigma-5-0-mm-3D_firstorder_Variance', 'original_firstorder_TotalEnergy', 'log-sigma-2-0-mm-3D_firstorder_Energy', 'log-sigma-3-0-mm-3D_firstorder_90Percentile', 'original_shape_SurfaceVolumeRatio', 'log-sigma-3-0-mm-3D_firstorder_MeanAbsoluteDeviation', 'wavelet-LHL_glcm_Contrast', 'log-sigma-4-0-mm-3D_glszm_LargeAreaEmphasis', 'log-sigma-1-0-mm-3D_firstorder_Skewness', 'wavelet-HLL_glrlm_GrayLevelNonUniformity', 'wavelet-LHH_glszm_ZonePercentage', 'log-sigma-5-0-mm-3D_gldm_LargeDependenceEmphasis', 'wavelet-LLL_gldm_DependenceNonUniformity', 'log-sigma-4-0-mm-3D_firstorder_MeanAbsoluteDeviation', 'log-sigma-5-0-mm-3D_gldm_DependenceNonUniformity', 'log-sigma-2-0-mm-3D_glrlm_GrayLevelNonUniformityNormalized', 'wavelet-LLH_glcm_DifferenceAverage', 'wavelet-LLL_gldm_GrayLevelNonUniformity', 'log-sigma-3-0-mm-3D_firstorder_RootMeanSquared', 'wavelet-HLL_firstorder_Mean', 'log-sigma-4-0-mm-3D_glrlm_LongRunLowGrayLevelEmphasis', 'log-sigma-3-0-mm-3D_firstorder_Kurtosis', 'log-sigma-4-0-mm-3D_glcm_JointEnergy', 'original_shape_Maximum2DDiameterSlice', 'log-sigma-1-0-mm-3D_firstorder_90Percentile', 'log-sigma-1-0-mm-3D_firstorder_Kurtosis', 'wavelet-HLL_firstorder_InterquartileRange', 'wavelet-LLH_glrlm_LongRunHighGrayLevelEmphasis', 'log-sigma-2-0-mm-3D_firstorder_InterquartileRange', 'log-sigma-3-0-mm-3D_glszm_SmallAreaEmphasis', 'log-sigma-4-0-mm-3D_glrlm_LongRunEmphasis', 'log-sigma-2-0-mm-3D_firstorder_Median', 'log-sigma-4-0-mm-3D_glszm_GrayLevelNonUniformity', 'wavelet-HLL_firstorder_Energy', 'log-sigma-4-0-mm-3D_glcm_Correlation', 'original_firstorder_Minimum', 'wavelet-LHH_gldm_DependenceNonUniformity', 'wavelet-LLH_glcm_Idm', 'log-sigma-5-0-mm-3D_firstorder_Skewness', 'wavelet-LLH_glcm_Imc2', 'wavelet-LHL_glcm_MaximumProbability', 'wavelet-HHH_glrlm_GrayLevelNonUniformity', 'wavelet-HLH_glrlm_GrayLevelNonUniformity', 'log-sigma-4-0-mm-3D_firstorder_Median', 'wavelet-LLL_firstorder_Kurtosis', 'log-sigma-5-0-mm-3D_firstorder_90Percentile', 'log-sigma-4-0-mm-3D_firstorder_Kurtosis']"
   ]
  },
  {
   "cell_type": "code",
   "execution_count": 102,
   "metadata": {},
   "outputs": [],
   "source": [
    "X_1218=Test_DF.drop('Patient_id', axis=1)\n",
    "X_200=Test_DF[RM_200_top_feature_names]\n",
    "X_100=Test_DF[RM_200_top_feature_names]\n",
    "\n",
    "\n"
   ]
  },
  {
   "cell_type": "code",
   "execution_count": null,
   "metadata": {},
   "outputs": [],
   "source": []
  },
  {
   "cell_type": "code",
   "execution_count": 103,
   "metadata": {},
   "outputs": [],
   "source": [
    "X_128=predictions_df\n",
    "\n",
    "X_20=predictions_df[DL_20_top_feature_names]\n",
    "X_10=predictions_df[DL_10_top_feature_names]"
   ]
  },
  {
   "cell_type": "code",
   "execution_count": 110,
   "metadata": {},
   "outputs": [],
   "source": [
    "models = {\n",
    "    'Radiomics_1218_Features': [joblib.load('./RM_RF_1218_features.pkl'), X_1218],\n",
    "    'Radiomics_200_Features': [joblib.load('./RM_RF_200_features.pkl'), X_200],\n",
    "    'Radiomics_100_Features': [joblib.load('./RM_RF_100_features.pkl'), X_100],\n",
    "    'Fuse_1218_128_Features': [joblib.load('./Fuse_1218_128_features.pkl'), pd.concat([X_1218, X_128], axis=1)],\n",
    "    'Fuse_1218_20_Features': [joblib.load('./Fuse_1218_20_features.pkl'), pd.concat([X_1218, X_20], axis=1)],\n",
    "    'Fuse_1218_10_Features': [joblib.load('./Fuse_1218_10_features.pkl'), pd.concat([X_1218, X_10], axis=1)],\n",
    "    'Fuse_200_128_Features': [joblib.load('./Fuse_200_128_features.pkl'), pd.concat([X_200, X_128], axis=1)],\n",
    "    'Fuse_200_20_Features': [joblib.load('./Fuse_200_20_features.pkl'), pd.concat([X_200, X_20], axis=1)],\n",
    "    'Fuse_200_10_Features': [joblib.load('./Fuse_200_10_features.pkl'), pd.concat([X_200, X_10], axis=1)],\n",
    "    'Fuse_100_128_Features': [joblib.load('./Fuse_100_10_features.pkl'), pd.concat([X_100, X_128], axis=1)],\n",
    "    'Fuse_100_20_Features': [joblib.load('./Fuse_100_20_features.pkl'), pd.concat([X_100, X_20], axis=1)],\n",
    "    'Fuse_100_10_Features': [joblib.load('./Fuse_100_10_features.pkl'), pd.concat([X_100, X_10], axis=1)]\n",
    "}"
   ]
  },
  {
   "cell_type": "code",
   "execution_count": 111,
   "metadata": {},
   "outputs": [
    {
     "name": "stdout",
     "output_type": "stream",
     "text": [
      "Training Radiomics_1218_Features...\n",
      "[0 0 0 0 0 0 0 0 0 0 0 0 0 0 0]\n",
      "Training Radiomics_200_Features...\n",
      "[1 1 0 0 0 1 0 0 0 1 0 0 0 0 0]\n",
      "Training Fuse_1218_128_Features...\n",
      "[0 0 0 0 0 0 0 0 0 0 0 0 0 0 0]\n",
      "Training Fuse_1218_20_Features...\n",
      "[1 1 0 0 0 1 0 0 0 1 0 0 0 0 0]\n",
      "Training Fuse_1218_10_Features...\n",
      "[1 1 0 0 0 1 0 0 0 1 0 0 0 0 0]\n",
      "Training Fuse_200_128_Features...\n",
      "[1 1 0 0 0 1 0 0 0 1 0 0 0 0 0]\n",
      "Training Fuse_200_20_Features...\n",
      "[1 1 0 0 0 1 0 0 0 1 0 0 0 0 0]\n",
      "Training Fuse_200_10_Features...\n",
      "[1 1 0 0 0 1 0 0 0 1 0 0 0 0 0]\n"
     ]
    }
   ],
   "source": [
    "for name, model_def in models.items():\n",
    "    print(f\"Training {name}...\")\n",
    "    model=model_def[0]\n",
    "    X_test=model_def[1]\n",
    "    #print(X_test.columns)\n",
    "    # scaler = StandardScaler()\n",
    "    # X_test = scaler.fit_transform(X_test)\n",
    "# Make predictions on the test set\n",
    "    y_pred_best = model.predict(X_test)\n",
    "    # Evaluate the performance of the model using appropriate metrics\n",
    "\n",
    "    print(y_pred_best)\n",
    "    y_test_p=pd.DataFrame(y_pred_best)\n",
    "    y_test_p['Image File']=Test_DF['Patient_id']\n",
    "    Pr_file=f\"Prediction_{name}.csv\"\n",
    "    y_test_p.to_csv(Pr_file)"
   ]
  },
  {
   "cell_type": "code",
   "execution_count": 8,
   "metadata": {},
   "outputs": [
    {
     "name": "stdout",
     "output_type": "stream",
     "text": [
      "original_glrlm_RunEntropy\n",
      "original_glrlm_RunLengthNonUniformity\n",
      "original_glrlm_GrayLevelNonUniformity\n",
      "original_shape_VoxelVolume\n",
      "original_glrlm_RunVariance\n",
      "original_shape_Elongation\n",
      "original_firstorder_10Percentile\n",
      "original_glrlm_ShortRunEmphasis\n",
      "original_shape_MinorAxisLength\n",
      "21 70 0\n"
     ]
    }
   ],
   "source": [
    "RM_RF_model_200_features=['wavelet-LHL_glrlm_GrayLevelNonUniformity', 'log-sigma-1-0-mm-3D_gldm_DependenceNonUniformity', 'log-sigma-4-0-mm-3D_gldm_LargeDependenceEmphasis', 'log-sigma-3-0-mm-3D_firstorder_TotalEnergy', 'log-sigma-4-0-mm-3D_glszm_HighGrayLevelZoneEmphasis', 'wavelet-HHH_glrlm_RunVariance', 'log-sigma-4-0-mm-3D_glrlm_LongRunHighGrayLevelEmphasis', 'log-sigma-5-0-mm-3D_firstorder_Median', 'original_glrlm_RunEntropy', 'log-sigma-5-0-mm-3D_firstorder_Skewness', 'log-sigma-3-0-mm-3D_gldm_LargeDependenceEmphasis', 'log-sigma-5-0-mm-3D_firstorder_InterquartileRange', 'log-sigma-1-0-mm-3D_firstorder_MeanAbsoluteDeviation', 'log-sigma-1-0-mm-3D_firstorder_Energy', 'log-sigma-2-0-mm-3D_gldm_GrayLevelNonUniformity', 'log-sigma-3-0-mm-3D_gldm_DependenceNonUniformityNormalized', 'wavelet-LHL_glcm_DifferenceAverage', 'log-sigma-5-0-mm-3D_gldm_LargeDependenceEmphasis', 'log-sigma-4-0-mm-3D_firstorder_Skewness', 'log-sigma-5-0-mm-3D_firstorder_10Percentile', 'log-sigma-2-0-mm-3D_glrlm_RunLengthNonUniformity', 'log-sigma-4-0-mm-3D_firstorder_Kurtosis', 'log-sigma-2-0-mm-3D_glrlm_RunEntropy', 'log-sigma-2-0-mm-3D_firstorder_Range', 'log-sigma-3-0-mm-3D_firstorder_Minimum', 'log-sigma-4-0-mm-3D_gldm_DependenceNonUniformityNormalized', 'log-sigma-3-0-mm-3D_firstorder_Skewness', 'log-sigma-2-0-mm-3D_firstorder_MeanAbsoluteDeviation', 'log-sigma-4-0-mm-3D_firstorder_MeanAbsoluteDeviation', 'original_glrlm_RunLengthNonUniformity', 'original_glrlm_GrayLevelNonUniformity', 'log-sigma-2-0-mm-3D_firstorder_InterquartileRange', 'wavelet-LHL_glcm_Contrast', 'log-sigma-1-0-mm-3D_glrlm_RunEntropy', 'log-sigma-5-0-mm-3D_firstorder_Kurtosis', 'log-sigma-4-0-mm-3D_glrlm_RunEntropy', 'wavelet-LLH_glrlm_GrayLevelNonUniformity', 'original_shape_VoxelVolume', 'log-sigma-2-0-mm-3D_glrlm_LongRunLowGrayLevelEmphasis', 'log-sigma-5-0-mm-3D_glrlm_RunVariance', 'original_glrlm_RunVariance', 'log-sigma-4-0-mm-3D_firstorder_InterquartileRange', 'wavelet-LLL_firstorder_Minimum', 'wavelet-LHL_glcm_Id', 'original_shape_Elongation', 'log-sigma-2-0-mm-3D_firstorder_Variance', 'log-sigma-5-0-mm-3D_firstorder_Variance', 'log-sigma-3-0-mm-3D_glcm_Idn', 'wavelet-HLL_gldm_DependenceNonUniformity', 'log-sigma-5-0-mm-3D_glrlm_LongRunEmphasis', 'log-sigma-3-0-mm-3D_glszm_SizeZoneNonUniformityNormalized', 'wavelet-HHH_glrlm_LongRunEmphasis', 'log-sigma-1-0-mm-3D_firstorder_Range', 'log-sigma-3-0-mm-3D_glszm_ZoneEntropy', 'wavelet-LHL_firstorder_TotalEnergy', 'log-sigma-3-0-mm-3D_glrlm_RunLengthNonUniformity', 'log-sigma-1-0-mm-3D_firstorder_TotalEnergy', 'wavelet-HLL_firstorder_RobustMeanAbsoluteDeviation', 'log-sigma-5-0-mm-3D_glrlm_RunLengthNonUniformityNormalized', 'log-sigma-2-0-mm-3D_firstorder_RootMeanSquared', 'wavelet-LHL_glrlm_ShortRunLowGrayLevelEmphasis', 'wavelet-LLH_firstorder_TotalEnergy', 'wavelet-HHH_gldm_DependenceNonUniformity', 'log-sigma-3-0-mm-3D_firstorder_InterquartileRange', 'wavelet-LLH_glcm_DifferenceAverage', 'log-sigma-5-0-mm-3D_glrlm_LongRunHighGrayLevelEmphasis', 'wavelet-LLL_firstorder_10Percentile', 'original_firstorder_10Percentile', 'log-sigma-5-0-mm-3D_gldm_SmallDependenceLowGrayLevelEmphasis', 'log-sigma-1-0-mm-3D_glrlm_LongRunHighGrayLevelEmphasis', 'wavelet-LLL_glrlm_RunLengthNonUniformity', 'log-sigma-3-0-mm-3D_glrlm_LongRunEmphasis', 'log-sigma-4-0-mm-3D_firstorder_Maximum', 'log-sigma-5-0-mm-3D_firstorder_Entropy', 'log-sigma-5-0-mm-3D_firstorder_Maximum', 'log-sigma-5-0-mm-3D_glrlm_RunLengthNonUniformity', 'log-sigma-1-0-mm-3D_firstorder_Kurtosis', 'log-sigma-1-0-mm-3D_firstorder_RobustMeanAbsoluteDeviation', 'log-sigma-5-0-mm-3D_gldm_LargeDependenceHighGrayLevelEmphasis', 'log-sigma-1-0-mm-3D_firstorder_InterquartileRange', 'log-sigma-4-0-mm-3D_glszm_ZonePercentage', 'wavelet-LLH_glcm_Idn', 'original_glrlm_ShortRunEmphasis', 'log-sigma-1-0-mm-3D_firstorder_Variance', 'log-sigma-1-0-mm-3D_firstorder_Skewness', 'log-sigma-3-0-mm-3D_firstorder_10Percentile', 'log-sigma-5-0-mm-3D_glszm_GrayLevelNonUniformityNormalized', 'log-sigma-1-0-mm-3D_gldm_LargeDependenceHighGrayLevelEmphasis', 'log-sigma-2-0-mm-3D_gldm_DependenceNonUniformity', 'wavelet-LLH_firstorder_10Percentile', 'log-sigma-3-0-mm-3D_firstorder_RobustMeanAbsoluteDeviation', 'wavelet-LHL_glcm_Idmn', 'log-sigma-5-0-mm-3D_glcm_ClusterTendency', 'log-sigma-3-0-mm-3D_glrlm_RunEntropy', 'wavelet-LLH_firstorder_Maximum', 'log-sigma-1-0-mm-3D_firstorder_10Percentile', 'original_shape_MinorAxisLength', 'log-sigma-3-0-mm-3D_glcm_ClusterShade', 'log-sigma-5-0-mm-3D_firstorder_Range', 'log-sigma-5-0-mm-3D_glcm_Id', 'log-sigma-5-0-mm-3D_firstorder_Minimum', 'wavelet-LLL_gldm_DependenceVariance', 'log-sigma-4-0-mm-3D_glszm_GrayLevelNonUniformityNormalized', 'original_glcm_ClusterTendency', 'log-sigma-4-0-mm-3D_glcm_ClusterShade', 'original_glcm_JointEntropy', 'log-sigma-4-0-mm-3D_firstorder_Range', 'log-sigma-5-0-mm-3D_glrlm_LongRunLowGrayLevelEmphasis', 'log-sigma-5-0-mm-3D_glcm_Imc2', 'log-sigma-5-0-mm-3D_firstorder_RobustMeanAbsoluteDeviation', 'original_shape_Flatness', 'log-sigma-2-0-mm-3D_firstorder_RobustMeanAbsoluteDeviation', 'wavelet-LHL_glcm_Idn', 'log-sigma-5-0-mm-3D_glrlm_RunEntropy', 'log-sigma-2-0-mm-3D_firstorder_Maximum', 'log-sigma-5-0-mm-3D_firstorder_Mean', 'log-sigma-2-0-mm-3D_firstorder_Median', 'log-sigma-4-0-mm-3D_glszm_GrayLevelNonUniformity', 'wavelet-LLL_gldm_DependenceNonUniformityNormalized', 'log-sigma-4-0-mm-3D_glszm_SmallAreaEmphasis', 'original_shape_Maximum2DDiameterColumn', 'log-sigma-1-0-mm-3D_firstorder_RootMeanSquared', 'log-sigma-2-0-mm-3D_glszm_SmallAreaHighGrayLevelEmphasis', 'wavelet-LLL_firstorder_90Percentile', 'log-sigma-4-0-mm-3D_glcm_Idmn', 'log-sigma-1-0-mm-3D_gldm_GrayLevelVariance', 'log-sigma-2-0-mm-3D_glcm_JointEntropy', 'wavelet-LHL_glrlm_RunLengthNonUniformity', 'log-sigma-3-0-mm-3D_glcm_Imc1', 'log-sigma-2-0-mm-3D_firstorder_Minimum', 'log-sigma-5-0-mm-3D_firstorder_RootMeanSquared', 'log-sigma-5-0-mm-3D_firstorder_TotalEnergy', 'log-sigma-5-0-mm-3D_glszm_GrayLevelVariance', 'log-sigma-1-0-mm-3D_firstorder_Maximum', 'log-sigma-3-0-mm-3D_glcm_DifferenceVariance', 'log-sigma-4-0-mm-3D_glcm_Idn', 'log-sigma-2-0-mm-3D_gldm_DependenceVariance', 'log-sigma-3-0-mm-3D_firstorder_Mean', 'log-sigma-3-0-mm-3D_glcm_Imc2', 'log-sigma-5-0-mm-3D_gldm_SmallDependenceHighGrayLevelEmphasis', 'log-sigma-5-0-mm-3D_gldm_DependenceNonUniformityNormalized', 'wavelet-HLL_firstorder_10Percentile', 'log-sigma-3-0-mm-3D_gldm_DependenceVariance', 'log-sigma-4-0-mm-3D_glszm_LargeAreaHighGrayLevelEmphasis', 'log-sigma-5-0-mm-3D_firstorder_MeanAbsoluteDeviation', 'wavelet-HLL_glcm_SumSquares', 'log-sigma-2-0-mm-3D_glcm_DifferenceAverage', 'log-sigma-3-0-mm-3D_gldm_LargeDependenceHighGrayLevelEmphasis', 'wavelet-LLH_firstorder_Minimum', 'wavelet-HLL_firstorder_Minimum', 'log-sigma-1-0-mm-3D_firstorder_Entropy', 'log-sigma-3-0-mm-3D_glcm_DifferenceEntropy', 'log-sigma-1-0-mm-3D_glrlm_GrayLevelVariance', 'wavelet-LLL_glrlm_LongRunEmphasis', 'log-sigma-4-0-mm-3D_glszm_SmallAreaHighGrayLevelEmphasis', 'wavelet-LLL_firstorder_Kurtosis', 'log-sigma-4-0-mm-3D_glrlm_LongRunLowGrayLevelEmphasis', 'wavelet-LHL_glcm_Idm', 'log-sigma-5-0-mm-3D_glrlm_GrayLevelNonUniformityNormalized', 'original_firstorder_Minimum', 'log-sigma-3-0-mm-3D_firstorder_Kurtosis', 'original_firstorder_Variance', 'wavelet-HHL_gldm_GrayLevelNonUniformity', 'wavelet-LHL_glcm_Correlation', 'log-sigma-1-0-mm-3D_firstorder_Minimum', 'wavelet-LLL_gldm_LargeDependenceHighGrayLevelEmphasis', 'log-sigma-4-0-mm-3D_firstorder_Uniformity', 'log-sigma-1-0-mm-3D_glrlm_ShortRunLowGrayLevelEmphasis', 'wavelet-LHL_glcm_SumSquares', 'wavelet-LLH_glcm_Idm', 'wavelet-LLH_glcm_InverseVariance', 'wavelet-HLL_firstorder_MeanAbsoluteDeviation', 'original_firstorder_Energy', 'log-sigma-1-0-mm-3D_glcm_SumEntropy', 'wavelet-LLL_glcm_Imc2', 'log-sigma-1-0-mm-3D_glcm_Imc1', 'original_firstorder_Mean', 'log-sigma-5-0-mm-3D_glcm_ClusterProminence', 'log-sigma-5-0-mm-3D_glcm_Imc1', 'wavelet-HHH_firstorder_TotalEnergy', 'wavelet-LLL_firstorder_Variance', 'log-sigma-4-0-mm-3D_glcm_InverseVariance', 'log-sigma-4-0-mm-3D_firstorder_10Percentile', 'wavelet-LLH_glcm_Imc1', 'log-sigma-2-0-mm-3D_glszm_LargeAreaLowGrayLevelEmphasis', 'wavelet-HHL_glrlm_LongRunLowGrayLevelEmphasis', 'log-sigma-2-0-mm-3D_glcm_Correlation', 'log-sigma-2-0-mm-3D_glrlm_RunPercentage', 'log-sigma-4-0-mm-3D_firstorder_Minimum', 'original_firstorder_Range', 'log-sigma-1-0-mm-3D_gldm_GrayLevelNonUniformity', 'log-sigma-3-0-mm-3D_firstorder_MeanAbsoluteDeviation', 'wavelet-LLH_glcm_Correlation', 'log-sigma-2-0-mm-3D_gldm_SmallDependenceEmphasis', 'log-sigma-4-0-mm-3D_gldm_DependenceNonUniformity', 'log-sigma-3-0-mm-3D_firstorder_RootMeanSquared', 'log-sigma-2-0-mm-3D_firstorder_Energy', 'log-sigma-4-0-mm-3D_glrlm_RunPercentage', 'log-sigma-4-0-mm-3D_glcm_JointEnergy', 'log-sigma-4-0-mm-3D_firstorder_RobustMeanAbsoluteDeviation']\n",
    "wavelet=0\n",
    "Log=0\n",
    "Other=0\n",
    "for fetuare in RM_RF_model_200_features[:100]:\n",
    "    if fetuare.split('-')[0]=='wavelet':\n",
    "        wavelet=wavelet+1\n",
    "    elif fetuare.split('-')[0]=='log':\n",
    "        Log=Log+1\n",
    "    else:\n",
    "        print(fetuare)\n",
    "print(wavelet,Log,Other)\n",
    "\n",
    "\n"
   ]
  }
 ],
 "metadata": {
  "kernelspec": {
   "display_name": "Python 3",
   "language": "python",
   "name": "python3"
  },
  "language_info": {
   "codemirror_mode": {
    "name": "ipython",
    "version": 3
   },
   "file_extension": ".py",
   "mimetype": "text/x-python",
   "name": "python",
   "nbconvert_exporter": "python",
   "pygments_lexer": "ipython3",
   "version": "3.10.2"
  }
 },
 "nbformat": 4,
 "nbformat_minor": 2
}
